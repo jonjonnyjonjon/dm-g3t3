{
 "cells": [
  {
   "cell_type": "markdown",
   "id": "d51dca08",
   "metadata": {},
   "source": [
    "# Importing libraries"
   ]
  },
  {
   "cell_type": "code",
   "execution_count": 17,
   "id": "9681e448",
   "metadata": {},
   "outputs": [],
   "source": [
    "import pandas as pd\n",
    "import numpy as np\n",
    "import seaborn as sns\n",
    "import matplotlib.pyplot as plt\n",
    "%matplotlib inline\n",
    "\n",
    "from sklearn.preprocessing import LabelEncoder\n",
    "from sklearn.preprocessing import OneHotEncoder\n",
    "from category_encoders import TargetEncoder\n",
    "\n",
    "from sklearn.preprocessing import MinMaxScaler\n",
    "\n",
    "from sklearn.decomposition import PCA\n",
    "from sklearn.feature_selection import chi2\n",
    "\n",
    "from sklearn.model_selection import train_test_split\n",
    "from imblearn.over_sampling import SMOTE\n",
    "\n",
    "import tensorflow\n",
    "tensorflow.autograph.set_verbosity(0)\n",
    "from tensorflow.keras.models import Sequential\n",
    "from tensorflow.keras.layers import Dense, Flatten\n",
    "from tensorflow.keras.utils import to_categorical\n",
    "from tensorflow.keras.metrics import Recall, AUC, Precision\n",
    "import tensorflow_addons as tfa"
   ]
  },
  {
   "cell_type": "markdown",
   "id": "b2dcbfbd",
   "metadata": {},
   "source": [
    "# Reading file and tidying"
   ]
  },
  {
   "cell_type": "code",
   "execution_count": 2,
   "id": "b973afe6",
   "metadata": {
    "scrolled": true
   },
   "outputs": [],
   "source": [
    "df = pd.read_csv(\"../dataset/loanprediction.csv\")\n",
    "df.drop(\"Id\", axis=1, inplace=True)\n",
    "df.columns = [\"income\", \"age\", \"experience\", \"marital_status\", \"house_ownership\", \"car_ownership\", \"profession\", \"city\", \"state\", \"current_job_years\", \"current_house_years\", \"risk_flag\"]\n",
    "numerical_cols = [\"income\", \"age\", \"experience\", \"current_job_years\", \"current_house_years\"]"
   ]
  },
  {
   "cell_type": "markdown",
   "id": "db64dd31",
   "metadata": {},
   "source": [
    "# Train test split"
   ]
  },
  {
   "cell_type": "code",
   "execution_count": 3,
   "id": "7659560e",
   "metadata": {},
   "outputs": [
    {
     "name": "stdout",
     "output_type": "stream",
     "text": [
      "11\n"
     ]
    }
   ],
   "source": [
    "y = df[\"risk_flag\"]\n",
    "x = df.drop(\"risk_flag\", axis=1)\n",
    "x.head()\n",
    "print(len(x.columns))"
   ]
  },
  {
   "cell_type": "code",
   "execution_count": 4,
   "id": "022bb4db",
   "metadata": {},
   "outputs": [],
   "source": [
    "x_train, x_test, y_train, y_test = train_test_split(x, y, test_size = 0.2, stratify = y, random_state = 2021)"
   ]
  },
  {
   "cell_type": "markdown",
   "id": "8516fbce",
   "metadata": {},
   "source": [
    "# Data preprocessing - Encoding categorical columns and scaling numerical columns"
   ]
  },
  {
   "cell_type": "code",
   "execution_count": 5,
   "id": "d05a3b56",
   "metadata": {},
   "outputs": [],
   "source": [
    "def data_preprocessing(df_x, df_y):\n",
    "    \n",
    "    # Label encoding categorical columns with 2 types of categories\n",
    "    x = df_x.copy()\n",
    "    label_enc = LabelEncoder()\n",
    "    x[\"marital_status\"] = label_enc.fit_transform(x[\"marital_status\"])\n",
    "    x[\"car_ownership\"] = label_enc.fit_transform(x[\"car_ownership\"])\n",
    "    \n",
    "    # One Hot Encoding house_ownership column & Combining back to dataframe\n",
    "    onehot_encoder = OneHotEncoder(handle_unknown='ignore', sparse=False)\n",
    "    \n",
    "    house_ownership_values = onehot_encoder.fit_transform( x[['house_ownership']] )\n",
    "    house_ownership_labels = np.array([\"norent_noown\", \"owned\", \"rented\"]).ravel()\n",
    "    house_ownership_df = pd.DataFrame(house_ownership_values, columns=house_ownership_labels)\n",
    "\n",
    "    x.reset_index(drop=True, inplace=True)\n",
    "    house_ownership_df.reset_index(drop=True, inplace=True)\n",
    "    x = pd.concat([ x, house_ownership_df], axis=1)\n",
    "    \n",
    "    x.drop(\"house_ownership\", axis=1, inplace=True)\n",
    "    \n",
    "    # Target Encoding the high cardinality categorical columns: profession, city, state\n",
    "    # https://medium.com/analytics-vidhya/target-encoding-vs-one-hot-encoding-with-simple-examples-276a7e7b3e64\n",
    "    profession_target_enc = TargetEncoder()\n",
    "    x[\"profession_encoded\"] = profession_target_enc.fit_transform(x[\"profession\"], df_y)\n",
    "    city_target_enc = TargetEncoder()\n",
    "    x[\"city_encoded\"] = city_target_enc.fit_transform(x[\"city\"], df_y)\n",
    "    state_target_enc = TargetEncoder()\n",
    "    x[\"state_encoded\"] = state_target_enc.fit_transform(x[\"state\"], df_y)\n",
    "    x.drop(\"profession\", axis=1, inplace=True)\n",
    "    x.drop(\"city\", axis=1, inplace=True)\n",
    "    x.drop(\"state\", axis=1, inplace=True)\n",
    "    \n",
    "    # https://stackoverflow.com/questions/51237635/difference-between-standard-scaler-and-minmaxscaler\n",
    "    # https://www.geeksforgeeks.org/standardscaler-minmaxscaler-and-robustscaler-techniques-ml/\n",
    "    min_max_scaler = MinMaxScaler()\n",
    "    x[numerical_cols] = min_max_scaler.fit_transform(x[numerical_cols])\n",
    "    # need to scale the encoded columns?\n",
    "    \n",
    "    return x"
   ]
  },
  {
   "cell_type": "code",
   "execution_count": 6,
   "id": "e59075ba",
   "metadata": {
    "scrolled": true
   },
   "outputs": [
    {
     "name": "stderr",
     "output_type": "stream",
     "text": [
      "/Users/jonw/miniforge3/envs/ml_env/lib/python3.8/site-packages/category_encoders/utils.py:21: FutureWarning: is_categorical is deprecated and will be removed in a future version.  Use is_categorical_dtype instead\n",
      "  elif pd.api.types.is_categorical(cols):\n",
      "/Users/jonw/miniforge3/envs/ml_env/lib/python3.8/site-packages/category_encoders/utils.py:21: FutureWarning: is_categorical is deprecated and will be removed in a future version.  Use is_categorical_dtype instead\n",
      "  elif pd.api.types.is_categorical(cols):\n"
     ]
    }
   ],
   "source": [
    "x_train = data_preprocessing(x_train, y_train)\n",
    "x_test = data_preprocessing(x_test, y_test)"
   ]
  },
  {
   "cell_type": "code",
   "execution_count": 13,
   "id": "fc55effa",
   "metadata": {},
   "outputs": [],
   "source": [
    "def run_variation_model(x_train, y_train, x_test, y_test, variation):\n",
    "    \n",
    "    # Feature columns\n",
    "    input_shape = (13,)\n",
    "    \n",
    "    if \"pca\" in variation:\n",
    "        pca = PCA(0.9, random_state=2021)\n",
    "        x_train = pca.fit_transform(x_train)\n",
    "        x_test = pca.fit_transform(x_test)\n",
    "        \n",
    "        new_features_len = len(x_train[0])\n",
    "        input_shape = (new_features_len,)       \n",
    "        \n",
    "    if \"chi_square\" in variation:\n",
    "        chi_scores = chi2(x_train, y_train)\n",
    "        p_values = pd.Series(chi_scores[1], index = x_train.columns)\n",
    "        p_values.sort_values(ascending = False , inplace = True)\n",
    "#         p_values.plot.bar()\n",
    "        x_train = x_train.drop([\"profession_encoded\", \"state_encoded\", \"city_encoded\", \"income\"], axis=1)\n",
    "        x_test = x_test.drop([\"profession_encoded\", \"state_encoded\", \"city_encoded\", \"income\"], axis=1)\n",
    "        \n",
    "        new_features_len = len(x_train.columns)\n",
    "        input_shape = (9,)\n",
    "        \n",
    "    if \"smote\" in variation:\n",
    "        oversampler = SMOTE(random_state=2021)\n",
    "        x_train, y_train = oversampler.fit_resample(x_train, y_train)        \n",
    "        \n",
    "    # Changes shape to 3D\n",
    "    y_train = to_categorical(y_train)\n",
    "    y_test = to_categorical(y_test)    \n",
    "    \n",
    "    # Create the model\n",
    "    model = Sequential()\n",
    "    model.add(Dense(45, input_shape=input_shape, activation='relu'))\n",
    "    model.add(Dense(25, activation='relu'))\n",
    "    model.add(Dense(12, activation='relu'))\n",
    "    model.add(Dense(6, activation='relu'))\n",
    "    model.add(Flatten())\n",
    "    model.add(Dense(2, activation='softmax'))\n",
    "\n",
    "    # Configure the model and start training\n",
    "    model.compile(loss='binary_crossentropy', \n",
    "                  optimizer='adam', \n",
    "                  metrics=['accuracy', AUC(), Precision(), Recall(), tfa.metrics.FBetaScore(num_classes=2, beta=2.0)])\n",
    "    model_fit = model.fit(x_train, y_train, epochs=1, batch_size=256, verbose=1, validation_split=0.2)\n",
    "    test_results = model.evaluate(x_test, y_test, verbose=1)\n",
    "    \n",
    "    return f\"-------------------------TEST SCORES for {variation}-----------------------\\nRecall: {test_results[4]}\\nPrecision: {test_results[3]}\\nF2-Score: {test_results[5][0]}\\nAccuracy: {test_results[1]}\\nAUC Score: {test_results[2]}\\n\""
   ]
  },
  {
   "cell_type": "code",
   "execution_count": 14,
   "id": "54ec3d9a",
   "metadata": {},
   "outputs": [
    {
     "name": "stdout",
     "output_type": "stream",
     "text": [
      "WARNING:tensorflow:AutoGraph could not transform <function Model.make_train_function.<locals>.train_function at 0x2ad2cf160> and will run it as-is.\n",
      "Please report this to the TensorFlow team. When filing the bug, set the verbosity to 10 (on Linux, `export AUTOGRAPH_VERBOSITY=10`) and attach the full output.\n",
      "Cause: unsupported operand type(s) for -: 'NoneType' and 'int'\n",
      "To silence this warning, decorate the function with @tf.autograph.experimental.do_not_convert\n",
      "WARNING: AutoGraph could not transform <function Model.make_train_function.<locals>.train_function at 0x2ad2cf160> and will run it as-is.\n",
      "Please report this to the TensorFlow team. When filing the bug, set the verbosity to 10 (on Linux, `export AUTOGRAPH_VERBOSITY=10`) and attach the full output.\n",
      "Cause: unsupported operand type(s) for -: 'NoneType' and 'int'\n",
      "To silence this warning, decorate the function with @tf.autograph.experimental.do_not_convert\n",
      "606/630 [===========================>..] - ETA: 0s - loss: 0.4291 - accuracy: 0.8475 - auc_2: 0.8707 - precision_2: 0.8475 - recall_2: 0.8475 - fbeta_score: 0.4875WARNING:tensorflow:AutoGraph could not transform <function Model.make_test_function.<locals>.test_function at 0x2ad3a9d30> and will run it as-is.\n",
      "Please report this to the TensorFlow team. When filing the bug, set the verbosity to 10 (on Linux, `export AUTOGRAPH_VERBOSITY=10`) and attach the full output.\n",
      "Cause: unsupported operand type(s) for -: 'NoneType' and 'int'\n",
      "To silence this warning, decorate the function with @tf.autograph.experimental.do_not_convert\n",
      "WARNING: AutoGraph could not transform <function Model.make_test_function.<locals>.test_function at 0x2ad3a9d30> and will run it as-is.\n",
      "Please report this to the TensorFlow team. When filing the bug, set the verbosity to 10 (on Linux, `export AUTOGRAPH_VERBOSITY=10`) and attach the full output.\n",
      "Cause: unsupported operand type(s) for -: 'NoneType' and 'int'\n",
      "To silence this warning, decorate the function with @tf.autograph.experimental.do_not_convert\n",
      "630/630 [==============================] - 1s 2ms/step - loss: 0.4274 - accuracy: 0.8485 - auc_2: 0.8712 - precision_2: 0.8485 - recall_2: 0.8485 - fbeta_score: 0.4875 - val_loss: 0.3722 - val_accuracy: 0.8765 - val_auc_2: 0.8861 - val_precision_2: 0.8765 - val_recall_2: 0.8765 - val_fbeta_score: 0.4863\n",
      "1575/1575 [==============================] - 1s 535us/step - loss: 0.3713 - accuracy: 0.8770 - auc_2: 0.8881 - precision_2: 0.8770 - recall_2: 0.8770 - fbeta_score: 0.4864\n",
      "WARNING:tensorflow:AutoGraph could not transform <function Model.make_train_function.<locals>.train_function at 0x2af5143a0> and will run it as-is.\n",
      "Please report this to the TensorFlow team. When filing the bug, set the verbosity to 10 (on Linux, `export AUTOGRAPH_VERBOSITY=10`) and attach the full output.\n",
      "Cause: unsupported operand type(s) for -: 'NoneType' and 'int'\n",
      "To silence this warning, decorate the function with @tf.autograph.experimental.do_not_convert\n",
      "WARNING: AutoGraph could not transform <function Model.make_train_function.<locals>.train_function at 0x2af5143a0> and will run it as-is.\n",
      "Please report this to the TensorFlow team. When filing the bug, set the verbosity to 10 (on Linux, `export AUTOGRAPH_VERBOSITY=10`) and attach the full output.\n",
      "Cause: unsupported operand type(s) for -: 'NoneType' and 'int'\n",
      "To silence this warning, decorate the function with @tf.autograph.experimental.do_not_convert\n",
      "1105/1106 [============================>.] - ETA: 0s - loss: 0.6612 - accuracy: 0.6266 - auc_3: 0.6425 - precision_3: 0.6268 - recall_3: 0.6254 - fbeta_score: 0.4482WARNING:tensorflow:AutoGraph could not transform <function Model.make_test_function.<locals>.test_function at 0x2af579790> and will run it as-is.\n",
      "Please report this to the TensorFlow team. When filing the bug, set the verbosity to 10 (on Linux, `export AUTOGRAPH_VERBOSITY=10`) and attach the full output.\n",
      "Cause: unsupported operand type(s) for -: 'NoneType' and 'int'\n",
      "To silence this warning, decorate the function with @tf.autograph.experimental.do_not_convert\n",
      "WARNING: AutoGraph could not transform <function Model.make_test_function.<locals>.test_function at 0x2af579790> and will run it as-is.\n",
      "Please report this to the TensorFlow team. When filing the bug, set the verbosity to 10 (on Linux, `export AUTOGRAPH_VERBOSITY=10`) and attach the full output.\n",
      "Cause: unsupported operand type(s) for -: 'NoneType' and 'int'\n",
      "To silence this warning, decorate the function with @tf.autograph.experimental.do_not_convert\n",
      "1106/1106 [==============================] - 2s 2ms/step - loss: 0.6612 - accuracy: 0.6266 - auc_3: 0.6425 - precision_3: 0.6268 - recall_3: 0.6254 - fbeta_score: 0.4482 - val_loss: 0.9652 - val_accuracy: 0.0000e+00 - val_auc_3: 0.0000e+00 - val_precision_3: 0.0000e+00 - val_recall_3: 0.0000e+00 - val_fbeta_score: 0.0000e+00\n",
      "1575/1575 [==============================] - 1s 547us/step - loss: 0.5281 - accuracy: 0.8770 - auc_3: 0.8904 - precision_3: 0.8770 - recall_3: 0.8770 - fbeta_score: 0.4864 0s - loss: 0.5276 - accuracy: 0.8763 - auc_3: 0.8919 - precision_3: 0.8763 - recall_3: 0.8763 - fbeta_score: 0.4 - ETA: 0s - loss: 0.5271 - accuracy: 0.8769 - auc_3: 0.8928 - precision_3: 0.8769 - recall_3: 0.8769 - fbeta_score\n",
      "WARNING:tensorflow:AutoGraph could not transform <function Model.make_train_function.<locals>.train_function at 0x102f86b80> and will run it as-is.\n",
      "Please report this to the TensorFlow team. When filing the bug, set the verbosity to 10 (on Linux, `export AUTOGRAPH_VERBOSITY=10`) and attach the full output.\n",
      "Cause: unsupported operand type(s) for -: 'NoneType' and 'int'\n",
      "To silence this warning, decorate the function with @tf.autograph.experimental.do_not_convert\n",
      "WARNING: AutoGraph could not transform <function Model.make_train_function.<locals>.train_function at 0x102f86b80> and will run it as-is.\n",
      "Please report this to the TensorFlow team. When filing the bug, set the verbosity to 10 (on Linux, `export AUTOGRAPH_VERBOSITY=10`) and attach the full output.\n",
      "Cause: unsupported operand type(s) for -: 'NoneType' and 'int'\n",
      "To silence this warning, decorate the function with @tf.autograph.experimental.do_not_convert\n",
      "600/630 [===========================>..] - ETA: 0s - loss: 0.4653 - accuracy: 0.8732 - auc_4: 0.8725 - precision_4: 0.8726 - recall_4: 0.8658 - fbeta_score: 0.4910WARNING:tensorflow:AutoGraph could not transform <function Model.make_test_function.<locals>.test_function at 0x2ad3a9a60> and will run it as-is.\n",
      "Please report this to the TensorFlow team. When filing the bug, set the verbosity to 10 (on Linux, `export AUTOGRAPH_VERBOSITY=10`) and attach the full output.\n",
      "Cause: unsupported operand type(s) for -: 'NoneType' and 'int'\n",
      "To silence this warning, decorate the function with @tf.autograph.experimental.do_not_convert\n",
      "WARNING: AutoGraph could not transform <function Model.make_test_function.<locals>.test_function at 0x2ad3a9a60> and will run it as-is.\n",
      "Please report this to the TensorFlow team. When filing the bug, set the verbosity to 10 (on Linux, `export AUTOGRAPH_VERBOSITY=10`) and attach the full output.\n",
      "Cause: unsupported operand type(s) for -: 'NoneType' and 'int'\n",
      "To silence this warning, decorate the function with @tf.autograph.experimental.do_not_convert\n",
      "630/630 [==============================] - 1s 2ms/step - loss: 0.4620 - accuracy: 0.8734 - auc_4: 0.8730 - precision_4: 0.8728 - recall_4: 0.8663 - fbeta_score: 0.4908 - val_loss: 0.3726 - val_accuracy: 0.8765 - val_auc_4: 0.8851 - val_precision_4: 0.8765 - val_recall_4: 0.8765 - val_fbeta_score: 0.4863\n",
      "1575/1575 [==============================] - 1s 551us/step - loss: 0.3715 - accuracy: 0.8770 - auc_4: 0.8860 - precision_4: 0.8770 - recall_4: 0.8770 - fbeta_score: 0.4864\n",
      "WARNING:tensorflow:AutoGraph could not transform <function Model.make_train_function.<locals>.train_function at 0x2adef6f70> and will run it as-is.\n",
      "Please report this to the TensorFlow team. When filing the bug, set the verbosity to 10 (on Linux, `export AUTOGRAPH_VERBOSITY=10`) and attach the full output.\n",
      "Cause: unsupported operand type(s) for -: 'NoneType' and 'int'\n",
      "To silence this warning, decorate the function with @tf.autograph.experimental.do_not_convert\n",
      "WARNING: AutoGraph could not transform <function Model.make_train_function.<locals>.train_function at 0x2adef6f70> and will run it as-is.\n",
      "Please report this to the TensorFlow team. When filing the bug, set the verbosity to 10 (on Linux, `export AUTOGRAPH_VERBOSITY=10`) and attach the full output.\n",
      "Cause: unsupported operand type(s) for -: 'NoneType' and 'int'\n",
      "To silence this warning, decorate the function with @tf.autograph.experimental.do_not_convert\n"
     ]
    },
    {
     "name": "stdout",
     "output_type": "stream",
     "text": [
      "625/630 [============================>.] - ETA: 0s - loss: 0.4225 - accuracy: 0.8708 - auc_5: 0.8791 - precision_5: 0.8708 - recall_5: 0.8708 - fbeta_score: 0.4876WARNING:tensorflow:AutoGraph could not transform <function Model.make_test_function.<locals>.test_function at 0x2bb0b2160> and will run it as-is.\n",
      "Please report this to the TensorFlow team. When filing the bug, set the verbosity to 10 (on Linux, `export AUTOGRAPH_VERBOSITY=10`) and attach the full output.\n",
      "Cause: unsupported operand type(s) for -: 'NoneType' and 'int'\n",
      "To silence this warning, decorate the function with @tf.autograph.experimental.do_not_convert\n",
      "WARNING: AutoGraph could not transform <function Model.make_test_function.<locals>.test_function at 0x2bb0b2160> and will run it as-is.\n",
      "Please report this to the TensorFlow team. When filing the bug, set the verbosity to 10 (on Linux, `export AUTOGRAPH_VERBOSITY=10`) and attach the full output.\n",
      "Cause: unsupported operand type(s) for -: 'NoneType' and 'int'\n",
      "To silence this warning, decorate the function with @tf.autograph.experimental.do_not_convert\n",
      "630/630 [==============================] - 1s 2ms/step - loss: 0.4221 - accuracy: 0.8709 - auc_5: 0.8791 - precision_5: 0.8709 - recall_5: 0.8709 - fbeta_score: 0.4876 - val_loss: 0.3724 - val_accuracy: 0.8765 - val_auc_5: 0.8872 - val_precision_5: 0.8765 - val_recall_5: 0.8765 - val_fbeta_score: 0.4863\n",
      "1575/1575 [==============================] - 1s 527us/step - loss: 0.3712 - accuracy: 0.8770 - auc_5: 0.8881 - precision_5: 0.8770 - recall_5: 0.8770 - fbeta_score: 0.4864\n",
      "WARNING:tensorflow:AutoGraph could not transform <function Model.make_train_function.<locals>.train_function at 0x2bb516310> and will run it as-is.\n",
      "Please report this to the TensorFlow team. When filing the bug, set the verbosity to 10 (on Linux, `export AUTOGRAPH_VERBOSITY=10`) and attach the full output.\n",
      "Cause: unsupported operand type(s) for -: 'NoneType' and 'int'\n",
      "To silence this warning, decorate the function with @tf.autograph.experimental.do_not_convert\n",
      "WARNING: AutoGraph could not transform <function Model.make_train_function.<locals>.train_function at 0x2bb516310> and will run it as-is.\n",
      "Please report this to the TensorFlow team. When filing the bug, set the verbosity to 10 (on Linux, `export AUTOGRAPH_VERBOSITY=10`) and attach the full output.\n",
      "Cause: unsupported operand type(s) for -: 'NoneType' and 'int'\n",
      "To silence this warning, decorate the function with @tf.autograph.experimental.do_not_convert\n",
      "1072/1106 [============================>.] - ETA: 0s - loss: 0.6615 - accuracy: 0.6247 - auc_6: 0.6420 - precision_6: 0.6247 - recall_6: 0.6247 - fbeta_score: 0.4472WARNING:tensorflow:AutoGraph could not transform <function Model.make_test_function.<locals>.test_function at 0x2bb6d54c0> and will run it as-is.\n",
      "Please report this to the TensorFlow team. When filing the bug, set the verbosity to 10 (on Linux, `export AUTOGRAPH_VERBOSITY=10`) and attach the full output.\n",
      "Cause: unsupported operand type(s) for -: 'NoneType' and 'int'\n",
      "To silence this warning, decorate the function with @tf.autograph.experimental.do_not_convert\n",
      "WARNING: AutoGraph could not transform <function Model.make_test_function.<locals>.test_function at 0x2bb6d54c0> and will run it as-is.\n",
      "Please report this to the TensorFlow team. When filing the bug, set the verbosity to 10 (on Linux, `export AUTOGRAPH_VERBOSITY=10`) and attach the full output.\n",
      "Cause: unsupported operand type(s) for -: 'NoneType' and 'int'\n",
      "To silence this warning, decorate the function with @tf.autograph.experimental.do_not_convert\n",
      "1106/1106 [==============================] - 2s 2ms/step - loss: 0.6614 - accuracy: 0.6247 - auc_6: 0.6422 - precision_6: 0.6247 - recall_6: 0.6247 - fbeta_score: 0.4472 - val_loss: 1.0551 - val_accuracy: 0.0000e+00 - val_auc_6: 0.0000e+00 - val_precision_6: 0.0000e+00 - val_recall_6: 0.0000e+00 - val_fbeta_score: 0.0000e+00\n",
      "1575/1575 [==============================] - 1s 522us/step - loss: 0.4975 - accuracy: 0.8770 - auc_6: 0.8903 - precision_6: 0.8770 - recall_6: 0.8770 - fbeta_score: 0.4864\n",
      "WARNING:tensorflow:AutoGraph could not transform <function Model.make_train_function.<locals>.train_function at 0x2ae83b5e0> and will run it as-is.\n",
      "Please report this to the TensorFlow team. When filing the bug, set the verbosity to 10 (on Linux, `export AUTOGRAPH_VERBOSITY=10`) and attach the full output.\n",
      "Cause: unsupported operand type(s) for -: 'NoneType' and 'int'\n",
      "To silence this warning, decorate the function with @tf.autograph.experimental.do_not_convert\n",
      "WARNING: AutoGraph could not transform <function Model.make_train_function.<locals>.train_function at 0x2ae83b5e0> and will run it as-is.\n",
      "Please report this to the TensorFlow team. When filing the bug, set the verbosity to 10 (on Linux, `export AUTOGRAPH_VERBOSITY=10`) and attach the full output.\n",
      "Cause: unsupported operand type(s) for -: 'NoneType' and 'int'\n",
      "To silence this warning, decorate the function with @tf.autograph.experimental.do_not_convert\n",
      "1104/1106 [============================>.] - ETA: 0s - loss: 0.6659 - accuracy: 0.6224 - auc_7: 0.6386 - precision_7: 0.6224 - recall_7: 0.6224 - fbeta_score: 0.4483WARNING:tensorflow:AutoGraph could not transform <function Model.make_test_function.<locals>.test_function at 0x2bb0d5af0> and will run it as-is.\n",
      "Please report this to the TensorFlow team. When filing the bug, set the verbosity to 10 (on Linux, `export AUTOGRAPH_VERBOSITY=10`) and attach the full output.\n",
      "Cause: unsupported operand type(s) for -: 'NoneType' and 'int'\n",
      "To silence this warning, decorate the function with @tf.autograph.experimental.do_not_convert\n",
      "WARNING: AutoGraph could not transform <function Model.make_test_function.<locals>.test_function at 0x2bb0d5af0> and will run it as-is.\n",
      "Please report this to the TensorFlow team. When filing the bug, set the verbosity to 10 (on Linux, `export AUTOGRAPH_VERBOSITY=10`) and attach the full output.\n",
      "Cause: unsupported operand type(s) for -: 'NoneType' and 'int'\n",
      "To silence this warning, decorate the function with @tf.autograph.experimental.do_not_convert\n",
      "1106/1106 [==============================] - 2s 2ms/step - loss: 0.6659 - accuracy: 0.6224 - auc_7: 0.6386 - precision_7: 0.6224 - recall_7: 0.6224 - fbeta_score: 0.4483 - val_loss: 0.9614 - val_accuracy: 0.0169 - val_auc_7: 6.9259e-04 - val_precision_7: 0.0169 - val_recall_7: 0.0169 - val_fbeta_score: 0.0105\n",
      "1575/1575 [==============================] - 1s 533us/step - loss: 0.5303 - accuracy: 0.8713 - auc_7: 0.8918 - precision_7: 0.8713 - recall_7: 0.8713 - fbeta_score: 0.4937\n"
     ]
    }
   ],
   "source": [
    "variations = [\"base\", \"smote\", \"chi_square\", \"pca\", \"smote, chi_square\", \"smote, pca\"]\n",
    "results = \"\"\n",
    "\n",
    "for variation in variations:\n",
    "    result = run_variation_model(x_train, y_train, x_test, y_test, variation)\n",
    "    results += result"
   ]
  },
  {
   "cell_type": "code",
   "execution_count": 15,
   "id": "688f5786",
   "metadata": {},
   "outputs": [
    {
     "name": "stdout",
     "output_type": "stream",
     "text": [
      "-------------------------TEST SCORES for base-----------------------\n",
      "Recall: 0.8770039677619934\n",
      "Precision: 0.8770039677619934\n",
      "F2-Score: 0.972716212272644\n",
      "Accuracy: 0.8770039677619934\n",
      "AUC Score: 0.888079047203064\n",
      "-------------------------TEST SCORES for smote-----------------------\n",
      "Recall: 0.8770039677619934\n",
      "Precision: 0.8770039677619934\n",
      "F2-Score: 0.972716212272644\n",
      "Accuracy: 0.8770039677619934\n",
      "AUC Score: 0.8904247283935547\n",
      "-------------------------TEST SCORES for chi_square-----------------------\n",
      "Recall: 0.8770039677619934\n",
      "Precision: 0.8770039677619934\n",
      "F2-Score: 0.972716212272644\n",
      "Accuracy: 0.8770039677619934\n",
      "AUC Score: 0.8860371708869934\n",
      "-------------------------TEST SCORES for pca-----------------------\n",
      "Recall: 0.8770039677619934\n",
      "Precision: 0.8770039677619934\n",
      "F2-Score: 0.972716212272644\n",
      "Accuracy: 0.8770039677619934\n",
      "AUC Score: 0.8881022930145264\n",
      "-------------------------TEST SCORES for smote, chi_square-----------------------\n",
      "Recall: 0.8770039677619934\n",
      "Precision: 0.8770039677619934\n",
      "F2-Score: 0.972716212272644\n",
      "Accuracy: 0.8770039677619934\n",
      "AUC Score: 0.8903472423553467\n",
      "-------------------------TEST SCORES for smote, pca-----------------------\n",
      "Recall: 0.8712896704673767\n",
      "Precision: 0.8712896704673767\n",
      "F2-Score: 0.9661446809768677\n",
      "Accuracy: 0.8712896704673767\n",
      "AUC Score: 0.8918184041976929\n",
      "\n"
     ]
    }
   ],
   "source": [
    "print(results)"
   ]
  }
 ],
 "metadata": {
  "kernelspec": {
   "display_name": "Python 3 (ipykernel)",
   "language": "python",
   "name": "python3"
  },
  "language_info": {
   "codemirror_mode": {
    "name": "ipython",
    "version": 3
   },
   "file_extension": ".py",
   "mimetype": "text/x-python",
   "name": "python",
   "nbconvert_exporter": "python",
   "pygments_lexer": "ipython3",
   "version": "3.8.10"
  }
 },
 "nbformat": 4,
 "nbformat_minor": 5
}
