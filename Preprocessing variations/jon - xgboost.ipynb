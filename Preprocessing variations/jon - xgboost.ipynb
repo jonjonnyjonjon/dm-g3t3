{
 "cells": [
  {
   "cell_type": "markdown",
   "id": "d51dca08",
   "metadata": {},
   "source": [
    "# Importing libraries"
   ]
  },
  {
   "cell_type": "code",
   "execution_count": 42,
   "id": "9681e448",
   "metadata": {},
   "outputs": [],
   "source": [
    "import pandas as pd\n",
    "import numpy as np\n",
    "\n",
    "from sklearn.preprocessing import MinMaxScaler\n",
    "from sklearn.metrics import confusion_matrix, precision_score, recall_score, f1_score, fbeta_score, accuracy_score, roc_auc_score\n",
    "from sklearn.model_selection import RandomizedSearchCV, StratifiedKFold, GridSearchCV\n",
    "from sklearn.compose import ColumnTransformer\n",
    "\n",
    "from category_encoders import TargetEncoder\n",
    "\n",
    "from imblearn.pipeline import Pipeline\n",
    "from imblearn.over_sampling import SMOTE\n",
    "\n",
    "from xgboost import XGBClassifier"
   ]
  },
  {
   "cell_type": "markdown",
   "id": "b2dcbfbd",
   "metadata": {},
   "source": [
    "# Reading file and tidying"
   ]
  },
  {
   "cell_type": "code",
   "execution_count": 43,
   "id": "b973afe6",
   "metadata": {
    "scrolled": false
   },
   "outputs": [],
   "source": [
    "df_train = pd.read_csv(\"../dataset/train.csv\")\n",
    "df_test = pd.read_csv(\"../dataset/test.csv\")"
   ]
  },
  {
   "cell_type": "code",
   "execution_count": 44,
   "id": "7659560e",
   "metadata": {},
   "outputs": [],
   "source": [
    "y_train = df_train[\"risk_flag\"]\n",
    "x_train = df_train.drop(\"risk_flag\", axis=1)\n",
    "\n",
    "y_test = df_test[\"risk_flag\"]\n",
    "x_test = df_test.drop(\"risk_flag\", axis=1)"
   ]
  },
  {
   "cell_type": "code",
   "execution_count": 45,
   "id": "1e288efd",
   "metadata": {},
   "outputs": [
    {
     "name": "stderr",
     "output_type": "stream",
     "text": [
      "/Users/jonw/miniforge3/envs/ml_env/lib/python3.8/site-packages/category_encoders/utils.py:21: FutureWarning: is_categorical is deprecated and will be removed in a future version.  Use is_categorical_dtype instead\n",
      "  elif pd.api.types.is_categorical(cols):\n"
     ]
    }
   ],
   "source": [
    "def target_encoding(df_x, df_y):\n",
    "    x = df_x.copy()\n",
    "    \n",
    "    # Target Encoding — categorical columns with high cardinality: profession, city, state\n",
    "    profession_target_enc = TargetEncoder()\n",
    "    x[\"profession_encoded\"] = profession_target_enc.fit_transform(x[\"profession\"], df_y)\n",
    "    \n",
    "    city_target_enc = TargetEncoder()\n",
    "    x[\"city_encoded\"] = city_target_enc.fit_transform(x[\"city\"], df_y)\n",
    "    \n",
    "    state_target_enc = TargetEncoder()\n",
    "    x[\"state_encoded\"] = state_target_enc.fit_transform(x[\"state\"], df_y)\n",
    "    \n",
    "    x.drop(\"profession\", axis=1, inplace=True)\n",
    "    x.drop(\"city\", axis=1, inplace=True)\n",
    "    x.drop(\"state\", axis=1, inplace=True)\n",
    "    return x\n",
    "\n",
    "x_train = target_encoding(x_train, y_train)\n",
    "x_test = target_encoding(x_test, y_test)"
   ]
  },
  {
   "cell_type": "code",
   "execution_count": 46,
   "id": "fc55effa",
   "metadata": {
    "scrolled": false
   },
   "outputs": [
    {
     "name": "stdout",
     "output_type": "stream",
     "text": [
      "-----------------------TEST SCORES-----------------------\n",
      "Recall: 0.9537022100338765\n",
      "Precision: 0.13576136128780397\n",
      "F2-Score: 0.4325241795063136\n",
      "Accuracy score: 0.24757936507936507\n",
      "AUC Score: 0.551125442701606\n",
      "\n"
     ]
    }
   ],
   "source": [
    "scaler = MinMaxScaler()\n",
    "x_train[['income','age','experience']] = scaler.fit_transform(x_train[['income','age','experience']])\n",
    "x_test[['income','age','experience']] = scaler.fit_transform(x_test[['income','age','experience']])\n",
    "\n",
    "oversampler = SMOTE(random_state=2021)\n",
    "x_train, y_train = oversampler.fit_resample(x_train, y_train)\n",
    "\n",
    "xgb = XGBClassifier(use_label_encoder=False, random_state=2021)\n",
    "xgb.fit(x_train, y_train, eval_metric='logloss')\n",
    "y_pred = xgb.predict(x_test)\n",
    "\n",
    "print(f\"-----------------------TEST SCORES-----------------------\")\n",
    "print(f\"Recall: {recall_score(y_test, y_pred)}\")\n",
    "print(f\"Precision: {precision_score(y_test, y_pred)}\")\n",
    "print(f\"F2-Score: {fbeta_score(y_test, y_pred, beta=2)}\")\n",
    "print(f\"Accuracy score: {accuracy_score(y_test, y_pred)}\")\n",
    "print(f\"AUC Score: {roc_auc_score(y_test, y_pred)}\")\n",
    "print()"
   ]
  },
  {
   "cell_type": "markdown",
   "id": "bbaa106b",
   "metadata": {},
   "source": [
    "# Grid Search"
   ]
  },
  {
   "cell_type": "code",
   "execution_count": 26,
   "id": "ae3c67ed",
   "metadata": {},
   "outputs": [
    {
     "name": "stdout",
     "output_type": "stream",
     "text": [
      "classifier__learning_rate [0.2, 0.3, 0.4]\n",
      "classifier__max_depth [12, 15, 20]\n",
      "classifier__min_child_weight [0.8, 1.0, 1.2]\n",
      "classifier__gamma [0.5, 1.0, 1.5]\n",
      "classifier__colsample_bytree [0.6, 0.8, 1.0]\n",
      "-----------------\n",
      "Total combinations: 243\n"
     ]
    }
   ],
   "source": [
    "# Creating parameter grid to search\n",
    "learning_rates = [0.2, 0.3, 0.4]\n",
    "max_depths = [12, 15, 20]\n",
    "min_child_weights = [0.8, 1.0, 1.2]\n",
    "gammas = [0.5, 1.0, 1.5]\n",
    "colsample_bytrees = [0.6, 0.8, 1.0]\n",
    "\n",
    "params_grid = {\n",
    "                'classifier__learning_rate': learning_rates,\n",
    "                'classifier__max_depth': max_depths,\n",
    "                'classifier__min_child_weight': min_child_weights,\n",
    "                'classifier__gamma': gammas,\n",
    "                'classifier__colsample_bytree': colsample_bytrees\n",
    "              }\n",
    "\n",
    "total_combi = 1\n",
    "for param, value in params_grid.items():\n",
    "    print(param, value)\n",
    "    total_combi *= len(value)\n",
    "\n",
    "print('-----------------')\n",
    "print('Total combinations:', total_combi)"
   ]
  },
  {
   "cell_type": "code",
   "execution_count": 31,
   "id": "2c985fef",
   "metadata": {},
   "outputs": [
    {
     "name": "stderr",
     "output_type": "stream",
     "text": [
      "/Users/jonw/miniforge3/envs/ml_env/lib/python3.8/site-packages/category_encoders/utils.py:21: FutureWarning: is_categorical is deprecated and will be removed in a future version.  Use is_categorical_dtype instead\n",
      "  elif pd.api.types.is_categorical(cols):\n"
     ]
    },
    {
     "data": {
      "text/plain": [
       "{'classifier__colsample_bytree': 1.0,\n",
       " 'classifier__learning_rate': 0.5,\n",
       " 'classifier__max_depth': 20,\n",
       " 'classifier__subsample': 0.5}"
      ]
     },
     "execution_count": 31,
     "metadata": {},
     "output_type": "execute_result"
    }
   ],
   "source": [
    "# # https://blog.dataiku.com/narrowing-the-search-which-hyperparameters-really-matter\n",
    "\n",
    "# max_depths = [5, 10, 20]\n",
    "# colsample_bytrees = [0.5, 0.7, 1.0]\n",
    "# subsample = [0.5, 0.7, 1.0]\n",
    "# learning_rates = [0.2, 0.3, 0.5]\n",
    "\n",
    "# params_grid = {\n",
    "#                 'classifier__max_depth': max_depths,     \n",
    "#                 'classifier__colsample_bytree': colsample_bytrees,\n",
    "#                 'classifier__subsample': subsample,\n",
    "#                 'classifier__learning_rate': learning_rates\n",
    "#               }\n",
    "\n",
    "# te_features = ['profession', 'city','state']\n",
    "# scale_features = ['income','age','experience']\n",
    "\n",
    "# preprocessor = ColumnTransformer(transformers=[\n",
    "#                                                 ('te_features', TargetEncoder(), te_features),\n",
    "#                                                 ('scale_features', MinMaxScaler(), scale_features)])\n",
    "\n",
    "# pipeline = Pipeline(steps = [['preprocessor', preprocessor ],\n",
    "#                              ['smote', SMOTE(random_state=2021)],\n",
    "#                              ['classifier', XGBClassifier(eval_metric=\"logloss\", use_label_encoder=False, random_state=2021)]\n",
    "#                             ])\n",
    "\n",
    "# stratified_kfold = StratifiedKFold(shuffle=True, n_splits=3, random_state=2021)\n",
    "\n",
    "# xgb_gridsearch = GridSearchCV(\n",
    "#                                 estimator = pipeline,\n",
    "#                                 param_grid = params_grid,\n",
    "#                                 scoring = 'recall',\n",
    "#                                 cv = stratified_kfold,\n",
    "#                                 refit = True,\n",
    "#                                 n_jobs = -1\n",
    "#                              )\n",
    "\n",
    "# xgb_gridsearch.fit( x_train, y_train.values.ravel() )\n",
    "\n",
    "# xgb_gridsearch.best_params_\n",
    "\n",
    "# # {'classifier__colsample_bytree': 1.0,\n",
    "# #  'classifier__learning_rate': 0.5,\n",
    "# #  'classifier__max_depth': 20,\n",
    "# #  'classifier__subsample': 0.5}"
   ]
  },
  {
   "cell_type": "markdown",
   "id": "a439041d",
   "metadata": {},
   "source": [
    "# XGBoost with best_params"
   ]
  },
  {
   "cell_type": "code",
   "execution_count": 47,
   "id": "6fcfe4d7",
   "metadata": {},
   "outputs": [
    {
     "name": "stdout",
     "output_type": "stream",
     "text": [
      "-----------------------TEST SCORES-----------------------\n",
      "Recall: 0.888691724471689\n",
      "Precision: 0.13725490196078433\n",
      "F2-Score: 0.4242064897663746\n",
      "Accuracy score: 0.29924603174603176\n",
      "AUC Score: 0.552635267452921\n",
      "\n"
     ]
    }
   ],
   "source": [
    "scaler = MinMaxScaler()\n",
    "x_train[['income','age','experience']] = scaler.fit_transform(x_train[['income','age','experience']])\n",
    "x_test[['income','age','experience']] = scaler.fit_transform(x_test[['income','age','experience']])\n",
    "\n",
    "oversampler = SMOTE(random_state=2021)\n",
    "x_train, y_train = oversampler.fit_resample(x_train, y_train)\n",
    "\n",
    "xgb = XGBClassifier(colsample_bytree=1, learning_rate=0.5, max_depth=20, subsample=0.5, use_label_encoder=False, random_state=2021)\n",
    "xgb.fit(x_train, y_train, eval_metric='logloss')\n",
    "y_pred = xgb.predict(x_test)\n",
    "\n",
    "print(f\"-----------------------TEST SCORES-----------------------\")\n",
    "print(f\"Recall: {recall_score(y_test, y_pred)}\")\n",
    "print(f\"Precision: {precision_score(y_test, y_pred)}\")\n",
    "print(f\"F2-Score: {fbeta_score(y_test, y_pred, beta=2)}\")\n",
    "print(f\"Accuracy score: {accuracy_score(y_test, y_pred)}\")\n",
    "print(f\"AUC Score: {roc_auc_score(y_test, y_pred)}\")\n",
    "print()"
   ]
  }
 ],
 "metadata": {
  "kernelspec": {
   "display_name": "Python 3 (ipykernel)",
   "language": "python",
   "name": "python3"
  },
  "language_info": {
   "codemirror_mode": {
    "name": "ipython",
    "version": 3
   },
   "file_extension": ".py",
   "mimetype": "text/x-python",
   "name": "python",
   "nbconvert_exporter": "python",
   "pygments_lexer": "ipython3",
   "version": "3.8.10"
  }
 },
 "nbformat": 4,
 "nbformat_minor": 5
}
