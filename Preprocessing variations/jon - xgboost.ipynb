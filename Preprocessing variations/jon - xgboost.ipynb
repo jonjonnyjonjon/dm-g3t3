{
 "cells": [
  {
   "cell_type": "markdown",
   "id": "d51dca08",
   "metadata": {},
   "source": [
    "# Importing libraries"
   ]
  },
  {
   "cell_type": "code",
   "execution_count": 1,
   "id": "9681e448",
   "metadata": {},
   "outputs": [],
   "source": [
    "import pandas as pd\n",
    "import numpy as np\n",
    "\n",
    "from sklearn.decomposition import PCA\n",
    "\n",
    "from category_encoders import TargetEncoder\n",
    "\n",
    "from imblearn.over_sampling import SMOTE\n",
    "\n",
    "from xgboost import XGBClassifier\n",
    "from sklearn.metrics import confusion_matrix, precision_score, recall_score, f1_score, fbeta_score, accuracy_score, roc_auc_score"
   ]
  },
  {
   "cell_type": "markdown",
   "id": "b2dcbfbd",
   "metadata": {},
   "source": [
    "# Reading file and tidying"
   ]
  },
  {
   "cell_type": "code",
   "execution_count": 7,
   "id": "b973afe6",
   "metadata": {
    "scrolled": false
   },
   "outputs": [
    {
     "data": {
      "text/html": [
       "<div>\n",
       "<style scoped>\n",
       "    .dataframe tbody tr th:only-of-type {\n",
       "        vertical-align: middle;\n",
       "    }\n",
       "\n",
       "    .dataframe tbody tr th {\n",
       "        vertical-align: top;\n",
       "    }\n",
       "\n",
       "    .dataframe thead th {\n",
       "        text-align: right;\n",
       "    }\n",
       "</style>\n",
       "<table border=\"1\" class=\"dataframe\">\n",
       "  <thead>\n",
       "    <tr style=\"text-align: right;\">\n",
       "      <th></th>\n",
       "      <th>income</th>\n",
       "      <th>age</th>\n",
       "      <th>experience</th>\n",
       "      <th>marital_status</th>\n",
       "      <th>car_ownership</th>\n",
       "      <th>profession</th>\n",
       "      <th>city</th>\n",
       "      <th>state</th>\n",
       "      <th>rented</th>\n",
       "      <th>risk_flag</th>\n",
       "    </tr>\n",
       "  </thead>\n",
       "  <tbody>\n",
       "    <tr>\n",
       "      <th>0</th>\n",
       "      <td>0.327124</td>\n",
       "      <td>0.603448</td>\n",
       "      <td>1.0</td>\n",
       "      <td>1</td>\n",
       "      <td>0</td>\n",
       "      <td>Technology_specialist</td>\n",
       "      <td>Gorakhpur</td>\n",
       "      <td>Uttar_Pradesh</td>\n",
       "      <td>1.0</td>\n",
       "      <td>0</td>\n",
       "    </tr>\n",
       "    <tr>\n",
       "      <th>1</th>\n",
       "      <td>0.130675</td>\n",
       "      <td>0.551724</td>\n",
       "      <td>0.2</td>\n",
       "      <td>1</td>\n",
       "      <td>0</td>\n",
       "      <td>Civil_engineer</td>\n",
       "      <td>Thoothukudi</td>\n",
       "      <td>Tamil_Nadu</td>\n",
       "      <td>1.0</td>\n",
       "      <td>0</td>\n",
       "    </tr>\n",
       "    <tr>\n",
       "      <th>2</th>\n",
       "      <td>0.501596</td>\n",
       "      <td>0.448276</td>\n",
       "      <td>1.0</td>\n",
       "      <td>1</td>\n",
       "      <td>0</td>\n",
       "      <td>Magistrate</td>\n",
       "      <td>Khammam</td>\n",
       "      <td>Telangana</td>\n",
       "      <td>1.0</td>\n",
       "      <td>0</td>\n",
       "    </tr>\n",
       "    <tr>\n",
       "      <th>3</th>\n",
       "      <td>0.281679</td>\n",
       "      <td>0.568966</td>\n",
       "      <td>0.0</td>\n",
       "      <td>1</td>\n",
       "      <td>0</td>\n",
       "      <td>Chef</td>\n",
       "      <td>Serampore</td>\n",
       "      <td>West_Bengal</td>\n",
       "      <td>1.0</td>\n",
       "      <td>0</td>\n",
       "    </tr>\n",
       "    <tr>\n",
       "      <th>4</th>\n",
       "      <td>0.878926</td>\n",
       "      <td>0.344828</td>\n",
       "      <td>0.1</td>\n",
       "      <td>1</td>\n",
       "      <td>0</td>\n",
       "      <td>Designer</td>\n",
       "      <td>Tiruppur</td>\n",
       "      <td>Tamil_Nadu</td>\n",
       "      <td>1.0</td>\n",
       "      <td>0</td>\n",
       "    </tr>\n",
       "  </tbody>\n",
       "</table>\n",
       "</div>"
      ],
      "text/plain": [
       "     income       age  experience  marital_status  car_ownership  \\\n",
       "0  0.327124  0.603448         1.0               1              0   \n",
       "1  0.130675  0.551724         0.2               1              0   \n",
       "2  0.501596  0.448276         1.0               1              0   \n",
       "3  0.281679  0.568966         0.0               1              0   \n",
       "4  0.878926  0.344828         0.1               1              0   \n",
       "\n",
       "              profession         city          state  rented  risk_flag  \n",
       "0  Technology_specialist    Gorakhpur  Uttar_Pradesh     1.0          0  \n",
       "1         Civil_engineer  Thoothukudi     Tamil_Nadu     1.0          0  \n",
       "2             Magistrate      Khammam      Telangana     1.0          0  \n",
       "3                   Chef    Serampore    West_Bengal     1.0          0  \n",
       "4               Designer     Tiruppur     Tamil_Nadu     1.0          0  "
      ]
     },
     "execution_count": 7,
     "metadata": {},
     "output_type": "execute_result"
    }
   ],
   "source": [
    "df_train = pd.read_csv(\"../dataset/train.csv\")\n",
    "df_test = pd.read_csv(\"../dataset/test.csv\")"
   ]
  },
  {
   "cell_type": "code",
   "execution_count": 3,
   "id": "7659560e",
   "metadata": {},
   "outputs": [],
   "source": [
    "y_train = df_train[\"risk_flag\"]\n",
    "x_train = df_train.drop(\"risk_flag\", axis=1)\n",
    "\n",
    "y_test = df_test[\"risk_flag\"]\n",
    "x_test = df_test.drop(\"risk_flag\", axis=1)"
   ]
  },
  {
   "cell_type": "code",
   "execution_count": 4,
   "id": "1e288efd",
   "metadata": {},
   "outputs": [
    {
     "name": "stderr",
     "output_type": "stream",
     "text": [
      "/Users/jonw/miniforge3/envs/ml_env/lib/python3.8/site-packages/category_encoders/utils.py:21: FutureWarning: is_categorical is deprecated and will be removed in a future version.  Use is_categorical_dtype instead\n",
      "  elif pd.api.types.is_categorical(cols):\n"
     ]
    }
   ],
   "source": [
    "def target_encoding(df_x, df_y):\n",
    "    x = df_x.copy()\n",
    "    \n",
    "    # Target Encoding — categorical columns with high cardinality: profession, city, state\n",
    "    profession_target_enc = TargetEncoder()\n",
    "    x[\"profession_encoded\"] = profession_target_enc.fit_transform(x[\"profession\"], df_y)\n",
    "    \n",
    "    city_target_enc = TargetEncoder()\n",
    "    x[\"city_encoded\"] = city_target_enc.fit_transform(x[\"city\"], df_y)\n",
    "    \n",
    "    state_target_enc = TargetEncoder()\n",
    "    x[\"state_encoded\"] = state_target_enc.fit_transform(x[\"state\"], df_y)\n",
    "    \n",
    "    x.drop(\"profession\", axis=1, inplace=True)\n",
    "    x.drop(\"city\", axis=1, inplace=True)\n",
    "    x.drop(\"state\", axis=1, inplace=True)\n",
    "    return x\n",
    "\n",
    "x_train = target_encoding(x_train, y_train)\n",
    "x_test = target_encoding(x_test, y_test)"
   ]
  },
  {
   "cell_type": "code",
   "execution_count": 5,
   "id": "fc55effa",
   "metadata": {},
   "outputs": [
    {
     "name": "stdout",
     "output_type": "stream",
     "text": [
      "-----------------------TEST SCORES-----------------------\n",
      "Recall: 0.9537022100338765\n",
      "Precision: 0.13576136128780397\n",
      "F2-Score: 0.4325241795063136\n",
      "Accuracy score: 0.24757936507936507\n",
      "AUC Score: 0.551125442701606\n",
      "\n"
     ]
    }
   ],
   "source": [
    "# # https://xgboost.readthedocs.io/en/latest/python/python_api.html#module-xgboost.sklearn\n",
    "xgb = XGBClassifier(use_label_encoder=False, random_state=2021)\n",
    "      \n",
    "oversampler = SMOTE(random_state=2021)\n",
    "x_train, y_train = oversampler.fit_resample(x_train, y_train)\n",
    "\n",
    "xgb.fit(x_train, y_train, eval_metric='logloss')\n",
    "y_pred = xgb.predict(x_test)\n",
    "\n",
    "print(f\"-----------------------TEST SCORES-----------------------\")\n",
    "print(f\"Recall: {recall_score(y_test, y_pred)}\")\n",
    "print(f\"Precision: {precision_score(y_test, y_pred)}\")\n",
    "print(f\"F2-Score: {fbeta_score(y_test, y_pred, beta=2)}\")\n",
    "print(f\"Accuracy score: {accuracy_score(y_test, y_pred)}\")\n",
    "print(f\"AUC Score: {roc_auc_score(y_test, y_pred)}\")\n",
    "print()"
   ]
  },
  {
   "cell_type": "code",
   "execution_count": 6,
   "id": "cc9466aa",
   "metadata": {},
   "outputs": [],
   "source": [
    "# model = XGBClassifier(n_jobs=-1, random_state=0)\n",
    "\n",
    "# param_dist = {\n",
    "#     \"learning_rate\": [0.05, 0.10, 0.15, 0.20, 0.25, 0.30],\n",
    "#     \"max_depth\": [3, 4, 5, 6, 8, 10, 12, 15],\n",
    "#     'min_child_weight': [1, 3, 5, 7],\n",
    "#     'gamma': [0.0, 0.1, 0.2 , 0.3, 0.4],\n",
    "#     'colsample_bytree': [0.3, 0.4, 0.5 , 0.7],\n",
    "# }\n",
    "\n",
    "# grid_search = GridSearchCV(model, param_dist, n_jobs=-1, scoring=\"recall\", error_score='raise')\n",
    "\n",
    "# grid_search.fit(x_train, y_train)\n",
    "# grid_search.best_params_"
   ]
  }
 ],
 "metadata": {
  "kernelspec": {
   "display_name": "Python 3 (ipykernel)",
   "language": "python",
   "name": "python3"
  },
  "language_info": {
   "codemirror_mode": {
    "name": "ipython",
    "version": 3
   },
   "file_extension": ".py",
   "mimetype": "text/x-python",
   "name": "python",
   "nbconvert_exporter": "python",
   "pygments_lexer": "ipython3",
   "version": "3.8.10"
  }
 },
 "nbformat": 4,
 "nbformat_minor": 5
}
