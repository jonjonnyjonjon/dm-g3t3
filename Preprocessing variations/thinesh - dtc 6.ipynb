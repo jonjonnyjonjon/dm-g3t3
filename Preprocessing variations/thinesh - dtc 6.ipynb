{
 "cells": [
  {
   "cell_type": "markdown",
   "metadata": {},
   "source": [
    "# Importing libraries"
   ]
  },
  {
   "cell_type": "code",
   "execution_count": 1,
   "metadata": {},
   "outputs": [],
   "source": [
    "import pandas as pd\n",
    "import numpy as np\n",
    "import seaborn as sns\n",
    "import matplotlib.pyplot as plt\n",
    "%matplotlib inline\n",
    "\n",
    "from sklearn.preprocessing import LabelEncoder\n",
    "from sklearn.preprocessing import OneHotEncoder\n",
    "from category_encoders import TargetEncoder\n",
    "\n",
    "from sklearn.preprocessing import MinMaxScaler\n",
    "\n",
    "from sklearn.decomposition import PCA\n",
    "from sklearn.feature_selection import chi2\n",
    "\n",
    "from sklearn.model_selection import train_test_split\n",
    "from imblearn.over_sampling import SMOTE\n",
    "\n",
    "from sklearn import tree\n",
    "from sklearn.metrics import confusion_matrix, precision_score, recall_score, f1_score, accuracy_score, roc_auc_score"
   ]
  },
  {
   "cell_type": "markdown",
   "metadata": {},
   "source": [
    "# Reading file and tidying"
   ]
  },
  {
   "cell_type": "code",
   "execution_count": 71,
   "metadata": {
    "scrolled": true
   },
   "outputs": [],
   "source": [
    "df = pd.read_csv(\"loanprediction.csv\")\n",
    "df.drop(\"Id\", axis=1, inplace=True)\n",
    "df.columns = [\"income\", \"age\", \"experience\", \"marital_status\", \"house_ownership\", \"car_ownership\", \"profession\", \"city\", \"state\", \"current_job_years\", \"current_house_years\", \"risk_flag\"]\n",
    "#numerical_cols = [\"income\", \"age\", \"experience\", \"current_job_years\", \"current_house_years\"]\n",
    "#df.info()"
   ]
  },
  {
   "cell_type": "markdown",
   "metadata": {},
   "source": [
    "# Feature selection\n",
    "H0 :- There is no relationship between categorical feature and target variable\\\n",
    "H1 :- There is some relationship between categorical feature and target variable\\\n",
    "If p-value ≥0.05, the null hypothesis is not rejected and there is no any relationship between target variable and categorical features."
   ]
  },
  {
   "cell_type": "markdown",
   "metadata": {},
   "source": [
    "## Chi-Square"
   ]
  },
  {
   "cell_type": "code",
   "execution_count": 72,
   "metadata": {},
   "outputs": [],
   "source": [
    "# # https://medium.com/analytics-vidhya/categorical-feature-selection-using-chi-squared-test-e4c0d0af6b7e\n",
    "# # https://towardsdatascience.com/using-the-chi-squared-test-for-feature-selection-with-implementation-b15a4dad93f1\n",
    "\n",
    "# # Standardisation gives negative values, chi-square does not allow negative values\n",
    "\n",
    "# chi_scores = chi2(x,y)\n",
    "# p_values = pd.Series(chi_scores[1],index = x.columns)\n",
    "# p_values.sort_values(ascending = False , inplace = True)\n",
    "# p_values.plot.bar()\n",
    "\n",
    "# # conclusion: current_house_years, profession_encoded, state_encoded have no relationship with target variable\n",
    "# x = x.drop([\"current_house_years\", \"profession_encoded\", \"state_encoded\"], axis=1)"
   ]
  },
  {
   "cell_type": "markdown",
   "metadata": {},
   "source": [
    "## PCA"
   ]
  },
  {
   "cell_type": "code",
   "execution_count": 73,
   "metadata": {},
   "outputs": [],
   "source": [
    "# pca_loan = PCA()\n",
    "# x_train = pca_loan.fit_transform(x_train)\n",
    "# x_test = pca_loan.fit_transform(x_test)"
   ]
  },
  {
   "cell_type": "markdown",
   "metadata": {},
   "source": [
    "# Train test split"
   ]
  },
  {
   "cell_type": "code",
   "execution_count": 74,
   "metadata": {},
   "outputs": [],
   "source": [
    "y = df[\"risk_flag\"]\n",
    "x = df.drop(\"risk_flag\", axis=1)"
   ]
  },
  {
   "cell_type": "code",
   "execution_count": 75,
   "metadata": {},
   "outputs": [],
   "source": [
    "x_train, x_test, y_train, y_test = train_test_split(x, y, test_size = 0.2, random_state = 2021)"
   ]
  },
  {
   "cell_type": "code",
   "execution_count": 76,
   "metadata": {},
   "outputs": [],
   "source": [
    "x_train = x_train.drop([\"current_house_years\", \"profession\", \"state\"], axis=1)\n",
    "x_test = x_test.drop([\"current_house_years\", \"profession\", \"state\"], axis=1)"
   ]
  },
  {
   "cell_type": "markdown",
   "metadata": {},
   "source": [
    "# Data preprocessing - Encoding categorical columns and scaling numerical columns"
   ]
  },
  {
   "cell_type": "code",
   "execution_count": 77,
   "metadata": {},
   "outputs": [],
   "source": [
    "def data_preprocessing(df_x, df_y):\n",
    "    # Label encoding categorical columns with 2 types of categories\n",
    "    x = df_x.copy()\n",
    "    label_enc = LabelEncoder()\n",
    "    x[\"marital_status\"] = label_enc.fit_transform(x[\"marital_status\"])\n",
    "    x[\"car_ownership\"] = label_enc.fit_transform(x[\"car_ownership\"])\n",
    "    \n",
    "    # One Hot Encoding house_ownership column & Combining back to dataframe\n",
    "    onehot_encoder = OneHotEncoder(handle_unknown='ignore', sparse=False)\n",
    "    \n",
    "    house_ownership_values = onehot_encoder.fit_transform( x[['house_ownership']] )\n",
    "    house_ownership_labels = np.array([\"norent_noown\", \"owned\", \"rented\"]).ravel()\n",
    "    house_ownership_df = pd.DataFrame(house_ownership_values, columns=house_ownership_labels)\n",
    "\n",
    "    x.reset_index(drop=True, inplace=True)\n",
    "    house_ownership_df.reset_index(drop=True, inplace=True)\n",
    "    x = pd.concat([ x, house_ownership_df], axis=1)\n",
    "    \n",
    "    x.drop(\"house_ownership\", axis=1, inplace=True)\n",
    "    \n",
    "    # Target Encoding the high cardinality categorical columns: profession, city, state\n",
    "    # https://medium.com/analytics-vidhya/target-encoding-vs-one-hot-encoding-with-simple-examples-276a7e7b3e64\n",
    "#     profession_target_enc = TargetEncoder()\n",
    "#     x[\"profession_encoded\"] = profession_target_enc.fit_transform(x[\"profession\"], df_y)\n",
    "    city_target_enc = TargetEncoder()\n",
    "    x[\"city_encoded\"] = city_target_enc.fit_transform(x[\"city\"], df_y)\n",
    "#     state_target_enc = TargetEncoder()\n",
    "#     x[\"state_encoded\"] = state_target_enc.fit_transform(x[\"state\"], df_y)\n",
    "#     x.drop(\"profession\", axis=1, inplace=True)\n",
    "    x.drop(\"city\", axis=1, inplace=True)\n",
    "#    x.drop(\"state\", axis=1, inplace=True)\n",
    "    \n",
    "    # https://stackoverflow.com/questions/51237635/difference-between-standard-scaler-and-minmaxscaler\n",
    "    # https://www.geeksforgeeks.org/standardscaler-minmaxscaler-and-robustscaler-techniques-ml/\n",
    "#     min_max_scaler = MinMaxScaler()\n",
    "#     x[numerical_cols] = min_max_scaler.fit_transform(x[numerical_cols])\n",
    "    \n",
    "    return x"
   ]
  },
  {
   "cell_type": "code",
   "execution_count": 78,
   "metadata": {},
   "outputs": [],
   "source": [
    "x_train = data_preprocessing(x_train, y_train)"
   ]
  },
  {
   "cell_type": "code",
   "execution_count": null,
   "metadata": {
    "scrolled": true
   },
   "outputs": [],
   "source": []
  },
  {
   "cell_type": "code",
   "execution_count": 79,
   "metadata": {
    "scrolled": true
   },
   "outputs": [],
   "source": [
    "# pca_loan = PCA()\n",
    "# x_train = pca_loan.fit_transform(x_train)"
   ]
  },
  {
   "cell_type": "markdown",
   "metadata": {},
   "source": [
    "#### Perform oversampling on train data"
   ]
  },
  {
   "cell_type": "code",
   "execution_count": 80,
   "metadata": {
    "scrolled": true
   },
   "outputs": [
    {
     "data": {
      "text/plain": [
       "<matplotlib.axes._subplots.AxesSubplot at 0x23b6be6ecf8>"
      ]
     },
     "execution_count": 80,
     "metadata": {},
     "output_type": "execute_result"
    },
    {
     "data": {
      "image/png": "[encoded data removed]",
      "text/plain": [
       "<Figure size 432x288 with 1 Axes>"
      ]
     },
     "metadata": {
      "needs_background": "light"
     },
     "output_type": "display_data"
    }
   ],
   "source": [
    "oversampler = SMOTE()\n",
    "x_train, y_train = oversampler.fit_resample(x_train, y_train)\n",
    "\n",
    "sns.countplot(x = y_train, palette = 'muted')"
   ]
  },
  {
   "cell_type": "markdown",
   "metadata": {},
   "source": [
    "#### Applying xgboost model"
   ]
  },
  {
   "cell_type": "code",
   "execution_count": 81,
   "metadata": {},
   "outputs": [
    {
     "name": "stdout",
     "output_type": "stream",
     "text": [
      "[[32143 12154]\n",
      " [ 3346  2757]]\n"
     ]
    }
   ],
   "source": [
    "dtree = tree.DecisionTreeClassifier(min_samples_leaf=12 ,random_state=69)\n",
    "\n",
    "dtree.fit(x_train, y_train)\n",
    "x_test = data_preprocessing(x_test, y_test)\n",
    "#x_test = pca_loan.fit_transform(x_test)\n",
    "y_pred = dtree.predict(x_test)\n",
    "cm = confusion_matrix(y_test, y_pred)\n",
    "print(cm)"
   ]
  },
  {
   "cell_type": "code",
   "execution_count": 82,
   "metadata": {},
   "outputs": [
    {
     "name": "stdout",
     "output_type": "stream",
     "text": [
      "-------------------------TEST SCORES-----------------------  \n",
      "Recall: 0.45174504342126826  \n",
      "AUC Score: 0.5886849017815192  \n",
      "Fbeta: 0.3505581974925616  \n",
      "Precision: 0.1848970558647978  \n",
      "F1-Score: 0.26239649757304656  \n",
      "Accuracy score: 0.6924603174603174  \n"
     ]
    }
   ],
   "source": [
    "print(\"-------------------------TEST SCORES-----------------------  \")\n",
    "print(f\"Recall: {recall_score(y_test, y_pred)}  \")\n",
    "print(f\"AUC Score: {roc_auc_score(y_test, y_pred)}  \")\n",
    "print(\"Fbeta:\",((5*precision_score(y_test, y_pred)*recall_score(y_test, y_pred))/\n",
    "                 (4*precision_score(y_test, y_pred)+recall_score(y_test, y_pred))),\" \")\n",
    "print(f\"Precision: {precision_score(y_test, y_pred)}  \")\n",
    "print(f\"F1-Score: {f1_score(y_test, y_pred)}  \")\n",
    "print(f\"Accuracy score: {accuracy_score(y_test, y_pred)}  \")"
   ]
  },
  {
   "cell_type": "markdown",
   "metadata": {},
   "source": [
    "Real shit, 6 tests\n",
    "\n",
    "control, no pca, no chisq, no smote  \n",
    "-------------------------TEST SCORES-----------------------  \n",
    "Recall: 0.2523349172538096  \n",
    "AUC Score: 0.5191624695757275  \n",
    "Fbeta: 0.21731767893429665  \n",
    "Precision: 0.1397459165154265  \n",
    "F1-Score: 0.17987502190036794  \n",
    "Accuracy score: 0.7213690476190476  \n",
    "\n",
    "PCA and no SMote  \n",
    "-------------------------TEST SCORES-----------------------  \n",
    "Recall: 0.25102408651482877  \n",
    "AUC Score: 0.529997674338526  \n",
    "Fbeta: 0.22263558681625298  \n",
    "Precision: 0.15329197518511106  \n",
    "F1-Score: 0.19034602721003913  \n",
    "Accuracy score: 0.7414087301587302  \n",
    "\n",
    "PCA with smote  \n",
    "-------------------------TEST SCORES-----------------------  \n",
    "Recall: 0.24987710961822054  \n",
    "AUC Score: 0.4987900571681866  \n",
    "Fbeta: 0.20545361463638082  \n",
    "Precision: 0.12006928588300134  \n",
    "F1-Score: 0.162199532014465  \n",
    "Accuracy score: 0.6874206349206349  \n",
    "\n",
    "CHIsq no smote  \n",
    "-------------------------TEST SCORES-----------------------  \n",
    "Recall: 0.2742913321317385  \n",
    "AUC Score: 0.5577836325195794  \n",
    "Fbeta: 0.25274028444605495  \n",
    "Precision: 0.192303273980471  \n",
    "F1-Score: 0.22609400324149112  \n",
    "Accuracy score: 0.7726190476190476  \n",
    "\n",
    "Chi sq with smote  \n",
    "-------------------------TEST SCORES-----------------------  \n",
    "Recall: 0.45174504342126826  \n",
    "AUC Score: 0.5886849017815192  \n",
    "Fbeta: 0.3505581974925616  \n",
    "Precision: 0.1848970558647978  \n",
    "F1-Score: 0.26239649757304656  \n",
    "Accuracy score: 0.6924603174603174  \n",
    "\n",
    "both no smote\n",
    "-------------------------TEST SCORES-----------------------  \n",
    "Recall: 0.3201704079960675  \n",
    "AUC Score: 0.5094542357609071  \n",
    "Fbeta: 0.2460275490418272  \n",
    "Precision: 0.1277207660631414  \n",
    "F1-Score: 0.1825997570320531  \n",
    "Accuracy score: 0.6528968253968254  \n",
    "\n",
    "Both with smote \n",
    "-------------------------TEST SCORES-----------------------  \n",
    "Recall: 0.3650663608061609  \n",
    "AUC Score: 0.5030402124820023  \n",
    "Fbeta: 0.2618588688825161  \n",
    "Precision: 0.12289023717595146  \n",
    "F1-Score: 0.18388148392687656  \n",
    "Accuracy score: 0.6075992063492064  \n",
    "\n"
   ]
  },
  {
   "cell_type": "markdown",
   "metadata": {},
   "source": [
    "TRIAL\n",
    "\n",
    "first round : 12 levels, jons datapreproc, scaling of numerics\\\n",
    "-------------------------TEST SCORES-----------------------\\\n",
    "Recall: 0.2890381779452728\\\n",
    "Precision: 0.1267332423306272\\\n",
    "F1-Score: 0.1762061732094696\\\n",
    "Accuracy score: 0.6727380952380952\\\n",
    "AUC Score: 0.5073201815974191\\\n",
    "\n",
    "12 levels, jons datapreproc, no more scaling\\\n",
    "-------------------------TEST SCORES-----------------------\\\n",
    "Recall: 0.2890381779452728\\\n",
    "Precision: 0.1267332423306272\\\n",
    "F1-Score: 0.1762061732094696\\\n",
    "Accuracy score: 0.6727380952380952\\\n",
    "AUC Score: 0.5073201815974191\\\n",
    "\n",
    "12 levels, jons datapreproc, no more scaling, no more \"handle_unknown='ignore'\\\n",
    "-------------------------TEST SCORES-----------------------\\\n",
    "Recall: 0.35720137637227595\\\n",
    "Precision: 0.13993195968932537\\\n",
    "F1-Score: 0.201088460474126\\\n",
    "Accuracy score: 0.6563095238095238\\\n",
    "AUC Score: 0.5273601978594793\\\n",
    "\n",
    "12 levels, jons datapreproc, no more scaling,\\\n",
    "-------------------------TEST SCORES-----------------------\\\n",
    "Recall: 0.34065213829264296\\\n",
    "Precision: 0.14486795345272108\\\n",
    "F1-Score: 0.20328542094455854\\\n",
    "Accuracy score: 0.6766666666666666\\\n",
    "AUC Score: 0.5318065305771182\\"
   ]
  },
  {
   "cell_type": "code",
   "execution_count": null,
   "metadata": {},
   "outputs": [],
   "source": []
  }
 ],
 "metadata": {
  "kernelspec": {
   "display_name": "Python 3",
   "language": "python",
   "name": "python3"
  },
  "language_info": {
   "codemirror_mode": {
    "name": "ipython",
    "version": 3
   },
   "file_extension": ".py",
   "mimetype": "text/x-python",
   "name": "python",
   "nbconvert_exporter": "python",
   "pygments_lexer": "ipython3",
   "version": "3.7.3"
  }
 },
 "nbformat": 4,
 "nbformat_minor": 5
}
