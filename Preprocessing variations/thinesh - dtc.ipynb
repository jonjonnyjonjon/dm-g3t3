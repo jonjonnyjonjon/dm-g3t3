{
 "cells": [
  {
   "cell_type": "markdown",
   "metadata": {},
   "source": [
    "<h1>Importing Libraries</h1>"
   ]
  },
  {
   "cell_type": "code",
   "execution_count": 26,
   "metadata": {},
   "outputs": [],
   "source": [
    "import pandas as pd\n",
    "import numpy as np\n",
    "import seaborn as sns\n",
    "import matplotlib.pyplot as plt\n",
    "\n",
    "%matplotlib inline\n",
    "\n",
    "from sklearn.preprocessing import LabelEncoder\n",
    "from sklearn.preprocessing import OneHotEncoder\n",
    "from sklearn.preprocessing import StandardScaler\n",
    "from category_encoders import TargetEncoder\n",
    "\n",
    "from sklearn.decomposition import PCA\n",
    "from sklearn.feature_selection import chi2\n",
    "\n",
    "from sklearn.model_selection import train_test_split, GridSearchCV\n",
    "from imblearn.over_sampling import SMOTE\n",
    "\n",
    "from sklearn.metrics import confusion_matrix, precision_score, recall_score, f1_score, accuracy_score, roc_auc_score"
   ]
  },
  {
   "cell_type": "markdown",
   "metadata": {},
   "source": [
    "# Reading file and tidying"
   ]
  },
  {
   "cell_type": "markdown",
   "metadata": {},
   "source": [
    "#### Reading csv file"
   ]
  },
  {
   "cell_type": "code",
   "execution_count": 2,
   "metadata": {
    "scrolled": true
   },
   "outputs": [],
   "source": [
    "df = pd.read_csv(\"loanprediction.csv\")\n",
    "df.drop(\"Id\", axis=1, inplace=True)\n",
    "df.columns = [\"income\", \"age\", \"experience\", \"marital_status\", \"house_ownership\", \"car_ownership\", \"profession\", \"city\", \"state\", \"current_job_years\", \"current_house_years\", \"risk_flag\"]\n",
    "numerical_cols = [\"income\", \"age\", \"experience\", \"current_job_years\", \"current_house_years\"]"
   ]
  },
  {
   "cell_type": "markdown",
   "metadata": {},
   "source": [
    "#### Drop column(s)"
   ]
  },
  {
   "cell_type": "code",
   "execution_count": 3,
   "metadata": {
    "scrolled": true
   },
   "outputs": [],
   "source": [
    "#df.drop(\"Id\", axis=1, inplace=True)\n",
    "# df.drop(\"state\", axis=1)\n",
    "# df.drop(\"city\", axis=1)"
   ]
  },
  {
   "cell_type": "markdown",
   "metadata": {},
   "source": [
    "#### Renaming columns"
   ]
  },
  {
   "cell_type": "code",
   "execution_count": 4,
   "metadata": {
    "scrolled": false
   },
   "outputs": [
    {
     "data": {
      "text/html": [
       "<div>\n",
       "<style scoped>\n",
       "    .dataframe tbody tr th:only-of-type {\n",
       "        vertical-align: middle;\n",
       "    }\n",
       "\n",
       "    .dataframe tbody tr th {\n",
       "        vertical-align: top;\n",
       "    }\n",
       "\n",
       "    .dataframe thead th {\n",
       "        text-align: right;\n",
       "    }\n",
       "</style>\n",
       "<table border=\"1\" class=\"dataframe\">\n",
       "  <thead>\n",
       "    <tr style=\"text-align: right;\">\n",
       "      <th></th>\n",
       "      <th>income</th>\n",
       "      <th>age</th>\n",
       "      <th>experience</th>\n",
       "      <th>marital_status</th>\n",
       "      <th>house_ownership</th>\n",
       "      <th>car_ownership</th>\n",
       "      <th>profession</th>\n",
       "      <th>city</th>\n",
       "      <th>state</th>\n",
       "      <th>current_job_years</th>\n",
       "      <th>current_house_years</th>\n",
       "      <th>risk_flag</th>\n",
       "    </tr>\n",
       "  </thead>\n",
       "  <tbody>\n",
       "    <tr>\n",
       "      <th>0</th>\n",
       "      <td>1303834</td>\n",
       "      <td>23</td>\n",
       "      <td>3</td>\n",
       "      <td>single</td>\n",
       "      <td>rented</td>\n",
       "      <td>no</td>\n",
       "      <td>Mechanical_engineer</td>\n",
       "      <td>Rewa</td>\n",
       "      <td>Madhya_Pradesh</td>\n",
       "      <td>3</td>\n",
       "      <td>13</td>\n",
       "      <td>0</td>\n",
       "    </tr>\n",
       "    <tr>\n",
       "      <th>1</th>\n",
       "      <td>7574516</td>\n",
       "      <td>40</td>\n",
       "      <td>10</td>\n",
       "      <td>single</td>\n",
       "      <td>rented</td>\n",
       "      <td>no</td>\n",
       "      <td>Software_Developer</td>\n",
       "      <td>Parbhani</td>\n",
       "      <td>Maharashtra</td>\n",
       "      <td>9</td>\n",
       "      <td>13</td>\n",
       "      <td>0</td>\n",
       "    </tr>\n",
       "    <tr>\n",
       "      <th>2</th>\n",
       "      <td>3991815</td>\n",
       "      <td>66</td>\n",
       "      <td>4</td>\n",
       "      <td>married</td>\n",
       "      <td>rented</td>\n",
       "      <td>no</td>\n",
       "      <td>Technical_writer</td>\n",
       "      <td>Alappuzha</td>\n",
       "      <td>Kerala</td>\n",
       "      <td>4</td>\n",
       "      <td>10</td>\n",
       "      <td>0</td>\n",
       "    </tr>\n",
       "    <tr>\n",
       "      <th>3</th>\n",
       "      <td>6256451</td>\n",
       "      <td>41</td>\n",
       "      <td>2</td>\n",
       "      <td>single</td>\n",
       "      <td>rented</td>\n",
       "      <td>yes</td>\n",
       "      <td>Software_Developer</td>\n",
       "      <td>Bhubaneswar</td>\n",
       "      <td>Odisha</td>\n",
       "      <td>2</td>\n",
       "      <td>12</td>\n",
       "      <td>1</td>\n",
       "    </tr>\n",
       "    <tr>\n",
       "      <th>4</th>\n",
       "      <td>5768871</td>\n",
       "      <td>47</td>\n",
       "      <td>11</td>\n",
       "      <td>single</td>\n",
       "      <td>rented</td>\n",
       "      <td>no</td>\n",
       "      <td>Civil_servant</td>\n",
       "      <td>Tiruchirappalli[10]</td>\n",
       "      <td>Tamil_Nadu</td>\n",
       "      <td>3</td>\n",
       "      <td>14</td>\n",
       "      <td>1</td>\n",
       "    </tr>\n",
       "  </tbody>\n",
       "</table>\n",
       "</div>"
      ],
      "text/plain": [
       "    income  age  experience marital_status house_ownership car_ownership  \\\n",
       "0  1303834   23           3         single          rented            no   \n",
       "1  7574516   40          10         single          rented            no   \n",
       "2  3991815   66           4        married          rented            no   \n",
       "3  6256451   41           2         single          rented           yes   \n",
       "4  5768871   47          11         single          rented            no   \n",
       "\n",
       "            profession                 city           state  \\\n",
       "0  Mechanical_engineer                 Rewa  Madhya_Pradesh   \n",
       "1   Software_Developer             Parbhani     Maharashtra   \n",
       "2     Technical_writer            Alappuzha          Kerala   \n",
       "3   Software_Developer          Bhubaneswar          Odisha   \n",
       "4        Civil_servant  Tiruchirappalli[10]      Tamil_Nadu   \n",
       "\n",
       "   current_job_years  current_house_years  risk_flag  \n",
       "0                  3                   13          0  \n",
       "1                  9                   13          0  \n",
       "2                  4                   10          0  \n",
       "3                  2                   12          1  \n",
       "4                  3                   14          1  "
      ]
     },
     "execution_count": 4,
     "metadata": {},
     "output_type": "execute_result"
    }
   ],
   "source": [
    "df.columns = [\"income\", \"age\", \"experience\", \"marital_status\", \"house_ownership\", \"car_ownership\", \"profession\", \"city\", \"state\", \"current_job_years\", \"current_house_years\", \"risk_flag\"]\n",
    "df.head()"
   ]
  },
  {
   "cell_type": "markdown",
   "metadata": {},
   "source": [
    "#### Check the number of unique category for each categorical column"
   ]
  },
  {
   "cell_type": "code",
   "execution_count": 5,
   "metadata": {},
   "outputs": [],
   "source": [
    "cat_cols = [\"marital_status\", \"house_ownership\", \"car_ownership\", \"profession\", \"city\", \"state\"]\n",
    "\n",
    "# technology - Web_designer, Software_Developer, , Computer_operator, Technology_specialist\n",
    "# medical - Physician, Microbiologist, Dentist, Surgeon, Psychologist\n",
    "# analyst - Financial_Analyst, Analyst\n",
    "# engineer - Computer_hardware_engineer, Industrial_Engineer, Mechanical_engineer, Chemical_engineer, Biomedical_Engineer, Petroleum_Engineer, Design_Engineer, Civil_engineer, Engineer, Technician\n",
    "# aviation - Flight_attendant, Air_traffic_controller, Aviator\n",
    "# government - Civil_servant, Official, Politician, Army_officer, Police_officer\n",
    "# designer - Designer, Graphic_Designer, Fashion_Designer\n",
    "# court - Magistrate, Lawyer\n",
    "# architectural - Architect, Drafter\n",
    "\n",
    "\n",
    "# 'Technical_writer',\n",
    "# 'Librarian', 'Economist', \n",
    "# 'Artist', 'Surveyor', \n",
    "# 'Hotel_Manager', 'Comedian', 'Secretary', \n",
    "# 'Chartered_Accountant', 'Firefighter', \n",
    "# 'Geologist','Statistician', '\n",
    "# 'Consultant', 'Chef', 'Scientist'"
   ]
  },
  {
   "cell_type": "markdown",
   "metadata": {},
   "source": [
    "# Encoding categorical columns"
   ]
  },
  {
   "cell_type": "markdown",
   "metadata": {},
   "source": [
    "#### Label encoding categorical columns with 2 types of categories"
   ]
  },
  {
   "cell_type": "code",
   "execution_count": 6,
   "metadata": {
    "scrolled": false
   },
   "outputs": [],
   "source": [
    "label_enc = LabelEncoder()\n",
    "df[\"marital_status\"] = label_enc.fit_transform(df[\"marital_status\"])\n",
    "df[\"car_ownership\"] = label_enc.fit_transform(df[\"car_ownership\"])"
   ]
  },
  {
   "cell_type": "markdown",
   "metadata": {},
   "source": [
    "#### One Hot Encoding `house_ownership` column & Combining back to dataframe"
   ]
  },
  {
   "cell_type": "code",
   "execution_count": 7,
   "metadata": {},
   "outputs": [],
   "source": [
    "onehot_enc = OneHotEncoder()\n",
    "house_ownership_reshape = np.array(df[\"house_ownership\"]).reshape(-1, 1)\n",
    "house_ownership_values = onehot_enc.fit_transform(house_ownership_reshape).toarray().astype(int)\n",
    "house_ownership_labels = np.array([\"norent_noown\", \"owned\", \"rented\"]).ravel()\n",
    "house_ownership_df = pd.DataFrame(house_ownership_values, columns=house_ownership_labels)\n",
    "\n",
    "df = df.join(house_ownership_df[\"norent_noown\"])\n",
    "df = df.join(house_ownership_df[\"owned\"])\n",
    "df = df.join(house_ownership_df[\"rented\"])\n",
    "\n",
    "df.drop(\"house_ownership\", axis=1, inplace=True)"
   ]
  },
  {
   "cell_type": "code",
   "execution_count": 8,
   "metadata": {},
   "outputs": [
    {
     "name": "stdout",
     "output_type": "stream",
     "text": [
      "<class 'pandas.core.frame.DataFrame'>\n",
      "RangeIndex: 252000 entries, 0 to 251999\n",
      "Data columns (total 14 columns):\n",
      "income                 252000 non-null int64\n",
      "age                    252000 non-null int64\n",
      "experience             252000 non-null int64\n",
      "marital_status         252000 non-null int32\n",
      "car_ownership          252000 non-null int32\n",
      "profession             252000 non-null object\n",
      "city                   252000 non-null object\n",
      "state                  252000 non-null object\n",
      "current_job_years      252000 non-null int64\n",
      "current_house_years    252000 non-null int64\n",
      "risk_flag              252000 non-null int64\n",
      "norent_noown           252000 non-null int32\n",
      "owned                  252000 non-null int32\n",
      "rented                 252000 non-null int32\n",
      "dtypes: int32(5), int64(6), object(3)\n",
      "memory usage: 22.1+ MB\n"
     ]
    }
   ],
   "source": [
    "df.info()"
   ]
  },
  {
   "cell_type": "markdown",
   "metadata": {},
   "source": [
    "#### Target Encoding the high cardinality categorical columns: `profession`, `city`, `state`"
   ]
  },
  {
   "cell_type": "code",
   "execution_count": 9,
   "metadata": {},
   "outputs": [],
   "source": [
    "# https://medium.com/analytics-vidhya/target-encoding-vs-one-hot-encoding-with-simple-examples-276a7e7b3e64\n",
    "target_enc = TargetEncoder()\n",
    "df[\"profession_encoded\"] = target_enc.fit_transform(df[\"profession\"], df[\"risk_flag\"])"
   ]
  },
  {
   "cell_type": "code",
   "execution_count": 10,
   "metadata": {},
   "outputs": [],
   "source": [
    "target_enc = TargetEncoder()\n",
    "df[\"city_encoded\"] = target_enc.fit_transform(df[\"city\"], df[\"risk_flag\"])"
   ]
  },
  {
   "cell_type": "code",
   "execution_count": 11,
   "metadata": {},
   "outputs": [],
   "source": [
    "target_enc = TargetEncoder()\n",
    "df[\"state_encoded\"] = target_enc.fit_transform(df[\"state\"], df[\"risk_flag\"])\n",
    "\n",
    "df.drop(\"profession\", axis=1, inplace=True)\n",
    "df.drop(\"city\", axis=1, inplace=True)\n",
    "df.drop(\"state\", axis=1, inplace=True)"
   ]
  },
  {
   "cell_type": "markdown",
   "metadata": {},
   "source": [
    "#### Defining x and y (target) variables"
   ]
  },
  {
   "cell_type": "code",
   "execution_count": 12,
   "metadata": {},
   "outputs": [
    {
     "data": {
      "text/html": [
       "<div>\n",
       "<style scoped>\n",
       "    .dataframe tbody tr th:only-of-type {\n",
       "        vertical-align: middle;\n",
       "    }\n",
       "\n",
       "    .dataframe tbody tr th {\n",
       "        vertical-align: top;\n",
       "    }\n",
       "\n",
       "    .dataframe thead th {\n",
       "        text-align: right;\n",
       "    }\n",
       "</style>\n",
       "<table border=\"1\" class=\"dataframe\">\n",
       "  <thead>\n",
       "    <tr style=\"text-align: right;\">\n",
       "      <th></th>\n",
       "      <th>income</th>\n",
       "      <th>age</th>\n",
       "      <th>experience</th>\n",
       "      <th>marital_status</th>\n",
       "      <th>car_ownership</th>\n",
       "      <th>current_job_years</th>\n",
       "      <th>current_house_years</th>\n",
       "      <th>norent_noown</th>\n",
       "      <th>owned</th>\n",
       "      <th>rented</th>\n",
       "      <th>profession_encoded</th>\n",
       "      <th>city_encoded</th>\n",
       "      <th>state_encoded</th>\n",
       "    </tr>\n",
       "  </thead>\n",
       "  <tbody>\n",
       "    <tr>\n",
       "      <th>0</th>\n",
       "      <td>1303834</td>\n",
       "      <td>23</td>\n",
       "      <td>3</td>\n",
       "      <td>1</td>\n",
       "      <td>0</td>\n",
       "      <td>3</td>\n",
       "      <td>13</td>\n",
       "      <td>0</td>\n",
       "      <td>0</td>\n",
       "      <td>1</td>\n",
       "      <td>0.111558</td>\n",
       "      <td>0.121554</td>\n",
       "      <td>0.154369</td>\n",
       "    </tr>\n",
       "    <tr>\n",
       "      <th>1</th>\n",
       "      <td>7574516</td>\n",
       "      <td>40</td>\n",
       "      <td>10</td>\n",
       "      <td>1</td>\n",
       "      <td>0</td>\n",
       "      <td>9</td>\n",
       "      <td>13</td>\n",
       "      <td>0</td>\n",
       "      <td>0</td>\n",
       "      <td>1</td>\n",
       "      <td>0.148427</td>\n",
       "      <td>0.122497</td>\n",
       "      <td>0.113254</td>\n",
       "    </tr>\n",
       "    <tr>\n",
       "      <th>2</th>\n",
       "      <td>3991815</td>\n",
       "      <td>66</td>\n",
       "      <td>4</td>\n",
       "      <td>0</td>\n",
       "      <td>0</td>\n",
       "      <td>4</td>\n",
       "      <td>10</td>\n",
       "      <td>0</td>\n",
       "      <td>0</td>\n",
       "      <td>1</td>\n",
       "      <td>0.134167</td>\n",
       "      <td>0.130814</td>\n",
       "      <td>0.167097</td>\n",
       "    </tr>\n",
       "    <tr>\n",
       "      <th>3</th>\n",
       "      <td>6256451</td>\n",
       "      <td>41</td>\n",
       "      <td>2</td>\n",
       "      <td>1</td>\n",
       "      <td>1</td>\n",
       "      <td>2</td>\n",
       "      <td>12</td>\n",
       "      <td>0</td>\n",
       "      <td>0</td>\n",
       "      <td>1</td>\n",
       "      <td>0.148427</td>\n",
       "      <td>0.326194</td>\n",
       "      <td>0.142550</td>\n",
       "    </tr>\n",
       "    <tr>\n",
       "      <th>4</th>\n",
       "      <td>5768871</td>\n",
       "      <td>47</td>\n",
       "      <td>11</td>\n",
       "      <td>1</td>\n",
       "      <td>0</td>\n",
       "      <td>3</td>\n",
       "      <td>14</td>\n",
       "      <td>0</td>\n",
       "      <td>0</td>\n",
       "      <td>1</td>\n",
       "      <td>0.115794</td>\n",
       "      <td>0.121137</td>\n",
       "      <td>0.103163</td>\n",
       "    </tr>\n",
       "  </tbody>\n",
       "</table>\n",
       "</div>"
      ],
      "text/plain": [
       "    income  age  experience  marital_status  car_ownership  current_job_years  \\\n",
       "0  1303834   23           3               1              0                  3   \n",
       "1  7574516   40          10               1              0                  9   \n",
       "2  3991815   66           4               0              0                  4   \n",
       "3  6256451   41           2               1              1                  2   \n",
       "4  5768871   47          11               1              0                  3   \n",
       "\n",
       "   current_house_years  norent_noown  owned  rented  profession_encoded  \\\n",
       "0                   13             0      0       1            0.111558   \n",
       "1                   13             0      0       1            0.148427   \n",
       "2                   10             0      0       1            0.134167   \n",
       "3                   12             0      0       1            0.148427   \n",
       "4                   14             0      0       1            0.115794   \n",
       "\n",
       "   city_encoded  state_encoded  \n",
       "0      0.121554       0.154369  \n",
       "1      0.122497       0.113254  \n",
       "2      0.130814       0.167097  \n",
       "3      0.326194       0.142550  \n",
       "4      0.121137       0.103163  "
      ]
     },
     "execution_count": 12,
     "metadata": {},
     "output_type": "execute_result"
    }
   ],
   "source": [
    "y = df[\"risk_flag\"]\n",
    "x = df.drop(\"risk_flag\", axis=1)\n",
    "x.head()"
   ]
  },
  {
   "cell_type": "markdown",
   "metadata": {},
   "source": [
    "#### Perform Chi-Square for feature selection\n",
    "H0 :- There is no relationship between categorical feature and target variable\\\n",
    "H1 :- There is some relationship between categorical feature and target variable\\\n",
    "If p-value ≥0.05, the null hypothesis is not rejected and there is no any relationship between target variable and categorical features."
   ]
  },
  {
   "cell_type": "code",
   "execution_count": 13,
   "metadata": {},
   "outputs": [
    {
     "data": {
      "image/png": "[encoded data removed]",
      "text/plain": [
       "<Figure size 432x288 with 1 Axes>"
      ]
     },
     "metadata": {
      "needs_background": "light"
     },
     "output_type": "display_data"
    }
   ],
   "source": [
    "# https://medium.com/analytics-vidhya/categorical-feature-selection-using-chi-squared-test-e4c0d0af6b7e\n",
    "# https://towardsdatascience.com/using-the-chi-squared-test-for-feature-selection-with-implementation-b15a4dad93f1\n",
    "\n",
    "# Standardisation gives negative values, chi-square does not allow negative values\n",
    "\n",
    "chi_scores = chi2(x,y)\n",
    "p_values = pd.Series(chi_scores[1],index = x.columns)\n",
    "p_values.sort_values(ascending = False , inplace = True)\n",
    "p_values.plot.bar()\n",
    "\n",
    "# # conclusion: current_house_years, profession_encoded, state_encoded have no relationship with target variable\n",
    "x = x.drop([\"current_house_years\", \"profession_encoded\", \"state_encoded\"], axis=1)"
   ]
  },
  {
   "cell_type": "markdown",
   "metadata": {},
   "source": [
    "#### Standardising columns"
   ]
  },
  {
   "cell_type": "code",
   "execution_count": 14,
   "metadata": {},
   "outputs": [],
   "source": [
    "# # Scale all except columns which are one-hot encoded and label encoded\n",
    "\n",
    "# # With Chi-Square\n",
    "# to_scale = [\"income\", \"age\", \"experience\", \"current_job_years\", \"city_encoded\"]\n",
    "# no_scale = [\"marital_status\", \"car_ownership\", \"norent_noown\", \"owned\", \"rented\"]\n",
    "\n",
    "# # Without Chi-Square\n",
    "# # to_scale = [\"income\", \"age\", \"experience\", \"current_job_years\", \"current_house_years\", \"profession_encoded\", \"city_encoded\", \"state_encoded\"]\n",
    "# # no_scale = [\"marital_status\", \"car_ownership\", \"norent_noown\", \"owned\", \"rented\"]\n",
    "\n",
    "# scaler = StandardScaler()\n",
    "# scaled = scaler.fit_transform(x[to_scale])\n",
    "# scaled_df = pd.DataFrame(data=scaled, columns=to_scale)\n",
    "\n",
    "# for col in to_scale:\n",
    "#     x[col] = scaled_df[col]\n",
    "    \n",
    "# x.head()"
   ]
  },
  {
   "cell_type": "markdown",
   "metadata": {},
   "source": [
    "# Preparing for modelling"
   ]
  },
  {
   "cell_type": "markdown",
   "metadata": {},
   "source": [
    "#### Splitting the dataset into train and test sets"
   ]
  },
  {
   "cell_type": "code",
   "execution_count": 15,
   "metadata": {},
   "outputs": [],
   "source": [
    "x_train, x_test, y_train, y_test = train_test_split(x, y, test_size = 0.2, random_state = 69)"
   ]
  },
  {
   "cell_type": "markdown",
   "metadata": {},
   "source": [
    "#### Performing PCA"
   ]
  },
  {
   "cell_type": "code",
   "execution_count": 16,
   "metadata": {},
   "outputs": [],
   "source": [
    "# pca_loan = PCA()\n",
    "# x_train = pca_loan.fit_transform(x_train)\n",
    "# x_test = pca_loan.fit_transform(x_test)"
   ]
  },
  {
   "cell_type": "markdown",
   "metadata": {},
   "source": [
    "#### Perform oversampling on train data"
   ]
  },
  {
   "cell_type": "code",
   "execution_count": 17,
   "metadata": {
    "scrolled": true
   },
   "outputs": [
    {
     "data": {
      "text/plain": [
       "<matplotlib.axes._subplots.AxesSubplot at 0x2024efefa90>"
      ]
     },
     "execution_count": 17,
     "metadata": {},
     "output_type": "execute_result"
    },
    {
     "data": {
      "image/png": "[encoded data removed]",
      "text/plain": [
       "<Figure size 432x288 with 1 Axes>"
      ]
     },
     "metadata": {
      "needs_background": "light"
     },
     "output_type": "display_data"
    }
   ],
   "source": [
    "oversampler = SMOTE()\n",
    "x_train, y_train = oversampler.fit_resample(x_train, y_train)\n",
    "\n",
    "sns.countplot(x = y_train, palette = 'muted')"
   ]
  },
  {
   "cell_type": "markdown",
   "metadata": {},
   "source": [
    "#### Applying xgboost model"
   ]
  },
  {
   "cell_type": "code",
   "execution_count": 31,
   "metadata": {},
   "outputs": [],
   "source": [
    "dtree=tree.DecisionTreeClassifier()"
   ]
  },
  {
   "cell_type": "code",
   "execution_count": 32,
   "metadata": {},
   "outputs": [],
   "source": [
    "param_dict = {\n",
    "    \"criterion\":['gini','entropy'],\n",
    "    \"max_depth\":range(1,10),\n",
    "    \"min_samples_split\":range(2,10),\n",
    "    \"min_samples_leaf\": [5,10,12,15]\n",
    "}"
   ]
  },
  {
   "cell_type": "code",
   "execution_count": 34,
   "metadata": {},
   "outputs": [
    {
     "name": "stdout",
     "output_type": "stream",
     "text": [
      "Fitting 10 folds for each of 648 candidates, totalling 6480 fits\n"
     ]
    },
    {
     "name": "stderr",
     "output_type": "stream",
     "text": [
      "C:\\Users\\thine\\AppData\\Local\\Continuum\\anaconda3\\lib\\site-packages\\sklearn\\model_selection\\_search.py:921: UserWarning: One or more of the test scores are non-finite: [       nan 0.57888354 0.57888354 0.57888354 0.57888354 0.57888354\n",
      " 0.57888354 0.57888354 0.57888354        nan 0.57888354 0.57888354\n",
      " 0.57888354 0.57888354 0.57888354 0.57888354 0.57888354 0.57888354\n",
      "        nan 0.57888354 0.57888354 0.57888354 0.57888354 0.57888354\n",
      " 0.57888354 0.57888354 0.57888354        nan 0.57888354 0.57888354\n",
      " 0.57888354 0.57888354 0.57888354 0.57888354 0.57888354 0.57888354\n",
      "        nan 0.57888354 0.57888354 0.57888354 0.57888354 0.57888354\n",
      " 0.57888354 0.57888354 0.57888354        nan 0.57888354 0.57888354\n",
      " 0.57888354 0.57888354 0.57888354 0.57888354 0.57888354 0.57888354\n",
      "        nan 0.57888354 0.57888354 0.57888354 0.57888354 0.57888354\n",
      " 0.57888354 0.57888354 0.57888354        nan 0.57888354 0.57888354\n",
      " 0.57888354 0.57888354 0.57888354 0.57888354 0.57888354 0.57888354\n",
      "        nan 0.59850544 0.59850544 0.59850544 0.59850544 0.59850544\n",
      " 0.59850544 0.59850544 0.59850544        nan 0.59850544 0.59850544\n",
      " 0.59850544 0.59850544 0.59850544 0.59850544 0.59850544 0.59850544\n",
      "        nan 0.59850544 0.59850544 0.59850544 0.59850544 0.59850544\n",
      " 0.59850544 0.59850544 0.59850544        nan 0.59850544 0.59850544\n",
      " 0.59850544 0.59850544 0.59850544 0.59850544 0.59850544 0.59850544\n",
      "        nan 0.60619072 0.60619072 0.60619072 0.60619072 0.60619072\n",
      " 0.60619072 0.60619072 0.60619072        nan 0.60619072 0.60619072\n",
      " 0.60619072 0.60619072 0.60619072 0.60619072 0.60619072 0.60619072\n",
      "        nan 0.60619072 0.60619072 0.60619072 0.60619072 0.60619072\n",
      " 0.60619072 0.60619072 0.60619072        nan 0.60619072 0.60619072\n",
      " 0.60619072 0.60619072 0.60619072 0.60619072 0.60619072 0.60619072\n",
      "        nan 0.61538361 0.61538361 0.61538361 0.61538361 0.61538361\n",
      " 0.61538361 0.61538361 0.61538361        nan 0.61538361 0.61538361\n",
      " 0.61538361 0.61538361 0.61538361 0.61538361 0.61538361 0.61538361\n",
      "        nan 0.61538361 0.61538361 0.61538361 0.61538361 0.61538361\n",
      " 0.61538361 0.61538361 0.61538361        nan 0.61538361 0.61538361\n",
      " 0.61538361 0.61538361 0.61538361 0.61538361 0.61538361 0.61538361\n",
      "        nan 0.6266442  0.6266442  0.6266442  0.6266442  0.6266442\n",
      " 0.6266442  0.6266442  0.6266442         nan 0.6266442  0.6266442\n",
      " 0.6266442  0.6266442  0.6266442  0.6266442  0.6266442  0.6266442\n",
      "        nan 0.6266442  0.6266442  0.6266442  0.6266442  0.6266442\n",
      " 0.6266442  0.6266442  0.6266442         nan 0.62663855 0.62663855\n",
      " 0.62663855 0.62663855 0.62663855 0.62663855 0.62663855 0.62663855\n",
      "        nan 0.64176297 0.64175165 0.64175448 0.64176014 0.64176014\n",
      " 0.6417658  0.64175165 0.64175165        nan 0.64173468 0.64174034\n",
      " 0.64174034 0.64174034 0.64174882 0.64173468 0.641746   0.64174034\n",
      "        nan 0.641746   0.64176014 0.64176297 0.64176297 0.64175448\n",
      " 0.64175165 0.641746   0.64176297        nan 0.64171205 0.64171205\n",
      " 0.64170922 0.64170922 0.64170357 0.64171205 0.64170922 0.64171205\n",
      "        nan 0.6546896  0.6546896  0.65468394 0.65469243 0.65469243\n",
      " 0.6546896  0.65468394 0.65468677        nan 0.65465566 0.65465848\n",
      " 0.65464717 0.65466414 0.65465    0.65465283 0.65466414 0.65465566\n",
      "        nan 0.65465848 0.65465566 0.65466697 0.65466414 0.65465566\n",
      " 0.65466131 0.65465566 0.65466414        nan 0.65463586 0.65463586\n",
      " 0.6546302  0.65463303 0.65463303 0.6546302  0.65463586 0.65463586\n",
      "        nan 0.66980271 0.66979988 0.66982534 0.66981685 0.6698112\n",
      " 0.66981968 0.66981685 0.66981685        nan 0.66966694 0.66968108\n",
      " 0.66968957 0.66966411 0.66968391 0.66968108 0.66968108 0.66966977\n",
      "        nan 0.66966694 0.66967543 0.66967543 0.66968108 0.66968108\n",
      " 0.66966977 0.66966977 0.66967543        nan 0.66963582 0.66963582\n",
      " 0.66962734 0.66962734 0.66962734 0.66963582 0.66963017 0.66963017\n",
      "        nan 0.57888354 0.57888354 0.57888354 0.57888354 0.57888354\n",
      " 0.57888354 0.57888354 0.57888354        nan 0.57888354 0.57888354\n",
      " 0.57888354 0.57888354 0.57888354 0.57888354 0.57888354 0.57888354\n",
      "        nan 0.57888354 0.57888354 0.57888354 0.57888354 0.57888354\n",
      " 0.57888354 0.57888354 0.57888354        nan 0.57888354 0.57888354\n",
      " 0.57888354 0.57888354 0.57888354 0.57888354 0.57888354 0.57888354\n",
      "        nan 0.57888354 0.57888354 0.57888354 0.57888354 0.57888354\n",
      " 0.57888354 0.57888354 0.57888354        nan 0.57888354 0.57888354\n",
      " 0.57888354 0.57888354 0.57888354 0.57888354 0.57888354 0.57888354\n",
      "        nan 0.57888354 0.57888354 0.57888354 0.57888354 0.57888354\n",
      " 0.57888354 0.57888354 0.57888354        nan 0.57888354 0.57888354\n",
      " 0.57888354 0.57888354 0.57888354 0.57888354 0.57888354 0.57888354\n",
      "        nan 0.59850544 0.59850544 0.59850544 0.59850544 0.59850544\n",
      " 0.59850544 0.59850544 0.59850544        nan 0.59850544 0.59850544\n",
      " 0.59850544 0.59850544 0.59850544 0.59850544 0.59850544 0.59850544\n",
      "        nan 0.59850544 0.59850544 0.59850544 0.59850544 0.59850544\n",
      " 0.59850544 0.59850544 0.59850544        nan 0.59850544 0.59850544\n",
      " 0.59850544 0.59850544 0.59850544 0.59850544 0.59850544 0.59850544\n",
      "        nan 0.60585129 0.60585129 0.60585129 0.60585129 0.60585129\n",
      " 0.60585129 0.60585129 0.60585129        nan 0.60585129 0.60585129\n",
      " 0.60585129 0.60585129 0.60585129 0.60585129 0.60585129 0.60585129\n",
      "        nan 0.60585129 0.60585129 0.60585129 0.60585129 0.60585129\n",
      " 0.60585129 0.60585129 0.60585129        nan 0.60585129 0.60585129\n",
      " 0.60585129 0.60585129 0.60585129 0.60585129 0.60585129 0.60585129\n",
      "        nan 0.61406832 0.61406832 0.61406832 0.61406832 0.61406832\n",
      " 0.61406832 0.61406832 0.61406832        nan 0.61405417 0.61405417\n",
      " 0.61405417 0.61405417 0.61405417 0.61405417 0.61405417 0.61405417\n",
      "        nan 0.61405417 0.61405417 0.61405417 0.61405417 0.61405417\n",
      " 0.61405417 0.61405417 0.61405417        nan 0.61405417 0.61405417\n",
      " 0.61405417 0.61405417 0.61405417 0.61405417 0.61405417 0.61405417\n",
      "        nan 0.623677   0.623677   0.623677   0.623677   0.623677\n",
      " 0.623677   0.623677   0.623677          nan 0.6236572  0.6236572\n",
      " 0.6236572  0.6236572  0.6236572  0.6236572  0.6236572  0.6236572\n",
      "        nan 0.6236572  0.6236572  0.6236572  0.6236572  0.6236572\n",
      " 0.6236572  0.6236572  0.6236572         nan 0.6236572  0.6236572\n",
      " 0.6236572  0.6236572  0.6236572  0.6236572  0.6236572  0.6236572\n",
      "        nan 0.63858646 0.63858929 0.63858646 0.63858929 0.63858929\n",
      " 0.63858646 0.63858929 0.63858929        nan 0.63857797 0.63857797\n",
      " 0.6385808  0.6385808  0.63857797 0.63857797 0.63858363 0.63858363\n",
      "        nan 0.63860626 0.63860909 0.63860626 0.63860909 0.63860626\n",
      " 0.63860909 0.63860626 0.63860626        nan 0.63858929 0.63858929\n",
      " 0.63859212 0.63859212 0.63859212 0.63859212 0.63858929 0.63859212\n",
      "        nan 0.64953025 0.64953025 0.64953308 0.64953308 0.64952742\n",
      " 0.64953308 0.64953025 0.64953308        nan 0.64951045 0.64950196\n",
      " 0.64950196 0.64950479 0.64950479 0.64950479 0.64950479 0.64950196\n",
      "        nan 0.64952459 0.6495161  0.64951893 0.64952176 0.64952742\n",
      " 0.64952459 0.6495161  0.64952176        nan 0.64946519 0.64946802\n",
      " 0.64946802 0.64946802 0.64946802 0.64946802 0.64947085 0.64947368\n",
      "        nan 0.66291794 0.66292076 0.66291794 0.66290945 0.66291228\n",
      " 0.66292076 0.66292076 0.66291794        nan 0.66279065 0.66279065\n",
      " 0.66281045 0.66280196 0.66280479 0.66279065 0.66281045 0.66280196\n",
      "        nan 0.66283591 0.66280762 0.66281045 0.66281611 0.66281611\n",
      " 0.66281045 0.66280479 0.66280196        nan 0.66276236 0.66275954\n",
      " 0.66276802 0.66276802 0.66274822 0.66275105 0.66275105 0.66275388]\n",
      "  category=UserWarning\n"
     ]
    },
    {
     "data": {
      "text/plain": [
       "GridSearchCV(cv=10, estimator=DecisionTreeClassifier(), n_jobs=-1,\n",
       "             param_grid={'criterion': ['gini', 'entropy'],\n",
       "                         'max_depth': range(1, 10),\n",
       "                         'min_samples_leaf': [5, 10, 12, 15],\n",
       "                         'min_samples_split': range(1, 10)},\n",
       "             verbose=1)"
      ]
     },
     "execution_count": 34,
     "metadata": {},
     "output_type": "execute_result"
    }
   ],
   "source": [
    "grid = GridSearchCV(dtree,\n",
    "                  param_grid=param_dict,\n",
    "                  cv=10,\n",
    "                  verbose=1,\n",
    "                  n_jobs=-1,\n",
    "                    scoring= 'recall')\n",
    "grid.fit(x_train,y_train)"
   ]
  },
  {
   "cell_type": "code",
   "execution_count": 35,
   "metadata": {},
   "outputs": [
    {
     "data": {
      "text/plain": [
       "{'criterion': 'gini',\n",
       " 'max_depth': 9,\n",
       " 'min_samples_leaf': 5,\n",
       " 'min_samples_split': 4}"
      ]
     },
     "execution_count": 35,
     "metadata": {},
     "output_type": "execute_result"
    }
   ],
   "source": [
    "grid.best_params_"
   ]
  },
  {
   "cell_type": "code",
   "execution_count": 18,
   "metadata": {},
   "outputs": [],
   "source": [
    "# # # https://xgboost.readthedocs.io/en/latest/python/python_api.html#module-xgboost.sklearn\n",
    "# xgb = XGBClassifier(learning_rate=0.1,\n",
    "#                     n_estimators=1000,\n",
    "#                     use_label_encoder=False,\n",
    "#                     random_state=2021)\n",
    "\n",
    "# xgb.fit(x_train, y_train, eval_metric='logloss')\n",
    "# y_pred = xgb.predict(x_test)\n",
    "# cm = confusion_matrix(y_test, y_pred)\n",
    "# print(cm)"
   ]
  },
  {
   "cell_type": "code",
   "execution_count": 19,
   "metadata": {},
   "outputs": [],
   "source": [
    "from sklearn import tree\n",
    "depth = [3, 5, 8, 10]\n"
   ]
  },
  {
   "cell_type": "code",
   "execution_count": 20,
   "metadata": {},
   "outputs": [],
   "source": [
    "dtree1 = tree.DecisionTreeClassifier(min_samples_leaf=12 ,random_state=69)"
   ]
  },
  {
   "cell_type": "code",
   "execution_count": 21,
   "metadata": {},
   "outputs": [
    {
     "data": {
      "text/plain": [
       "DecisionTreeClassifier(min_samples_leaf=12, random_state=69)"
      ]
     },
     "execution_count": 21,
     "metadata": {},
     "output_type": "execute_result"
    }
   ],
   "source": [
    "dtree1.fit(x_train, y_train)"
   ]
  },
  {
   "cell_type": "code",
   "execution_count": 22,
   "metadata": {},
   "outputs": [
    {
     "name": "stdout",
     "output_type": "stream",
     "text": [
      "14227\n"
     ]
    }
   ],
   "source": [
    "n1_nodes = dtree1.tree_.node_count\n",
    "print(n1_nodes)"
   ]
  },
  {
   "cell_type": "code",
   "execution_count": 23,
   "metadata": {},
   "outputs": [],
   "source": [
    "y_pred = dtree1.predict(x_test)\n",
    "\n",
    "# print(cm)"
   ]
  },
  {
   "cell_type": "code",
   "execution_count": 24,
   "metadata": {},
   "outputs": [
    {
     "name": "stdout",
     "output_type": "stream",
     "text": [
      "[[38049  6188]\n",
      " [  802  5361]]\n"
     ]
    }
   ],
   "source": [
    "cm = confusion_matrix(y_test, y_pred)\n",
    "print(cm)"
   ]
  },
  {
   "cell_type": "code",
   "execution_count": 25,
   "metadata": {},
   "outputs": [
    {
     "name": "stdout",
     "output_type": "stream",
     "text": [
      "-------------------------TEST SCORES-----------------------\n",
      "Recall: 0.8698685705013792\n",
      "Precision: 0.464196034288683\n",
      "F1-Score: 0.6053523035230353\n",
      "Accuracy score: 0.8613095238095239\n",
      "AUC Score: 0.8649928335247589\n"
     ]
    }
   ],
   "source": [
    "print(\"-------------------------TEST SCORES-----------------------\")\n",
    "print(f\"Recall: {recall_score(y_test, y_pred)}\")\n",
    "print(f\"Precision: {precision_score(y_test, y_pred)}\")\n",
    "print(f\"F1-Score: {f1_score(y_test, y_pred)}\")\n",
    "print(f\"Accuracy score: {accuracy_score(y_test, y_pred)}\")\n",
    "print(f\"AUC Score: {roc_auc_score(y_test, y_pred)}\")"
   ]
  },
  {
   "cell_type": "markdown",
   "metadata": {},
   "source": [
    "#### smoted , 10 levels\n",
    "-------------------------TEST SCORES-----------------------\\\n",
    "Recall: 0.8466655849423982\\\n",
    "Precision: 0.4774453289413487\\\n",
    "F1-Score: 0.6105780482096888\\\n",
    "Accuracy score: 0.8679365079365079\\\n",
    "AUC Score: 0.8587827551721056\\\n",
    "\n",
    "#### smote 12 level\n",
    "-------------------------TEST SCORES-----------------------\\\n",
    "Recall: 0.8481259127048515\\\n",
    "Precision: 0.4717934831663508\\\n",
    "F1-Score: 0.606310172833778\\\n",
    "Accuracy score: 0.8653174603174603\\\n",
    "AUC Score: 0.857919230512066\\\n",
    "\n",
    "#### smote 12 level chi sq\n",
    "-------------------------TEST SCORES-----------------------\\\n",
    "Recall: 0.8650008112932014\\\n",
    "Precision: 0.46775467228217954\\\n",
    "F1-Score: 0.6071753986332574\\\n",
    "Accuracy score: 0.8631349206349206\\\n",
    "AUC Score: 0.8639378901053117\\\n",
    "\n",
    "#### smote 12 level chi sq with longjob\n",
    "-------------------------TEST SCORES-----------------------\\\n",
    "Recall: 0.8650008112932014\\\n",
    "Precision: 0.4648587373561214\\\n",
    "F1-Score: 0.6047303045771653\\\n",
    "Accuracy score: 0.8617261904761905\\\n",
    "AUC Score: 0.8631353944568726\\\n",
    "\n",
    "#### smote 12 level chi sq with longjob and job val\n",
    "-------------------------TEST SCORES-----------------------\\\n",
    "Recall: 0.8650008112932014\\\n",
    "Precision: 0.4648587373561214\\\n",
    "F1-Score: 0.6047303045771653\\\n",
    "Accuracy score: 0.8617261904761905\\\n",
    "AUC Score: 0.8631353944568726\\\n",
    "\n"
   ]
  },
  {
   "cell_type": "code",
   "execution_count": null,
   "metadata": {},
   "outputs": [],
   "source": []
  }
 ],
 "metadata": {
  "kernelspec": {
   "display_name": "Python 3",
   "language": "python",
   "name": "python3"
  },
  "language_info": {
   "codemirror_mode": {
    "name": "ipython",
    "version": 3
   },
   "file_extension": ".py",
   "mimetype": "text/x-python",
   "name": "python",
   "nbconvert_exporter": "python",
   "pygments_lexer": "ipython3",
   "version": "3.7.3"
  }
 },
 "nbformat": 4,
 "nbformat_minor": 5
}
