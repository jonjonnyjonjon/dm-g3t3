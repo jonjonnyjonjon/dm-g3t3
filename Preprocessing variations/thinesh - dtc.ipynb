{
 "cells": [
  {
   "cell_type": "markdown",
   "id": "b4afad8a",
   "metadata": {},
   "source": [
    "### EDIT LOG\n",
    "v1 \n",
    "- simple fitting into dataset first, did encoding, but wrong kinds\n",
    "- performed SMOTE on train data\n",
    "\n",
    "v2 \n",
    "- encoded categorical columns\n",
    "- grouped professions in the column due to high cardinality (will try with this new reduced cardinality)\n",
    "- try feature selection to reduce number of columns in next version (chi-square and info gain)\n",
    "\n",
    "v3\n",
    "- tried feature selection (pca and chi-square) but the eval metrics results turn out to be worse\n",
    "\n",
    "future\n",
    "- (wip, thoughts) finetune the xgboost parameters\n",
    "- include k-fold"
   ]
  },
  {
   "cell_type": "code",
<<<<<<< HEAD:thinesh - dtc.ipynb
   "execution_count": 2,
=======
   "execution_count": 1,
   "id": "c3a44346",
>>>>>>> d915bc4b76052cfdc3fed4ae4171873f3a6de852:Preprocessing variations/thinesh - dtc.ipynb
   "metadata": {},
   "outputs": [],
   "source": [
    "import pandas as pd\n",
    "import numpy as np\n",
    "import seaborn as sns\n",
    "import matplotlib.pyplot as plt\n",
    "\n",
    "%matplotlib inline\n",
    "\n",
    "from sklearn.preprocessing import LabelEncoder\n",
    "from sklearn.preprocessing import OneHotEncoder\n",
    "from sklearn.preprocessing import StandardScaler\n",
    "from category_encoders import TargetEncoder\n",
    "\n",
    "from sklearn.decomposition import PCA\n",
    "from sklearn.feature_selection import chi2\n",
    "\n",
    "from sklearn.model_selection import train_test_split\n",
    "from imblearn.over_sampling import SMOTE\n",
    "\n",
    "from sklearn.metrics import confusion_matrix, precision_score, recall_score, f1_score, accuracy_score, roc_auc_score"
   ]
  },
  {
   "cell_type": "markdown",
   "id": "4e04a8ff",
   "metadata": {},
   "source": [
    "# Reading file and tidying"
   ]
  },
  {
   "cell_type": "markdown",
   "id": "9c2253cf",
   "metadata": {},
   "source": [
    "#### Reading csv file"
   ]
  },
  {
   "cell_type": "code",
<<<<<<< HEAD:thinesh - dtc.ipynb
   "execution_count": 3,
=======
   "execution_count": 2,
   "id": "43c3d715",
>>>>>>> d915bc4b76052cfdc3fed4ae4171873f3a6de852:Preprocessing variations/thinesh - dtc.ipynb
   "metadata": {
    "scrolled": true
   },
   "outputs": [
    {
     "data": {
      "text/html": [
       "<div>\n",
       "<style scoped>\n",
       "    .dataframe tbody tr th:only-of-type {\n",
       "        vertical-align: middle;\n",
       "    }\n",
       "\n",
       "    .dataframe tbody tr th {\n",
       "        vertical-align: top;\n",
       "    }\n",
       "\n",
       "    .dataframe thead th {\n",
       "        text-align: right;\n",
       "    }\n",
       "</style>\n",
       "<table border=\"1\" class=\"dataframe\">\n",
       "  <thead>\n",
       "    <tr style=\"text-align: right;\">\n",
       "      <th></th>\n",
       "      <th>Id</th>\n",
       "      <th>Income</th>\n",
       "      <th>Age</th>\n",
       "      <th>Experience</th>\n",
       "      <th>Married/Single</th>\n",
       "      <th>House_Ownership</th>\n",
       "      <th>Car_Ownership</th>\n",
       "      <th>Profession</th>\n",
       "      <th>CITY</th>\n",
       "      <th>STATE</th>\n",
       "      <th>CURRENT_JOB_YRS</th>\n",
       "      <th>CURRENT_HOUSE_YRS</th>\n",
       "      <th>Risk_Flag</th>\n",
       "    </tr>\n",
       "  </thead>\n",
       "  <tbody>\n",
       "    <tr>\n",
       "      <th>0</th>\n",
       "      <td>1</td>\n",
       "      <td>1303834</td>\n",
       "      <td>23</td>\n",
       "      <td>3</td>\n",
       "      <td>single</td>\n",
       "      <td>rented</td>\n",
       "      <td>no</td>\n",
       "      <td>Mechanical_engineer</td>\n",
       "      <td>Rewa</td>\n",
       "      <td>Madhya_Pradesh</td>\n",
       "      <td>3</td>\n",
       "      <td>13</td>\n",
       "      <td>0</td>\n",
       "    </tr>\n",
       "    <tr>\n",
       "      <th>1</th>\n",
       "      <td>2</td>\n",
       "      <td>7574516</td>\n",
       "      <td>40</td>\n",
       "      <td>10</td>\n",
       "      <td>single</td>\n",
       "      <td>rented</td>\n",
       "      <td>no</td>\n",
       "      <td>Software_Developer</td>\n",
       "      <td>Parbhani</td>\n",
       "      <td>Maharashtra</td>\n",
       "      <td>9</td>\n",
       "      <td>13</td>\n",
       "      <td>0</td>\n",
       "    </tr>\n",
       "    <tr>\n",
       "      <th>2</th>\n",
       "      <td>3</td>\n",
       "      <td>3991815</td>\n",
       "      <td>66</td>\n",
       "      <td>4</td>\n",
       "      <td>married</td>\n",
       "      <td>rented</td>\n",
       "      <td>no</td>\n",
       "      <td>Technical_writer</td>\n",
       "      <td>Alappuzha</td>\n",
       "      <td>Kerala</td>\n",
       "      <td>4</td>\n",
       "      <td>10</td>\n",
       "      <td>0</td>\n",
       "    </tr>\n",
       "    <tr>\n",
       "      <th>3</th>\n",
       "      <td>4</td>\n",
       "      <td>6256451</td>\n",
       "      <td>41</td>\n",
       "      <td>2</td>\n",
       "      <td>single</td>\n",
       "      <td>rented</td>\n",
       "      <td>yes</td>\n",
       "      <td>Software_Developer</td>\n",
       "      <td>Bhubaneswar</td>\n",
       "      <td>Odisha</td>\n",
       "      <td>2</td>\n",
       "      <td>12</td>\n",
       "      <td>1</td>\n",
       "    </tr>\n",
       "    <tr>\n",
       "      <th>4</th>\n",
       "      <td>5</td>\n",
       "      <td>5768871</td>\n",
       "      <td>47</td>\n",
       "      <td>11</td>\n",
       "      <td>single</td>\n",
       "      <td>rented</td>\n",
       "      <td>no</td>\n",
       "      <td>Civil_servant</td>\n",
       "      <td>Tiruchirappalli[10]</td>\n",
       "      <td>Tamil_Nadu</td>\n",
       "      <td>3</td>\n",
       "      <td>14</td>\n",
       "      <td>1</td>\n",
       "    </tr>\n",
       "  </tbody>\n",
       "</table>\n",
       "</div>"
      ],
      "text/plain": [
       "   Id   Income  Age  Experience Married/Single House_Ownership Car_Ownership  \\\n",
       "0   1  1303834   23           3         single          rented            no   \n",
       "1   2  7574516   40          10         single          rented            no   \n",
       "2   3  3991815   66           4        married          rented            no   \n",
       "3   4  6256451   41           2         single          rented           yes   \n",
       "4   5  5768871   47          11         single          rented            no   \n",
       "\n",
       "            Profession                 CITY           STATE  CURRENT_JOB_YRS  \\\n",
       "0  Mechanical_engineer                 Rewa  Madhya_Pradesh                3   \n",
       "1   Software_Developer             Parbhani     Maharashtra                9   \n",
       "2     Technical_writer            Alappuzha          Kerala                4   \n",
       "3   Software_Developer          Bhubaneswar          Odisha                2   \n",
       "4        Civil_servant  Tiruchirappalli[10]      Tamil_Nadu                3   \n",
       "\n",
       "   CURRENT_HOUSE_YRS  Risk_Flag  \n",
       "0                 13          0  \n",
       "1                 13          0  \n",
       "2                 10          0  \n",
       "3                 12          1  \n",
       "4                 14          1  "
      ]
     },
<<<<<<< HEAD:thinesh - dtc.ipynb
     "execution_count": 3,
=======
     "execution_count": 2,
>>>>>>> d915bc4b76052cfdc3fed4ae4171873f3a6de852:Preprocessing variations/thinesh - dtc.ipynb
     "metadata": {},
     "output_type": "execute_result"
    }
   ],
   "source": [
    "df = pd.read_csv(\"../dataset/loanprediction.csv\")\n",
    "df.head()"
   ]
  },
  {
   "cell_type": "markdown",
   "id": "67b9f47b",
   "metadata": {},
   "source": [
    "#### Drop column(s)"
   ]
  },
  {
   "cell_type": "code",
<<<<<<< HEAD:thinesh - dtc.ipynb
   "execution_count": 4,
=======
   "execution_count": 30,
   "id": "c6e0da89",
>>>>>>> d915bc4b76052cfdc3fed4ae4171873f3a6de852:Preprocessing variations/thinesh - dtc.ipynb
   "metadata": {
    "scrolled": true
   },
   "outputs": [],
   "source": [
    "df.drop(\"Id\", axis=1, inplace=True)\n",
    "# df.drop(\"state\", axis=1)\n",
    "# df.drop(\"city\", axis=1)"
   ]
  },
  {
   "cell_type": "markdown",
   "id": "4469ad64",
   "metadata": {},
   "source": [
    "#### Renaming columns"
   ]
  },
  {
   "cell_type": "code",
<<<<<<< HEAD:thinesh - dtc.ipynb
   "execution_count": 5,
=======
   "execution_count": 31,
   "id": "54a9fe3d",
>>>>>>> d915bc4b76052cfdc3fed4ae4171873f3a6de852:Preprocessing variations/thinesh - dtc.ipynb
   "metadata": {
    "scrolled": false
   },
   "outputs": [
    {
     "data": {
      "text/html": [
       "<div>\n",
       "<style scoped>\n",
       "    .dataframe tbody tr th:only-of-type {\n",
       "        vertical-align: middle;\n",
       "    }\n",
       "\n",
       "    .dataframe tbody tr th {\n",
       "        vertical-align: top;\n",
       "    }\n",
       "\n",
       "    .dataframe thead th {\n",
       "        text-align: right;\n",
       "    }\n",
       "</style>\n",
       "<table border=\"1\" class=\"dataframe\">\n",
       "  <thead>\n",
       "    <tr style=\"text-align: right;\">\n",
       "      <th></th>\n",
       "      <th>income</th>\n",
       "      <th>age</th>\n",
       "      <th>experience</th>\n",
       "      <th>marital_status</th>\n",
       "      <th>house_ownership</th>\n",
       "      <th>car_ownership</th>\n",
       "      <th>profession</th>\n",
       "      <th>city</th>\n",
       "      <th>state</th>\n",
       "      <th>current_job_years</th>\n",
       "      <th>current_house_years</th>\n",
       "      <th>risk_flag</th>\n",
       "    </tr>\n",
       "  </thead>\n",
       "  <tbody>\n",
       "    <tr>\n",
       "      <th>0</th>\n",
       "      <td>1303834</td>\n",
       "      <td>23</td>\n",
       "      <td>3</td>\n",
       "      <td>single</td>\n",
       "      <td>rented</td>\n",
       "      <td>no</td>\n",
       "      <td>Mechanical_engineer</td>\n",
       "      <td>Rewa</td>\n",
       "      <td>Madhya_Pradesh</td>\n",
       "      <td>3</td>\n",
       "      <td>13</td>\n",
       "      <td>0</td>\n",
       "    </tr>\n",
       "    <tr>\n",
       "      <th>1</th>\n",
       "      <td>7574516</td>\n",
       "      <td>40</td>\n",
       "      <td>10</td>\n",
       "      <td>single</td>\n",
       "      <td>rented</td>\n",
       "      <td>no</td>\n",
       "      <td>Software_Developer</td>\n",
       "      <td>Parbhani</td>\n",
       "      <td>Maharashtra</td>\n",
       "      <td>9</td>\n",
       "      <td>13</td>\n",
       "      <td>0</td>\n",
       "    </tr>\n",
       "    <tr>\n",
       "      <th>2</th>\n",
       "      <td>3991815</td>\n",
       "      <td>66</td>\n",
       "      <td>4</td>\n",
       "      <td>married</td>\n",
       "      <td>rented</td>\n",
       "      <td>no</td>\n",
       "      <td>Technical_writer</td>\n",
       "      <td>Alappuzha</td>\n",
       "      <td>Kerala</td>\n",
       "      <td>4</td>\n",
       "      <td>10</td>\n",
       "      <td>0</td>\n",
       "    </tr>\n",
       "    <tr>\n",
       "      <th>3</th>\n",
       "      <td>6256451</td>\n",
       "      <td>41</td>\n",
       "      <td>2</td>\n",
       "      <td>single</td>\n",
       "      <td>rented</td>\n",
       "      <td>yes</td>\n",
       "      <td>Software_Developer</td>\n",
       "      <td>Bhubaneswar</td>\n",
       "      <td>Odisha</td>\n",
       "      <td>2</td>\n",
       "      <td>12</td>\n",
       "      <td>1</td>\n",
       "    </tr>\n",
       "    <tr>\n",
       "      <th>4</th>\n",
       "      <td>5768871</td>\n",
       "      <td>47</td>\n",
       "      <td>11</td>\n",
       "      <td>single</td>\n",
       "      <td>rented</td>\n",
       "      <td>no</td>\n",
       "      <td>Civil_servant</td>\n",
       "      <td>Tiruchirappalli[10]</td>\n",
       "      <td>Tamil_Nadu</td>\n",
       "      <td>3</td>\n",
       "      <td>14</td>\n",
       "      <td>1</td>\n",
       "    </tr>\n",
       "  </tbody>\n",
       "</table>\n",
       "</div>"
      ],
      "text/plain": [
       "    income  age  experience marital_status house_ownership car_ownership  \\\n",
       "0  1303834   23           3         single          rented            no   \n",
       "1  7574516   40          10         single          rented            no   \n",
       "2  3991815   66           4        married          rented            no   \n",
       "3  6256451   41           2         single          rented           yes   \n",
       "4  5768871   47          11         single          rented            no   \n",
       "\n",
       "            profession                 city           state  \\\n",
       "0  Mechanical_engineer                 Rewa  Madhya_Pradesh   \n",
       "1   Software_Developer             Parbhani     Maharashtra   \n",
       "2     Technical_writer            Alappuzha          Kerala   \n",
       "3   Software_Developer          Bhubaneswar          Odisha   \n",
       "4        Civil_servant  Tiruchirappalli[10]      Tamil_Nadu   \n",
       "\n",
       "   current_job_years  current_house_years  risk_flag  \n",
       "0                  3                   13          0  \n",
       "1                  9                   13          0  \n",
       "2                  4                   10          0  \n",
       "3                  2                   12          1  \n",
       "4                  3                   14          1  "
      ]
     },
     "execution_count": 5,
     "metadata": {},
     "output_type": "execute_result"
    }
   ],
   "source": [
    "df.columns = [\"income\", \"age\", \"experience\", \"marital_status\", \"house_ownership\", \"car_ownership\", \"profession\", \"city\", \"state\", \"current_job_years\", \"current_house_years\", \"risk_flag\"]\n",
    "df.head()"
   ]
  },
  {
   "cell_type": "markdown",
   "id": "ad03e25a",
   "metadata": {},
   "source": [
    "#### Check the number of unique category for each categorical column"
   ]
  },
  {
   "cell_type": "code",
<<<<<<< HEAD:thinesh - dtc.ipynb
   "execution_count": 6,
=======
   "execution_count": 32,
   "id": "68d3e0eb",
>>>>>>> d915bc4b76052cfdc3fed4ae4171873f3a6de852:Preprocessing variations/thinesh - dtc.ipynb
   "metadata": {},
   "outputs": [],
   "source": [
    "cat_cols = [\"marital_status\", \"house_ownership\", \"car_ownership\", \"profession\", \"city\", \"state\"]\n",
    "\n",
    "# technology - Web_designer, Software_Developer, , Computer_operator, Technology_specialist\n",
    "# medical - Physician, Microbiologist, Dentist, Surgeon, Psychologist\n",
    "# analyst - Financial_Analyst, Analyst\n",
    "# engineer - Computer_hardware_engineer, Industrial_Engineer, Mechanical_engineer, Chemical_engineer, Biomedical_Engineer, Petroleum_Engineer, Design_Engineer, Civil_engineer, Engineer, Technician\n",
    "# aviation - Flight_attendant, Air_traffic_controller, Aviator\n",
    "# government - Civil_servant, Official, Politician, Army_officer, Police_officer\n",
    "# designer - Designer, Graphic_Designer, Fashion_Designer\n",
    "# court - Magistrate, Lawyer\n",
    "# architectural - Architect, Drafter\n",
    "\n",
    "\n",
    "# 'Technical_writer',\n",
    "# 'Librarian', 'Economist', \n",
    "# 'Artist', 'Surveyor', \n",
    "# 'Hotel_Manager', 'Comedian', 'Secretary', \n",
    "# 'Chartered_Accountant', 'Firefighter', \n",
    "# 'Geologist','Statistician', '\n",
    "# 'Consultant', 'Chef', 'Scientist'"
   ]
  },
  {
   "cell_type": "markdown",
   "id": "3395ca9c",
   "metadata": {},
   "source": [
    "# Encoding categorical columns"
   ]
  },
  {
   "cell_type": "markdown",
   "id": "b34675b1",
   "metadata": {},
   "source": [
    "#### Label encoding categorical columns with 2 types of categories"
   ]
  },
  {
   "cell_type": "code",
<<<<<<< HEAD:thinesh - dtc.ipynb
   "execution_count": 7,
=======
   "execution_count": 33,
   "id": "02975062",
>>>>>>> d915bc4b76052cfdc3fed4ae4171873f3a6de852:Preprocessing variations/thinesh - dtc.ipynb
   "metadata": {
    "scrolled": false
   },
   "outputs": [],
   "source": [
    "label_enc = LabelEncoder()\n",
    "df[\"marital_status\"] = label_enc.fit_transform(df[\"marital_status\"])\n",
    "df[\"car_ownership\"] = label_enc.fit_transform(df[\"car_ownership\"])"
   ]
  },
  {
   "cell_type": "markdown",
   "id": "6f4ddf0f",
   "metadata": {},
   "source": [
    "#### One Hot Encoding `house_ownership` column & Combining back to dataframe"
   ]
  },
  {
   "cell_type": "code",
<<<<<<< HEAD:thinesh - dtc.ipynb
   "execution_count": 8,
=======
   "execution_count": 34,
   "id": "d4155434",
>>>>>>> d915bc4b76052cfdc3fed4ae4171873f3a6de852:Preprocessing variations/thinesh - dtc.ipynb
   "metadata": {},
   "outputs": [],
   "source": [
    "onehot_enc = OneHotEncoder()\n",
    "house_ownership_reshape = np.array(df[\"house_ownership\"]).reshape(-1, 1)\n",
    "house_ownership_values = onehot_enc.fit_transform(house_ownership_reshape).toarray().astype(int)\n",
    "house_ownership_labels = np.array([\"norent_noown\", \"owned\", \"rented\"]).ravel()\n",
    "house_ownership_df = pd.DataFrame(house_ownership_values, columns=house_ownership_labels)\n",
    "\n",
    "df = df.join(house_ownership_df[\"norent_noown\"])\n",
    "df = df.join(house_ownership_df[\"owned\"])\n",
    "df = df.join(house_ownership_df[\"rented\"])\n",
    "\n",
    "df.drop(\"house_ownership\", axis=1, inplace=True)"
   ]
  },
  {
   "cell_type": "code",
<<<<<<< HEAD:thinesh - dtc.ipynb
   "execution_count": 9,
=======
   "execution_count": 35,
   "id": "25a267d3",
>>>>>>> d915bc4b76052cfdc3fed4ae4171873f3a6de852:Preprocessing variations/thinesh - dtc.ipynb
   "metadata": {},
   "outputs": [
    {
     "data": {
      "text/html": [
       "<div>\n",
       "<style scoped>\n",
       "    .dataframe tbody tr th:only-of-type {\n",
       "        vertical-align: middle;\n",
       "    }\n",
       "\n",
       "    .dataframe tbody tr th {\n",
       "        vertical-align: top;\n",
       "    }\n",
       "\n",
       "    .dataframe thead th {\n",
       "        text-align: right;\n",
       "    }\n",
       "</style>\n",
       "<table border=\"1\" class=\"dataframe\">\n",
       "  <thead>\n",
       "    <tr style=\"text-align: right;\">\n",
       "      <th></th>\n",
       "      <th>income</th>\n",
       "      <th>age</th>\n",
       "      <th>experience</th>\n",
       "      <th>marital_status</th>\n",
       "      <th>car_ownership</th>\n",
       "      <th>profession</th>\n",
       "      <th>city</th>\n",
       "      <th>state</th>\n",
       "      <th>current_job_years</th>\n",
       "      <th>current_house_years</th>\n",
       "      <th>risk_flag</th>\n",
       "      <th>norent_noown</th>\n",
       "      <th>owned</th>\n",
       "      <th>rented</th>\n",
       "    </tr>\n",
       "  </thead>\n",
       "  <tbody>\n",
       "    <tr>\n",
       "      <th>0</th>\n",
       "      <td>1303834</td>\n",
       "      <td>23</td>\n",
       "      <td>3</td>\n",
       "      <td>1</td>\n",
       "      <td>0</td>\n",
       "      <td>Mechanical_engineer</td>\n",
       "      <td>Rewa</td>\n",
       "      <td>Madhya_Pradesh</td>\n",
       "      <td>3</td>\n",
       "      <td>13</td>\n",
       "      <td>0</td>\n",
       "      <td>0</td>\n",
       "      <td>0</td>\n",
       "      <td>1</td>\n",
       "    </tr>\n",
       "    <tr>\n",
       "      <th>1</th>\n",
       "      <td>7574516</td>\n",
       "      <td>40</td>\n",
       "      <td>10</td>\n",
       "      <td>1</td>\n",
       "      <td>0</td>\n",
       "      <td>Software_Developer</td>\n",
       "      <td>Parbhani</td>\n",
       "      <td>Maharashtra</td>\n",
       "      <td>9</td>\n",
       "      <td>13</td>\n",
       "      <td>0</td>\n",
       "      <td>0</td>\n",
       "      <td>0</td>\n",
       "      <td>1</td>\n",
       "    </tr>\n",
       "    <tr>\n",
       "      <th>2</th>\n",
       "      <td>3991815</td>\n",
       "      <td>66</td>\n",
       "      <td>4</td>\n",
       "      <td>0</td>\n",
       "      <td>0</td>\n",
       "      <td>Technical_writer</td>\n",
       "      <td>Alappuzha</td>\n",
       "      <td>Kerala</td>\n",
       "      <td>4</td>\n",
       "      <td>10</td>\n",
       "      <td>0</td>\n",
       "      <td>0</td>\n",
       "      <td>0</td>\n",
       "      <td>1</td>\n",
       "    </tr>\n",
       "    <tr>\n",
       "      <th>3</th>\n",
       "      <td>6256451</td>\n",
       "      <td>41</td>\n",
       "      <td>2</td>\n",
       "      <td>1</td>\n",
       "      <td>1</td>\n",
       "      <td>Software_Developer</td>\n",
       "      <td>Bhubaneswar</td>\n",
       "      <td>Odisha</td>\n",
       "      <td>2</td>\n",
       "      <td>12</td>\n",
       "      <td>1</td>\n",
       "      <td>0</td>\n",
       "      <td>0</td>\n",
       "      <td>1</td>\n",
       "    </tr>\n",
       "    <tr>\n",
       "      <th>4</th>\n",
       "      <td>5768871</td>\n",
       "      <td>47</td>\n",
       "      <td>11</td>\n",
       "      <td>1</td>\n",
       "      <td>0</td>\n",
       "      <td>Civil_servant</td>\n",
       "      <td>Tiruchirappalli[10]</td>\n",
       "      <td>Tamil_Nadu</td>\n",
       "      <td>3</td>\n",
       "      <td>14</td>\n",
       "      <td>1</td>\n",
       "      <td>0</td>\n",
       "      <td>0</td>\n",
       "      <td>1</td>\n",
       "    </tr>\n",
       "  </tbody>\n",
       "</table>\n",
       "</div>"
      ],
      "text/plain": [
       "    income  age  experience  marital_status  car_ownership  \\\n",
       "0  1303834   23           3               1              0   \n",
       "1  7574516   40          10               1              0   \n",
       "2  3991815   66           4               0              0   \n",
       "3  6256451   41           2               1              1   \n",
       "4  5768871   47          11               1              0   \n",
       "\n",
       "            profession                 city           state  \\\n",
       "0  Mechanical_engineer                 Rewa  Madhya_Pradesh   \n",
       "1   Software_Developer             Parbhani     Maharashtra   \n",
       "2     Technical_writer            Alappuzha          Kerala   \n",
       "3   Software_Developer          Bhubaneswar          Odisha   \n",
       "4        Civil_servant  Tiruchirappalli[10]      Tamil_Nadu   \n",
       "\n",
       "   current_job_years  current_house_years  risk_flag  norent_noown  owned  \\\n",
       "0                  3                   13          0             0      0   \n",
       "1                  9                   13          0             0      0   \n",
       "2                  4                   10          0             0      0   \n",
       "3                  2                   12          1             0      0   \n",
       "4                  3                   14          1             0      0   \n",
       "\n",
       "   rented  \n",
       "0       1  \n",
       "1       1  \n",
       "2       1  \n",
       "3       1  \n",
       "4       1  "
      ]
     },
     "execution_count": 9,
     "metadata": {},
     "output_type": "execute_result"
    }
   ],
   "source": [
    "df.head()"
   ]
  },
  {
   "cell_type": "markdown",
   "id": "8d572ad4",
   "metadata": {},
   "source": [
    "#### Target Encoding the high cardinality categorical columns: `profession`, `city`, `state`"
   ]
  },
  {
   "cell_type": "code",
<<<<<<< HEAD:thinesh - dtc.ipynb
   "execution_count": 10,
=======
   "execution_count": 9,
   "id": "64b0c0d9",
>>>>>>> d915bc4b76052cfdc3fed4ae4171873f3a6de852:Preprocessing variations/thinesh - dtc.ipynb
   "metadata": {},
   "outputs": [],
   "source": [
    "# https://medium.com/analytics-vidhya/target-encoding-vs-one-hot-encoding-with-simple-examples-276a7e7b3e64\n",
    "target_enc = TargetEncoder()\n",
    "df[\"profession_encoded\"] = target_enc.fit_transform(df[\"profession\"], df[\"risk_flag\"])"
   ]
  },
  {
   "cell_type": "code",
<<<<<<< HEAD:thinesh - dtc.ipynb
   "execution_count": 11,
=======
   "execution_count": 10,
   "id": "fa1cdeda",
>>>>>>> d915bc4b76052cfdc3fed4ae4171873f3a6de852:Preprocessing variations/thinesh - dtc.ipynb
   "metadata": {},
   "outputs": [],
   "source": [
    "target_enc = TargetEncoder()\n",
    "df[\"city_encoded\"] = target_enc.fit_transform(df[\"city\"], df[\"risk_flag\"])"
   ]
  },
  {
   "cell_type": "code",
<<<<<<< HEAD:thinesh - dtc.ipynb
   "execution_count": 12,
=======
   "execution_count": 11,
   "id": "26e9b98e",
>>>>>>> d915bc4b76052cfdc3fed4ae4171873f3a6de852:Preprocessing variations/thinesh - dtc.ipynb
   "metadata": {},
   "outputs": [],
   "source": [
    "target_enc = TargetEncoder()\n",
    "df[\"state_encoded\"] = target_enc.fit_transform(df[\"state\"], df[\"risk_flag\"])\n",
    "\n",
    "df.drop(\"profession\", axis=1, inplace=True)\n",
    "df.drop(\"city\", axis=1, inplace=True)\n",
    "df.drop(\"state\", axis=1, inplace=True)"
   ]
  },
  {
   "cell_type": "markdown",
   "id": "418ec66e",
   "metadata": {},
   "source": [
    "#### Defining x and y (target) variables"
   ]
  },
  {
   "cell_type": "code",
<<<<<<< HEAD:thinesh - dtc.ipynb
   "execution_count": 80,
   "metadata": {},
   "outputs": [
    {
     "ename": "AttributeError",
     "evalue": "'DataFrame' object has no attribute 'isNaN'",
     "output_type": "error",
     "traceback": [
      "\u001b[1;31m---------------------------------------------------------------------------\u001b[0m",
      "\u001b[1;31mAttributeError\u001b[0m                            Traceback (most recent call last)",
      "\u001b[1;32m<ipython-input-80-c85c9f55f2e5>\u001b[0m in \u001b[0;36m<module>\u001b[1;34m\u001b[0m\n\u001b[0;32m      3\u001b[0m \u001b[0mdf\u001b[0m\u001b[1;33m.\u001b[0m\u001b[0mhead\u001b[0m\u001b[1;33m(\u001b[0m\u001b[1;33m)\u001b[0m\u001b[1;33m\u001b[0m\u001b[1;33m\u001b[0m\u001b[0m\n\u001b[0;32m      4\u001b[0m \u001b[1;33m\u001b[0m\u001b[0m\n\u001b[1;32m----> 5\u001b[1;33m \u001b[0mdf\u001b[0m\u001b[1;33m.\u001b[0m\u001b[0misNaN\u001b[0m\u001b[1;33m(\u001b[0m\u001b[1;33m)\u001b[0m\u001b[1;33m.\u001b[0m\u001b[0msum\u001b[0m\u001b[1;33m(\u001b[0m\u001b[1;33m)\u001b[0m\u001b[1;33m\u001b[0m\u001b[1;33m\u001b[0m\u001b[0m\n\u001b[0m",
      "\u001b[1;32m~\\AppData\\Local\\Continuum\\anaconda3\\lib\\site-packages\\pandas\\core\\generic.py\u001b[0m in \u001b[0;36m__getattr__\u001b[1;34m(self, name)\u001b[0m\n\u001b[0;32m   5065\u001b[0m             \u001b[1;32mif\u001b[0m \u001b[0mself\u001b[0m\u001b[1;33m.\u001b[0m\u001b[0m_info_axis\u001b[0m\u001b[1;33m.\u001b[0m\u001b[0m_can_hold_identifiers_and_holds_name\u001b[0m\u001b[1;33m(\u001b[0m\u001b[0mname\u001b[0m\u001b[1;33m)\u001b[0m\u001b[1;33m:\u001b[0m\u001b[1;33m\u001b[0m\u001b[1;33m\u001b[0m\u001b[0m\n\u001b[0;32m   5066\u001b[0m                 \u001b[1;32mreturn\u001b[0m \u001b[0mself\u001b[0m\u001b[1;33m[\u001b[0m\u001b[0mname\u001b[0m\u001b[1;33m]\u001b[0m\u001b[1;33m\u001b[0m\u001b[1;33m\u001b[0m\u001b[0m\n\u001b[1;32m-> 5067\u001b[1;33m             \u001b[1;32mreturn\u001b[0m \u001b[0mobject\u001b[0m\u001b[1;33m.\u001b[0m\u001b[0m__getattribute__\u001b[0m\u001b[1;33m(\u001b[0m\u001b[0mself\u001b[0m\u001b[1;33m,\u001b[0m \u001b[0mname\u001b[0m\u001b[1;33m)\u001b[0m\u001b[1;33m\u001b[0m\u001b[1;33m\u001b[0m\u001b[0m\n\u001b[0m\u001b[0;32m   5068\u001b[0m \u001b[1;33m\u001b[0m\u001b[0m\n\u001b[0;32m   5069\u001b[0m     \u001b[1;32mdef\u001b[0m \u001b[0m__setattr__\u001b[0m\u001b[1;33m(\u001b[0m\u001b[0mself\u001b[0m\u001b[1;33m,\u001b[0m \u001b[0mname\u001b[0m\u001b[1;33m,\u001b[0m \u001b[0mvalue\u001b[0m\u001b[1;33m)\u001b[0m\u001b[1;33m:\u001b[0m\u001b[1;33m\u001b[0m\u001b[1;33m\u001b[0m\u001b[0m\n",
      "\u001b[1;31mAttributeError\u001b[0m: 'DataFrame' object has no attribute 'isNaN'"
     ]
    }
   ],
   "source": [
    "df[\"longjob\"]=df[\"experience\"]/df[\"age\"]\n",
    "df[\"jobvalue\"]=df[\"income\"]//df[\"experience\"]\n",
    "df.head()\n",
    "\n",
    "df..sum()"
   ]
  },
  {
   "cell_type": "code",
   "execution_count": 74,
=======
   "execution_count": 12,
   "id": "b5893089",
>>>>>>> d915bc4b76052cfdc3fed4ae4171873f3a6de852:Preprocessing variations/thinesh - dtc.ipynb
   "metadata": {},
   "outputs": [
    {
     "data": {
      "text/html": [
       "<div>\n",
       "<style scoped>\n",
       "    .dataframe tbody tr th:only-of-type {\n",
       "        vertical-align: middle;\n",
       "    }\n",
       "\n",
       "    .dataframe tbody tr th {\n",
       "        vertical-align: top;\n",
       "    }\n",
       "\n",
       "    .dataframe thead th {\n",
       "        text-align: right;\n",
       "    }\n",
       "</style>\n",
       "<table border=\"1\" class=\"dataframe\">\n",
       "  <thead>\n",
       "    <tr style=\"text-align: right;\">\n",
       "      <th></th>\n",
       "      <th>income</th>\n",
       "      <th>age</th>\n",
       "      <th>experience</th>\n",
       "      <th>marital_status</th>\n",
       "      <th>car_ownership</th>\n",
       "      <th>current_job_years</th>\n",
       "      <th>current_house_years</th>\n",
       "      <th>norent_noown</th>\n",
       "      <th>owned</th>\n",
       "      <th>rented</th>\n",
       "      <th>profession_encoded</th>\n",
       "      <th>city_encoded</th>\n",
       "      <th>state_encoded</th>\n",
       "      <th>longjob</th>\n",
       "      <th>jobvalue</th>\n",
       "    </tr>\n",
       "  </thead>\n",
       "  <tbody>\n",
       "    <tr>\n",
       "      <th>0</th>\n",
       "      <td>1303834</td>\n",
       "      <td>23</td>\n",
       "      <td>3</td>\n",
       "      <td>1</td>\n",
       "      <td>0</td>\n",
       "      <td>3</td>\n",
       "      <td>13</td>\n",
       "      <td>0</td>\n",
       "      <td>0</td>\n",
       "      <td>1</td>\n",
       "      <td>0.111558</td>\n",
       "      <td>0.121554</td>\n",
       "      <td>0.154369</td>\n",
       "      <td>0.130435</td>\n",
       "      <td>434611.0</td>\n",
       "    </tr>\n",
       "    <tr>\n",
       "      <th>1</th>\n",
       "      <td>7574516</td>\n",
       "      <td>40</td>\n",
       "      <td>10</td>\n",
       "      <td>1</td>\n",
       "      <td>0</td>\n",
       "      <td>9</td>\n",
       "      <td>13</td>\n",
       "      <td>0</td>\n",
       "      <td>0</td>\n",
       "      <td>1</td>\n",
       "      <td>0.148427</td>\n",
       "      <td>0.122497</td>\n",
       "      <td>0.113254</td>\n",
       "      <td>0.250000</td>\n",
       "      <td>757451.0</td>\n",
       "    </tr>\n",
       "    <tr>\n",
       "      <th>2</th>\n",
       "      <td>3991815</td>\n",
       "      <td>66</td>\n",
       "      <td>4</td>\n",
       "      <td>0</td>\n",
       "      <td>0</td>\n",
       "      <td>4</td>\n",
       "      <td>10</td>\n",
       "      <td>0</td>\n",
       "      <td>0</td>\n",
       "      <td>1</td>\n",
       "      <td>0.134167</td>\n",
       "      <td>0.130814</td>\n",
       "      <td>0.167097</td>\n",
       "      <td>0.060606</td>\n",
       "      <td>997953.0</td>\n",
       "    </tr>\n",
       "    <tr>\n",
       "      <th>3</th>\n",
       "      <td>6256451</td>\n",
       "      <td>41</td>\n",
       "      <td>2</td>\n",
       "      <td>1</td>\n",
       "      <td>1</td>\n",
       "      <td>2</td>\n",
       "      <td>12</td>\n",
       "      <td>0</td>\n",
       "      <td>0</td>\n",
       "      <td>1</td>\n",
       "      <td>0.148427</td>\n",
       "      <td>0.326194</td>\n",
       "      <td>0.142550</td>\n",
       "      <td>0.048780</td>\n",
       "      <td>3128225.0</td>\n",
       "    </tr>\n",
       "    <tr>\n",
       "      <th>4</th>\n",
       "      <td>5768871</td>\n",
       "      <td>47</td>\n",
       "      <td>11</td>\n",
       "      <td>1</td>\n",
       "      <td>0</td>\n",
       "      <td>3</td>\n",
       "      <td>14</td>\n",
       "      <td>0</td>\n",
       "      <td>0</td>\n",
       "      <td>1</td>\n",
       "      <td>0.115794</td>\n",
       "      <td>0.121137</td>\n",
       "      <td>0.103163</td>\n",
       "      <td>0.234043</td>\n",
       "      <td>524442.0</td>\n",
       "    </tr>\n",
       "  </tbody>\n",
       "</table>\n",
       "</div>"
      ],
      "text/plain": [
       "    income  age  experience  marital_status  car_ownership  current_job_years  \\\n",
       "0  1303834   23           3               1              0                  3   \n",
       "1  7574516   40          10               1              0                  9   \n",
       "2  3991815   66           4               0              0                  4   \n",
       "3  6256451   41           2               1              1                  2   \n",
       "4  5768871   47          11               1              0                  3   \n",
       "\n",
       "   current_house_years  norent_noown  owned  rented  profession_encoded  \\\n",
       "0                   13             0      0       1            0.111558   \n",
       "1                   13             0      0       1            0.148427   \n",
       "2                   10             0      0       1            0.134167   \n",
       "3                   12             0      0       1            0.148427   \n",
       "4                   14             0      0       1            0.115794   \n",
       "\n",
       "   city_encoded  state_encoded   longjob   jobvalue  \n",
       "0      0.121554       0.154369  0.130435   434611.0  \n",
       "1      0.122497       0.113254  0.250000   757451.0  \n",
       "2      0.130814       0.167097  0.060606   997953.0  \n",
       "3      0.326194       0.142550  0.048780  3128225.0  \n",
       "4      0.121137       0.103163  0.234043   524442.0  "
      ]
     },
     "execution_count": 74,
     "metadata": {},
     "output_type": "execute_result"
    }
   ],
   "source": [
    "y = df[\"risk_flag\"]\n",
    "x = df.drop(\"risk_flag\", axis=1)\n",
    "x.head()"
   ]
  },
  {
   "cell_type": "markdown",
   "id": "4a82f5d6",
   "metadata": {},
   "source": [
    "#### Perform Chi-Square for feature selection\n",
    "H0 :- There is no relationship between categorical feature and target variable\\\n",
    "H1 :- There is some relationship between categorical feature and target variable\\\n",
    "If p-value ≥0.05, the null hypothesis is not rejected and there is no any relationship between target variable and categorical features."
   ]
  },
  {
   "cell_type": "code",
<<<<<<< HEAD:thinesh - dtc.ipynb
   "execution_count": 75,
=======
   "execution_count": 13,
   "id": "df2e409d",
>>>>>>> d915bc4b76052cfdc3fed4ae4171873f3a6de852:Preprocessing variations/thinesh - dtc.ipynb
   "metadata": {},
   "outputs": [
    {
     "ename": "ValueError",
     "evalue": "Input contains NaN, infinity or a value too large for dtype('float64').",
     "output_type": "error",
     "traceback": [
      "\u001b[1;31m---------------------------------------------------------------------------\u001b[0m",
      "\u001b[1;31mValueError\u001b[0m                                Traceback (most recent call last)",
      "\u001b[1;32m<ipython-input-75-906d4239e503>\u001b[0m in \u001b[0;36m<module>\u001b[1;34m\u001b[0m\n\u001b[0;32m      4\u001b[0m \u001b[1;31m# Standardisation gives negative values, chi-square does not allow negative values\u001b[0m\u001b[1;33m\u001b[0m\u001b[1;33m\u001b[0m\u001b[1;33m\u001b[0m\u001b[0m\n\u001b[0;32m      5\u001b[0m \u001b[1;33m\u001b[0m\u001b[0m\n\u001b[1;32m----> 6\u001b[1;33m \u001b[0mchi_scores\u001b[0m \u001b[1;33m=\u001b[0m \u001b[0mchi2\u001b[0m\u001b[1;33m(\u001b[0m\u001b[0mx\u001b[0m\u001b[1;33m,\u001b[0m\u001b[0my\u001b[0m\u001b[1;33m)\u001b[0m\u001b[1;33m\u001b[0m\u001b[1;33m\u001b[0m\u001b[0m\n\u001b[0m\u001b[0;32m      7\u001b[0m \u001b[0mp_values\u001b[0m \u001b[1;33m=\u001b[0m \u001b[0mpd\u001b[0m\u001b[1;33m.\u001b[0m\u001b[0mSeries\u001b[0m\u001b[1;33m(\u001b[0m\u001b[0mchi_scores\u001b[0m\u001b[1;33m[\u001b[0m\u001b[1;36m1\u001b[0m\u001b[1;33m]\u001b[0m\u001b[1;33m,\u001b[0m\u001b[0mindex\u001b[0m \u001b[1;33m=\u001b[0m \u001b[0mx\u001b[0m\u001b[1;33m.\u001b[0m\u001b[0mcolumns\u001b[0m\u001b[1;33m)\u001b[0m\u001b[1;33m\u001b[0m\u001b[1;33m\u001b[0m\u001b[0m\n\u001b[0;32m      8\u001b[0m \u001b[0mp_values\u001b[0m\u001b[1;33m.\u001b[0m\u001b[0msort_values\u001b[0m\u001b[1;33m(\u001b[0m\u001b[0mascending\u001b[0m \u001b[1;33m=\u001b[0m \u001b[1;32mFalse\u001b[0m \u001b[1;33m,\u001b[0m \u001b[0minplace\u001b[0m \u001b[1;33m=\u001b[0m \u001b[1;32mTrue\u001b[0m\u001b[1;33m)\u001b[0m\u001b[1;33m\u001b[0m\u001b[1;33m\u001b[0m\u001b[0m\n",
      "\u001b[1;32m~\\AppData\\Local\\Continuum\\anaconda3\\lib\\site-packages\\sklearn\\feature_selection\\_univariate_selection.py\u001b[0m in \u001b[0;36mchi2\u001b[1;34m(X, y)\u001b[0m\n\u001b[0;32m    213\u001b[0m     \u001b[1;31m# XXX: we might want to do some of the following in logspace instead for\u001b[0m\u001b[1;33m\u001b[0m\u001b[1;33m\u001b[0m\u001b[1;33m\u001b[0m\u001b[0m\n\u001b[0;32m    214\u001b[0m     \u001b[1;31m# numerical stability.\u001b[0m\u001b[1;33m\u001b[0m\u001b[1;33m\u001b[0m\u001b[1;33m\u001b[0m\u001b[0m\n\u001b[1;32m--> 215\u001b[1;33m     \u001b[0mX\u001b[0m \u001b[1;33m=\u001b[0m \u001b[0mcheck_array\u001b[0m\u001b[1;33m(\u001b[0m\u001b[0mX\u001b[0m\u001b[1;33m,\u001b[0m \u001b[0maccept_sparse\u001b[0m\u001b[1;33m=\u001b[0m\u001b[1;34m'csr'\u001b[0m\u001b[1;33m)\u001b[0m\u001b[1;33m\u001b[0m\u001b[1;33m\u001b[0m\u001b[0m\n\u001b[0m\u001b[0;32m    216\u001b[0m     \u001b[1;32mif\u001b[0m \u001b[0mnp\u001b[0m\u001b[1;33m.\u001b[0m\u001b[0many\u001b[0m\u001b[1;33m(\u001b[0m\u001b[1;33m(\u001b[0m\u001b[0mX\u001b[0m\u001b[1;33m.\u001b[0m\u001b[0mdata\u001b[0m \u001b[1;32mif\u001b[0m \u001b[0missparse\u001b[0m\u001b[1;33m(\u001b[0m\u001b[0mX\u001b[0m\u001b[1;33m)\u001b[0m \u001b[1;32melse\u001b[0m \u001b[0mX\u001b[0m\u001b[1;33m)\u001b[0m \u001b[1;33m<\u001b[0m \u001b[1;36m0\u001b[0m\u001b[1;33m)\u001b[0m\u001b[1;33m:\u001b[0m\u001b[1;33m\u001b[0m\u001b[1;33m\u001b[0m\u001b[0m\n\u001b[0;32m    217\u001b[0m         \u001b[1;32mraise\u001b[0m \u001b[0mValueError\u001b[0m\u001b[1;33m(\u001b[0m\u001b[1;34m\"Input X must be non-negative.\"\u001b[0m\u001b[1;33m)\u001b[0m\u001b[1;33m\u001b[0m\u001b[1;33m\u001b[0m\u001b[0m\n",
      "\u001b[1;32m~\\AppData\\Local\\Continuum\\anaconda3\\lib\\site-packages\\sklearn\\utils\\validation.py\u001b[0m in \u001b[0;36minner_f\u001b[1;34m(*args, **kwargs)\u001b[0m\n\u001b[0;32m     61\u001b[0m             \u001b[0mextra_args\u001b[0m \u001b[1;33m=\u001b[0m \u001b[0mlen\u001b[0m\u001b[1;33m(\u001b[0m\u001b[0margs\u001b[0m\u001b[1;33m)\u001b[0m \u001b[1;33m-\u001b[0m \u001b[0mlen\u001b[0m\u001b[1;33m(\u001b[0m\u001b[0mall_args\u001b[0m\u001b[1;33m)\u001b[0m\u001b[1;33m\u001b[0m\u001b[1;33m\u001b[0m\u001b[0m\n\u001b[0;32m     62\u001b[0m             \u001b[1;32mif\u001b[0m \u001b[0mextra_args\u001b[0m \u001b[1;33m<=\u001b[0m \u001b[1;36m0\u001b[0m\u001b[1;33m:\u001b[0m\u001b[1;33m\u001b[0m\u001b[1;33m\u001b[0m\u001b[0m\n\u001b[1;32m---> 63\u001b[1;33m                 \u001b[1;32mreturn\u001b[0m \u001b[0mf\u001b[0m\u001b[1;33m(\u001b[0m\u001b[1;33m*\u001b[0m\u001b[0margs\u001b[0m\u001b[1;33m,\u001b[0m \u001b[1;33m**\u001b[0m\u001b[0mkwargs\u001b[0m\u001b[1;33m)\u001b[0m\u001b[1;33m\u001b[0m\u001b[1;33m\u001b[0m\u001b[0m\n\u001b[0m\u001b[0;32m     64\u001b[0m \u001b[1;33m\u001b[0m\u001b[0m\n\u001b[0;32m     65\u001b[0m             \u001b[1;31m# extra_args > 0\u001b[0m\u001b[1;33m\u001b[0m\u001b[1;33m\u001b[0m\u001b[1;33m\u001b[0m\u001b[0m\n",
      "\u001b[1;32m~\\AppData\\Local\\Continuum\\anaconda3\\lib\\site-packages\\sklearn\\utils\\validation.py\u001b[0m in \u001b[0;36mcheck_array\u001b[1;34m(array, accept_sparse, accept_large_sparse, dtype, order, copy, force_all_finite, ensure_2d, allow_nd, ensure_min_samples, ensure_min_features, estimator)\u001b[0m\n\u001b[0;32m    662\u001b[0m         \u001b[1;32mif\u001b[0m \u001b[0mforce_all_finite\u001b[0m\u001b[1;33m:\u001b[0m\u001b[1;33m\u001b[0m\u001b[1;33m\u001b[0m\u001b[0m\n\u001b[0;32m    663\u001b[0m             _assert_all_finite(array,\n\u001b[1;32m--> 664\u001b[1;33m                                allow_nan=force_all_finite == 'allow-nan')\n\u001b[0m\u001b[0;32m    665\u001b[0m \u001b[1;33m\u001b[0m\u001b[0m\n\u001b[0;32m    666\u001b[0m     \u001b[1;32mif\u001b[0m \u001b[0mensure_min_samples\u001b[0m \u001b[1;33m>\u001b[0m \u001b[1;36m0\u001b[0m\u001b[1;33m:\u001b[0m\u001b[1;33m\u001b[0m\u001b[1;33m\u001b[0m\u001b[0m\n",
      "\u001b[1;32m~\\AppData\\Local\\Continuum\\anaconda3\\lib\\site-packages\\sklearn\\utils\\validation.py\u001b[0m in \u001b[0;36m_assert_all_finite\u001b[1;34m(X, allow_nan, msg_dtype)\u001b[0m\n\u001b[0;32m    104\u001b[0m                     \u001b[0mmsg_err\u001b[0m\u001b[1;33m.\u001b[0m\u001b[0mformat\u001b[0m\u001b[1;33m\u001b[0m\u001b[1;33m\u001b[0m\u001b[0m\n\u001b[0;32m    105\u001b[0m                     (type_err,\n\u001b[1;32m--> 106\u001b[1;33m                      msg_dtype if msg_dtype is not None else X.dtype)\n\u001b[0m\u001b[0;32m    107\u001b[0m             )\n\u001b[0;32m    108\u001b[0m     \u001b[1;31m# for object dtype data, we only check for NaNs (GH-13254)\u001b[0m\u001b[1;33m\u001b[0m\u001b[1;33m\u001b[0m\u001b[1;33m\u001b[0m\u001b[0m\n",
      "\u001b[1;31mValueError\u001b[0m: Input contains NaN, infinity or a value too large for dtype('float64')."
     ]
    }
   ],
   "source": [
    "# https://medium.com/analytics-vidhya/categorical-feature-selection-using-chi-squared-test-e4c0d0af6b7e\n",
    "# https://towardsdatascience.com/using-the-chi-squared-test-for-feature-selection-with-implementation-b15a4dad93f1\n",
    "\n",
    "# Standardisation gives negative values, chi-square does not allow negative values\n",
    "\n",
    "chi_scores = chi2(x,y)\n",
    "p_values = pd.Series(chi_scores[1],index = x.columns)\n",
    "p_values.sort_values(ascending = False , inplace = True)\n",
    "p_values.plot.bar()\n",
    "\n",
    "# # conclusion: current_house_years, profession_encoded, state_encoded have no relationship with target variable\n",
    "x = x.drop([\"current_house_years\", \"profession_encoded\", \"state_encoded\"], axis=1)"
   ]
  },
  {
   "cell_type": "markdown",
   "id": "c0142467",
   "metadata": {},
   "source": [
    "#### Standardising columns"
   ]
  },
  {
   "cell_type": "code",
<<<<<<< HEAD:thinesh - dtc.ipynb
   "execution_count": 57,
=======
   "execution_count": 14,
   "id": "d008830e",
>>>>>>> d915bc4b76052cfdc3fed4ae4171873f3a6de852:Preprocessing variations/thinesh - dtc.ipynb
   "metadata": {},
   "outputs": [],
   "source": [
    "# # Scale all except columns which are one-hot encoded and label encoded\n",
    "\n",
    "# # With Chi-Square\n",
    "# to_scale = [\"income\", \"age\", \"experience\", \"current_job_years\", \"city_encoded\"]\n",
    "# no_scale = [\"marital_status\", \"car_ownership\", \"norent_noown\", \"owned\", \"rented\"]\n",
    "\n",
    "# # Without Chi-Square\n",
    "# # to_scale = [\"income\", \"age\", \"experience\", \"current_job_years\", \"current_house_years\", \"profession_encoded\", \"city_encoded\", \"state_encoded\"]\n",
    "# # no_scale = [\"marital_status\", \"car_ownership\", \"norent_noown\", \"owned\", \"rented\"]\n",
    "\n",
    "# scaler = StandardScaler()\n",
    "# scaled = scaler.fit_transform(x[to_scale])\n",
    "# scaled_df = pd.DataFrame(data=scaled, columns=to_scale)\n",
    "\n",
    "# for col in to_scale:\n",
    "#     x[col] = scaled_df[col]\n",
    "    \n",
    "# x.head()"
   ]
  },
  {
   "cell_type": "markdown",
   "id": "293dddab",
   "metadata": {},
   "source": [
    "# Preparing for modelling"
   ]
  },
  {
   "cell_type": "markdown",
   "id": "190718c3",
   "metadata": {},
   "source": [
    "#### Splitting the dataset into train and test sets"
   ]
  },
  {
   "cell_type": "code",
<<<<<<< HEAD:thinesh - dtc.ipynb
   "execution_count": 58,
=======
   "execution_count": 15,
   "id": "ee0d72d4",
>>>>>>> d915bc4b76052cfdc3fed4ae4171873f3a6de852:Preprocessing variations/thinesh - dtc.ipynb
   "metadata": {},
   "outputs": [],
   "source": [
    "x_train, x_test, y_train, y_test = train_test_split(x, y, test_size = 0.2, random_state = 69)"
   ]
  },
  {
   "cell_type": "markdown",
   "id": "4f917f01",
   "metadata": {},
   "source": [
    "#### Performing PCA"
   ]
  },
  {
   "cell_type": "code",
<<<<<<< HEAD:thinesh - dtc.ipynb
   "execution_count": 59,
=======
   "execution_count": 16,
   "id": "671b8765",
>>>>>>> d915bc4b76052cfdc3fed4ae4171873f3a6de852:Preprocessing variations/thinesh - dtc.ipynb
   "metadata": {},
   "outputs": [],
   "source": [
    "# pca_loan = PCA()\n",
    "# x_train = pca_loan.fit_transform(x_train)\n",
    "# x_test = pca_loan.fit_transform(x_test)"
   ]
  },
  {
   "cell_type": "markdown",
   "id": "90b6f4e2",
   "metadata": {},
   "source": [
    "#### Perform oversampling on train data"
   ]
  },
  {
   "cell_type": "code",
<<<<<<< HEAD:thinesh - dtc.ipynb
   "execution_count": 60,
   "metadata": {},
   "outputs": [
    {
     "data": {
      "text/html": [
       "<div>\n",
       "<style scoped>\n",
       "    .dataframe tbody tr th:only-of-type {\n",
       "        vertical-align: middle;\n",
       "    }\n",
       "\n",
       "    .dataframe tbody tr th {\n",
       "        vertical-align: top;\n",
       "    }\n",
       "\n",
       "    .dataframe thead th {\n",
       "        text-align: right;\n",
       "    }\n",
       "</style>\n",
       "<table border=\"1\" class=\"dataframe\">\n",
       "  <thead>\n",
       "    <tr style=\"text-align: right;\">\n",
       "      <th></th>\n",
       "      <th>income</th>\n",
       "      <th>age</th>\n",
       "      <th>experience</th>\n",
       "      <th>marital_status</th>\n",
       "      <th>car_ownership</th>\n",
       "      <th>current_job_years</th>\n",
       "      <th>norent_noown</th>\n",
       "      <th>owned</th>\n",
       "      <th>rented</th>\n",
       "      <th>city_encoded</th>\n",
       "      <th>longjob</th>\n",
       "    </tr>\n",
       "  </thead>\n",
       "  <tbody>\n",
       "    <tr>\n",
       "      <th>0</th>\n",
       "      <td>1303834</td>\n",
       "      <td>23</td>\n",
       "      <td>3</td>\n",
       "      <td>1</td>\n",
       "      <td>0</td>\n",
       "      <td>3</td>\n",
       "      <td>0</td>\n",
       "      <td>0</td>\n",
       "      <td>1</td>\n",
       "      <td>0.121554</td>\n",
       "      <td>0.130435</td>\n",
       "    </tr>\n",
       "    <tr>\n",
       "      <th>1</th>\n",
       "      <td>7574516</td>\n",
       "      <td>40</td>\n",
       "      <td>10</td>\n",
       "      <td>1</td>\n",
       "      <td>0</td>\n",
       "      <td>9</td>\n",
       "      <td>0</td>\n",
       "      <td>0</td>\n",
       "      <td>1</td>\n",
       "      <td>0.122497</td>\n",
       "      <td>0.250000</td>\n",
       "    </tr>\n",
       "    <tr>\n",
       "      <th>2</th>\n",
       "      <td>3991815</td>\n",
       "      <td>66</td>\n",
       "      <td>4</td>\n",
       "      <td>0</td>\n",
       "      <td>0</td>\n",
       "      <td>4</td>\n",
       "      <td>0</td>\n",
       "      <td>0</td>\n",
       "      <td>1</td>\n",
       "      <td>0.130814</td>\n",
       "      <td>0.060606</td>\n",
       "    </tr>\n",
       "    <tr>\n",
       "      <th>3</th>\n",
       "      <td>6256451</td>\n",
       "      <td>41</td>\n",
       "      <td>2</td>\n",
       "      <td>1</td>\n",
       "      <td>1</td>\n",
       "      <td>2</td>\n",
       "      <td>0</td>\n",
       "      <td>0</td>\n",
       "      <td>1</td>\n",
       "      <td>0.326194</td>\n",
       "      <td>0.048780</td>\n",
       "    </tr>\n",
       "    <tr>\n",
       "      <th>4</th>\n",
       "      <td>5768871</td>\n",
       "      <td>47</td>\n",
       "      <td>11</td>\n",
       "      <td>1</td>\n",
       "      <td>0</td>\n",
       "      <td>3</td>\n",
       "      <td>0</td>\n",
       "      <td>0</td>\n",
       "      <td>1</td>\n",
       "      <td>0.121137</td>\n",
       "      <td>0.234043</td>\n",
       "    </tr>\n",
       "  </tbody>\n",
       "</table>\n",
       "</div>"
      ],
      "text/plain": [
       "    income  age  experience  marital_status  car_ownership  current_job_years  \\\n",
       "0  1303834   23           3               1              0                  3   \n",
       "1  7574516   40          10               1              0                  9   \n",
       "2  3991815   66           4               0              0                  4   \n",
       "3  6256451   41           2               1              1                  2   \n",
       "4  5768871   47          11               1              0                  3   \n",
       "\n",
       "   norent_noown  owned  rented  city_encoded   longjob  \n",
       "0             0      0       1      0.121554  0.130435  \n",
       "1             0      0       1      0.122497  0.250000  \n",
       "2             0      0       1      0.130814  0.060606  \n",
       "3             0      0       1      0.326194  0.048780  \n",
       "4             0      0       1      0.121137  0.234043  "
      ]
     },
     "execution_count": 60,
     "metadata": {},
     "output_type": "execute_result"
    }
   ],
   "source": [
    "x.head()"
   ]
  },
  {
   "cell_type": "code",
   "execution_count": 61,
=======
   "execution_count": 17,
   "id": "05b42016",
>>>>>>> d915bc4b76052cfdc3fed4ae4171873f3a6de852:Preprocessing variations/thinesh - dtc.ipynb
   "metadata": {
    "scrolled": true
   },
   "outputs": [
    {
     "data": {
      "text/plain": [
       "<matplotlib.axes._subplots.AxesSubplot at 0x14ba39719e8>"
      ]
     },
     "execution_count": 61,
     "metadata": {},
     "output_type": "execute_result"
    },
    {
     "data": {
      "image/png": "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\n",
      "text/plain": [
       "<Figure size 432x288 with 1 Axes>"
      ]
     },
     "metadata": {
      "needs_background": "light"
     },
     "output_type": "display_data"
    }
   ],
   "source": [
    "oversampler = SMOTE()\n",
    "x_train, y_train = oversampler.fit_resample(x_train, y_train)\n",
    "\n",
    "sns.countplot(x = y_train, palette = 'muted')"
   ]
  },
  {
   "cell_type": "markdown",
   "id": "15398bab",
   "metadata": {},
   "source": [
    "#### Applying xgboost model"
   ]
  },
  {
   "cell_type": "code",
<<<<<<< HEAD:thinesh - dtc.ipynb
   "execution_count": 62,
=======
   "execution_count": 18,
   "id": "8536c63c",
>>>>>>> d915bc4b76052cfdc3fed4ae4171873f3a6de852:Preprocessing variations/thinesh - dtc.ipynb
   "metadata": {},
   "outputs": [],
   "source": [
    "# # # https://xgboost.readthedocs.io/en/latest/python/python_api.html#module-xgboost.sklearn\n",
    "# xgb = XGBClassifier(learning_rate=0.1,\n",
    "#                     n_estimators=1000,\n",
    "#                     use_label_encoder=False,\n",
    "#                     random_state=2021)\n",
    "\n",
    "# xgb.fit(x_train, y_train, eval_metric='logloss')\n",
    "# y_pred = xgb.predict(x_test)\n",
    "# cm = confusion_matrix(y_test, y_pred)\n",
    "# print(cm)"
   ]
  },
  {
   "cell_type": "code",
<<<<<<< HEAD:thinesh - dtc.ipynb
   "execution_count": 63,
=======
   "execution_count": 19,
   "id": "4270ea1b",
>>>>>>> d915bc4b76052cfdc3fed4ae4171873f3a6de852:Preprocessing variations/thinesh - dtc.ipynb
   "metadata": {},
   "outputs": [],
   "source": [
    "from sklearn import tree\n",
    "depth = [3, 5, 8, 10]\n"
   ]
  },
  {
   "cell_type": "code",
<<<<<<< HEAD:thinesh - dtc.ipynb
   "execution_count": 64,
=======
   "execution_count": 20,
   "id": "cf2c2dae",
>>>>>>> d915bc4b76052cfdc3fed4ae4171873f3a6de852:Preprocessing variations/thinesh - dtc.ipynb
   "metadata": {},
   "outputs": [],
   "source": [
    "dtree1 = tree.DecisionTreeClassifier(min_samples_leaf=12 ,random_state=69)"
   ]
  },
  {
   "cell_type": "code",
<<<<<<< HEAD:thinesh - dtc.ipynb
   "execution_count": 65,
=======
   "execution_count": 21,
   "id": "c178ff02",
>>>>>>> d915bc4b76052cfdc3fed4ae4171873f3a6de852:Preprocessing variations/thinesh - dtc.ipynb
   "metadata": {},
   "outputs": [
    {
     "data": {
      "text/plain": [
       "DecisionTreeClassifier(min_samples_leaf=12, random_state=69)"
      ]
     },
     "execution_count": 65,
     "metadata": {},
     "output_type": "execute_result"
    }
   ],
   "source": [
    "dtree1.fit(x_train, y_train)"
   ]
  },
  {
   "cell_type": "code",
<<<<<<< HEAD:thinesh - dtc.ipynb
   "execution_count": 66,
=======
   "execution_count": 22,
   "id": "0dafa369",
>>>>>>> d915bc4b76052cfdc3fed4ae4171873f3a6de852:Preprocessing variations/thinesh - dtc.ipynb
   "metadata": {},
   "outputs": [
    {
     "name": "stdout",
     "output_type": "stream",
     "text": [
      "13895\n"
     ]
    }
   ],
   "source": [
    "n1_nodes = dtree1.tree_.node_count\n",
    "print(n1_nodes)"
   ]
  },
  {
   "cell_type": "code",
<<<<<<< HEAD:thinesh - dtc.ipynb
   "execution_count": 67,
=======
   "execution_count": 23,
   "id": "7c845dcd",
>>>>>>> d915bc4b76052cfdc3fed4ae4171873f3a6de852:Preprocessing variations/thinesh - dtc.ipynb
   "metadata": {},
   "outputs": [],
   "source": [
    "y_pred = dtree1.predict(x_test)\n",
    "\n",
    "# print(cm)"
   ]
  },
  {
   "cell_type": "code",
<<<<<<< HEAD:thinesh - dtc.ipynb
   "execution_count": 68,
=======
   "execution_count": 24,
   "id": "2eaf416d",
>>>>>>> d915bc4b76052cfdc3fed4ae4171873f3a6de852:Preprocessing variations/thinesh - dtc.ipynb
   "metadata": {},
   "outputs": [
    {
     "name": "stdout",
     "output_type": "stream",
     "text": [
      "[[38100  6137]\n",
      " [  832  5331]]\n"
     ]
    }
   ],
   "source": [
    "cm = confusion_matrix(y_test, y_pred)\n",
    "print(cm)"
   ]
  },
  {
   "cell_type": "code",
<<<<<<< HEAD:thinesh - dtc.ipynb
   "execution_count": 69,
=======
   "execution_count": 25,
   "id": "66026bd0",
>>>>>>> d915bc4b76052cfdc3fed4ae4171873f3a6de852:Preprocessing variations/thinesh - dtc.ipynb
   "metadata": {},
   "outputs": [
    {
     "name": "stdout",
     "output_type": "stream",
     "text": [
      "-------------------------TEST SCORES-----------------------\n",
      "Recall: 0.8650008112932014\n",
      "Precision: 0.4648587373561214\n",
      "F1-Score: 0.6047303045771653\n",
      "Accuracy score: 0.8617261904761905\n",
      "AUC Score: 0.8631353944568726\n"
     ]
    }
   ],
   "source": [
    "print(\"-------------------------TEST SCORES-----------------------\")\n",
    "print(f\"Recall: {recall_score(y_test, y_pred)}\")\n",
    "print(f\"Precision: {precision_score(y_test, y_pred)}\")\n",
    "print(f\"F1-Score: {f1_score(y_test, y_pred)}\")\n",
    "print(f\"Accuracy score: {accuracy_score(y_test, y_pred)}\")\n",
    "print(f\"AUC Score: {roc_auc_score(y_test, y_pred)}\")"
   ]
  },
  {
   "cell_type": "markdown",
   "id": "f141572a",
   "metadata": {},
   "source": [
    "#### smoted , 10 levels\n",
    "-------------------------TEST SCORES-----------------------\\\n",
    "Recall: 0.8466655849423982\\\n",
    "Precision: 0.4774453289413487\\\n",
    "F1-Score: 0.6105780482096888\\\n",
    "Accuracy score: 0.8679365079365079\\\n",
    "AUC Score: 0.8587827551721056\\\n",
    "\n",
    "#### smote 12 level\n",
    "-------------------------TEST SCORES-----------------------\\\n",
    "Recall: 0.8481259127048515\\\n",
    "Precision: 0.4717934831663508\\\n",
    "F1-Score: 0.606310172833778\\\n",
    "Accuracy score: 0.8653174603174603\\\n",
    "AUC Score: 0.857919230512066\\\n",
    "\n",
    "#### smote 12 level chi sq\n",
    "-------------------------TEST SCORES-----------------------\\\n",
    "Recall: 0.8650008112932014\\\n",
    "Precision: 0.46775467228217954\\\n",
    "F1-Score: 0.6071753986332574\\\n",
    "Accuracy score: 0.8631349206349206\\\n",
    "AUC Score: 0.8639378901053117\\\n",
    "\n",
    "#### smote 12 level chi sq with longjob\n",
    "-------------------------TEST SCORES-----------------------\\\n",
    "Recall: 0.8650008112932014\\\n",
    "Precision: 0.4648587373561214\\\n",
    "F1-Score: 0.6047303045771653\\\n",
    "Accuracy score: 0.8617261904761905\\\n",
    "AUC Score: 0.8631353944568726\\\n",
    "\n"
   ]
  },
  {
   "cell_type": "code",
   "execution_count": null,
   "id": "17e758f2",
   "metadata": {},
   "outputs": [],
   "source": []
  }
 ],
 "metadata": {
  "kernelspec": {
   "display_name": "Python 3 (ipykernel)",
   "language": "python",
   "name": "python3"
  },
  "language_info": {
   "codemirror_mode": {
    "name": "ipython",
    "version": 3
   },
   "file_extension": ".py",
   "mimetype": "text/x-python",
   "name": "python",
   "nbconvert_exporter": "python",
   "pygments_lexer": "ipython3",
   "version": "3.8.10"
  }
 },
 "nbformat": 4,
 "nbformat_minor": 5
}
