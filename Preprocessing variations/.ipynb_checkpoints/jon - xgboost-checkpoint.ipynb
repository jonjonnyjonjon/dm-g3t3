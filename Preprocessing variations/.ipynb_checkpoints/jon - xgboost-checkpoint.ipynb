{
 "cells": [
  {
   "cell_type": "markdown",
   "id": "d51dca08",
   "metadata": {},
   "source": [
    "# Importing libraries"
   ]
  },
  {
   "cell_type": "code",
   "execution_count": 1,
   "id": "9681e448",
   "metadata": {},
   "outputs": [],
   "source": [
    "import pandas as pd\n",
    "import numpy as np\n",
    "import seaborn as sns\n",
    "import matplotlib.pyplot as plt\n",
    "%matplotlib inline\n",
    "\n",
    "from sklearn.preprocessing import LabelEncoder\n",
    "from sklearn.preprocessing import OneHotEncoder\n",
    "from category_encoders import TargetEncoder\n",
    "\n",
    "from sklearn.preprocessing import MinMaxScaler\n",
    "\n",
    "from sklearn.decomposition import PCA\n",
    "from sklearn.feature_selection import chi2\n",
    "\n",
    "from sklearn.model_selection import train_test_split\n",
    "from imblearn.over_sampling import SMOTE\n",
    "\n",
    "from xgboost import XGBClassifier\n",
    "from sklearn.metrics import confusion_matrix, precision_score, recall_score, f1_score, fbeta_score, accuracy_score, roc_auc_score"
   ]
  },
  {
   "cell_type": "markdown",
   "id": "b2dcbfbd",
   "metadata": {},
   "source": [
    "# Reading file and tidying"
   ]
  },
  {
   "cell_type": "code",
   "execution_count": 2,
   "id": "b973afe6",
   "metadata": {
    "scrolled": true
   },
   "outputs": [],
   "source": [
    "df = pd.read_csv(\"../dataset/loanprediction.csv\")\n",
    "df.drop(\"Id\", axis=1, inplace=True)\n",
    "df.columns = [\"income\", \"age\", \"experience\", \"marital_status\", \"house_ownership\", \"car_ownership\", \"profession\", \"city\", \"state\", \"current_job_years\", \"current_house_years\", \"risk_flag\"]\n",
    "numerical_cols = [\"income\", \"age\", \"experience\", \"current_job_years\", \"current_house_years\"]"
   ]
  },
  {
   "cell_type": "markdown",
   "id": "db64dd31",
   "metadata": {},
   "source": [
    "# Train test split"
   ]
  },
  {
   "cell_type": "code",
   "execution_count": 3,
   "id": "7659560e",
   "metadata": {},
   "outputs": [
    {
     "data": {
      "text/html": [
       "<div>\n",
       "<style scoped>\n",
       "    .dataframe tbody tr th:only-of-type {\n",
       "        vertical-align: middle;\n",
       "    }\n",
       "\n",
       "    .dataframe tbody tr th {\n",
       "        vertical-align: top;\n",
       "    }\n",
       "\n",
       "    .dataframe thead th {\n",
       "        text-align: right;\n",
       "    }\n",
       "</style>\n",
       "<table border=\"1\" class=\"dataframe\">\n",
       "  <thead>\n",
       "    <tr style=\"text-align: right;\">\n",
       "      <th></th>\n",
       "      <th>income</th>\n",
       "      <th>age</th>\n",
       "      <th>experience</th>\n",
       "      <th>marital_status</th>\n",
       "      <th>house_ownership</th>\n",
       "      <th>car_ownership</th>\n",
       "      <th>profession</th>\n",
       "      <th>city</th>\n",
       "      <th>state</th>\n",
       "      <th>current_job_years</th>\n",
       "      <th>current_house_years</th>\n",
       "    </tr>\n",
       "  </thead>\n",
       "  <tbody>\n",
       "    <tr>\n",
       "      <th>0</th>\n",
       "      <td>1303834</td>\n",
       "      <td>23</td>\n",
       "      <td>3</td>\n",
       "      <td>single</td>\n",
       "      <td>rented</td>\n",
       "      <td>no</td>\n",
       "      <td>Mechanical_engineer</td>\n",
       "      <td>Rewa</td>\n",
       "      <td>Madhya_Pradesh</td>\n",
       "      <td>3</td>\n",
       "      <td>13</td>\n",
       "    </tr>\n",
       "    <tr>\n",
       "      <th>1</th>\n",
       "      <td>7574516</td>\n",
       "      <td>40</td>\n",
       "      <td>10</td>\n",
       "      <td>single</td>\n",
       "      <td>rented</td>\n",
       "      <td>no</td>\n",
       "      <td>Software_Developer</td>\n",
       "      <td>Parbhani</td>\n",
       "      <td>Maharashtra</td>\n",
       "      <td>9</td>\n",
       "      <td>13</td>\n",
       "    </tr>\n",
       "    <tr>\n",
       "      <th>2</th>\n",
       "      <td>3991815</td>\n",
       "      <td>66</td>\n",
       "      <td>4</td>\n",
       "      <td>married</td>\n",
       "      <td>rented</td>\n",
       "      <td>no</td>\n",
       "      <td>Technical_writer</td>\n",
       "      <td>Alappuzha</td>\n",
       "      <td>Kerala</td>\n",
       "      <td>4</td>\n",
       "      <td>10</td>\n",
       "    </tr>\n",
       "    <tr>\n",
       "      <th>3</th>\n",
       "      <td>6256451</td>\n",
       "      <td>41</td>\n",
       "      <td>2</td>\n",
       "      <td>single</td>\n",
       "      <td>rented</td>\n",
       "      <td>yes</td>\n",
       "      <td>Software_Developer</td>\n",
       "      <td>Bhubaneswar</td>\n",
       "      <td>Odisha</td>\n",
       "      <td>2</td>\n",
       "      <td>12</td>\n",
       "    </tr>\n",
       "    <tr>\n",
       "      <th>4</th>\n",
       "      <td>5768871</td>\n",
       "      <td>47</td>\n",
       "      <td>11</td>\n",
       "      <td>single</td>\n",
       "      <td>rented</td>\n",
       "      <td>no</td>\n",
       "      <td>Civil_servant</td>\n",
       "      <td>Tiruchirappalli[10]</td>\n",
       "      <td>Tamil_Nadu</td>\n",
       "      <td>3</td>\n",
       "      <td>14</td>\n",
       "    </tr>\n",
       "  </tbody>\n",
       "</table>\n",
       "</div>"
      ],
      "text/plain": [
       "    income  age  experience marital_status house_ownership car_ownership  \\\n",
       "0  1303834   23           3         single          rented            no   \n",
       "1  7574516   40          10         single          rented            no   \n",
       "2  3991815   66           4        married          rented            no   \n",
       "3  6256451   41           2         single          rented           yes   \n",
       "4  5768871   47          11         single          rented            no   \n",
       "\n",
       "            profession                 city           state  \\\n",
       "0  Mechanical_engineer                 Rewa  Madhya_Pradesh   \n",
       "1   Software_Developer             Parbhani     Maharashtra   \n",
       "2     Technical_writer            Alappuzha          Kerala   \n",
       "3   Software_Developer          Bhubaneswar          Odisha   \n",
       "4        Civil_servant  Tiruchirappalli[10]      Tamil_Nadu   \n",
       "\n",
       "   current_job_years  current_house_years  \n",
       "0                  3                   13  \n",
       "1                  9                   13  \n",
       "2                  4                   10  \n",
       "3                  2                   12  \n",
       "4                  3                   14  "
      ]
     },
     "execution_count": 3,
     "metadata": {},
     "output_type": "execute_result"
    }
   ],
   "source": [
    "y = df[\"risk_flag\"]\n",
    "x = df.drop(\"risk_flag\", axis=1)\n",
    "x.head()"
   ]
  },
  {
   "cell_type": "code",
   "execution_count": 4,
   "id": "022bb4db",
   "metadata": {},
   "outputs": [],
   "source": [
    "x_train, x_test, y_train, y_test = train_test_split(x, y, test_size = 0.2, stratify = y, random_state = 2021)"
   ]
  },
  {
   "cell_type": "markdown",
   "id": "8516fbce",
   "metadata": {},
   "source": [
    "# Data preprocessing - Encoding categorical columns and scaling numerical columns"
   ]
  },
  {
   "cell_type": "code",
   "execution_count": 5,
   "id": "d05a3b56",
   "metadata": {},
   "outputs": [],
   "source": [
    "def data_preprocessing(df_x, df_y):\n",
    "    \n",
    "    # Label encoding categorical columns with 2 types of categories\n",
    "    x = df_x.copy()\n",
    "    label_enc = LabelEncoder()\n",
    "    x[\"marital_status\"] = label_enc.fit_transform(x[\"marital_status\"])\n",
    "    x[\"car_ownership\"] = label_enc.fit_transform(x[\"car_ownership\"])\n",
    "    \n",
    "    # One Hot Encoding house_ownership column & Combining back to dataframe\n",
    "    onehot_encoder = OneHotEncoder(handle_unknown='ignore', sparse=False)\n",
    "    \n",
    "    house_ownership_values = onehot_encoder.fit_transform( x[['house_ownership']] )\n",
    "    house_ownership_labels = np.array([\"norent_noown\", \"owned\", \"rented\"]).ravel()\n",
    "    house_ownership_df = pd.DataFrame(house_ownership_values, columns=house_ownership_labels)\n",
    "\n",
    "    x.reset_index(drop=True, inplace=True)\n",
    "    house_ownership_df.reset_index(drop=True, inplace=True)\n",
    "    x = pd.concat([ x, house_ownership_df], axis=1)\n",
    "    \n",
    "    x.drop(\"house_ownership\", axis=1, inplace=True)\n",
    "    \n",
    "    # Target Encoding the high cardinality categorical columns: profession, city, state\n",
    "    # https://medium.com/analytics-vidhya/target-encoding-vs-one-hot-encoding-with-simple-examples-276a7e7b3e64\n",
    "    profession_target_enc = TargetEncoder()\n",
    "    x[\"profession_encoded\"] = profession_target_enc.fit_transform(x[\"profession\"], df_y)\n",
    "    city_target_enc = TargetEncoder()\n",
    "    x[\"city_encoded\"] = city_target_enc.fit_transform(x[\"city\"], df_y)\n",
    "    state_target_enc = TargetEncoder()\n",
    "    x[\"state_encoded\"] = state_target_enc.fit_transform(x[\"state\"], df_y)\n",
    "    x.drop(\"profession\", axis=1, inplace=True)\n",
    "    x.drop(\"city\", axis=1, inplace=True)\n",
    "    x.drop(\"state\", axis=1, inplace=True)\n",
    "    \n",
    "    # https://stackoverflow.com/questions/51237635/difference-between-standard-scaler-and-minmaxscaler\n",
    "    # https://www.geeksforgeeks.org/standardscaler-minmaxscaler-and-robustscaler-techniques-ml/\n",
    "    min_max_scaler = MinMaxScaler()\n",
    "    x[numerical_cols] = min_max_scaler.fit_transform(x[numerical_cols])\n",
    "    \n",
    "    return x"
   ]
  },
  {
   "cell_type": "code",
   "execution_count": 6,
   "id": "e59075ba",
   "metadata": {
    "scrolled": true
   },
   "outputs": [
    {
     "name": "stderr",
     "output_type": "stream",
     "text": [
      "/Users/jonw/miniforge3/envs/ml_env/lib/python3.8/site-packages/category_encoders/utils.py:21: FutureWarning: is_categorical is deprecated and will be removed in a future version.  Use is_categorical_dtype instead\n",
      "  elif pd.api.types.is_categorical(cols):\n",
      "/Users/jonw/miniforge3/envs/ml_env/lib/python3.8/site-packages/category_encoders/utils.py:21: FutureWarning: is_categorical is deprecated and will be removed in a future version.  Use is_categorical_dtype instead\n",
      "  elif pd.api.types.is_categorical(cols):\n"
     ]
    }
   ],
   "source": [
    "x_train = data_preprocessing(x_train, y_train)\n",
    "x_test = data_preprocessing(x_test, y_test)"
   ]
  },
  {
   "cell_type": "code",
   "execution_count": 7,
   "id": "fc55effa",
   "metadata": {},
   "outputs": [],
   "source": [
    "def run_variation_model(x_train, y_train, x_test, y_test, variation):\n",
    "    if \"pca\" in variation:\n",
    "        pca = PCA(0.9, random_state=2021)\n",
    "        x_train = pca.fit_transform(x_train)\n",
    "        x_test = pca.fit_transform(x_test)\n",
    "        \n",
    "    if \"smote\" in variation:\n",
    "        oversampler = SMOTE(random_state=2021)\n",
    "        x_train, y_train = oversampler.fit_resample(x_train, y_train)\n",
    "        \n",
    "    xgb.fit(x_train, y_train, eval_metric='logloss')\n",
    "    y_pred = xgb.predict(x_test)\n",
    "    \n",
    "    print(f\"-------------------------TEST SCORES for {variation}-----------------------\")\n",
    "    print(f\"Recall: {recall_score(y_test, y_pred)}\")\n",
    "    print(f\"Precision: {precision_score(y_test, y_pred)}\")\n",
    "    print(f\"F2-Score: {fbeta_score(y_test, y_pred, beta=2)}\")\n",
    "    print(f\"Accuracy score: {accuracy_score(y_test, y_pred)}\")\n",
    "    print(f\"AUC Score: {roc_auc_score(y_test, y_pred)}\")\n",
    "    print()"
   ]
  },
  {
   "cell_type": "code",
   "execution_count": 12,
   "id": "95f8e70d",
   "metadata": {},
   "outputs": [
    {
     "name": "stdout",
     "output_type": "stream",
     "text": [
      "-------------------------TEST SCORES for base-----------------------\n",
      "Recall: 0.14744313598967576\n",
      "Precision: 0.18163751987281399\n",
      "F2-Score: 0.15321174735148183\n",
      "Accuracy score: 0.8134325396825397\n",
      "AUC Score: 0.5271389114938537\n",
      "\n"
     ]
    }
   ],
   "source": [
    "# # https://xgboost.readthedocs.io/en/latest/python/python_api.html#module-xgboost.sklearn\n",
    "xgb = XGBClassifier(use_label_encoder=False,\n",
    "                    random_state=2021)\n",
    "\n",
    "variations = [\"base\", \"smote\", \"pca\", \"smote, pca\"]\n",
    "\n",
    "for variation in variations:\n",
    "    run_variation_model(x_train, y_train, x_test, y_test, variation)"
   ]
  },
  {
   "cell_type": "code",
   "execution_count": 10,
   "id": "cc9466aa",
   "metadata": {},
   "outputs": [],
   "source": [
    "# model = XGBClassifier(n_jobs=-1, random_state=0)\n",
    "\n",
    "# param_dist = {\n",
    "#     \"learning_rate\": [0.05, 0.10, 0.15, 0.20, 0.25, 0.30],\n",
    "#     \"max_depth\": [3, 4, 5, 6, 8, 10, 12, 15],\n",
    "#     'min_child_weight': [1, 3, 5, 7],\n",
    "#     'gamma': [0.0, 0.1, 0.2 , 0.3, 0.4],\n",
    "#     'colsample_bytree': [0.3, 0.4, 0.5 , 0.7],\n",
    "# }\n",
    "\n",
    "# grid_search = GridSearchCV(model, param_dist, n_jobs=-1, scoring=\"recall\", error_score='raise')\n",
    "\n",
    "# grid_search.fit(x_train, y_train)\n",
    "# grid_search.best_params_"
   ]
  }
 ],
 "metadata": {
  "kernelspec": {
   "display_name": "Python 3 (ipykernel)",
   "language": "python",
   "name": "python3"
  },
  "language_info": {
   "codemirror_mode": {
    "name": "ipython",
    "version": 3
   },
   "file_extension": ".py",
   "mimetype": "text/x-python",
   "name": "python",
   "nbconvert_exporter": "python",
   "pygments_lexer": "ipython3",
   "version": "3.8.10"
  }
 },
 "nbformat": 4,
 "nbformat_minor": 5
}
