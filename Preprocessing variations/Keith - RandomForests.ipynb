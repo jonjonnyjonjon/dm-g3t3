{
 "cells": [
  {
   "cell_type": "markdown",
   "id": "6f19d53e",
   "metadata": {},
   "source": [
    "# CS421: Introduction to Machine Learning\n",
    "## Project: Predicting Credit Card Customer Churn\n",
    "### RandomForests\n",
    "---"
   ]
  },
  {
   "cell_type": "markdown",
   "id": "bcce29da",
   "metadata": {},
   "source": [
    "# 1. Setting up the notebook"
   ]
  },
  {
   "cell_type": "markdown",
   "id": "ef798d0e",
   "metadata": {},
   "source": [
    "### Import libraries"
   ]
  },
  {
   "cell_type": "code",
   "execution_count": 1,
   "id": "3863dce5",
   "metadata": {},
   "outputs": [],
   "source": [
    "import pandas as pd\n",
    "import numpy as np\n",
    "import matplotlib.pyplot as plt\n",
    "import seaborn as sns\n",
    "%matplotlib inline\n",
    "\n",
    "sns.set_theme(style = \"darkgrid\")"
   ]
  },
  {
   "cell_type": "markdown",
   "id": "e67bcb6d",
   "metadata": {},
   "source": [
    "### Import dataset"
   ]
  },
  {
   "cell_type": "code",
   "execution_count": 2,
   "id": "f3e9c29e",
   "metadata": {},
   "outputs": [
    {
     "data": {
      "text/html": [
       "<div>\n",
       "<style scoped>\n",
       "    .dataframe tbody tr th:only-of-type {\n",
       "        vertical-align: middle;\n",
       "    }\n",
       "\n",
       "    .dataframe tbody tr th {\n",
       "        vertical-align: top;\n",
       "    }\n",
       "\n",
       "    .dataframe thead th {\n",
       "        text-align: right;\n",
       "    }\n",
       "</style>\n",
       "<table border=\"1\" class=\"dataframe\">\n",
       "  <thead>\n",
       "    <tr style=\"text-align: right;\">\n",
       "      <th></th>\n",
       "      <th>Income</th>\n",
       "      <th>Age</th>\n",
       "      <th>Experience</th>\n",
       "      <th>Married/Single</th>\n",
       "      <th>House_Ownership</th>\n",
       "      <th>Car_Ownership</th>\n",
       "      <th>Profession</th>\n",
       "      <th>CITY</th>\n",
       "      <th>STATE</th>\n",
       "      <th>CURRENT_JOB_YRS</th>\n",
       "      <th>CURRENT_HOUSE_YRS</th>\n",
       "      <th>Risk_Flag</th>\n",
       "    </tr>\n",
       "    <tr>\n",
       "      <th>Id</th>\n",
       "      <th></th>\n",
       "      <th></th>\n",
       "      <th></th>\n",
       "      <th></th>\n",
       "      <th></th>\n",
       "      <th></th>\n",
       "      <th></th>\n",
       "      <th></th>\n",
       "      <th></th>\n",
       "      <th></th>\n",
       "      <th></th>\n",
       "      <th></th>\n",
       "    </tr>\n",
       "  </thead>\n",
       "  <tbody>\n",
       "    <tr>\n",
       "      <th>1</th>\n",
       "      <td>1303834</td>\n",
       "      <td>23</td>\n",
       "      <td>3</td>\n",
       "      <td>single</td>\n",
       "      <td>rented</td>\n",
       "      <td>no</td>\n",
       "      <td>Mechanical_engineer</td>\n",
       "      <td>Rewa</td>\n",
       "      <td>Madhya_Pradesh</td>\n",
       "      <td>3</td>\n",
       "      <td>13</td>\n",
       "      <td>0</td>\n",
       "    </tr>\n",
       "    <tr>\n",
       "      <th>2</th>\n",
       "      <td>7574516</td>\n",
       "      <td>40</td>\n",
       "      <td>10</td>\n",
       "      <td>single</td>\n",
       "      <td>rented</td>\n",
       "      <td>no</td>\n",
       "      <td>Software_Developer</td>\n",
       "      <td>Parbhani</td>\n",
       "      <td>Maharashtra</td>\n",
       "      <td>9</td>\n",
       "      <td>13</td>\n",
       "      <td>0</td>\n",
       "    </tr>\n",
       "    <tr>\n",
       "      <th>3</th>\n",
       "      <td>3991815</td>\n",
       "      <td>66</td>\n",
       "      <td>4</td>\n",
       "      <td>married</td>\n",
       "      <td>rented</td>\n",
       "      <td>no</td>\n",
       "      <td>Technical_writer</td>\n",
       "      <td>Alappuzha</td>\n",
       "      <td>Kerala</td>\n",
       "      <td>4</td>\n",
       "      <td>10</td>\n",
       "      <td>0</td>\n",
       "    </tr>\n",
       "    <tr>\n",
       "      <th>4</th>\n",
       "      <td>6256451</td>\n",
       "      <td>41</td>\n",
       "      <td>2</td>\n",
       "      <td>single</td>\n",
       "      <td>rented</td>\n",
       "      <td>yes</td>\n",
       "      <td>Software_Developer</td>\n",
       "      <td>Bhubaneswar</td>\n",
       "      <td>Odisha</td>\n",
       "      <td>2</td>\n",
       "      <td>12</td>\n",
       "      <td>1</td>\n",
       "    </tr>\n",
       "    <tr>\n",
       "      <th>5</th>\n",
       "      <td>5768871</td>\n",
       "      <td>47</td>\n",
       "      <td>11</td>\n",
       "      <td>single</td>\n",
       "      <td>rented</td>\n",
       "      <td>no</td>\n",
       "      <td>Civil_servant</td>\n",
       "      <td>Tiruchirappalli[10]</td>\n",
       "      <td>Tamil_Nadu</td>\n",
       "      <td>3</td>\n",
       "      <td>14</td>\n",
       "      <td>1</td>\n",
       "    </tr>\n",
       "  </tbody>\n",
       "</table>\n",
       "</div>"
      ],
      "text/plain": [
       "     Income  Age  Experience Married/Single House_Ownership Car_Ownership  \\\n",
       "Id                                                                          \n",
       "1   1303834   23           3         single          rented            no   \n",
       "2   7574516   40          10         single          rented            no   \n",
       "3   3991815   66           4        married          rented            no   \n",
       "4   6256451   41           2         single          rented           yes   \n",
       "5   5768871   47          11         single          rented            no   \n",
       "\n",
       "             Profession                 CITY           STATE  CURRENT_JOB_YRS  \\\n",
       "Id                                                                              \n",
       "1   Mechanical_engineer                 Rewa  Madhya_Pradesh                3   \n",
       "2    Software_Developer             Parbhani     Maharashtra                9   \n",
       "3      Technical_writer            Alappuzha          Kerala                4   \n",
       "4    Software_Developer          Bhubaneswar          Odisha                2   \n",
       "5         Civil_servant  Tiruchirappalli[10]      Tamil_Nadu                3   \n",
       "\n",
       "    CURRENT_HOUSE_YRS  Risk_Flag  \n",
       "Id                                \n",
       "1                  13          0  \n",
       "2                  13          0  \n",
       "3                  10          0  \n",
       "4                  12          1  \n",
       "5                  14          1  "
      ]
     },
     "execution_count": 2,
     "metadata": {},
     "output_type": "execute_result"
    }
   ],
   "source": [
    "data = pd.read_csv(\"../dataset/loanprediction.csv\", index_col = 0)\n",
    "data.head()"
   ]
  },
  {
   "cell_type": "code",
   "execution_count": 3,
   "id": "4cc5c69b",
   "metadata": {},
   "outputs": [
    {
     "data": {
      "text/plain": [
       "(252000, 12)"
      ]
     },
     "execution_count": 3,
     "metadata": {},
     "output_type": "execute_result"
    }
   ],
   "source": [
    "data.shape"
   ]
  },
  {
   "cell_type": "markdown",
   "id": "5c15e85d",
   "metadata": {},
   "source": [
    "### Renaming columns"
   ]
  },
  {
   "cell_type": "code",
   "execution_count": 4,
   "id": "a7e4a248",
   "metadata": {},
   "outputs": [],
   "source": [
    "data.columns = ['income', 'age', 'experience', 'marital_status', 'house_ownership',\n",
    "       'car_ownership', 'profession', 'city', 'state', 'current_job_yrs',\n",
    "       'current_house_yrs', 'risk_flag']\n",
    "\n",
    "numerical = [\"income\", \"age\", \"experience\", \"current_job_yrs\", \"current_house_yrs\"]\n",
    "categorical = [\"marital_status\", \"house_ownership\", \"car_ownership\", \"profession\", \"city\", \"state\"] "
   ]
  },
  {
   "cell_type": "markdown",
   "id": "58513d69",
   "metadata": {},
   "source": [
    "# 2. Feature Engineering"
   ]
  },
  {
   "cell_type": "markdown",
   "id": "2cd4f955",
   "metadata": {},
   "source": [
    "## Checking cardinality of categorical features before encoding"
   ]
  },
  {
   "cell_type": "code",
   "execution_count": 5,
   "id": "22e1cd49",
   "metadata": {},
   "outputs": [
    {
     "name": "stdout",
     "output_type": "stream",
     "text": [
      "marital_status :2\n",
      "house_ownership :3\n",
      "car_ownership :2\n",
      "profession :51\n",
      "city :317\n",
      "state :29\n"
     ]
    }
   ],
   "source": [
    "for column in categorical:\n",
    "    unique_categories = data[column].nunique()\n",
    "    print( column, \":\" + str(unique_categories) )"
   ]
  },
  {
   "cell_type": "markdown",
   "id": "3536dee9",
   "metadata": {},
   "source": [
    "The following encoding will be done to the categorical features:\n",
    "\n",
    "- marital_status, car_ownership – binarise\n",
    "- house_ownership – one-hot\n",
    "- profession, city, state – count encoding"
   ]
  },
  {
   "cell_type": "code",
   "execution_count": 6,
   "id": "068bb7b4",
   "metadata": {},
   "outputs": [],
   "source": [
    "from sklearn.preprocessing import LabelEncoder\n",
    "from sklearn.preprocessing import OneHotEncoder\n",
    "import category_encoders as ce"
   ]
  },
  {
   "cell_type": "code",
   "execution_count": 7,
   "id": "3d53104c",
   "metadata": {},
   "outputs": [],
   "source": [
    "label_encoder = LabelEncoder()\n",
    "\n",
    "for col in ['marital_status','car_ownership']:\n",
    "    data[col] = label_encoder.fit_transform( data[col] )"
   ]
  },
  {
   "cell_type": "code",
   "execution_count": 8,
   "id": "77ed44af",
   "metadata": {},
   "outputs": [],
   "source": [
    "onehot_encoder = OneHotEncoder(sparse = False)\n",
    "data['house_ownership'] = onehot_encoder.fit_transform(data['house_ownership'].values.reshape(-1, 1) )"
   ]
  },
  {
   "cell_type": "code",
   "execution_count": 9,
   "id": "ec04a8a2",
   "metadata": {},
   "outputs": [],
   "source": [
    "high_card_features = ['profession', 'city', 'state']\n",
    "\n",
    "count_encoder = ce.CountEncoder()\n",
    "\n",
    "# Transform the features, rename the columns with the _count suffix, and join to dataframe\n",
    "count_encoded = count_encoder.fit_transform( data[high_card_features] )\n",
    "data = data.join(count_encoded.add_suffix(\"_count\"))"
   ]
  },
  {
   "cell_type": "code",
   "execution_count": 10,
   "id": "1697db8b",
   "metadata": {},
   "outputs": [
    {
     "data": {
      "text/html": [
       "<div>\n",
       "<style scoped>\n",
       "    .dataframe tbody tr th:only-of-type {\n",
       "        vertical-align: middle;\n",
       "    }\n",
       "\n",
       "    .dataframe tbody tr th {\n",
       "        vertical-align: top;\n",
       "    }\n",
       "\n",
       "    .dataframe thead th {\n",
       "        text-align: right;\n",
       "    }\n",
       "</style>\n",
       "<table border=\"1\" class=\"dataframe\">\n",
       "  <thead>\n",
       "    <tr style=\"text-align: right;\">\n",
       "      <th></th>\n",
       "      <th>income</th>\n",
       "      <th>age</th>\n",
       "      <th>experience</th>\n",
       "      <th>marital_status</th>\n",
       "      <th>house_ownership</th>\n",
       "      <th>car_ownership</th>\n",
       "      <th>current_job_yrs</th>\n",
       "      <th>current_house_yrs</th>\n",
       "      <th>risk_flag</th>\n",
       "      <th>profession_count</th>\n",
       "      <th>city_count</th>\n",
       "      <th>state_count</th>\n",
       "    </tr>\n",
       "    <tr>\n",
       "      <th>Id</th>\n",
       "      <th></th>\n",
       "      <th></th>\n",
       "      <th></th>\n",
       "      <th></th>\n",
       "      <th></th>\n",
       "      <th></th>\n",
       "      <th></th>\n",
       "      <th></th>\n",
       "      <th></th>\n",
       "      <th></th>\n",
       "      <th></th>\n",
       "      <th></th>\n",
       "    </tr>\n",
       "  </thead>\n",
       "  <tbody>\n",
       "    <tr>\n",
       "      <th>1</th>\n",
       "      <td>1303834</td>\n",
       "      <td>23</td>\n",
       "      <td>3</td>\n",
       "      <td>1</td>\n",
       "      <td>0.0</td>\n",
       "      <td>0</td>\n",
       "      <td>3</td>\n",
       "      <td>13</td>\n",
       "      <td>0</td>\n",
       "      <td>5217</td>\n",
       "      <td>798</td>\n",
       "      <td>14122</td>\n",
       "    </tr>\n",
       "    <tr>\n",
       "      <th>2</th>\n",
       "      <td>7574516</td>\n",
       "      <td>40</td>\n",
       "      <td>10</td>\n",
       "      <td>1</td>\n",
       "      <td>0.0</td>\n",
       "      <td>0</td>\n",
       "      <td>9</td>\n",
       "      <td>13</td>\n",
       "      <td>0</td>\n",
       "      <td>5053</td>\n",
       "      <td>849</td>\n",
       "      <td>25562</td>\n",
       "    </tr>\n",
       "    <tr>\n",
       "      <th>3</th>\n",
       "      <td>3991815</td>\n",
       "      <td>66</td>\n",
       "      <td>4</td>\n",
       "      <td>0</td>\n",
       "      <td>0.0</td>\n",
       "      <td>0</td>\n",
       "      <td>4</td>\n",
       "      <td>10</td>\n",
       "      <td>0</td>\n",
       "      <td>5195</td>\n",
       "      <td>688</td>\n",
       "      <td>5805</td>\n",
       "    </tr>\n",
       "    <tr>\n",
       "      <th>4</th>\n",
       "      <td>6256451</td>\n",
       "      <td>41</td>\n",
       "      <td>2</td>\n",
       "      <td>1</td>\n",
       "      <td>0.0</td>\n",
       "      <td>1</td>\n",
       "      <td>2</td>\n",
       "      <td>12</td>\n",
       "      <td>1</td>\n",
       "      <td>5053</td>\n",
       "      <td>607</td>\n",
       "      <td>4658</td>\n",
       "    </tr>\n",
       "    <tr>\n",
       "      <th>5</th>\n",
       "      <td>5768871</td>\n",
       "      <td>47</td>\n",
       "      <td>11</td>\n",
       "      <td>1</td>\n",
       "      <td>0.0</td>\n",
       "      <td>0</td>\n",
       "      <td>3</td>\n",
       "      <td>14</td>\n",
       "      <td>1</td>\n",
       "      <td>4413</td>\n",
       "      <td>809</td>\n",
       "      <td>16537</td>\n",
       "    </tr>\n",
       "  </tbody>\n",
       "</table>\n",
       "</div>"
      ],
      "text/plain": [
       "     income  age  experience  marital_status  house_ownership  car_ownership  \\\n",
       "Id                                                                             \n",
       "1   1303834   23           3               1              0.0              0   \n",
       "2   7574516   40          10               1              0.0              0   \n",
       "3   3991815   66           4               0              0.0              0   \n",
       "4   6256451   41           2               1              0.0              1   \n",
       "5   5768871   47          11               1              0.0              0   \n",
       "\n",
       "    current_job_yrs  current_house_yrs  risk_flag  profession_count  \\\n",
       "Id                                                                    \n",
       "1                 3                 13          0              5217   \n",
       "2                 9                 13          0              5053   \n",
       "3                 4                 10          0              5195   \n",
       "4                 2                 12          1              5053   \n",
       "5                 3                 14          1              4413   \n",
       "\n",
       "    city_count  state_count  \n",
       "Id                           \n",
       "1          798        14122  \n",
       "2          849        25562  \n",
       "3          688         5805  \n",
       "4          607         4658  \n",
       "5          809        16537  "
      ]
     },
     "execution_count": 10,
     "metadata": {},
     "output_type": "execute_result"
    }
   ],
   "source": [
    "# remove old columns\n",
    "data.drop(labels=['profession', 'city', 'state'], axis=1, inplace=True)\n",
    "data.head()"
   ]
  },
  {
   "cell_type": "markdown",
   "id": "9e289b4c",
   "metadata": {},
   "source": [
    "## Splitting the data\n",
    "### Split the dataset into train and test splits"
   ]
  },
  {
   "cell_type": "code",
   "execution_count": 11,
   "id": "b076b49d",
   "metadata": {},
   "outputs": [],
   "source": [
    "x = data.drop(\"risk_flag\", axis=1)\n",
    "y = data[\"risk_flag\"]"
   ]
  },
  {
   "cell_type": "code",
   "execution_count": 12,
   "id": "cf3a7168",
   "metadata": {},
   "outputs": [],
   "source": [
    "from sklearn.model_selection import train_test_split\n",
    "x_train, x_test, y_train, y_test = train_test_split(x, y, test_size = 0.2, stratify = y, random_state = 420)"
   ]
  },
  {
   "cell_type": "markdown",
   "id": "82af105e",
   "metadata": {},
   "source": [
    "# 3. Cross Validation"
   ]
  },
  {
   "cell_type": "markdown",
   "id": "a418c743",
   "metadata": {},
   "source": [
    "### Prepare Pipeline: Smote and RandomForestClassifier"
   ]
  },
  {
   "cell_type": "code",
   "execution_count": 13,
   "id": "7e1775fa",
   "metadata": {
    "execution": {
     "iopub.execute_input": "2021-10-05T10:57:11.570539Z",
     "iopub.status.busy": "2021-10-05T10:57:11.570198Z",
     "iopub.status.idle": "2021-10-05T10:57:11.574802Z",
     "shell.execute_reply": "2021-10-05T10:57:11.573855Z",
     "shell.execute_reply.started": "2021-10-05T10:57:11.570504Z"
    }
   },
   "outputs": [],
   "source": [
    "# from sklearn.ensemble import RandomForestClassifier\n",
    "# from sklearn.model_selection import StratifiedKFold\n",
    "# from imblearn.over_sampling import SMOTE\n",
    "# from imblearn.pipeline import Pipeline\n",
    "\n",
    "# smote_sampler = SMOTE(random_state=420)\n",
    "\n",
    "# pipeline = Pipeline(steps = [['smote', smote_sampler],\n",
    "#                              ['classifier', rf_clf]])"
   ]
  },
  {
   "cell_type": "code",
   "execution_count": 14,
   "id": "c25efbaf",
   "metadata": {
    "execution": {
     "iopub.execute_input": "2021-10-05T10:57:11.576598Z",
     "iopub.status.busy": "2021-10-05T10:57:11.576315Z",
     "iopub.status.idle": "2021-10-05T10:57:11.587525Z",
     "shell.execute_reply": "2021-10-05T10:57:11.586779Z",
     "shell.execute_reply.started": "2021-10-05T10:57:11.576548Z"
    }
   },
   "outputs": [],
   "source": [
    "# Bootstrapping\n",
    "# rf_bootstrap = [True, False]\n",
    "\n",
    "# # Split criterion\n",
    "# rf_criterion = ['gini', 'entropy']\n",
    "\n",
    "# params_grid = {\n",
    "#                'classifier__criterion': rf_criterion,\n",
    "#                'classifier__bootstrap': rf_bootstrap\n",
    "#               }"
   ]
  },
  {
   "cell_type": "markdown",
   "id": "4f53b56e",
   "metadata": {},
   "source": [
    "### GridSearch Cross Validation"
   ]
  },
  {
   "cell_type": "code",
   "execution_count": 15,
   "id": "08299690",
   "metadata": {
    "execution": {
     "iopub.execute_input": "2021-10-05T10:57:11.589249Z",
     "iopub.status.busy": "2021-10-05T10:57:11.588775Z",
     "iopub.status.idle": "2021-10-05T10:57:11.596954Z",
     "shell.execute_reply": "2021-10-05T10:57:11.596105Z",
     "shell.execute_reply.started": "2021-10-05T10:57:11.589213Z"
    }
   },
   "outputs": [],
   "source": [
    "# from sklearn.model_selection import GridSearchCV\n",
    "# from sklearn.metrics import recall_score\n",
    "\n",
    "# stratified_kfold = StratifiedKFold(shuffle=True, n_splits=10, random_state=420)\n",
    "\n",
    "# rf_gridsearch = GridSearchCV(estimator = pipeline,\n",
    "#                            param_grid = params_grid,\n",
    "#                            scoring = 'recall',\n",
    "#                            cv = stratified_kfold,\n",
    "#                            n_jobs = -1 )\n",
    "\n",
    "# rf_gridsearch.fit(x_train, y_train)\n",
    "\n",
    "# best_parameters = rf_gridsearch.best_params_\n",
    "# print(best_parameters)"
   ]
  },
  {
   "cell_type": "code",
   "execution_count": 16,
   "id": "ccccce34",
   "metadata": {
    "execution": {
     "iopub.execute_input": "2021-10-05T10:57:11.603356Z",
     "iopub.status.busy": "2021-10-05T10:57:11.602946Z",
     "iopub.status.idle": "2021-10-05T10:57:11.606902Z",
     "shell.execute_reply": "2021-10-05T10:57:11.606112Z",
     "shell.execute_reply.started": "2021-10-05T10:57:11.603329Z"
    }
   },
   "outputs": [],
   "source": [
    "# best_parameters = rf_gridsearch.best_params_\n",
    "# print(best_parameters)"
   ]
  },
  {
   "cell_type": "markdown",
   "id": "e1cc0c27",
   "metadata": {
    "execution": {
     "iopub.execute_input": "2021-10-05T10:57:11.608929Z",
     "iopub.status.busy": "2021-10-05T10:57:11.608399Z",
     "iopub.status.idle": "2021-10-05T10:57:11.615367Z",
     "shell.execute_reply": "2021-10-05T10:57:11.614583Z",
     "shell.execute_reply.started": "2021-10-05T10:57:11.608894Z"
    }
   },
   "source": [
    "The best parameters from the GridSearch was <br>\n",
    "`{'classifier__bootstrap': True, 'classifier__criterion': 'gini'}`"
   ]
  },
  {
   "cell_type": "markdown",
   "id": "064cd110",
   "metadata": {},
   "source": [
    "### Re-train with best parameters"
   ]
  },
  {
   "cell_type": "code",
   "execution_count": 17,
   "id": "2e858903",
   "metadata": {
    "execution": {
     "iopub.execute_input": "2021-10-05T10:57:11.617097Z",
     "iopub.status.busy": "2021-10-05T10:57:11.616690Z",
     "iopub.status.idle": "2021-10-05T10:57:11.623362Z",
     "shell.execute_reply": "2021-10-05T10:57:11.622589Z",
     "shell.execute_reply.started": "2021-10-05T10:57:11.617063Z"
    }
   },
   "outputs": [],
   "source": [
    "# from sklearn.model_selection import cross_val_score\n",
    "# from sklearn.metrics import make_scorer\n",
    "# from sklearn.metrics import fbeta_score, recall_score\n",
    "\n",
    "# rf_clf = RandomForestClassifier(criterion='gini', bootstrap=True, random_state=420)\n",
    "\n",
    "# smote_sampler = SMOTE(random_state=420)\n",
    "\n",
    "# pipeline = Pipeline(steps = [['smote', smote_sampler],\n",
    "#                              ['classifier', rf_clf]])\n",
    "\n",
    "# stratified_kfold = StratifiedKFold(shuffle=True, n_splits=10, random_state=420)\n",
    "\n",
    "# cross_val = cross_val_score(estimator=pipeline,\n",
    "#                             X = x_train,\n",
    "#                             y = y_train,\n",
    "#                             scoring='recall',\n",
    "#                             cv=stratified_kfold,\n",
    "#                             n_jobs=-1)"
   ]
  },
  {
   "cell_type": "markdown",
   "id": "8f36545f",
   "metadata": {},
   "source": [
    "### Average recall score across 10 folds"
   ]
  },
  {
   "cell_type": "code",
   "execution_count": 18,
   "id": "1a08de06",
   "metadata": {
    "execution": {
     "iopub.execute_input": "2021-10-05T10:57:11.624983Z",
     "iopub.status.busy": "2021-10-05T10:57:11.624645Z",
     "iopub.status.idle": "2021-10-05T10:57:11.635586Z",
     "shell.execute_reply": "2021-10-05T10:57:11.634667Z",
     "shell.execute_reply.started": "2021-10-05T10:57:11.624898Z"
    }
   },
   "outputs": [],
   "source": [
    "# print( cross_val.sum() / 10 )"
   ]
  },
  {
   "cell_type": "code",
   "execution_count": 19,
   "id": "7c725060",
   "metadata": {
    "execution": {
     "iopub.execute_input": "2021-10-05T10:57:11.637536Z",
     "iopub.status.busy": "2021-10-05T10:57:11.637227Z",
     "iopub.status.idle": "2021-10-05T10:58:05.131557Z",
     "shell.execute_reply": "2021-10-05T10:58:05.130680Z",
     "shell.execute_reply.started": "2021-10-05T10:57:11.637503Z"
    }
   },
   "outputs": [],
   "source": [
    "from sklearn.ensemble import RandomForestClassifier\n",
    "from imblearn.over_sampling import SMOTE\n",
    "from imblearn.pipeline import Pipeline\n",
    "\n",
    "rf_clf = RandomForestClassifier(criterion='gini', bootstrap=True, random_state=420)\n",
    "\n",
    "smote_sampler = SMOTE(random_state=420)\n",
    "\n",
    "pipeline = Pipeline(steps = [['smote', smote_sampler],\n",
    "                             ['classifier', rf_clf]])\n",
    "\n",
    "pipeline.fit(x_train, y_train)\n",
    "\n",
    "y_pred = pipeline.predict(x_test)"
   ]
  },
  {
   "cell_type": "code",
   "execution_count": 20,
   "id": "84682291",
   "metadata": {
    "execution": {
     "iopub.execute_input": "2021-10-05T10:58:05.133005Z",
     "iopub.status.busy": "2021-10-05T10:58:05.132747Z",
     "iopub.status.idle": "2021-10-05T10:58:05.199559Z",
     "shell.execute_reply": "2021-10-05T10:58:05.198650Z",
     "shell.execute_reply.started": "2021-10-05T10:58:05.132973Z"
    }
   },
   "outputs": [
    {
     "name": "stdout",
     "output_type": "stream",
     "text": [
      "-------------------------TEST SCORES-----------------------\n",
      "Recall: 81.64\n",
      "Precision: 49.71\n",
      "F1-Score: 61.7911\n",
      "Accuracy score: 87.58\n",
      "AUC Score: 85.03\n"
     ]
    }
   ],
   "source": [
    "from sklearn.metrics import confusion_matrix, precision_score, recall_score, f1_score, accuracy_score, roc_auc_score\n",
    "\n",
    "print(\"-------------------------TEST SCORES-----------------------\") \n",
    "print(f\"Recall: { round(recall_score(y_test, y_pred)*100, 2) }\")\n",
    "print(f\"Precision: { round(precision_score(y_test, y_pred)*100, 2) }\")\n",
    "print(f\"F1-Score: { round(f1_score(y_test, y_pred)*100, 4) }\")\n",
    "print(f\"Accuracy score: { round(accuracy_score(y_test, y_pred)*100, 2) }\")\n",
    "print(f\"AUC Score: { round(roc_auc_score(y_test, y_pred)*100, 2) }\")"
   ]
  }
 ],
 "metadata": {
  "kernelspec": {
   "display_name": "Python 3 (ipykernel)",
   "language": "python",
   "name": "python3"
  },
  "language_info": {
   "codemirror_mode": {
    "name": "ipython",
    "version": 3
   },
   "file_extension": ".py",
   "mimetype": "text/x-python",
   "name": "python",
   "nbconvert_exporter": "python",
   "pygments_lexer": "ipython3",
   "version": "3.8.10"
  }
 },
 "nbformat": 4,
 "nbformat_minor": 5
}
