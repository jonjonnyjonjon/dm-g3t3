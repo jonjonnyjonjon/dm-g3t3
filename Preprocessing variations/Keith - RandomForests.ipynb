{
 "cells": [
  {
   "cell_type": "markdown",
   "id": "6f19d53e",
   "metadata": {},
   "source": [
    "# IS424: Data Mining & Biz Analytics\n",
    "## Team: G3T3\n",
    "### Project: Predicting Loan Default based on Customer Profile\n",
    "### RandomForests\n",
    "---"
   ]
  },
  {
   "cell_type": "markdown",
   "id": "bcce29da",
   "metadata": {},
   "source": [
    "# 1. Setting up the notebook"
   ]
  },
  {
   "cell_type": "markdown",
   "id": "ef798d0e",
   "metadata": {},
   "source": [
    "### Import libraries"
   ]
  },
  {
   "cell_type": "code",
   "execution_count": 9,
   "id": "3863dce5",
   "metadata": {},
   "outputs": [],
   "source": [
    "import pandas as pd\n",
    "import numpy as np\n",
    "import seaborn as sns\n",
    "import matplotlib.pyplot as plt\n",
    "%matplotlib inline\n",
    "\n",
    "from sklearn.preprocessing import LabelEncoder\n",
    "from sklearn.preprocessing import OneHotEncoder\n",
    "from category_encoders import TargetEncoder\n",
    "\n",
    "from sklearn.preprocessing import MinMaxScaler\n",
    "\n",
    "from sklearn.decomposition import PCA\n",
    "from sklearn.feature_selection import chi2\n",
    "\n",
    "from sklearn.model_selection import train_test_split\n",
    "from imblearn.over_sampling import SMOTE\n",
    "\n",
    "from sklearn.ensemble import RandomForestClassifier\n",
    "from sklearn.metrics import confusion_matrix, precision_score, recall_score, f1_score, fbeta_score, accuracy_score, roc_auc_score"
   ]
  },
  {
   "cell_type": "markdown",
   "id": "e67bcb6d",
   "metadata": {},
   "source": [
    "### Import dataset"
   ]
  },
  {
   "cell_type": "code",
   "execution_count": 10,
   "id": "f3e9c29e",
   "metadata": {},
   "outputs": [],
   "source": [
    "df = pd.read_csv(\"../dataset/loanprediction.csv\")\n",
    "df.drop(\"Id\", axis=1, inplace=True)"
   ]
  },
  {
   "cell_type": "code",
   "execution_count": 11,
   "id": "652141b6",
   "metadata": {},
   "outputs": [],
   "source": [
    "df.columns = [\"income\", \"age\", \"experience\", \"marital_status\", \"house_ownership\", \"car_ownership\", \"profession\", \"city\", \"state\", \"current_job_years\", \"current_house_years\", \"risk_flag\"]"
   ]
  },
  {
   "cell_type": "code",
   "execution_count": 12,
   "id": "080056e7",
   "metadata": {},
   "outputs": [],
   "source": [
    "numerical = list(df.describe().columns)[:-1]\n",
    "categorical = [i for i in df.columns if i not in numerical and i != \"risk_flag\"]"
   ]
  },
  {
   "cell_type": "markdown",
   "id": "9e289b4c",
   "metadata": {},
   "source": [
    "### Splitting the data into train and test splits"
   ]
  },
  {
   "cell_type": "code",
   "execution_count": 13,
   "id": "b076b49d",
   "metadata": {},
   "outputs": [],
   "source": [
    "x = df.drop(\"risk_flag\", axis=1)\n",
    "y = df[\"risk_flag\"]"
   ]
  },
  {
   "cell_type": "code",
   "execution_count": 14,
   "id": "cf3a7168",
   "metadata": {},
   "outputs": [],
   "source": [
    "from sklearn.model_selection import train_test_split\n",
    "x_train, x_test, y_train, y_test = train_test_split(x, y, test_size = 0.2, stratify = y, random_state = 2021)"
   ]
  },
  {
   "cell_type": "markdown",
   "id": "6970651c",
   "metadata": {},
   "source": [
    "# 2. Feature Engineering"
   ]
  },
  {
   "cell_type": "code",
   "execution_count": 15,
   "id": "1697db8b",
   "metadata": {},
   "outputs": [
    {
     "name": "stderr",
     "output_type": "stream",
     "text": [
      "/Library/Frameworks/Python.framework/Versions/3.8/lib/python3.8/site-packages/category_encoders/utils.py:21: FutureWarning: is_categorical is deprecated and will be removed in a future version.  Use is_categorical_dtype instead\n",
      "  elif pd.api.types.is_categorical(cols):\n",
      "/Library/Frameworks/Python.framework/Versions/3.8/lib/python3.8/site-packages/category_encoders/utils.py:21: FutureWarning: is_categorical is deprecated and will be removed in a future version.  Use is_categorical_dtype instead\n",
      "  elif pd.api.types.is_categorical(cols):\n"
     ]
    }
   ],
   "source": [
    "def feature_engineering(df_x, df_y):\n",
    "    \n",
    "    # Label encoding categorical columns with 2 types of categories\n",
    "    x = df_x.copy()\n",
    "    label_enc = LabelEncoder()\n",
    "    x[\"marital_status\"] = label_enc.fit_transform(x[\"marital_status\"])\n",
    "    x[\"car_ownership\"] = label_enc.fit_transform(x[\"car_ownership\"])\n",
    "    \n",
    "    # One Hot Encoding house_ownership column & Combining back to dataframe\n",
    "    onehot_encoder = OneHotEncoder(handle_unknown='ignore', sparse=False)\n",
    "    \n",
    "    house_ownership_values = onehot_encoder.fit_transform( x[['house_ownership']] )\n",
    "    house_ownership_labels = np.array([\"norent_noown\", \"owned\", \"rented\"]).ravel()\n",
    "    house_ownership_df = pd.DataFrame(house_ownership_values, columns=house_ownership_labels)\n",
    "\n",
    "    x.reset_index(drop=True, inplace=True)\n",
    "    house_ownership_df.reset_index(drop=True, inplace=True)\n",
    "    x = pd.concat([ x, house_ownership_df], axis=1)\n",
    "    \n",
    "    x.drop(\"house_ownership\", axis=1, inplace=True)\n",
    "    \n",
    "    # Target Encoding the high cardinality categorical columns: profession, city, state\n",
    "    profession_target_enc = TargetEncoder()\n",
    "    x[\"profession_encoded\"] = profession_target_enc.fit_transform(x[\"profession\"], df_y)\n",
    "    city_target_enc = TargetEncoder()\n",
    "    x[\"city_encoded\"] = city_target_enc.fit_transform(x[\"city\"], df_y)\n",
    "    state_target_enc = TargetEncoder()\n",
    "    x[\"state_encoded\"] = state_target_enc.fit_transform(x[\"state\"], df_y)\n",
    "    x.drop(\"profession\", axis=1, inplace=True)\n",
    "    x.drop(\"city\", axis=1, inplace=True)\n",
    "    x.drop(\"state\", axis=1, inplace=True)\n",
    "    return x\n",
    "\n",
    "x_train = feature_engineering(x_train, y_train)\n",
    "x_test = feature_engineering(x_test, y_test)"
   ]
  },
  {
   "cell_type": "markdown",
   "id": "db5532fd",
   "metadata": {},
   "source": [
    "# 3. Feature Selection\n",
    "## 3.1 Decision Tree\n",
    "---"
   ]
  },
  {
   "cell_type": "code",
   "execution_count": 16,
   "id": "37448150",
   "metadata": {},
   "outputs": [],
   "source": [
    "from sklearn.tree import DecisionTreeClassifier\n",
    "from sklearn import tree\n",
    "import matplotlib.pyplot as plt"
   ]
  },
  {
   "cell_type": "code",
   "execution_count": 17,
   "id": "80effa55",
   "metadata": {},
   "outputs": [
    {
     "data": {
      "text/plain": [
       "[Text(232.5, 377.5, 'experience <= 2.5\\ngini = 0.216\\nsamples = 201600\\nvalue = [176803, 24797]'),\n",
       " Text(116.25, 226.5, 'age <= 31.5\\ngini = 0.265\\nsamples = 26977\\nvalue = [22739, 4238]'),\n",
       " Text(58.125, 75.5, 'gini = 0.327\\nsamples = 5180\\nvalue = [4113, 1067]'),\n",
       " Text(174.375, 75.5, 'gini = 0.249\\nsamples = 21797\\nvalue = [18626, 3171]'),\n",
       " Text(348.75, 226.5, 'age <= 33.5\\ngini = 0.208\\nsamples = 174623\\nvalue = [154064, 20559]'),\n",
       " Text(290.625, 75.5, 'gini = 0.233\\nsamples = 39199\\nvalue = [33916, 5283]'),\n",
       " Text(406.875, 75.5, 'gini = 0.2\\nsamples = 135424\\nvalue = [120148, 15276]')]"
      ]
     },
     "execution_count": 17,
     "metadata": {},
     "output_type": "execute_result"
    },
    {
     "data": {
      "image/png": "[encoded data removed]",
      "text/plain": [
       "<Figure size 600x600 with 1 Axes>"
      ]
     },
     "metadata": {
      "needs_background": "light"
     },
     "output_type": "display_data"
    }
   ],
   "source": [
    "clf = DecisionTreeClassifier(max_depth=2, random_state=2021)\n",
    "clf.fit(x_train, y_train)\n",
    "\n",
    "fig, axes = plt.subplots(nrows = 1, ncols = 1, figsize = (2,2), dpi=300)\n",
    "tree.plot_tree(clf,\n",
    "               feature_names = x_train.columns,\n",
    "               filled = True)"
   ]
  },
  {
   "cell_type": "markdown",
   "id": "4ab8d0d6",
   "metadata": {},
   "source": [
    "## 3.2 RandomForestClassifier\n",
    "---"
   ]
  },
  {
   "cell_type": "code",
   "execution_count": 18,
   "id": "68d14bf5",
   "metadata": {},
   "outputs": [
    {
     "data": {
      "text/plain": [
       "RandomForestClassifier(random_state=2021)"
      ]
     },
     "execution_count": 18,
     "metadata": {},
     "output_type": "execute_result"
    }
   ],
   "source": [
    "from sklearn.ensemble import RandomForestClassifier\n",
    "\n",
    "rf_clf = RandomForestClassifier(n_estimators=100, random_state=2021)\n",
    "rf_clf.fit(x_train, y_train.values.ravel() )"
   ]
  },
  {
   "cell_type": "code",
   "execution_count": 19,
   "id": "5fd6169b",
   "metadata": {},
   "outputs": [
    {
     "data": {
      "text/html": [
       "<div>\n",
       "<style scoped>\n",
       "    .dataframe tbody tr th:only-of-type {\n",
       "        vertical-align: middle;\n",
       "    }\n",
       "\n",
       "    .dataframe tbody tr th {\n",
       "        vertical-align: top;\n",
       "    }\n",
       "\n",
       "    .dataframe thead th {\n",
       "        text-align: right;\n",
       "    }\n",
       "</style>\n",
       "<table border=\"1\" class=\"dataframe\">\n",
       "  <thead>\n",
       "    <tr style=\"text-align: right;\">\n",
       "      <th></th>\n",
       "      <th>feature_name</th>\n",
       "      <th>feature_importance</th>\n",
       "    </tr>\n",
       "  </thead>\n",
       "  <tbody>\n",
       "    <tr>\n",
       "      <th>0</th>\n",
       "      <td>income</td>\n",
       "      <td>0.185485</td>\n",
       "    </tr>\n",
       "    <tr>\n",
       "      <th>1</th>\n",
       "      <td>city_encoded</td>\n",
       "      <td>0.159253</td>\n",
       "    </tr>\n",
       "    <tr>\n",
       "      <th>2</th>\n",
       "      <td>profession_encoded</td>\n",
       "      <td>0.144572</td>\n",
       "    </tr>\n",
       "    <tr>\n",
       "      <th>3</th>\n",
       "      <td>age</td>\n",
       "      <td>0.141265</td>\n",
       "    </tr>\n",
       "    <tr>\n",
       "      <th>4</th>\n",
       "      <td>state_encoded</td>\n",
       "      <td>0.104522</td>\n",
       "    </tr>\n",
       "    <tr>\n",
       "      <th>5</th>\n",
       "      <td>experience</td>\n",
       "      <td>0.085605</td>\n",
       "    </tr>\n",
       "    <tr>\n",
       "      <th>6</th>\n",
       "      <td>current_job_years</td>\n",
       "      <td>0.076982</td>\n",
       "    </tr>\n",
       "    <tr>\n",
       "      <th>7</th>\n",
       "      <td>current_house_years</td>\n",
       "      <td>0.064581</td>\n",
       "    </tr>\n",
       "    <tr>\n",
       "      <th>8</th>\n",
       "      <td>car_ownership</td>\n",
       "      <td>0.015491</td>\n",
       "    </tr>\n",
       "    <tr>\n",
       "      <th>9</th>\n",
       "      <td>marital_status</td>\n",
       "      <td>0.010865</td>\n",
       "    </tr>\n",
       "    <tr>\n",
       "      <th>10</th>\n",
       "      <td>rented</td>\n",
       "      <td>0.004854</td>\n",
       "    </tr>\n",
       "    <tr>\n",
       "      <th>11</th>\n",
       "      <td>norent_noown</td>\n",
       "      <td>0.003319</td>\n",
       "    </tr>\n",
       "    <tr>\n",
       "      <th>12</th>\n",
       "      <td>owned</td>\n",
       "      <td>0.003206</td>\n",
       "    </tr>\n",
       "  </tbody>\n",
       "</table>\n",
       "</div>"
      ],
      "text/plain": [
       "           feature_name  feature_importance\n",
       "0                income            0.185485\n",
       "1          city_encoded            0.159253\n",
       "2    profession_encoded            0.144572\n",
       "3                   age            0.141265\n",
       "4         state_encoded            0.104522\n",
       "5            experience            0.085605\n",
       "6     current_job_years            0.076982\n",
       "7   current_house_years            0.064581\n",
       "8         car_ownership            0.015491\n",
       "9        marital_status            0.010865\n",
       "10               rented            0.004854\n",
       "11         norent_noown            0.003319\n",
       "12                owned            0.003206"
      ]
     },
     "execution_count": 19,
     "metadata": {},
     "output_type": "execute_result"
    }
   ],
   "source": [
    "def retrieve_feature_importance(importance, names):\n",
    "    feature_importance = np.array(importance)\n",
    "    feature_names = np.array(names)\n",
    "\n",
    "    data = {'feature_name':feature_names,'feature_importance':feature_importance}\n",
    "    feature_importance_df = pd.DataFrame(data)\n",
    "\n",
    "    feature_importance_df.sort_values(by=['feature_importance'], ascending=False, inplace=True)\n",
    "    return feature_importance_df.reset_index(drop=True)\n",
    "\n",
    "\n",
    "feat_impt_df = retrieve_feature_importance(rf_clf.feature_importances_, x_train.columns)\n",
    "feat_impt_df"
   ]
  },
  {
   "cell_type": "markdown",
   "id": "9abc9cb5",
   "metadata": {},
   "source": [
    "## 3.3 XGBoost\n",
    "---"
   ]
  },
  {
   "cell_type": "code",
   "execution_count": 26,
   "id": "a50b603b",
   "metadata": {},
   "outputs": [
    {
     "name": "stdout",
     "output_type": "stream",
     "text": [
      "[22:19:28] WARNING: /Users/travis/build/dmlc/xgboost/src/learner.cc:1095: Starting in XGBoost 1.3.0, the default evaluation metric used with the objective 'binary:logistic' was changed from 'error' to 'logloss'. Explicitly set eval_metric if you'd like to restore the old behavior.\n"
     ]
    },
    {
     "data": {
      "text/plain": [
       "XGBClassifier(base_score=0.5, booster='gbtree', colsample_bylevel=1,\n",
       "              colsample_bynode=1, colsample_bytree=1, gamma=0, gpu_id=-1,\n",
       "              importance_type='gain', interaction_constraints='',\n",
       "              learning_rate=0.300000012, max_delta_step=0, max_depth=6,\n",
       "              min_child_weight=1, missing=nan, monotone_constraints='()',\n",
       "              n_estimators=100, n_jobs=8, num_parallel_tree=1,\n",
       "              random_state=2021, reg_alpha=0, reg_lambda=1, scale_pos_weight=1,\n",
       "              subsample=1, tree_method='exact', use_label_encoder=False,\n",
       "              validate_parameters=1, verbosity=None)"
      ]
     },
     "execution_count": 26,
     "metadata": {},
     "output_type": "execute_result"
    }
   ],
   "source": [
    "from xgboost import XGBClassifier\n",
    "\n",
    "xgb = XGBClassifier(use_label_encoder=False,\n",
    "                    random_state=2021)\n",
    "                    \n",
    "xgb.fit(x_train, y_train)"
   ]
  },
  {
   "cell_type": "code",
   "execution_count": 28,
   "id": "ea5555df",
   "metadata": {},
   "outputs": [
    {
     "data": {
      "text/html": [
       "<div>\n",
       "<style scoped>\n",
       "    .dataframe tbody tr th:only-of-type {\n",
       "        vertical-align: middle;\n",
       "    }\n",
       "\n",
       "    .dataframe tbody tr th {\n",
       "        vertical-align: top;\n",
       "    }\n",
       "\n",
       "    .dataframe thead th {\n",
       "        text-align: right;\n",
       "    }\n",
       "</style>\n",
       "<table border=\"1\" class=\"dataframe\">\n",
       "  <thead>\n",
       "    <tr style=\"text-align: right;\">\n",
       "      <th></th>\n",
       "      <th>feature_name</th>\n",
       "      <th>feature_importance</th>\n",
       "    </tr>\n",
       "  </thead>\n",
       "  <tbody>\n",
       "    <tr>\n",
       "      <th>0</th>\n",
       "      <td>income</td>\n",
       "      <td>0.097845</td>\n",
       "    </tr>\n",
       "    <tr>\n",
       "      <th>1</th>\n",
       "      <td>city_encoded</td>\n",
       "      <td>0.088775</td>\n",
       "    </tr>\n",
       "    <tr>\n",
       "      <th>2</th>\n",
       "      <td>rented</td>\n",
       "      <td>0.086748</td>\n",
       "    </tr>\n",
       "    <tr>\n",
       "      <th>3</th>\n",
       "      <td>car_ownership</td>\n",
       "      <td>0.083332</td>\n",
       "    </tr>\n",
       "    <tr>\n",
       "      <th>4</th>\n",
       "      <td>age</td>\n",
       "      <td>0.083198</td>\n",
       "    </tr>\n",
       "    <tr>\n",
       "      <th>5</th>\n",
       "      <td>state_encoded</td>\n",
       "      <td>0.083187</td>\n",
       "    </tr>\n",
       "    <tr>\n",
       "      <th>6</th>\n",
       "      <td>profession_encoded</td>\n",
       "      <td>0.081845</td>\n",
       "    </tr>\n",
       "    <tr>\n",
       "      <th>7</th>\n",
       "      <td>current_job_years</td>\n",
       "      <td>0.079102</td>\n",
       "    </tr>\n",
       "    <tr>\n",
       "      <th>8</th>\n",
       "      <td>experience</td>\n",
       "      <td>0.078977</td>\n",
       "    </tr>\n",
       "    <tr>\n",
       "      <th>9</th>\n",
       "      <td>current_house_years</td>\n",
       "      <td>0.074698</td>\n",
       "    </tr>\n",
       "    <tr>\n",
       "      <th>10</th>\n",
       "      <td>marital_status</td>\n",
       "      <td>0.064461</td>\n",
       "    </tr>\n",
       "    <tr>\n",
       "      <th>11</th>\n",
       "      <td>norent_noown</td>\n",
       "      <td>0.058938</td>\n",
       "    </tr>\n",
       "    <tr>\n",
       "      <th>12</th>\n",
       "      <td>owned</td>\n",
       "      <td>0.038894</td>\n",
       "    </tr>\n",
       "  </tbody>\n",
       "</table>\n",
       "</div>"
      ],
      "text/plain": [
       "           feature_name  feature_importance\n",
       "0                income            0.097845\n",
       "1          city_encoded            0.088775\n",
       "2                rented            0.086748\n",
       "3         car_ownership            0.083332\n",
       "4                   age            0.083198\n",
       "5         state_encoded            0.083187\n",
       "6    profession_encoded            0.081845\n",
       "7     current_job_years            0.079102\n",
       "8            experience            0.078977\n",
       "9   current_house_years            0.074698\n",
       "10       marital_status            0.064461\n",
       "11         norent_noown            0.058938\n",
       "12                owned            0.038894"
      ]
     },
     "execution_count": 28,
     "metadata": {},
     "output_type": "execute_result"
    }
   ],
   "source": [
    "feat_impt_df = retrieve_feature_importance(xgb.feature_importances_, x_train.columns)\n",
    "feat_impt_df"
   ]
  },
  {
   "cell_type": "markdown",
   "id": "ceffaffd",
   "metadata": {},
   "source": [
    "## 3.4 Lasso Regression\n",
    "---"
   ]
  },
  {
   "cell_type": "code",
   "execution_count": 32,
   "id": "0a360b6d",
   "metadata": {},
   "outputs": [
    {
     "name": "stdout",
     "output_type": "stream",
     "text": [
      "                     feature_name  feature_importance\n",
      "alpha=0.0001                                         \n",
      "0                          rented        2.834742e-02\n",
      "1                  marital_status        2.123702e-02\n",
      "2                   car_ownership        1.564969e-02\n",
      "3                           owned        5.941071e-03\n",
      "4                      experience        2.235591e-03\n",
      "5               current_job_years        8.618301e-04\n",
      "6             current_house_years        5.383408e-04\n",
      "7                             age        3.892070e-04\n",
      "8                          income        2.928949e-10\n",
      "9                    norent_noown        0.000000e+00\n",
      "10             profession_encoded        0.000000e+00\n",
      "11                   city_encoded        0.000000e+00\n",
      "12                  state_encoded        0.000000e+00\n",
      "\n",
      "                    feature_name  feature_importance\n",
      "alpha=0.001                                         \n",
      "0                         rented        1.961749e-02\n",
      "1                  car_ownership        1.137103e-02\n",
      "2                 marital_status        1.116647e-02\n",
      "3                     experience        2.161443e-03\n",
      "4              current_job_years        7.015111e-04\n",
      "5                            age        3.909729e-04\n",
      "6            current_house_years        1.313315e-04\n",
      "7                         income        2.805640e-10\n",
      "8                   norent_noown        0.000000e+00\n",
      "9                          owned        0.000000e+00\n",
      "10            profession_encoded        0.000000e+00\n",
      "11                  city_encoded        0.000000e+00\n",
      "12                 state_encoded        0.000000e+00\n",
      "\n",
      "                   feature_name  feature_importance\n",
      "alpha=0.01                                         \n",
      "0                    experience        1.655834e-03\n",
      "1                           age        3.678929e-04\n",
      "2                        income        2.594514e-10\n",
      "3                marital_status        0.000000e+00\n",
      "4                 car_ownership        0.000000e+00\n",
      "5             current_job_years        0.000000e+00\n",
      "6           current_house_years        0.000000e+00\n",
      "7                  norent_noown        0.000000e+00\n",
      "8                         owned        0.000000e+00\n",
      "9                        rented        0.000000e+00\n",
      "10           profession_encoded        0.000000e+00\n",
      "11                 city_encoded        0.000000e+00\n",
      "12                state_encoded        0.000000e+00\n",
      "\n",
      "                  feature_name  feature_importance\n",
      "alpha=0.1                                         \n",
      "0                          age        5.703995e-05\n",
      "1                       income        2.779366e-10\n",
      "2                   experience        0.000000e+00\n",
      "3               marital_status        0.000000e+00\n",
      "4                car_ownership        0.000000e+00\n",
      "5            current_job_years        0.000000e+00\n",
      "6          current_house_years        0.000000e+00\n",
      "7                 norent_noown        0.000000e+00\n",
      "8                        owned        0.000000e+00\n",
      "9                       rented        0.000000e+00\n",
      "10          profession_encoded        0.000000e+00\n",
      "11                city_encoded        0.000000e+00\n",
      "12               state_encoded        0.000000e+00\n",
      "\n",
      "                feature_name  feature_importance\n",
      "alpha=1                                         \n",
      "0                     income        2.780118e-10\n",
      "1                        age        0.000000e+00\n",
      "2                 experience        0.000000e+00\n",
      "3             marital_status        0.000000e+00\n",
      "4              car_ownership        0.000000e+00\n",
      "5          current_job_years        0.000000e+00\n",
      "6        current_house_years        0.000000e+00\n",
      "7               norent_noown        0.000000e+00\n",
      "8                      owned        0.000000e+00\n",
      "9                     rented        0.000000e+00\n",
      "10        profession_encoded        0.000000e+00\n",
      "11              city_encoded        0.000000e+00\n",
      "12             state_encoded        0.000000e+00\n",
      "\n"
     ]
    }
   ],
   "source": [
    "from sklearn.linear_model import Lasso\n",
    "\n",
    "alpha_param = [1e-4, 1e-3, 1e-2, 1e-1, 1]\n",
    "\n",
    "for alpha in alpha_param:\n",
    "    lasso = Lasso(alpha=alpha)\n",
    "    lasso.fit(x_train, y_train)\n",
    "\n",
    "    importance = np.abs( lasso.coef_ )\n",
    "\n",
    "    feat_impt_df = retrieve_feature_importance(importance, x_train.columns)\n",
    "    feat_impt_df.index.rename('alpha='+str(alpha), inplace=True) \n",
    "    print( feat_impt_df )\n",
    "    print()"
   ]
  },
  {
   "cell_type": "markdown",
   "id": "86eede2c",
   "metadata": {},
   "source": [
    "# 4. Feature Scaling"
   ]
  },
  {
   "cell_type": "code",
   "execution_count": null,
   "id": "fedf0b91",
   "metadata": {},
   "outputs": [],
   "source": [
    "def feature_scaling(df_x):\n",
    "    min_max_scaler = MinMaxScaler()\n",
    "    x[numerical] = min_max_scaler.fit_transform(x[numerical])\n",
    "    return x\n",
    "\n",
    "x_train = feature_scaling(x_train)\n",
    "x_test = feature_scaling(x_test)"
   ]
  },
  {
   "cell_type": "markdown",
   "id": "82af105e",
   "metadata": {},
   "source": [
    "# 5. Model Train"
   ]
  },
  {
   "cell_type": "code",
   "execution_count": null,
   "id": "984d18c4",
   "metadata": {},
   "outputs": [],
   "source": [
    "def run_variation_model(x_train, y_train, x_test, y_test, variation):\n",
    "    if \"pca\" in variation:\n",
    "        pca = PCA(0.9, random_state=2021)\n",
    "        x_train = pca.fit_transform(x_train)\n",
    "        x_test = pca.fit_transform(x_test)\n",
    "        \n",
    "    if \"chi_square\" in variation:\n",
    "        chi_scores = chi2(x_train, y_train)\n",
    "        p_values = pd.Series(chi_scores[1], index = x_train.columns)\n",
    "        p_values.sort_values(ascending = False , inplace = True)\n",
    "        p_values.plot.bar()\n",
    "        x_train = x_train.drop([\"profession_encoded\", \"state_encoded\", \"city_encoded\", \"income\"], axis=1)\n",
    "        x_test = x_test.drop([\"profession_encoded\", \"state_encoded\", \"city_encoded\", \"income\"], axis=1)\n",
    "        \n",
    "    if \"smote\" in variation:\n",
    "        oversampler = SMOTE(random_state=2021)\n",
    "        x_train, y_train = oversampler.fit_resample(x_train, y_train)\n",
    "    \n",
    "    rf_clf = RandomForestClassifier(random_state=2021)\n",
    "    rf_clf.fit(x_train, y_train)\n",
    "    y_pred = rf_clf.predict(x_test)\n",
    "    \n",
    "    print(f\"-------------------------TEST SCORES for {variation}-----------------------\")\n",
    "    print(f\"Recall: {recall_score(y_test, y_pred)}\")\n",
    "    print(f\"Precision: {precision_score(y_test, y_pred)}\")\n",
    "    print(f\"F2-Score: {fbeta_score(y_test, y_pred, beta=2)}\")\n",
    "    print(f\"Accuracy score: {accuracy_score(y_test, y_pred)}\")\n",
    "    print(f\"AUC Score: {roc_auc_score(y_test, y_pred)}\")\n",
    "    print()"
   ]
  },
  {
   "cell_type": "code",
   "execution_count": null,
   "id": "4f6b6228",
   "metadata": {},
   "outputs": [],
   "source": [
    "variations = [\"base\",\n",
    "              \"smote\",\n",
    "              \"chi_square\",\n",
    "              \"pca\",\n",
    "              \"smote, chi_square\",\n",
    "              \"smote, pca\"]\n",
    "\n",
    "for variation in variations:\n",
    "    run_variation_model(x_train, y_train, x_test, y_test, variation)"
   ]
  }
 ],
 "metadata": {
  "kernelspec": {
   "display_name": "Python 3 (ipykernel)",
   "language": "python",
   "name": "python3"
  },
  "language_info": {
   "codemirror_mode": {
    "name": "ipython",
    "version": 3
   },
   "file_extension": ".py",
   "mimetype": "text/x-python",
   "name": "python",
   "nbconvert_exporter": "python",
   "pygments_lexer": "ipython3",
   "version": "3.8.10"
  }
 },
 "nbformat": 4,
 "nbformat_minor": 5
}
