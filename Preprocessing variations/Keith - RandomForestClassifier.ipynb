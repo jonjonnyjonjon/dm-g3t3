{
 "cells": [
  {
   "cell_type": "markdown",
   "id": "b6db9f7c",
   "metadata": {},
   "source": [
    "# IS424: Data Mining & Biz Analytics\n",
    "## Team: G3T3\n",
    "### Project: Predicting Loan Default based on Customer Profile\n",
    "### Grid Search and Cross-validation: RandomForest\n",
    "---"
   ]
  },
  {
   "cell_type": "markdown",
   "id": "782cc9b3",
   "metadata": {},
   "source": [
    "# 1. Setting up the notebook"
   ]
  },
  {
   "cell_type": "code",
   "execution_count": 1,
   "id": "d6c578f7",
   "metadata": {},
   "outputs": [],
   "source": [
    "import pandas as pd\n",
    "import numpy as np\n",
    "import seaborn as sns\n",
    "import matplotlib.pyplot as plt\n",
    "%matplotlib inline\n",
    "\n",
    "from category_encoders import TargetEncoder\n",
    "\n",
    "from sklearn.model_selection import train_test_split\n",
    "from imblearn.over_sampling import SMOTE\n",
    "\n",
    "from sklearn.ensemble import RandomForestClassifier\n",
    "from sklearn.metrics import confusion_matrix, precision_score, recall_score, f1_score, fbeta_score, accuracy_score, roc_auc_score"
   ]
  },
  {
   "cell_type": "code",
   "execution_count": 2,
   "id": "b0db1970",
   "metadata": {},
   "outputs": [],
   "source": [
    "df_train = pd.read_csv(\"../dataset/train.csv\")\n",
    "df_test = pd.read_csv(\"../dataset/test.csv\")\n",
    "\n",
    "y_train = df_train[[\"risk_flag\"]]\n",
    "x_train = df_train.drop(\"risk_flag\", axis=1)\n",
    "\n",
    "y_test = df_test[[\"risk_flag\"]]\n",
    "x_test = df_test.drop(\"risk_flag\", axis=1)"
   ]
  },
  {
   "cell_type": "markdown",
   "id": "4726084b",
   "metadata": {},
   "source": [
    "# 2. Preparations for GridSearch"
   ]
  },
  {
   "cell_type": "code",
   "execution_count": 3,
   "id": "87962e8d",
   "metadata": {},
   "outputs": [
    {
     "name": "stdout",
     "output_type": "stream",
     "text": [
      "classifier__max_features [1, 5]\n",
      "classifier__min_samples_leaf [1, 3, 5, 8]\n",
      "classifier__n_estimators [100, 200, 300, 400, 500, 600, 700, 800, 900, 1000]\n",
      "classifier__max_depth [2, 6, 10, 14, 18, 22, 26, 30, None]\n",
      "-----------------\n",
      "Total combinations: 720\n"
     ]
    }
   ],
   "source": [
    "# Creating parameter grid to search\n",
    "n_estimators = [ n for n in range(100, 1000+1, 100) ]\n",
    "\n",
    "max_depth = [ depth for depth in range(2, 32, 4) ]\n",
    "max_depth.append(None)\n",
    "\n",
    "max_features = list(range(1, x_train.shape[1], 4))\n",
    "\n",
    "min_samples_leaf = [1, 3, 5, 8]\n",
    "\n",
    "params_grid = {\n",
    "                'classifier__max_features': max_features,\n",
    "                'classifier__min_samples_leaf': min_samples_leaf,\n",
    "                'classifier__n_estimators': n_estimators,\n",
    "                'classifier__max_depth': max_depth\n",
    "              }\n",
    "\n",
    "total_combi = 1\n",
    "for param, value in params_grid.items():\n",
    "    print(param, value)\n",
    "    total_combi *= len(value)\n",
    "\n",
    "print('-----------------')\n",
    "print('Total combinations:', total_combi)"
   ]
  },
  {
   "cell_type": "code",
   "execution_count": null,
   "id": "46dec8d9",
   "metadata": {},
   "outputs": [],
   "source": [
    "from imblearn.pipeline import Pipeline\n",
    "from sklearn.model_selection import RandomizedSearchCV, StratifiedKFold\n",
    "from sklearn.compose import ColumnTransformer\n",
    "\n",
    "te_features = ['profession', 'city','state']\n",
    "\n",
    "preprocessor = ColumnTransformer(transformers=[('te_features', TargetEncoder(), te_features)])\n",
    "\n",
    "pipeline = Pipeline(steps = [['preprocessor', preprocessor ],\n",
    "                             ['smote', SMOTE(random_state=2021)],\n",
    "                             ['classifier', RandomForestClassifier(random_state=2021)]\n",
    "                            ])\n",
    "\n",
    "stratified_kfold = StratifiedKFold(shuffle=True, n_splits=3, random_state=2021)\n",
    "\n",
    "rf_gridsearch = RandomizedSearchCV(estimator = pipeline,\n",
    "                           param_distributions = params_grid,\n",
    "                           scoring = 'recall',\n",
    "                           cv = stratified_kfold,\n",
    "                           refit = True,\n",
    "                           n_jobs = -1,\n",
    "                           random_state = 2021)\n",
    "\n",
    "rf_gridsearch.fit( x_train, y_train.values.ravel() )"
   ]
  },
  {
   "cell_type": "code",
   "execution_count": null,
   "id": "b9364fb7",
   "metadata": {},
   "outputs": [],
   "source": []
  }
 ],
 "metadata": {
  "kernelspec": {
   "display_name": "Python 3 (ipykernel)",
   "language": "python",
   "name": "python3"
  },
  "language_info": {
   "codemirror_mode": {
    "name": "ipython",
    "version": 3
   },
   "file_extension": ".py",
   "mimetype": "text/x-python",
   "name": "python",
   "nbconvert_exporter": "python",
   "pygments_lexer": "ipython3",
   "version": "3.8.10"
  }
 },
 "nbformat": 4,
 "nbformat_minor": 5
}
