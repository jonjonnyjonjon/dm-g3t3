{
 "cells": [
  {
   "cell_type": "markdown",
   "id": "6f19d53e",
   "metadata": {},
   "source": [
    "# Model selection: <font color='#0041C2'>Support Vector Machine</font>\n",
    "---\n",
    "\n",
    "- 1. Model 1 - No SMOTE + no dropping of columns\n",
    "- 2. Model 2 - SMOTE + no dropping of columns\n",
    "- 3. Model 3 - SMOTE + dropped columns"
   ]
  },
  {
   "cell_type": "markdown",
   "id": "bcce29da",
   "metadata": {},
   "source": [
    "# Setting up the notebook"
   ]
  },
  {
   "cell_type": "code",
   "execution_count": 1,
   "id": "3863dce5",
   "metadata": {},
   "outputs": [],
   "source": [
    "import pandas as pd\n",
    "import numpy as np\n",
    "\n",
    "from category_encoders import TargetEncoder\n",
    "from imblearn.over_sampling import SMOTE\n",
    "from sklearn.preprocessing import MinMaxScaler\n",
    "\n",
    "from sklearn.svm import SVC\n",
    "from sklearn.metrics import accuracy_score, precision_score, recall_score, fbeta_score, roc_auc_score, make_scorer\n",
    "\n",
    "from imblearn.pipeline import Pipeline\n",
    "from sklearn.model_selection import StratifiedKFold, cross_validate\n",
    "from sklearn.compose import ColumnTransformer "
   ]
  },
  {
   "cell_type": "code",
   "execution_count": 2,
   "id": "f3e9c29e",
   "metadata": {},
   "outputs": [],
   "source": [
    "df_train = pd.read_csv(\"../dataset/train.csv\")\n",
    "\n",
    "y_train = df_train[[\"risk_flag\"]]\n",
    "x_train = df_train.drop(\"risk_flag\", axis=1)"
   ]
  },
  {
   "cell_type": "code",
   "execution_count": 3,
   "id": "cb1e118e",
   "metadata": {},
   "outputs": [],
   "source": [
    "def run_pipeline(pipeline, x_train, y_train):\n",
    "    stratified_kfold = StratifiedKFold(shuffle=True, n_splits=3, random_state=2021)\n",
    "\n",
    "    scoring = {\"accuracy\": \"accuracy\",\n",
    "               \"recall\": 'recall',\n",
    "               \"precision\": \"precision\",\n",
    "               \"fbeta_2\": make_scorer(fbeta_score, beta=2),\n",
    "               \"roc_auc\": make_scorer(roc_auc_score),\n",
    "              }\n",
    "\n",
    "    scores = cross_validate(pipeline, x_train, y_train.values.ravel(), cv=stratified_kfold,\n",
    "                           scoring = scoring)\n",
    "\n",
    "    accuracy = [ val for val in scores['test_accuracy'] ]\n",
    "    recall = [ val for val in scores['test_recall'] ]\n",
    "    precision = [ val for val in scores['test_precision'] ]\n",
    "    fbeta_2 = [ val for val in scores['test_fbeta_2'] ]\n",
    "    auc = [ val for val in scores['test_roc_auc'] ]\n",
    "    \n",
    "    accuracy.append( sum(accuracy) / len(accuracy) )\n",
    "    recall.append( sum(recall) / len(recall) )\n",
    "    precision.append( sum(precision) / len(precision) )\n",
    "    fbeta_2.append( sum(fbeta_2) / len(fbeta_2) )\n",
    "    auc.append( sum(auc) / len(auc) )\n",
    "\n",
    "    score_df = pd.DataFrame(data=[accuracy, recall, precision, fbeta_2, auc], columns=['Fold 1','Fold 2','Fold 3', 'Average'],\n",
    "                            index=['Accuracy', 'Recall', 'Precision', 'Fbeta2', 'AUC'])\n",
    "    display(score_df)"
   ]
  },
  {
   "cell_type": "markdown",
   "id": "58513d69",
   "metadata": {},
   "source": [
    "# Model 1 - No SMOTE + no dropping of columns"
   ]
  },
  {
   "cell_type": "code",
   "execution_count": 4,
   "id": "46ee3265",
   "metadata": {},
   "outputs": [
    {
     "name": "stderr",
     "output_type": "stream",
     "text": [
      "/Users/jonw/miniforge3/envs/ml_env/lib/python3.8/site-packages/category_encoders/utils.py:21: FutureWarning: is_categorical is deprecated and will be removed in a future version.  Use is_categorical_dtype instead\n",
      "  elif pd.api.types.is_categorical(cols):\n",
      "/Users/jonw/miniforge3/envs/ml_env/lib/python3.8/site-packages/sklearn/metrics/_classification.py:1248: UndefinedMetricWarning: Precision is ill-defined and being set to 0.0 due to no predicted samples. Use `zero_division` parameter to control this behavior.\n",
      "  _warn_prf(average, modifier, msg_start, len(result))\n",
      "/Users/jonw/miniforge3/envs/ml_env/lib/python3.8/site-packages/category_encoders/utils.py:21: FutureWarning: is_categorical is deprecated and will be removed in a future version.  Use is_categorical_dtype instead\n",
      "  elif pd.api.types.is_categorical(cols):\n",
      "/Users/jonw/miniforge3/envs/ml_env/lib/python3.8/site-packages/sklearn/metrics/_classification.py:1248: UndefinedMetricWarning: Precision is ill-defined and being set to 0.0 due to no predicted samples. Use `zero_division` parameter to control this behavior.\n",
      "  _warn_prf(average, modifier, msg_start, len(result))\n",
      "/Users/jonw/miniforge3/envs/ml_env/lib/python3.8/site-packages/category_encoders/utils.py:21: FutureWarning: is_categorical is deprecated and will be removed in a future version.  Use is_categorical_dtype instead\n",
      "  elif pd.api.types.is_categorical(cols):\n",
      "/Users/jonw/miniforge3/envs/ml_env/lib/python3.8/site-packages/sklearn/metrics/_classification.py:1248: UndefinedMetricWarning: Precision is ill-defined and being set to 0.0 due to no predicted samples. Use `zero_division` parameter to control this behavior.\n",
      "  _warn_prf(average, modifier, msg_start, len(result))\n"
     ]
    },
    {
     "data": {
      "text/html": [
       "<div>\n",
       "<style scoped>\n",
       "    .dataframe tbody tr th:only-of-type {\n",
       "        vertical-align: middle;\n",
       "    }\n",
       "\n",
       "    .dataframe tbody tr th {\n",
       "        vertical-align: top;\n",
       "    }\n",
       "\n",
       "    .dataframe thead th {\n",
       "        text-align: right;\n",
       "    }\n",
       "</style>\n",
       "<table border=\"1\" class=\"dataframe\">\n",
       "  <thead>\n",
       "    <tr style=\"text-align: right;\">\n",
       "      <th></th>\n",
       "      <th>Fold 1</th>\n",
       "      <th>Fold 2</th>\n",
       "      <th>Fold 3</th>\n",
       "      <th>Average</th>\n",
       "    </tr>\n",
       "  </thead>\n",
       "  <tbody>\n",
       "    <tr>\n",
       "      <th>Accuracy</th>\n",
       "      <td>0.877009</td>\n",
       "      <td>0.876994</td>\n",
       "      <td>0.876994</td>\n",
       "      <td>0.876999</td>\n",
       "    </tr>\n",
       "    <tr>\n",
       "      <th>Recall</th>\n",
       "      <td>0.000000</td>\n",
       "      <td>0.000000</td>\n",
       "      <td>0.000000</td>\n",
       "      <td>0.000000</td>\n",
       "    </tr>\n",
       "    <tr>\n",
       "      <th>Precision</th>\n",
       "      <td>0.000000</td>\n",
       "      <td>0.000000</td>\n",
       "      <td>0.000000</td>\n",
       "      <td>0.000000</td>\n",
       "    </tr>\n",
       "    <tr>\n",
       "      <th>Fbeta2</th>\n",
       "      <td>0.000000</td>\n",
       "      <td>0.000000</td>\n",
       "      <td>0.000000</td>\n",
       "      <td>0.000000</td>\n",
       "    </tr>\n",
       "    <tr>\n",
       "      <th>AUC</th>\n",
       "      <td>0.500000</td>\n",
       "      <td>0.500000</td>\n",
       "      <td>0.500000</td>\n",
       "      <td>0.500000</td>\n",
       "    </tr>\n",
       "  </tbody>\n",
       "</table>\n",
       "</div>"
      ],
      "text/plain": [
       "             Fold 1    Fold 2    Fold 3   Average\n",
       "Accuracy   0.877009  0.876994  0.876994  0.876999\n",
       "Recall     0.000000  0.000000  0.000000  0.000000\n",
       "Precision  0.000000  0.000000  0.000000  0.000000\n",
       "Fbeta2     0.000000  0.000000  0.000000  0.000000\n",
       "AUC        0.500000  0.500000  0.500000  0.500000"
      ]
     },
     "metadata": {},
     "output_type": "display_data"
    }
   ],
   "source": [
    "te_features = ['profession', 'city','state']\n",
    "scale_features = ['income','age','experience']\n",
    "\n",
    "preprocessor = ColumnTransformer(transformers=[('te_features', TargetEncoder(), te_features),\n",
    "                                               ('scale_features', MinMaxScaler(), scale_features)], remainder=\"passthrough\")\n",
    "\n",
    "pipeline1 = Pipeline(steps = [['preprocessor', preprocessor ],\n",
    "                             ['classifier', SVC(kernel='rbf', random_state=2021)]]\n",
    "                   )\n",
    "\n",
    "run_pipeline(pipeline1, x_train, y_train)"
   ]
  },
  {
   "cell_type": "markdown",
   "id": "42dd0965",
   "metadata": {},
   "source": [
    "# Model 2 - SMOTE + no dropping of columns"
   ]
  },
  {
   "cell_type": "code",
   "execution_count": 5,
   "id": "44341df5",
   "metadata": {},
   "outputs": [
    {
     "name": "stderr",
     "output_type": "stream",
     "text": [
      "/Users/jonw/miniforge3/envs/ml_env/lib/python3.8/site-packages/category_encoders/utils.py:21: FutureWarning: is_categorical is deprecated and will be removed in a future version.  Use is_categorical_dtype instead\n",
      "  elif pd.api.types.is_categorical(cols):\n",
      "/Users/jonw/miniforge3/envs/ml_env/lib/python3.8/site-packages/category_encoders/utils.py:21: FutureWarning: is_categorical is deprecated and will be removed in a future version.  Use is_categorical_dtype instead\n",
      "  elif pd.api.types.is_categorical(cols):\n",
      "/Users/jonw/miniforge3/envs/ml_env/lib/python3.8/site-packages/category_encoders/utils.py:21: FutureWarning: is_categorical is deprecated and will be removed in a future version.  Use is_categorical_dtype instead\n",
      "  elif pd.api.types.is_categorical(cols):\n"
     ]
    },
    {
     "data": {
      "text/html": [
       "<div>\n",
       "<style scoped>\n",
       "    .dataframe tbody tr th:only-of-type {\n",
       "        vertical-align: middle;\n",
       "    }\n",
       "\n",
       "    .dataframe tbody tr th {\n",
       "        vertical-align: top;\n",
       "    }\n",
       "\n",
       "    .dataframe thead th {\n",
       "        text-align: right;\n",
       "    }\n",
       "</style>\n",
       "<table border=\"1\" class=\"dataframe\">\n",
       "  <thead>\n",
       "    <tr style=\"text-align: right;\">\n",
       "      <th></th>\n",
       "      <th>Fold 1</th>\n",
       "      <th>Fold 2</th>\n",
       "      <th>Fold 3</th>\n",
       "      <th>Average</th>\n",
       "    </tr>\n",
       "  </thead>\n",
       "  <tbody>\n",
       "    <tr>\n",
       "      <th>Accuracy</th>\n",
       "      <td>0.619196</td>\n",
       "      <td>0.624643</td>\n",
       "      <td>0.625372</td>\n",
       "      <td>0.623070</td>\n",
       "    </tr>\n",
       "    <tr>\n",
       "      <th>Recall</th>\n",
       "      <td>0.553055</td>\n",
       "      <td>0.546455</td>\n",
       "      <td>0.534962</td>\n",
       "      <td>0.544824</td>\n",
       "    </tr>\n",
       "    <tr>\n",
       "      <th>Precision</th>\n",
       "      <td>0.172706</td>\n",
       "      <td>0.173784</td>\n",
       "      <td>0.171708</td>\n",
       "      <td>0.172733</td>\n",
       "    </tr>\n",
       "    <tr>\n",
       "      <th>Fbeta2</th>\n",
       "      <td>0.383943</td>\n",
       "      <td>0.382434</td>\n",
       "      <td>0.375912</td>\n",
       "      <td>0.380763</td>\n",
       "    </tr>\n",
       "    <tr>\n",
       "      <th>AUC</th>\n",
       "      <td>0.590764</td>\n",
       "      <td>0.591032</td>\n",
       "      <td>0.586508</td>\n",
       "      <td>0.589435</td>\n",
       "    </tr>\n",
       "  </tbody>\n",
       "</table>\n",
       "</div>"
      ],
      "text/plain": [
       "             Fold 1    Fold 2    Fold 3   Average\n",
       "Accuracy   0.619196  0.624643  0.625372  0.623070\n",
       "Recall     0.553055  0.546455  0.534962  0.544824\n",
       "Precision  0.172706  0.173784  0.171708  0.172733\n",
       "Fbeta2     0.383943  0.382434  0.375912  0.380763\n",
       "AUC        0.590764  0.591032  0.586508  0.589435"
      ]
     },
     "metadata": {},
     "output_type": "display_data"
    }
   ],
   "source": [
    "te_features = ['profession', 'city','state']\n",
    "scale_features = ['income','age','experience']\n",
    "\n",
    "preprocessor = ColumnTransformer(transformers=[('te_features', TargetEncoder(), te_features),\n",
    "                                               ('scale_features', MinMaxScaler(), scale_features)], remainder=\"passthrough\")\n",
    "\n",
    "pipeline2 = Pipeline(steps = [['preprocessor', preprocessor ],\n",
    "                             ['smote', SMOTE(random_state=2021)],\n",
    "                             ['classifier', SVC(kernel='rbf', random_state=2021)]]\n",
    "                   )\n",
    "\n",
    "run_pipeline(pipeline2, x_train, y_train)"
   ]
  },
  {
   "cell_type": "markdown",
   "id": "403c6b78",
   "metadata": {},
   "source": [
    "# Model 3 - SMOTE + dropped columns"
   ]
  },
  {
   "cell_type": "code",
   "execution_count": 6,
   "id": "d83bf72a",
   "metadata": {},
   "outputs": [
    {
     "name": "stderr",
     "output_type": "stream",
     "text": [
      "/Users/jonw/miniforge3/envs/ml_env/lib/python3.8/site-packages/category_encoders/utils.py:21: FutureWarning: is_categorical is deprecated and will be removed in a future version.  Use is_categorical_dtype instead\n",
      "  elif pd.api.types.is_categorical(cols):\n",
      "/Users/jonw/miniforge3/envs/ml_env/lib/python3.8/site-packages/category_encoders/utils.py:21: FutureWarning: is_categorical is deprecated and will be removed in a future version.  Use is_categorical_dtype instead\n",
      "  elif pd.api.types.is_categorical(cols):\n",
      "/Users/jonw/miniforge3/envs/ml_env/lib/python3.8/site-packages/category_encoders/utils.py:21: FutureWarning: is_categorical is deprecated and will be removed in a future version.  Use is_categorical_dtype instead\n",
      "  elif pd.api.types.is_categorical(cols):\n"
     ]
    },
    {
     "data": {
      "text/html": [
       "<div>\n",
       "<style scoped>\n",
       "    .dataframe tbody tr th:only-of-type {\n",
       "        vertical-align: middle;\n",
       "    }\n",
       "\n",
       "    .dataframe tbody tr th {\n",
       "        vertical-align: top;\n",
       "    }\n",
       "\n",
       "    .dataframe thead th {\n",
       "        text-align: right;\n",
       "    }\n",
       "</style>\n",
       "<table border=\"1\" class=\"dataframe\">\n",
       "  <thead>\n",
       "    <tr style=\"text-align: right;\">\n",
       "      <th></th>\n",
       "      <th>Fold 1</th>\n",
       "      <th>Fold 2</th>\n",
       "      <th>Fold 3</th>\n",
       "      <th>Average</th>\n",
       "    </tr>\n",
       "  </thead>\n",
       "  <tbody>\n",
       "    <tr>\n",
       "      <th>Accuracy</th>\n",
       "      <td>0.608690</td>\n",
       "      <td>0.623467</td>\n",
       "      <td>0.609583</td>\n",
       "      <td>0.613914</td>\n",
       "    </tr>\n",
       "    <tr>\n",
       "      <th>Recall</th>\n",
       "      <td>0.581367</td>\n",
       "      <td>0.565086</td>\n",
       "      <td>0.580450</td>\n",
       "      <td>0.575634</td>\n",
       "    </tr>\n",
       "    <tr>\n",
       "      <th>Precision</th>\n",
       "      <td>0.173836</td>\n",
       "      <td>0.177073</td>\n",
       "      <td>0.174055</td>\n",
       "      <td>0.174988</td>\n",
       "    </tr>\n",
       "    <tr>\n",
       "      <th>Fbeta2</th>\n",
       "      <td>0.395792</td>\n",
       "      <td>0.392897</td>\n",
       "      <td>0.395679</td>\n",
       "      <td>0.394790</td>\n",
       "    </tr>\n",
       "    <tr>\n",
       "      <th>AUC</th>\n",
       "      <td>0.596945</td>\n",
       "      <td>0.598371</td>\n",
       "      <td>0.597060</td>\n",
       "      <td>0.597458</td>\n",
       "    </tr>\n",
       "  </tbody>\n",
       "</table>\n",
       "</div>"
      ],
      "text/plain": [
       "             Fold 1    Fold 2    Fold 3   Average\n",
       "Accuracy   0.608690  0.623467  0.609583  0.613914\n",
       "Recall     0.581367  0.565086  0.580450  0.575634\n",
       "Precision  0.173836  0.177073  0.174055  0.174988\n",
       "Fbeta2     0.395792  0.392897  0.395679  0.394790\n",
       "AUC        0.596945  0.598371  0.597060  0.597458"
      ]
     },
     "metadata": {},
     "output_type": "display_data"
    }
   ],
   "source": [
    "x_train.drop(['current_house_years', 'current_job_years', 'norent_noown', 'owned', 'marital_status'], axis=1, inplace=True)\n",
    "\n",
    "te_features = ['profession', 'city','state']\n",
    "scale_features = ['income','age','experience']\n",
    "\n",
    "preprocessor = ColumnTransformer(transformers=[('te_features', TargetEncoder(), te_features),\n",
    "                                               ('scale_features', MinMaxScaler(), scale_features)], remainder=\"passthrough\")\n",
    "\n",
    "pipeline3 = Pipeline(steps = [['preprocessor', preprocessor ],\n",
    "                             ['smote', SMOTE(random_state=2021)],\n",
    "                             ['classifier', SVC(kernel='rbf', random_state=2021)]]\n",
    "                   )\n",
    "\n",
    "run_pipeline(pipeline3, x_train, y_train)"
   ]
  },
  {
   "cell_type": "markdown",
   "id": "865c9c0a",
   "metadata": {},
   "source": [
    "### All results\n",
    "|           | Model 1  | Model 2  | Model 3  |\n",
    "|-----------|----------|----------|----------|\n",
    "| Accuracy  | 0.876999 | 0.623070 | 0.613914 |\n",
    "| Recall    | 0        | 0.544824 | 0.575634 |\n",
    "| Precision | 0        | 0.172733 | 0.174988 |\n",
    "| Fbeta2    | 0        | 0.380763 | 0.394790 |\n",
    "| AUC       |      0.5 | 0.589435 | 0.597458 |"
   ]
  }
 ],
 "metadata": {
  "kernelspec": {
   "display_name": "Python 3 (ipykernel)",
   "language": "python",
   "name": "python3"
  },
  "language_info": {
   "codemirror_mode": {
    "name": "ipython",
    "version": 3
   },
   "file_extension": ".py",
   "mimetype": "text/x-python",
   "name": "python",
   "nbconvert_exporter": "python",
   "pygments_lexer": "ipython3",
   "version": "3.8.10"
  }
 },
 "nbformat": 4,
 "nbformat_minor": 5
}
