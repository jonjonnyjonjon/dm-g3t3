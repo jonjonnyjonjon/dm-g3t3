{
 "cells": [
  {
   "cell_type": "markdown",
   "id": "b6db9f7c",
   "metadata": {},
   "source": [
    "# Model selection: <font color='#0041C2'>XGBoost</font>\n",
    "---\n",
    "\n",
    "- 1. Model 1 - No SMOTE + no dropping of columns\n",
    "- 2. Model 2 - SMOTE + no dropping of columns\n",
    "- 3. Model 3 - SMOTE + dropped columns"
   ]
  },
  {
   "cell_type": "markdown",
   "id": "782cc9b3",
   "metadata": {},
   "source": [
    "# Setting up the notebook"
   ]
  },
  {
   "cell_type": "code",
   "execution_count": 31,
   "id": "d6c578f7",
   "metadata": {},
   "outputs": [],
   "source": [
    "import pandas as pd\n",
    "import numpy as np\n",
    "import matplotlib.pyplot as plt\n",
    "\n",
    "from imblearn.over_sampling import SMOTE\n",
    "from category_encoders import TargetEncoder\n",
    "from sklearn.preprocessing import MinMaxScaler\n",
    "\n",
    "from xgboost import XGBClassifier\n",
    "from sklearn.metrics import accuracy_score, precision_score, recall_score, fbeta_score, roc_auc_score, make_scorer\n",
    "\n",
    "from imblearn.pipeline import Pipeline\n",
    "from sklearn.model_selection import StratifiedKFold, cross_validate\n",
    "from sklearn.compose import ColumnTransformer "
   ]
  },
  {
   "cell_type": "code",
   "execution_count": 32,
   "id": "b0db1970",
   "metadata": {},
   "outputs": [],
   "source": [
    "df_train = pd.read_csv(\"../dataset/train.csv\")\n",
    "\n",
    "y_train = df_train[[\"risk_flag\"]]\n",
    "x_train = df_train.drop(\"risk_flag\", axis=1)"
   ]
  },
  {
   "cell_type": "code",
   "execution_count": 33,
   "id": "6780225c",
   "metadata": {},
   "outputs": [],
   "source": [
    "def run_pipeline(pipeline, x_train, y_train):\n",
    "    stratified_kfold = StratifiedKFold(shuffle=True, n_splits=3, random_state=2021)\n",
    "\n",
    "    scoring = {\"accuracy\": \"accuracy\",\n",
    "               \"recall\": 'recall',\n",
    "               \"precision\": \"precision\",\n",
    "               \"fbeta_2\": make_scorer(fbeta_score, beta=2),\n",
    "               \"roc_auc\": make_scorer(roc_auc_score),\n",
    "              }\n",
    "\n",
    "    scores = cross_validate(pipeline, x_train, y_train.values.ravel(), cv=stratified_kfold,\n",
    "                           scoring = scoring)\n",
    "\n",
    "    accuracy = [ val for val in scores['test_accuracy'] ]\n",
    "    recall = [ val for val in scores['test_recall'] ]\n",
    "    precision = [ val for val in scores['test_precision'] ]\n",
    "    fbeta_2 = [ val for val in scores['test_fbeta_2'] ]\n",
    "    auc = [ val for val in scores['test_roc_auc'] ]\n",
    "    \n",
    "    accuracy.append( sum(accuracy) / len(accuracy) )\n",
    "    recall.append( sum(recall) / len(recall) )\n",
    "    precision.append( sum(precision) / len(precision) )\n",
    "    fbeta_2.append( sum(fbeta_2) / len(fbeta_2) )\n",
    "    auc.append( sum(auc) / len(auc) )\n",
    "\n",
    "    score_df = pd.DataFrame(data=[accuracy, recall, precision, fbeta_2, auc], columns=['Fold 1','Fold 2','Fold 3', 'Average'],\n",
    "                            index=['Accuracy', 'Recall', 'Precision', 'Fbeta2', 'AUC'])\n",
    "    display(score_df)"
   ]
  },
  {
   "cell_type": "markdown",
   "id": "ea8d4d57",
   "metadata": {},
   "source": [
    "# Model 1 - No SMOTE + no dropping of columns"
   ]
  },
  {
   "cell_type": "code",
   "execution_count": 34,
   "id": "6de632a0",
   "metadata": {},
   "outputs": [
    {
     "name": "stderr",
     "output_type": "stream",
     "text": [
      "/Users/jonw/miniforge3/envs/ml_env/lib/python3.8/site-packages/category_encoders/utils.py:21: FutureWarning: is_categorical is deprecated and will be removed in a future version.  Use is_categorical_dtype instead\n",
      "  elif pd.api.types.is_categorical(cols):\n",
      "/Users/jonw/miniforge3/envs/ml_env/lib/python3.8/site-packages/category_encoders/utils.py:21: FutureWarning: is_categorical is deprecated and will be removed in a future version.  Use is_categorical_dtype instead\n",
      "  elif pd.api.types.is_categorical(cols):\n",
      "/Users/jonw/miniforge3/envs/ml_env/lib/python3.8/site-packages/category_encoders/utils.py:21: FutureWarning: is_categorical is deprecated and will be removed in a future version.  Use is_categorical_dtype instead\n",
      "  elif pd.api.types.is_categorical(cols):\n"
     ]
    },
    {
     "data": {
      "text/html": [
       "<div>\n",
       "<style scoped>\n",
       "    .dataframe tbody tr th:only-of-type {\n",
       "        vertical-align: middle;\n",
       "    }\n",
       "\n",
       "    .dataframe tbody tr th {\n",
       "        vertical-align: top;\n",
       "    }\n",
       "\n",
       "    .dataframe thead th {\n",
       "        text-align: right;\n",
       "    }\n",
       "</style>\n",
       "<table border=\"1\" class=\"dataframe\">\n",
       "  <thead>\n",
       "    <tr style=\"text-align: right;\">\n",
       "      <th></th>\n",
       "      <th>Fold 1</th>\n",
       "      <th>Fold 2</th>\n",
       "      <th>Fold 3</th>\n",
       "      <th>Average</th>\n",
       "    </tr>\n",
       "  </thead>\n",
       "  <tbody>\n",
       "    <tr>\n",
       "      <th>Accuracy</th>\n",
       "      <td>0.889062</td>\n",
       "      <td>0.887634</td>\n",
       "      <td>0.888646</td>\n",
       "      <td>0.888447</td>\n",
       "    </tr>\n",
       "    <tr>\n",
       "      <th>Recall</th>\n",
       "      <td>0.213188</td>\n",
       "      <td>0.206992</td>\n",
       "      <td>0.204089</td>\n",
       "      <td>0.208090</td>\n",
       "    </tr>\n",
       "    <tr>\n",
       "      <th>Precision</th>\n",
       "      <td>0.649226</td>\n",
       "      <td>0.632065</td>\n",
       "      <td>0.651100</td>\n",
       "      <td>0.644130</td>\n",
       "    </tr>\n",
       "    <tr>\n",
       "      <th>Fbeta2</th>\n",
       "      <td>0.246268</td>\n",
       "      <td>0.239160</td>\n",
       "      <td>0.236573</td>\n",
       "      <td>0.240667</td>\n",
       "    </tr>\n",
       "    <tr>\n",
       "      <th>AUC</th>\n",
       "      <td>0.598517</td>\n",
       "      <td>0.595046</td>\n",
       "      <td>0.594375</td>\n",
       "      <td>0.595979</td>\n",
       "    </tr>\n",
       "  </tbody>\n",
       "</table>\n",
       "</div>"
      ],
      "text/plain": [
       "             Fold 1    Fold 2    Fold 3   Average\n",
       "Accuracy   0.889062  0.887634  0.888646  0.888447\n",
       "Recall     0.213188  0.206992  0.204089  0.208090\n",
       "Precision  0.649226  0.632065  0.651100  0.644130\n",
       "Fbeta2     0.246268  0.239160  0.236573  0.240667\n",
       "AUC        0.598517  0.595046  0.594375  0.595979"
      ]
     },
     "metadata": {},
     "output_type": "display_data"
    }
   ],
   "source": [
    "te_features = ['profession', 'city','state']\n",
    "scale_features = ['income','age','experience']\n",
    "\n",
    "preprocessor = ColumnTransformer(transformers=[('te_features', TargetEncoder(), te_features),\n",
    "                                               ('scale_features', MinMaxScaler(), scale_features)], remainder='passthrough')\n",
    "\n",
    "pipeline1 = Pipeline(steps = [['preprocessor', preprocessor ],\n",
    "                             ['classifier', XGBClassifier(eval_metric=\"logloss\", use_label_encoder=False, random_state=2021)]]\n",
    "                   )\n",
    "\n",
    "run_pipeline(pipeline1, x_train, y_train)"
   ]
  },
  {
   "cell_type": "markdown",
   "id": "1ea23378",
   "metadata": {},
   "source": [
    "# Model 2 - SMOTE + no dropping of columns"
   ]
  },
  {
   "cell_type": "code",
   "execution_count": 35,
   "id": "0e9e4489",
   "metadata": {},
   "outputs": [
    {
     "name": "stderr",
     "output_type": "stream",
     "text": [
      "/Users/jonw/miniforge3/envs/ml_env/lib/python3.8/site-packages/category_encoders/utils.py:21: FutureWarning: is_categorical is deprecated and will be removed in a future version.  Use is_categorical_dtype instead\n",
      "  elif pd.api.types.is_categorical(cols):\n",
      "/Users/jonw/miniforge3/envs/ml_env/lib/python3.8/site-packages/category_encoders/utils.py:21: FutureWarning: is_categorical is deprecated and will be removed in a future version.  Use is_categorical_dtype instead\n",
      "  elif pd.api.types.is_categorical(cols):\n",
      "/Users/jonw/miniforge3/envs/ml_env/lib/python3.8/site-packages/category_encoders/utils.py:21: FutureWarning: is_categorical is deprecated and will be removed in a future version.  Use is_categorical_dtype instead\n",
      "  elif pd.api.types.is_categorical(cols):\n"
     ]
    },
    {
     "data": {
      "text/html": [
       "<div>\n",
       "<style scoped>\n",
       "    .dataframe tbody tr th:only-of-type {\n",
       "        vertical-align: middle;\n",
       "    }\n",
       "\n",
       "    .dataframe tbody tr th {\n",
       "        vertical-align: top;\n",
       "    }\n",
       "\n",
       "    .dataframe thead th {\n",
       "        text-align: right;\n",
       "    }\n",
       "</style>\n",
       "<table border=\"1\" class=\"dataframe\">\n",
       "  <thead>\n",
       "    <tr style=\"text-align: right;\">\n",
       "      <th></th>\n",
       "      <th>Fold 1</th>\n",
       "      <th>Fold 2</th>\n",
       "      <th>Fold 3</th>\n",
       "      <th>Average</th>\n",
       "    </tr>\n",
       "  </thead>\n",
       "  <tbody>\n",
       "    <tr>\n",
       "      <th>Accuracy</th>\n",
       "      <td>0.859539</td>\n",
       "      <td>0.865223</td>\n",
       "      <td>0.867664</td>\n",
       "      <td>0.864142</td>\n",
       "    </tr>\n",
       "    <tr>\n",
       "      <th>Recall</th>\n",
       "      <td>0.747852</td>\n",
       "      <td>0.737116</td>\n",
       "      <td>0.752117</td>\n",
       "      <td>0.745695</td>\n",
       "    </tr>\n",
       "    <tr>\n",
       "      <th>Precision</th>\n",
       "      <td>0.456634</td>\n",
       "      <td>0.469523</td>\n",
       "      <td>0.475997</td>\n",
       "      <td>0.467385</td>\n",
       "    </tr>\n",
       "    <tr>\n",
       "      <th>Fbeta2</th>\n",
       "      <td>0.663254</td>\n",
       "      <td>0.661693</td>\n",
       "      <td>0.673930</td>\n",
       "      <td>0.666292</td>\n",
       "    </tr>\n",
       "    <tr>\n",
       "      <th>AUC</th>\n",
       "      <td>0.811527</td>\n",
       "      <td>0.810154</td>\n",
       "      <td>0.817994</td>\n",
       "      <td>0.813225</td>\n",
       "    </tr>\n",
       "  </tbody>\n",
       "</table>\n",
       "</div>"
      ],
      "text/plain": [
       "             Fold 1    Fold 2    Fold 3   Average\n",
       "Accuracy   0.859539  0.865223  0.867664  0.864142\n",
       "Recall     0.747852  0.737116  0.752117  0.745695\n",
       "Precision  0.456634  0.469523  0.475997  0.467385\n",
       "Fbeta2     0.663254  0.661693  0.673930  0.666292\n",
       "AUC        0.811527  0.810154  0.817994  0.813225"
      ]
     },
     "metadata": {},
     "output_type": "display_data"
    }
   ],
   "source": [
    "te_features = ['profession', 'city','state']\n",
    "scale_features = ['income','age','experience']\n",
    "\n",
    "preprocessor = ColumnTransformer(transformers=[('te_features', TargetEncoder(), te_features),\n",
    "                                               ('scale_features', MinMaxScaler(), scale_features)], remainder='passthrough')\n",
    "\n",
    "pipeline2 = Pipeline(steps = [['preprocessor', preprocessor ],\n",
    "                             ['smote', SMOTE(random_state=2021)],\n",
    "                             ['classifier', XGBClassifier(eval_metric=\"logloss\", use_label_encoder=False, random_state=2021)]]\n",
    "                   )\n",
    "\n",
    "run_pipeline(pipeline2, x_train, y_train)"
   ]
  },
  {
   "cell_type": "markdown",
   "id": "4726084b",
   "metadata": {},
   "source": [
    "# Model 3 - SMOTE + dropped columns"
   ]
  },
  {
   "cell_type": "code",
   "execution_count": 36,
   "id": "2bfb1eb5",
   "metadata": {},
   "outputs": [
    {
     "name": "stderr",
     "output_type": "stream",
     "text": [
      "/Users/jonw/miniforge3/envs/ml_env/lib/python3.8/site-packages/category_encoders/utils.py:21: FutureWarning: is_categorical is deprecated and will be removed in a future version.  Use is_categorical_dtype instead\n",
      "  elif pd.api.types.is_categorical(cols):\n",
      "/Users/jonw/miniforge3/envs/ml_env/lib/python3.8/site-packages/category_encoders/utils.py:21: FutureWarning: is_categorical is deprecated and will be removed in a future version.  Use is_categorical_dtype instead\n",
      "  elif pd.api.types.is_categorical(cols):\n",
      "/Users/jonw/miniforge3/envs/ml_env/lib/python3.8/site-packages/category_encoders/utils.py:21: FutureWarning: is_categorical is deprecated and will be removed in a future version.  Use is_categorical_dtype instead\n",
      "  elif pd.api.types.is_categorical(cols):\n"
     ]
    },
    {
     "data": {
      "text/html": [
       "<div>\n",
       "<style scoped>\n",
       "    .dataframe tbody tr th:only-of-type {\n",
       "        vertical-align: middle;\n",
       "    }\n",
       "\n",
       "    .dataframe tbody tr th {\n",
       "        vertical-align: top;\n",
       "    }\n",
       "\n",
       "    .dataframe thead th {\n",
       "        text-align: right;\n",
       "    }\n",
       "</style>\n",
       "<table border=\"1\" class=\"dataframe\">\n",
       "  <thead>\n",
       "    <tr style=\"text-align: right;\">\n",
       "      <th></th>\n",
       "      <th>Fold 1</th>\n",
       "      <th>Fold 2</th>\n",
       "      <th>Fold 3</th>\n",
       "      <th>Average</th>\n",
       "    </tr>\n",
       "  </thead>\n",
       "  <tbody>\n",
       "    <tr>\n",
       "      <th>Accuracy</th>\n",
       "      <td>0.855655</td>\n",
       "      <td>0.852619</td>\n",
       "      <td>0.859449</td>\n",
       "      <td>0.855908</td>\n",
       "    </tr>\n",
       "    <tr>\n",
       "      <th>Recall</th>\n",
       "      <td>0.728494</td>\n",
       "      <td>0.725744</td>\n",
       "      <td>0.726591</td>\n",
       "      <td>0.726943</td>\n",
       "    </tr>\n",
       "    <tr>\n",
       "      <th>Precision</th>\n",
       "      <td>0.446761</td>\n",
       "      <td>0.439938</td>\n",
       "      <td>0.455310</td>\n",
       "      <td>0.447337</td>\n",
       "    </tr>\n",
       "    <tr>\n",
       "      <th>Fbeta2</th>\n",
       "      <td>0.646905</td>\n",
       "      <td>0.642291</td>\n",
       "      <td>0.649227</td>\n",
       "      <td>0.646141</td>\n",
       "    </tr>\n",
       "    <tr>\n",
       "      <th>AUC</th>\n",
       "      <td>0.800991</td>\n",
       "      <td>0.798079</td>\n",
       "      <td>0.802337</td>\n",
       "      <td>0.800469</td>\n",
       "    </tr>\n",
       "  </tbody>\n",
       "</table>\n",
       "</div>"
      ],
      "text/plain": [
       "             Fold 1    Fold 2    Fold 3   Average\n",
       "Accuracy   0.855655  0.852619  0.859449  0.855908\n",
       "Recall     0.728494  0.725744  0.726591  0.726943\n",
       "Precision  0.446761  0.439938  0.455310  0.447337\n",
       "Fbeta2     0.646905  0.642291  0.649227  0.646141\n",
       "AUC        0.800991  0.798079  0.802337  0.800469"
      ]
     },
     "metadata": {},
     "output_type": "display_data"
    }
   ],
   "source": [
    "x_train.drop(['current_house_years', 'current_job_years', 'norent_noown', 'owned', 'marital_status'], axis=1, inplace=True)\n",
    "x_test.drop(['current_house_years', 'current_job_years', 'norent_noown', 'owned', 'marital_status'], axis=1, inplace=True)\n",
    "\n",
    "te_features = ['profession', 'city','state']\n",
    "scale_features = ['income','age','experience']\n",
    "\n",
    "preprocessor = ColumnTransformer(transformers=[('te_features', TargetEncoder(), te_features),\n",
    "                                               ('scale_features', MinMaxScaler(), scale_features)], remainder='passthrough')\n",
    "\n",
    "pipeline3 = Pipeline(steps = [['preprocessor', preprocessor ],\n",
    "                             ['smote', SMOTE(random_state=2021)],\n",
    "                             ['classifier', XGBClassifier(eval_metric=\"logloss\", use_label_encoder=False, random_state=2021)]]\n",
    "                   )\n",
    "\n",
    "run_pipeline(pipeline3, x_train, y_train)"
   ]
  },
  {
   "cell_type": "markdown",
   "id": "51ee152a",
   "metadata": {},
   "source": [
    "### All results\n",
    "|           | Model 1  | Model 2  | Model 3  |\n",
    "|-----------|----------|----------|----------|\n",
    "| Accuracy  | 0.888447 | 0.864142 | 0.855908 |\n",
    "| Recall    | 0.208090 | 0.745695 | 0.726943 |\n",
    "| Precision | 0.644130 | 0.467385 | 0.447337 |\n",
    "| Fbeta2    | 0.240667 | 0.666292 | 0.646141 |\n",
    "| AUC       | 0.595979 | 0.813225 | 0.800469 |"
   ]
  }
 ],
 "metadata": {
  "kernelspec": {
   "display_name": "Python 3 (ipykernel)",
   "language": "python",
   "name": "python3"
  },
  "language_info": {
   "codemirror_mode": {
    "name": "ipython",
    "version": 3
   },
   "file_extension": ".py",
   "mimetype": "text/x-python",
   "name": "python",
   "nbconvert_exporter": "python",
   "pygments_lexer": "ipython3",
   "version": "3.8.10"
  }
 },
 "nbformat": 4,
 "nbformat_minor": 5
}
