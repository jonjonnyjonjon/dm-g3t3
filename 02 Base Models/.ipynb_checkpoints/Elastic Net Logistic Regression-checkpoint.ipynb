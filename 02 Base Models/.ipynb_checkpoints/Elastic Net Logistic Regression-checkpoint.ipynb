{
 "cells": [
  {
   "cell_type": "markdown",
   "id": "3b9dc836",
   "metadata": {},
   "source": [
    "# Model selection: <font color='#0041C2'>Elastic Net Logistic Regression</font>\n",
    "---\n",
    "\n",
    "- 1. Model 1 - No SMOTE + no dropping of columns\n",
    "- 2. Model 2 - SMOTE + no dropping of columns\n",
    "- 3. Model 3 - SMOTE + dropped columns"
   ]
  },
  {
   "cell_type": "markdown",
   "id": "4e5dd8c7",
   "metadata": {},
   "source": [
    "# Setting up the notebook"
   ]
  },
  {
   "cell_type": "code",
   "execution_count": 1,
   "id": "d4a7205b",
   "metadata": {},
   "outputs": [],
   "source": [
    "import pandas as pd\n",
    "import numpy as np\n",
    "\n",
    "from category_encoders import TargetEncoder\n",
    "from imblearn.over_sampling import SMOTE\n",
    "from sklearn.preprocessing import MinMaxScaler\n",
    "\n",
    "from sklearn.linear_model import LogisticRegression\n",
    "from sklearn.metrics import accuracy_score, precision_score, recall_score, fbeta_score, roc_auc_score, make_scorer\n",
    "\n",
    "from imblearn.pipeline import Pipeline\n",
    "from sklearn.model_selection import StratifiedKFold, cross_validate\n",
    "from sklearn.compose import ColumnTransformer "
   ]
  },
  {
   "cell_type": "code",
   "execution_count": 2,
   "id": "044f8940",
   "metadata": {},
   "outputs": [],
   "source": [
    "df_train = pd.read_csv(\"../dataset/train.csv\")\n",
    "\n",
    "y_train = df_train[[\"risk_flag\"]]\n",
    "x_train = df_train.drop(\"risk_flag\", axis=1)"
   ]
  },
  {
   "cell_type": "code",
   "execution_count": 3,
   "id": "2f8cb4d6",
   "metadata": {},
   "outputs": [],
   "source": [
    "def run_pipeline(pipeline, x_train, y_train):\n",
    "    stratified_kfold = StratifiedKFold(shuffle=True, n_splits=3, random_state=2021)\n",
    "\n",
    "    scoring = {\"accuracy\": \"accuracy\",\n",
    "               \"recall\": 'recall',\n",
    "               \"precision\": \"precision\",\n",
    "               \"fbeta_2\": make_scorer(fbeta_score, beta=2),\n",
    "               \"roc_auc\": make_scorer(roc_auc_score),\n",
    "              }\n",
    "\n",
    "    scores = cross_validate(pipeline, x_train, y_train.values.ravel(), cv=stratified_kfold,\n",
    "                           scoring = scoring)\n",
    "\n",
    "    accuracy = [ val for val in scores['test_accuracy'] ]\n",
    "    recall = [ val for val in scores['test_recall'] ]\n",
    "    precision = [ val for val in scores['test_precision'] ]\n",
    "    fbeta_2 = [ val for val in scores['test_fbeta_2'] ]\n",
    "    auc = [ val for val in scores['test_roc_auc'] ]\n",
    "    \n",
    "    accuracy.append( sum(accuracy) / len(accuracy) )\n",
    "    recall.append( sum(recall) / len(recall) )\n",
    "    precision.append( sum(precision) / len(precision) )\n",
    "    fbeta_2.append( sum(fbeta_2) / len(fbeta_2) )\n",
    "    auc.append( sum(auc) / len(auc) )\n",
    "\n",
    "    score_df = pd.DataFrame(data=[accuracy, recall, precision, fbeta_2, auc], columns=['Fold 1','Fold 2','Fold 3', 'Average'],\n",
    "                            index=['Accuracy', 'Recall', 'Precision', 'Fbeta2', 'AUC'])\n",
    "    display(score_df)"
   ]
  },
  {
   "cell_type": "markdown",
   "id": "139cc4fc",
   "metadata": {},
   "source": [
    "# Model 1 - No SMOTE + no dropping of columns"
   ]
  },
  {
   "cell_type": "code",
   "execution_count": 4,
   "id": "aa49a81a",
   "metadata": {},
   "outputs": [
    {
     "name": "stderr",
     "output_type": "stream",
     "text": [
      "/Users/jonw/miniforge3/envs/ml_env/lib/python3.8/site-packages/category_encoders/utils.py:21: FutureWarning: is_categorical is deprecated and will be removed in a future version.  Use is_categorical_dtype instead\n",
      "  elif pd.api.types.is_categorical(cols):\n",
      "/Users/jonw/miniforge3/envs/ml_env/lib/python3.8/site-packages/sklearn/linear_model/_sag.py:328: ConvergenceWarning: The max_iter was reached which means the coef_ did not converge\n",
      "  warnings.warn(\"The max_iter was reached which means \"\n",
      "/Users/jonw/miniforge3/envs/ml_env/lib/python3.8/site-packages/sklearn/metrics/_classification.py:1248: UndefinedMetricWarning: Precision is ill-defined and being set to 0.0 due to no predicted samples. Use `zero_division` parameter to control this behavior.\n",
      "  _warn_prf(average, modifier, msg_start, len(result))\n",
      "/Users/jonw/miniforge3/envs/ml_env/lib/python3.8/site-packages/category_encoders/utils.py:21: FutureWarning: is_categorical is deprecated and will be removed in a future version.  Use is_categorical_dtype instead\n",
      "  elif pd.api.types.is_categorical(cols):\n",
      "/Users/jonw/miniforge3/envs/ml_env/lib/python3.8/site-packages/sklearn/linear_model/_sag.py:328: ConvergenceWarning: The max_iter was reached which means the coef_ did not converge\n",
      "  warnings.warn(\"The max_iter was reached which means \"\n",
      "/Users/jonw/miniforge3/envs/ml_env/lib/python3.8/site-packages/category_encoders/utils.py:21: FutureWarning: is_categorical is deprecated and will be removed in a future version.  Use is_categorical_dtype instead\n",
      "  elif pd.api.types.is_categorical(cols):\n",
      "/Users/jonw/miniforge3/envs/ml_env/lib/python3.8/site-packages/sklearn/linear_model/_sag.py:328: ConvergenceWarning: The max_iter was reached which means the coef_ did not converge\n",
      "  warnings.warn(\"The max_iter was reached which means \"\n"
     ]
    },
    {
     "data": {
      "text/html": [
       "<div>\n",
       "<style scoped>\n",
       "    .dataframe tbody tr th:only-of-type {\n",
       "        vertical-align: middle;\n",
       "    }\n",
       "\n",
       "    .dataframe tbody tr th {\n",
       "        vertical-align: top;\n",
       "    }\n",
       "\n",
       "    .dataframe thead th {\n",
       "        text-align: right;\n",
       "    }\n",
       "</style>\n",
       "<table border=\"1\" class=\"dataframe\">\n",
       "  <thead>\n",
       "    <tr style=\"text-align: right;\">\n",
       "      <th></th>\n",
       "      <th>Fold 1</th>\n",
       "      <th>Fold 2</th>\n",
       "      <th>Fold 3</th>\n",
       "      <th>Average</th>\n",
       "    </tr>\n",
       "  </thead>\n",
       "  <tbody>\n",
       "    <tr>\n",
       "      <th>Accuracy</th>\n",
       "      <td>0.877009</td>\n",
       "      <td>0.876935</td>\n",
       "      <td>0.876771</td>\n",
       "      <td>0.876905</td>\n",
       "    </tr>\n",
       "    <tr>\n",
       "      <th>Recall</th>\n",
       "      <td>0.000000</td>\n",
       "      <td>0.002178</td>\n",
       "      <td>0.003145</td>\n",
       "      <td>0.001774</td>\n",
       "    </tr>\n",
       "    <tr>\n",
       "      <th>Precision</th>\n",
       "      <td>0.000000</td>\n",
       "      <td>0.450000</td>\n",
       "      <td>0.388060</td>\n",
       "      <td>0.279353</td>\n",
       "    </tr>\n",
       "    <tr>\n",
       "      <th>Fbeta2</th>\n",
       "      <td>0.000000</td>\n",
       "      <td>0.002719</td>\n",
       "      <td>0.003924</td>\n",
       "      <td>0.002214</td>\n",
       "    </tr>\n",
       "    <tr>\n",
       "      <th>AUC</th>\n",
       "      <td>0.500000</td>\n",
       "      <td>0.500902</td>\n",
       "      <td>0.501225</td>\n",
       "      <td>0.500709</td>\n",
       "    </tr>\n",
       "  </tbody>\n",
       "</table>\n",
       "</div>"
      ],
      "text/plain": [
       "             Fold 1    Fold 2    Fold 3   Average\n",
       "Accuracy   0.877009  0.876935  0.876771  0.876905\n",
       "Recall     0.000000  0.002178  0.003145  0.001774\n",
       "Precision  0.000000  0.450000  0.388060  0.279353\n",
       "Fbeta2     0.000000  0.002719  0.003924  0.002214\n",
       "AUC        0.500000  0.500902  0.501225  0.500709"
      ]
     },
     "metadata": {},
     "output_type": "display_data"
    }
   ],
   "source": [
    "te_features = ['profession', 'city','state']\n",
    "scale_features = ['income','age','experience']\n",
    "\n",
    "preprocessor = ColumnTransformer(transformers=[('te_features', TargetEncoder(), te_features),\n",
    "                                               ('scale_features', MinMaxScaler(), scale_features)], remainder='passthrough')\n",
    "\n",
    "pipeline1 = Pipeline(steps = [['preprocessor', preprocessor ],\n",
    "                             ['classifier', LogisticRegression(penalty = 'elasticnet', solver = 'saga', l1_ratio = 0.5)]]\n",
    "                   )\n",
    "\n",
    "run_pipeline(pipeline1, x_train, y_train)"
   ]
  },
  {
   "cell_type": "markdown",
   "id": "f7c2c9d4",
   "metadata": {},
   "source": [
    "# Model 2 - SMOTE + no dropping of columns"
   ]
  },
  {
   "cell_type": "code",
   "execution_count": 5,
   "id": "b143fc4b",
   "metadata": {},
   "outputs": [
    {
     "name": "stderr",
     "output_type": "stream",
     "text": [
      "/Users/jonw/miniforge3/envs/ml_env/lib/python3.8/site-packages/category_encoders/utils.py:21: FutureWarning: is_categorical is deprecated and will be removed in a future version.  Use is_categorical_dtype instead\n",
      "  elif pd.api.types.is_categorical(cols):\n",
      "/Users/jonw/miniforge3/envs/ml_env/lib/python3.8/site-packages/sklearn/linear_model/_sag.py:328: ConvergenceWarning: The max_iter was reached which means the coef_ did not converge\n",
      "  warnings.warn(\"The max_iter was reached which means \"\n",
      "/Users/jonw/miniforge3/envs/ml_env/lib/python3.8/site-packages/category_encoders/utils.py:21: FutureWarning: is_categorical is deprecated and will be removed in a future version.  Use is_categorical_dtype instead\n",
      "  elif pd.api.types.is_categorical(cols):\n",
      "/Users/jonw/miniforge3/envs/ml_env/lib/python3.8/site-packages/sklearn/linear_model/_sag.py:328: ConvergenceWarning: The max_iter was reached which means the coef_ did not converge\n",
      "  warnings.warn(\"The max_iter was reached which means \"\n",
      "/Users/jonw/miniforge3/envs/ml_env/lib/python3.8/site-packages/category_encoders/utils.py:21: FutureWarning: is_categorical is deprecated and will be removed in a future version.  Use is_categorical_dtype instead\n",
      "  elif pd.api.types.is_categorical(cols):\n",
      "/Users/jonw/miniforge3/envs/ml_env/lib/python3.8/site-packages/sklearn/linear_model/_sag.py:328: ConvergenceWarning: The max_iter was reached which means the coef_ did not converge\n",
      "  warnings.warn(\"The max_iter was reached which means \"\n"
     ]
    },
    {
     "data": {
      "text/html": [
       "<div>\n",
       "<style scoped>\n",
       "    .dataframe tbody tr th:only-of-type {\n",
       "        vertical-align: middle;\n",
       "    }\n",
       "\n",
       "    .dataframe tbody tr th {\n",
       "        vertical-align: top;\n",
       "    }\n",
       "\n",
       "    .dataframe thead th {\n",
       "        text-align: right;\n",
       "    }\n",
       "</style>\n",
       "<table border=\"1\" class=\"dataframe\">\n",
       "  <thead>\n",
       "    <tr style=\"text-align: right;\">\n",
       "      <th></th>\n",
       "      <th>Fold 1</th>\n",
       "      <th>Fold 2</th>\n",
       "      <th>Fold 3</th>\n",
       "      <th>Average</th>\n",
       "    </tr>\n",
       "  </thead>\n",
       "  <tbody>\n",
       "    <tr>\n",
       "      <th>Accuracy</th>\n",
       "      <td>0.615729</td>\n",
       "      <td>0.617946</td>\n",
       "      <td>0.618705</td>\n",
       "      <td>0.617460</td>\n",
       "    </tr>\n",
       "    <tr>\n",
       "      <th>Recall</th>\n",
       "      <td>0.544707</td>\n",
       "      <td>0.547907</td>\n",
       "      <td>0.539560</td>\n",
       "      <td>0.544058</td>\n",
       "    </tr>\n",
       "    <tr>\n",
       "      <th>Precision</th>\n",
       "      <td>0.169490</td>\n",
       "      <td>0.171125</td>\n",
       "      <td>0.169730</td>\n",
       "      <td>0.170115</td>\n",
       "    </tr>\n",
       "    <tr>\n",
       "      <th>Fbeta2</th>\n",
       "      <td>0.377545</td>\n",
       "      <td>0.380396</td>\n",
       "      <td>0.375794</td>\n",
       "      <td>0.377912</td>\n",
       "    </tr>\n",
       "    <tr>\n",
       "      <th>AUC</th>\n",
       "      <td>0.585198</td>\n",
       "      <td>0.587839</td>\n",
       "      <td>0.584683</td>\n",
       "      <td>0.585906</td>\n",
       "    </tr>\n",
       "  </tbody>\n",
       "</table>\n",
       "</div>"
      ],
      "text/plain": [
       "             Fold 1    Fold 2    Fold 3   Average\n",
       "Accuracy   0.615729  0.617946  0.618705  0.617460\n",
       "Recall     0.544707  0.547907  0.539560  0.544058\n",
       "Precision  0.169490  0.171125  0.169730  0.170115\n",
       "Fbeta2     0.377545  0.380396  0.375794  0.377912\n",
       "AUC        0.585198  0.587839  0.584683  0.585906"
      ]
     },
     "metadata": {},
     "output_type": "display_data"
    }
   ],
   "source": [
    "te_features = ['profession', 'city','state']\n",
    "scale_features = ['income','age','experience']\n",
    "\n",
    "preprocessor = ColumnTransformer(transformers=[('te_features', TargetEncoder(), te_features),\n",
    "                                               ('scale_features', MinMaxScaler(), scale_features)], remainder='passthrough')\n",
    "\n",
    "pipeline2 = Pipeline(steps = [['preprocessor', preprocessor ],\n",
    "                             ['smote', SMOTE(random_state=2021)],\n",
    "                             ['classifier', LogisticRegression(penalty = 'elasticnet', solver = 'saga', l1_ratio = 0.5)]]\n",
    "                   )\n",
    "\n",
    "run_pipeline(pipeline2, x_train, y_train)"
   ]
  },
  {
   "cell_type": "markdown",
   "id": "937c88c7",
   "metadata": {},
   "source": [
    "# Model 3 - SMOTE +  dropped columns"
   ]
  },
  {
   "cell_type": "code",
   "execution_count": 6,
   "id": "1b15ce43",
   "metadata": {},
   "outputs": [
    {
     "name": "stderr",
     "output_type": "stream",
     "text": [
      "/Users/jonw/miniforge3/envs/ml_env/lib/python3.8/site-packages/category_encoders/utils.py:21: FutureWarning: is_categorical is deprecated and will be removed in a future version.  Use is_categorical_dtype instead\n",
      "  elif pd.api.types.is_categorical(cols):\n",
      "/Users/jonw/miniforge3/envs/ml_env/lib/python3.8/site-packages/category_encoders/utils.py:21: FutureWarning: is_categorical is deprecated and will be removed in a future version.  Use is_categorical_dtype instead\n",
      "  elif pd.api.types.is_categorical(cols):\n",
      "/Users/jonw/miniforge3/envs/ml_env/lib/python3.8/site-packages/category_encoders/utils.py:21: FutureWarning: is_categorical is deprecated and will be removed in a future version.  Use is_categorical_dtype instead\n",
      "  elif pd.api.types.is_categorical(cols):\n"
     ]
    },
    {
     "data": {
      "text/html": [
       "<div>\n",
       "<style scoped>\n",
       "    .dataframe tbody tr th:only-of-type {\n",
       "        vertical-align: middle;\n",
       "    }\n",
       "\n",
       "    .dataframe tbody tr th {\n",
       "        vertical-align: top;\n",
       "    }\n",
       "\n",
       "    .dataframe thead th {\n",
       "        text-align: right;\n",
       "    }\n",
       "</style>\n",
       "<table border=\"1\" class=\"dataframe\">\n",
       "  <thead>\n",
       "    <tr style=\"text-align: right;\">\n",
       "      <th></th>\n",
       "      <th>Fold 1</th>\n",
       "      <th>Fold 2</th>\n",
       "      <th>Fold 3</th>\n",
       "      <th>Average</th>\n",
       "    </tr>\n",
       "  </thead>\n",
       "  <tbody>\n",
       "    <tr>\n",
       "      <th>Accuracy</th>\n",
       "      <td>0.612753</td>\n",
       "      <td>0.615327</td>\n",
       "      <td>0.618021</td>\n",
       "      <td>0.615367</td>\n",
       "    </tr>\n",
       "    <tr>\n",
       "      <th>Recall</th>\n",
       "      <td>0.548336</td>\n",
       "      <td>0.544641</td>\n",
       "      <td>0.542826</td>\n",
       "      <td>0.545268</td>\n",
       "    </tr>\n",
       "    <tr>\n",
       "      <th>Precision</th>\n",
       "      <td>0.168966</td>\n",
       "      <td>0.169325</td>\n",
       "      <td>0.170110</td>\n",
       "      <td>0.169467</td>\n",
       "    </tr>\n",
       "    <tr>\n",
       "      <th>Fbeta2</th>\n",
       "      <td>0.378411</td>\n",
       "      <td>0.377355</td>\n",
       "      <td>0.377433</td>\n",
       "      <td>0.377733</td>\n",
       "    </tr>\n",
       "    <tr>\n",
       "      <th>AUC</th>\n",
       "      <td>0.585062</td>\n",
       "      <td>0.584941</td>\n",
       "      <td>0.585697</td>\n",
       "      <td>0.585233</td>\n",
       "    </tr>\n",
       "  </tbody>\n",
       "</table>\n",
       "</div>"
      ],
      "text/plain": [
       "             Fold 1    Fold 2    Fold 3   Average\n",
       "Accuracy   0.612753  0.615327  0.618021  0.615367\n",
       "Recall     0.548336  0.544641  0.542826  0.545268\n",
       "Precision  0.168966  0.169325  0.170110  0.169467\n",
       "Fbeta2     0.378411  0.377355  0.377433  0.377733\n",
       "AUC        0.585062  0.584941  0.585697  0.585233"
      ]
     },
     "metadata": {},
     "output_type": "display_data"
    }
   ],
   "source": [
    "x_train.drop(['current_house_years', 'current_job_years', 'norent_noown', 'owned', 'marital_status'], axis=1, inplace=True)\n",
    "\n",
    "te_features = ['profession', 'city','state']\n",
    "scale_features = ['income','age','experience']\n",
    "\n",
    "preprocessor = ColumnTransformer(transformers=[('te_features', TargetEncoder(), te_features),\n",
    "                                               ('scale_features', MinMaxScaler(), scale_features)], remainder='passthrough')\n",
    "\n",
    "pipeline3 = Pipeline(steps = [['preprocessor', preprocessor ],\n",
    "                             ['smote', SMOTE(random_state=2021)],\n",
    "                             ['classifier', LogisticRegression(penalty = 'elasticnet', solver = 'saga', l1_ratio = 0.5)]]\n",
    "                   )\n",
    "\n",
    "run_pipeline(pipeline3, x_train, y_train)"
   ]
  },
  {
   "cell_type": "markdown",
   "id": "07da5f3f",
   "metadata": {},
   "source": [
    "#### All results\n",
    "|           | Model 1  | Model 2  | Model 3  |\n",
    "|-----------|----------|----------|----------|\n",
    "| Accuracy  | 0.876905 | 0.617460 | 0.615367 |\n",
    "| Recall    | 0.001774 | 0.544058 | 0.545268 |\n",
    "| Precision | 0.279353 | 0.170115 | 0.169467 |\n",
    "| Fbeta2    | 0.002214 | 0.377912 | 0.377733 |\n",
    "| AUC       | 0.500709 | 0.585906 | 0.585233 |"
   ]
  }
 ],
 "metadata": {
  "kernelspec": {
   "display_name": "Python 3 (ipykernel)",
   "language": "python",
   "name": "python3"
  },
  "language_info": {
   "codemirror_mode": {
    "name": "ipython",
    "version": 3
   },
   "file_extension": ".py",
   "mimetype": "text/x-python",
   "name": "python",
   "nbconvert_exporter": "python",
   "pygments_lexer": "ipython3",
   "version": "3.8.10"
  }
 },
 "nbformat": 4,
 "nbformat_minor": 5
}
