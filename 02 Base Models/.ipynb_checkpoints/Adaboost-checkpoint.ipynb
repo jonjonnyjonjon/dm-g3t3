{
 "cells": [
  {
   "cell_type": "markdown",
   "id": "6f19d53e",
   "metadata": {},
   "source": [
    "# Model selection: <font color='#0041C2'>AdaBoost</font>\n",
    "---\n",
    "\n",
    "- 1. Model 1 - No SMOTE + no dropping of columns\n",
    "- 2. Model 2 - SMOTE + no dropping of columns\n",
    "- 3. Model 3 - SMOTE + dropped columns"
   ]
  },
  {
   "cell_type": "markdown",
   "id": "bcce29da",
   "metadata": {},
   "source": [
    "# Setting up the notebook"
   ]
  },
  {
   "cell_type": "code",
   "execution_count": 1,
   "id": "3863dce5",
   "metadata": {},
   "outputs": [],
   "source": [
    "import pandas as pd\n",
    "import numpy as np\n",
    "\n",
    "from category_encoders import TargetEncoder\n",
    "from imblearn.over_sampling import SMOTE\n",
    "from sklearn.preprocessing import MinMaxScaler\n",
    "\n",
    "from sklearn.ensemble import AdaBoostClassifier\n",
    "from sklearn.metrics import accuracy_score, precision_score, recall_score, fbeta_score, roc_auc_score, make_scorer\n",
    "\n",
    "from imblearn.pipeline import Pipeline\n",
    "from sklearn.model_selection import StratifiedKFold, cross_validate\n",
    "from sklearn.compose import ColumnTransformer"
   ]
  },
  {
   "cell_type": "code",
   "execution_count": 2,
   "id": "f3e9c29e",
   "metadata": {},
   "outputs": [],
   "source": [
    "df_train = pd.read_csv(\"../dataset/train.csv\")\n",
    "\n",
    "y_train = df_train[[\"risk_flag\"]]\n",
    "x_train = df_train.drop(\"risk_flag\", axis=1)"
   ]
  },
  {
   "cell_type": "code",
   "execution_count": 3,
   "id": "b2820cd6",
   "metadata": {},
   "outputs": [],
   "source": [
    "def run_pipeline(pipeline, x_train, y_train):\n",
    "    stratified_kfold = StratifiedKFold(shuffle=True, n_splits=3, random_state=2021)\n",
    "\n",
    "    scoring = {\"accuracy\": \"accuracy\",\n",
    "               \"recall\": 'recall',\n",
    "               \"precision\": \"precision\",\n",
    "               \"fbeta_2\": make_scorer(fbeta_score, beta=2),\n",
    "               \"roc_auc\": make_scorer(roc_auc_score),\n",
    "              }\n",
    "\n",
    "    scores = cross_validate(pipeline, x_train, y_train.values.ravel(), cv=stratified_kfold,\n",
    "                           scoring = scoring)\n",
    "\n",
    "    accuracy = [ val for val in scores['test_accuracy'] ]\n",
    "    recall = [ val for val in scores['test_recall'] ]\n",
    "    precision = [ val for val in scores['test_precision'] ]\n",
    "    fbeta_2 = [ val for val in scores['test_fbeta_2'] ]\n",
    "    auc = [ val for val in scores['test_roc_auc'] ]\n",
    "    \n",
    "    accuracy.append( sum(accuracy) / len(accuracy) )\n",
    "    recall.append( sum(recall) / len(recall) )\n",
    "    precision.append( sum(precision) / len(precision) )\n",
    "    fbeta_2.append( sum(fbeta_2) / len(fbeta_2) )\n",
    "    auc.append( sum(auc) / len(auc) )\n",
    "\n",
    "    score_df = pd.DataFrame(data=[accuracy, recall, precision, fbeta_2, auc], columns=['Fold 1','Fold 2','Fold 3', 'Average'],\n",
    "                            index=['Accuracy', 'Recall', 'Precision', 'Fbeta2', 'AUC'])\n",
    "    display(score_df)"
   ]
  },
  {
   "cell_type": "markdown",
   "id": "58513d69",
   "metadata": {},
   "source": [
    "# Model 1 - No SMOTE + no dropping of columns"
   ]
  },
  {
   "cell_type": "code",
   "execution_count": 4,
   "id": "46ee3265",
   "metadata": {},
   "outputs": [
    {
     "name": "stderr",
     "output_type": "stream",
     "text": [
      "/Users/jonw/miniforge3/envs/ml_env/lib/python3.8/site-packages/category_encoders/utils.py:21: FutureWarning: is_categorical is deprecated and will be removed in a future version.  Use is_categorical_dtype instead\n",
      "  elif pd.api.types.is_categorical(cols):\n",
      "/Users/jonw/miniforge3/envs/ml_env/lib/python3.8/site-packages/category_encoders/utils.py:21: FutureWarning: is_categorical is deprecated and will be removed in a future version.  Use is_categorical_dtype instead\n",
      "  elif pd.api.types.is_categorical(cols):\n",
      "/Users/jonw/miniforge3/envs/ml_env/lib/python3.8/site-packages/category_encoders/utils.py:21: FutureWarning: is_categorical is deprecated and will be removed in a future version.  Use is_categorical_dtype instead\n",
      "  elif pd.api.types.is_categorical(cols):\n"
     ]
    },
    {
     "data": {
      "text/html": [
       "<div>\n",
       "<style scoped>\n",
       "    .dataframe tbody tr th:only-of-type {\n",
       "        vertical-align: middle;\n",
       "    }\n",
       "\n",
       "    .dataframe tbody tr th {\n",
       "        vertical-align: top;\n",
       "    }\n",
       "\n",
       "    .dataframe thead th {\n",
       "        text-align: right;\n",
       "    }\n",
       "</style>\n",
       "<table border=\"1\" class=\"dataframe\">\n",
       "  <thead>\n",
       "    <tr style=\"text-align: right;\">\n",
       "      <th></th>\n",
       "      <th>Fold 1</th>\n",
       "      <th>Fold 2</th>\n",
       "      <th>Fold 3</th>\n",
       "      <th>Average</th>\n",
       "    </tr>\n",
       "  </thead>\n",
       "  <tbody>\n",
       "    <tr>\n",
       "      <th>Accuracy</th>\n",
       "      <td>0.877188</td>\n",
       "      <td>0.877158</td>\n",
       "      <td>0.877054</td>\n",
       "      <td>0.877133</td>\n",
       "    </tr>\n",
       "    <tr>\n",
       "      <th>Recall</th>\n",
       "      <td>0.001815</td>\n",
       "      <td>0.002057</td>\n",
       "      <td>0.000968</td>\n",
       "      <td>0.001613</td>\n",
       "    </tr>\n",
       "    <tr>\n",
       "      <th>Precision</th>\n",
       "      <td>0.833333</td>\n",
       "      <td>0.739130</td>\n",
       "      <td>0.666667</td>\n",
       "      <td>0.746377</td>\n",
       "    </tr>\n",
       "    <tr>\n",
       "      <th>Fbeta2</th>\n",
       "      <td>0.002267</td>\n",
       "      <td>0.002569</td>\n",
       "      <td>0.001209</td>\n",
       "      <td>0.002015</td>\n",
       "    </tr>\n",
       "    <tr>\n",
       "      <th>AUC</th>\n",
       "      <td>0.500882</td>\n",
       "      <td>0.500977</td>\n",
       "      <td>0.500450</td>\n",
       "      <td>0.500770</td>\n",
       "    </tr>\n",
       "  </tbody>\n",
       "</table>\n",
       "</div>"
      ],
      "text/plain": [
       "             Fold 1    Fold 2    Fold 3   Average\n",
       "Accuracy   0.877188  0.877158  0.877054  0.877133\n",
       "Recall     0.001815  0.002057  0.000968  0.001613\n",
       "Precision  0.833333  0.739130  0.666667  0.746377\n",
       "Fbeta2     0.002267  0.002569  0.001209  0.002015\n",
       "AUC        0.500882  0.500977  0.500450  0.500770"
      ]
     },
     "metadata": {},
     "output_type": "display_data"
    }
   ],
   "source": [
    "te_features = ['profession', 'city','state']\n",
    "scale_features = ['income','age','experience']\n",
    "\n",
    "preprocessor = ColumnTransformer(transformers=[('te_features', TargetEncoder(), te_features),\n",
    "                                               ('scale_features', MinMaxScaler(), scale_features)], remainder='passthrough')\n",
    "\n",
    "pipeline1 = Pipeline(steps = [['preprocessor', preprocessor ],\n",
    "                             ['classifier', AdaBoostClassifier(random_state=2021)]]\n",
    "                   )\n",
    "\n",
    "run_pipeline(pipeline1, x_train, y_train)"
   ]
  },
  {
   "cell_type": "markdown",
   "id": "fdc17a4e",
   "metadata": {},
   "source": [
    "# Model 2 - SMOTE + no dropping of columns"
   ]
  },
  {
   "cell_type": "code",
   "execution_count": 5,
   "id": "bc8160da",
   "metadata": {},
   "outputs": [
    {
     "name": "stderr",
     "output_type": "stream",
     "text": [
      "/Users/jonw/miniforge3/envs/ml_env/lib/python3.8/site-packages/category_encoders/utils.py:21: FutureWarning: is_categorical is deprecated and will be removed in a future version.  Use is_categorical_dtype instead\n",
      "  elif pd.api.types.is_categorical(cols):\n",
      "/Users/jonw/miniforge3/envs/ml_env/lib/python3.8/site-packages/category_encoders/utils.py:21: FutureWarning: is_categorical is deprecated and will be removed in a future version.  Use is_categorical_dtype instead\n",
      "  elif pd.api.types.is_categorical(cols):\n",
      "/Users/jonw/miniforge3/envs/ml_env/lib/python3.8/site-packages/category_encoders/utils.py:21: FutureWarning: is_categorical is deprecated and will be removed in a future version.  Use is_categorical_dtype instead\n",
      "  elif pd.api.types.is_categorical(cols):\n"
     ]
    },
    {
     "data": {
      "text/html": [
       "<div>\n",
       "<style scoped>\n",
       "    .dataframe tbody tr th:only-of-type {\n",
       "        vertical-align: middle;\n",
       "    }\n",
       "\n",
       "    .dataframe tbody tr th {\n",
       "        vertical-align: top;\n",
       "    }\n",
       "\n",
       "    .dataframe thead th {\n",
       "        text-align: right;\n",
       "    }\n",
       "</style>\n",
       "<table border=\"1\" class=\"dataframe\">\n",
       "  <thead>\n",
       "    <tr style=\"text-align: right;\">\n",
       "      <th></th>\n",
       "      <th>Fold 1</th>\n",
       "      <th>Fold 2</th>\n",
       "      <th>Fold 3</th>\n",
       "      <th>Average</th>\n",
       "    </tr>\n",
       "  </thead>\n",
       "  <tbody>\n",
       "    <tr>\n",
       "      <th>Accuracy</th>\n",
       "      <td>0.573125</td>\n",
       "      <td>0.589568</td>\n",
       "      <td>0.585119</td>\n",
       "      <td>0.582604</td>\n",
       "    </tr>\n",
       "    <tr>\n",
       "      <th>Recall</th>\n",
       "      <td>0.602178</td>\n",
       "      <td>0.602347</td>\n",
       "      <td>0.585773</td>\n",
       "      <td>0.596766</td>\n",
       "    </tr>\n",
       "    <tr>\n",
       "      <th>Precision</th>\n",
       "      <td>0.163852</td>\n",
       "      <td>0.170088</td>\n",
       "      <td>0.165267</td>\n",
       "      <td>0.166403</td>\n",
       "    </tr>\n",
       "    <tr>\n",
       "      <th>Fbeta2</th>\n",
       "      <td>0.392291</td>\n",
       "      <td>0.399362</td>\n",
       "      <td>0.388217</td>\n",
       "      <td>0.393290</td>\n",
       "    </tr>\n",
       "    <tr>\n",
       "      <th>AUC</th>\n",
       "      <td>0.585614</td>\n",
       "      <td>0.595062</td>\n",
       "      <td>0.585400</td>\n",
       "      <td>0.588692</td>\n",
       "    </tr>\n",
       "  </tbody>\n",
       "</table>\n",
       "</div>"
      ],
      "text/plain": [
       "             Fold 1    Fold 2    Fold 3   Average\n",
       "Accuracy   0.573125  0.589568  0.585119  0.582604\n",
       "Recall     0.602178  0.602347  0.585773  0.596766\n",
       "Precision  0.163852  0.170088  0.165267  0.166403\n",
       "Fbeta2     0.392291  0.399362  0.388217  0.393290\n",
       "AUC        0.585614  0.595062  0.585400  0.588692"
      ]
     },
     "metadata": {},
     "output_type": "display_data"
    }
   ],
   "source": [
    "te_features = ['profession', 'city','state']\n",
    "scale_features = ['income','age','experience']\n",
    "\n",
    "preprocessor = ColumnTransformer(transformers=[('te_features', TargetEncoder(), te_features),\n",
    "                                               ('scale_features', MinMaxScaler(), scale_features)], remainder='passthrough')\n",
    "\n",
    "pipeline2 = Pipeline(steps = [['preprocessor', preprocessor ],\n",
    "                             ['smote', SMOTE(random_state=2021)],\n",
    "                             ['classifier', AdaBoostClassifier(random_state=2021)]]\n",
    "                   )\n",
    "\n",
    "run_pipeline(pipeline2, x_train, y_train)"
   ]
  },
  {
   "cell_type": "markdown",
   "id": "84abc722",
   "metadata": {},
   "source": [
    "# Model 3 - SMOTE + dropped columns"
   ]
  },
  {
   "cell_type": "code",
   "execution_count": 6,
   "id": "932e7929",
   "metadata": {},
   "outputs": [
    {
     "name": "stderr",
     "output_type": "stream",
     "text": [
      "/Users/jonw/miniforge3/envs/ml_env/lib/python3.8/site-packages/category_encoders/utils.py:21: FutureWarning: is_categorical is deprecated and will be removed in a future version.  Use is_categorical_dtype instead\n",
      "  elif pd.api.types.is_categorical(cols):\n",
      "/Users/jonw/miniforge3/envs/ml_env/lib/python3.8/site-packages/category_encoders/utils.py:21: FutureWarning: is_categorical is deprecated and will be removed in a future version.  Use is_categorical_dtype instead\n",
      "  elif pd.api.types.is_categorical(cols):\n",
      "/Users/jonw/miniforge3/envs/ml_env/lib/python3.8/site-packages/category_encoders/utils.py:21: FutureWarning: is_categorical is deprecated and will be removed in a future version.  Use is_categorical_dtype instead\n",
      "  elif pd.api.types.is_categorical(cols):\n"
     ]
    },
    {
     "data": {
      "text/html": [
       "<div>\n",
       "<style scoped>\n",
       "    .dataframe tbody tr th:only-of-type {\n",
       "        vertical-align: middle;\n",
       "    }\n",
       "\n",
       "    .dataframe tbody tr th {\n",
       "        vertical-align: top;\n",
       "    }\n",
       "\n",
       "    .dataframe thead th {\n",
       "        text-align: right;\n",
       "    }\n",
       "</style>\n",
       "<table border=\"1\" class=\"dataframe\">\n",
       "  <thead>\n",
       "    <tr style=\"text-align: right;\">\n",
       "      <th></th>\n",
       "      <th>Fold 1</th>\n",
       "      <th>Fold 2</th>\n",
       "      <th>Fold 3</th>\n",
       "      <th>Average</th>\n",
       "    </tr>\n",
       "  </thead>\n",
       "  <tbody>\n",
       "    <tr>\n",
       "      <th>Accuracy</th>\n",
       "      <td>0.573125</td>\n",
       "      <td>0.589568</td>\n",
       "      <td>0.585119</td>\n",
       "      <td>0.582604</td>\n",
       "    </tr>\n",
       "    <tr>\n",
       "      <th>Recall</th>\n",
       "      <td>0.602178</td>\n",
       "      <td>0.602347</td>\n",
       "      <td>0.585773</td>\n",
       "      <td>0.596766</td>\n",
       "    </tr>\n",
       "    <tr>\n",
       "      <th>Precision</th>\n",
       "      <td>0.163852</td>\n",
       "      <td>0.170088</td>\n",
       "      <td>0.165267</td>\n",
       "      <td>0.166403</td>\n",
       "    </tr>\n",
       "    <tr>\n",
       "      <th>Fbeta2</th>\n",
       "      <td>0.392291</td>\n",
       "      <td>0.399362</td>\n",
       "      <td>0.388217</td>\n",
       "      <td>0.393290</td>\n",
       "    </tr>\n",
       "    <tr>\n",
       "      <th>AUC</th>\n",
       "      <td>0.585614</td>\n",
       "      <td>0.595062</td>\n",
       "      <td>0.585400</td>\n",
       "      <td>0.588692</td>\n",
       "    </tr>\n",
       "  </tbody>\n",
       "</table>\n",
       "</div>"
      ],
      "text/plain": [
       "             Fold 1    Fold 2    Fold 3   Average\n",
       "Accuracy   0.573125  0.589568  0.585119  0.582604\n",
       "Recall     0.602178  0.602347  0.585773  0.596766\n",
       "Precision  0.163852  0.170088  0.165267  0.166403\n",
       "Fbeta2     0.392291  0.399362  0.388217  0.393290\n",
       "AUC        0.585614  0.595062  0.585400  0.588692"
      ]
     },
     "metadata": {},
     "output_type": "display_data"
    }
   ],
   "source": [
    "te_features = ['profession', 'city','state']\n",
    "scale_features = ['income','age','experience']\n",
    "\n",
    "preprocessor = ColumnTransformer(transformers=[('te_features', TargetEncoder(), te_features),\n",
    "                                               ('scale_features', MinMaxScaler(), scale_features)], remainder='passthrough')\n",
    "\n",
    "pipeline3 = Pipeline(steps = [['preprocessor', preprocessor ],\n",
    "                             ['smote', SMOTE(random_state=2021)],\n",
    "                             ['classifier', AdaBoostClassifier(random_state=2021)]]\n",
    "                   )\n",
    "\n",
    "run_pipeline(pipeline3, x_train, y_train)"
   ]
  },
  {
   "cell_type": "markdown",
   "id": "1885861f",
   "metadata": {},
   "source": [
    "### All results\n",
    "|           | Model 1  | Model 2  | Model 3  |\n",
    "|-----------|----------|----------|----------|\n",
    "| Accuracy  | 0.877133 | 0.582604 | 0.582604 |\n",
    "| Recall    | 0.001613 | 0.596766 | 0.596766 |\n",
    "| Precision | 0.746377 | 0.166403 | 0.166403 |\n",
    "| Fbeta2    | 0.002015 | 0.393290 | 0.393290 |\n",
    "| AUC       | 0.500770 | 0.588692 | 0.588692 |"
   ]
  }
 ],
 "metadata": {
  "kernelspec": {
   "display_name": "Python 3 (ipykernel)",
   "language": "python",
   "name": "python3"
  },
  "language_info": {
   "codemirror_mode": {
    "name": "ipython",
    "version": 3
   },
   "file_extension": ".py",
   "mimetype": "text/x-python",
   "name": "python",
   "nbconvert_exporter": "python",
   "pygments_lexer": "ipython3",
   "version": "3.8.10"
  }
 },
 "nbformat": 4,
 "nbformat_minor": 5
}
