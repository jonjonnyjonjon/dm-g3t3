{
 "cells": [
  {
   "cell_type": "markdown",
   "id": "b6db9f7c",
   "metadata": {},
   "source": [
    "# IS424: Data Mining & Biz Analytics\n",
    "### Team: G3T3\n",
    "### Project: Predicting Loan Default based on Customer Profile\n",
    "### Model selection: <font color='#0041C2'>Neural Network</font>\n",
    "---"
   ]
  },
  {
   "cell_type": "markdown",
   "id": "782cc9b3",
   "metadata": {},
   "source": [
    "# 1. Setting up the notebook"
   ]
  },
  {
   "cell_type": "code",
   "execution_count": 1,
   "id": "d6c578f7",
   "metadata": {},
   "outputs": [
    {
     "name": "stderr",
     "output_type": "stream",
     "text": [
      "/Users/jonw/miniforge3/envs/ml_env/lib/python3.8/site-packages/tensorflow_addons/utils/ensure_tf_install.py:54: UserWarning: Tensorflow Addons supports using Python ops for all Tensorflow versions above or equal to 2.2.0 and strictly below 2.4.0 (nightly versions are not supported). \n",
      " The versions of TensorFlow you are currently using is 2.4.0-rc0 and is not supported. \n",
      "Some things might work, some things might not.\n",
      "If you were to encounter a bug, do not file an issue.\n",
      "If you want to make sure you're using a tested and supported configuration, either change the TensorFlow version or the TensorFlow Addons's version. \n",
      "You can find the compatibility matrix in TensorFlow Addon's readme:\n",
      "https://github.com/tensorflow/addons\n",
      "  warnings.warn(\n"
     ]
    }
   ],
   "source": [
    "import pandas as pd\n",
    "import numpy as np\n",
    "\n",
    "from imblearn.over_sampling import SMOTE\n",
    "from category_encoders import TargetEncoder\n",
    "from sklearn.preprocessing import MinMaxScaler\n",
    "\n",
    "from sklearn.metrics import recall_score, fbeta_score, roc_auc_score, make_scorer\n",
    "from sklearn.model_selection import cross_val_score, StratifiedKFold\n",
    "\n",
    "import tensorflow as tf\n",
    "tf.autograph.set_verbosity(0)\n",
    "from tensorflow.keras.models import Sequential\n",
    "from tensorflow.keras.layers import Dense, Flatten\n",
    "from tensorflow.keras.utils import to_categorical\n",
    "from tensorflow.keras.metrics import Recall, AUC, Precision\n",
    "import tensorflow_addons as tfa\n",
    "\n",
    "tf.get_logger().setLevel(\"INFO\")"
   ]
  },
  {
   "cell_type": "code",
   "execution_count": 2,
   "id": "b0db1970",
   "metadata": {},
   "outputs": [],
   "source": [
    "df_train = pd.read_csv(\"../dataset/train.csv\")\n",
    "\n",
    "y_train = df_train[[\"risk_flag\"]]\n",
    "x_train = df_train.drop(\"risk_flag\", axis=1)"
   ]
  },
  {
   "cell_type": "code",
   "execution_count": 3,
   "id": "29cb832b",
   "metadata": {},
   "outputs": [
    {
     "name": "stderr",
     "output_type": "stream",
     "text": [
      "/Users/jonw/miniforge3/envs/ml_env/lib/python3.8/site-packages/category_encoders/utils.py:21: FutureWarning: is_categorical is deprecated and will be removed in a future version.  Use is_categorical_dtype instead\n",
      "  elif pd.api.types.is_categorical(cols):\n"
     ]
    }
   ],
   "source": [
    "def target_encoding(df_x, df_y):\n",
    "    x = df_x.copy()\n",
    "    \n",
    "    # Target Encoding — categorical columns with high cardinality: profession, city, state\n",
    "    profession_target_enc = TargetEncoder()\n",
    "    x[\"profession_encoded\"] = profession_target_enc.fit_transform(x[\"profession\"], df_y)\n",
    "    \n",
    "    city_target_enc = TargetEncoder()\n",
    "    x[\"city_encoded\"] = city_target_enc.fit_transform(x[\"city\"], df_y)\n",
    "    \n",
    "    state_target_enc = TargetEncoder()\n",
    "    x[\"state_encoded\"] = state_target_enc.fit_transform(x[\"state\"], df_y)\n",
    "    \n",
    "    x.drop(\"profession\", axis=1, inplace=True)\n",
    "    x.drop(\"city\", axis=1, inplace=True)\n",
    "    x.drop(\"state\", axis=1, inplace=True)\n",
    "    return x\n",
    "\n",
    "scale_features = ['income','age','experience']\n",
    "x_train = target_encoding(x_train, y_train)\n",
    "scaler = MinMaxScaler()\n",
    "x_train[scale_features] = scaler.fit_transform(x_train[scale_features])"
   ]
  },
  {
   "cell_type": "markdown",
   "id": "4726084b",
   "metadata": {},
   "source": [
    "# 2. Running base model"
   ]
  },
  {
   "cell_type": "code",
   "execution_count": null,
   "id": "c2ecbc95",
   "metadata": {},
   "outputs": [
    {
     "name": "stdout",
     "output_type": "stream",
     "text": [
      "WARNING:tensorflow:AutoGraph could not transform <function Model.make_train_function.<locals>.train_function at 0x293e39820> and will run it as-is.\n",
      "Please report this to the TensorFlow team. When filing the bug, set the verbosity to 10 (on Linux, `export AUTOGRAPH_VERBOSITY=10`) and attach the full output.\n",
      "Cause: unsupported operand type(s) for -: 'NoneType' and 'int'\n",
      "To silence this warning, decorate the function with @tf.autograph.experimental.do_not_convert\n"
     ]
    }
   ],
   "source": [
    "skf = StratifiedKFold(shuffle=True, n_splits=3, random_state=2021)\n",
    "scores = []\n",
    "\n",
    "for train, val in skf.split(x_train, y_train):\n",
    "    model = Sequential()\n",
    "    model.add(Dense(120, input_shape=(13,), activation='relu'))\n",
    "    model.add(Dense(120, activation='relu'))\n",
    "    model.add(Dense(120, activation='relu'))\n",
    "    model.add(Dense(2, activation='softmax'))\n",
    "\n",
    "    model.compile(loss='binary_crossentropy', \n",
    "                  optimizer='adam', \n",
    "                  metrics=[\"accuracy\", Recall(), Precision(), tfa.metrics.FBetaScore(num_classes=2, beta=2.0), AUC()])\n",
    "\n",
    "    x_t, y_t = x_train.iloc[train], y_train.iloc[train]\n",
    "    x_val, y_val = x_train.iloc[val], y_train.iloc[val]\n",
    "\n",
    "    oversampler = SMOTE(random_state=2021)\n",
    "    x_t, y_t = oversampler.fit_resample(x_t, y_t)\n",
    "    \n",
    "    y_t = to_categorical(y_t, 2)\n",
    "    y_val = to_categorical(y_val, 2)\n",
    "\n",
    "    model_fit = model.fit(x_t, y_t, epochs=5, batch_size=64, verbose=0)\n",
    "    result = model.evaluate(x_val, y_val, verbose=0)\n",
    "    scores.append(result)\n",
    "    \n",
    "loss = [ val[0] for val in scores ]\n",
    "accuracy = [ val[1] for val in scores ]\n",
    "recall = [ val[2] for val in scores ]\n",
    "precision = [ val[3] for val in scores ]\n",
    "fbeta_2 = [ val[4][0] for val in scores ]\n",
    "auc = [ val[5] for val in scores ]\n",
    "\n",
    "loss.append( sum(loss) / len(loss) )\n",
    "accuracy.append( sum(accuracy) / len(accuracy) )\n",
    "recall.append( sum(recall) / len(recall) )\n",
    "precision.append( sum(precision) / len(precision) )\n",
    "fbeta_2.append( sum(fbeta_2) / len(fbeta_2) )\n",
    "auc.append( sum(auc) / len(auc) )\n",
    "\n",
    "score_df = pd.DataFrame(data=[loss, accuracy, recall, precision, fbeta_2, auc], columns=['Fold 1','Fold 2','Fold 3', 'Average'],\n",
    "                        index=['Loss', 'Accuracy', 'Recall', 'Precision', 'Fbeta2', 'AUC'])\n",
    "display(score_df)"
   ]
  }
 ],
 "metadata": {
  "kernelspec": {
   "display_name": "Python 3 (ipykernel)",
   "language": "python",
   "name": "python3"
  },
  "language_info": {
   "codemirror_mode": {
    "name": "ipython",
    "version": 3
   },
   "file_extension": ".py",
   "mimetype": "text/x-python",
   "name": "python",
   "nbconvert_exporter": "python",
   "pygments_lexer": "ipython3",
   "version": "3.8.10"
  }
 },
 "nbformat": 4,
 "nbformat_minor": 5
}
