{
 "cells": [
  {
   "cell_type": "markdown",
   "metadata": {},
   "source": [
    "# IS424: Data Mining & Biz Analytics\n",
    "## Team: G3T3\n",
    "### Project: Predicting Loan Default based on Customer Profile\n",
    "### Grid Search and Cross-validation: RandomForest\n",
    "---"
   ]
  },
  {
   "cell_type": "markdown",
   "metadata": {},
   "source": [
    "# 1. Setting up the notebook"
   ]
  },
  {
   "cell_type": "code",
   "execution_count": 6,
   "metadata": {
    "execution": {
     "iopub.execute_input": "2021-11-07T13:47:47.664274Z",
     "iopub.status.busy": "2021-11-07T13:47:47.663565Z",
     "iopub.status.idle": "2021-11-07T13:47:47.674602Z",
     "shell.execute_reply": "2021-11-07T13:47:47.673406Z",
     "shell.execute_reply.started": "2021-11-07T13:47:47.664234Z"
    }
   },
   "outputs": [],
   "source": [
    "import pandas as pd\n",
    "import numpy as np\n",
    "import seaborn as sns\n",
    "import matplotlib.pyplot as plt\n",
    "%matplotlib inline\n",
    "\n",
    "from category_encoders import TargetEncoder\n",
    "\n",
    "from sklearn.model_selection import train_test_split\n",
    "from imblearn.over_sampling import SMOTE\n",
    "from sklearn.preprocessing import MinMaxScaler\n",
    "\n",
    "from sklearn.ensemble import RandomForestClassifier\n",
    "from sklearn.metrics import make_scorer, precision_score, recall_score, f1_score, fbeta_score, accuracy_score, roc_auc_score"
   ]
  },
  {
   "cell_type": "code",
   "execution_count": 7,
   "metadata": {
    "execution": {
     "iopub.execute_input": "2021-11-07T13:47:47.677426Z",
     "iopub.status.busy": "2021-11-07T13:47:47.676938Z",
     "iopub.status.idle": "2021-11-07T13:47:48.032750Z",
     "shell.execute_reply": "2021-11-07T13:47:48.031726Z",
     "shell.execute_reply.started": "2021-11-07T13:47:47.677379Z"
    }
   },
   "outputs": [],
   "source": [
    "# df_train = pd.read_csv(\"../dataset/train.csv\") # local\n",
    "# df_test = pd.read_csv(\"../dataset/test.csv\") # local\n",
    "\n",
    "df_train = pd.read_csv(\"../input/is424loanpredictionpreprocessed/train.csv\") # kaggle\n",
    "df_test = pd.read_csv(\"../input/is424loanpredictionpreprocessed/test.csv\") # kaggle\n",
    "\n",
    "y_train = df_train[[\"risk_flag\"]]\n",
    "x_train = df_train.drop(\"risk_flag\", axis=1)\n",
    "\n",
    "y_test = df_test[[\"risk_flag\"]]\n",
    "x_test = df_test.drop(\"risk_flag\", axis=1)"
   ]
  },
  {
   "cell_type": "code",
   "execution_count": 8,
   "metadata": {
    "execution": {
     "iopub.execute_input": "2021-11-07T13:47:48.034119Z",
     "iopub.status.busy": "2021-11-07T13:47:48.033896Z",
     "iopub.status.idle": "2021-11-07T13:47:48.048990Z",
     "shell.execute_reply": "2021-11-07T13:47:48.048050Z",
     "shell.execute_reply.started": "2021-11-07T13:47:48.034092Z"
    }
   },
   "outputs": [],
   "source": [
    "x_train.head()"
   ]
  },
  {
   "cell_type": "markdown",
   "metadata": {},
   "source": [
    "# 2. Performance of Base Random Forest Classifier"
   ]
  },
  {
   "cell_type": "code",
   "execution_count": 9,
   "metadata": {
    "execution": {
     "iopub.execute_input": "2021-11-07T13:47:48.051178Z",
     "iopub.status.busy": "2021-11-07T13:47:48.050803Z",
     "iopub.status.idle": "2021-11-07T13:47:48.063444Z",
     "shell.execute_reply": "2021-11-07T13:47:48.062308Z",
     "shell.execute_reply.started": "2021-11-07T13:47:48.051144Z"
    }
   },
   "outputs": [],
   "source": [
    "from imblearn.pipeline import Pipeline\n",
    "from sklearn.model_selection import StratifiedKFold, GridSearchCV, cross_validate\n",
    "from sklearn.compose import ColumnTransformer\n",
    "\n",
    "def cv_evaluate_model(rf_clf):\n",
    "    smote_sampler = SMOTE(random_state=2021)\n",
    "    te_features = ['profession', 'city','state']\n",
    "    scale_features = ['income','age','experience']\n",
    "\n",
    "    preprocessor = ColumnTransformer(transformers=[('te_features', TargetEncoder(), te_features),\n",
    "                                                    ('scale_features', MinMaxScaler(), scale_features)])\n",
    "\n",
    "    pipeline = Pipeline(steps = [['preprocessor', preprocessor ],\n",
    "                                 ['smote', SMOTE(random_state=2021)],\n",
    "                                 ['classifier', rf_clf]\n",
    "                                ])\n",
    "    \n",
    "    stratified_kfold = StratifiedKFold(shuffle=True, n_splits=3, random_state=2021)\n",
    "\n",
    "    scoring = {\"recall\": 'recall',\n",
    "               \"fbeta_2\": make_scorer(fbeta_score, beta=2),\n",
    "               \"roc_auc\": make_scorer(roc_auc_score),\n",
    "              }\n",
    "\n",
    "    scores = cross_validate(pipeline, x_train, y_train.values.ravel(), cv=stratified_kfold,\n",
    "                           scoring = scoring)\n",
    "\n",
    "    recall = [ val for val in scores['test_recall'] ]\n",
    "    fbeta_2 = [ val for val in scores['test_fbeta_2'] ]\n",
    "    auc = [ val for val in scores['test_roc_auc'] ]\n",
    "    recall.append( sum(recall) / len(recall) )\n",
    "    fbeta_2.append( sum(fbeta_2) / len(fbeta_2) )\n",
    "    auc.append( sum(auc) / len(auc) )\n",
    "\n",
    "    score_df = pd.DataFrame(data=[recall, fbeta_2, auc], columns=['Fold 1','Fold 2','Fold 3', 'Average'],\n",
    "                            index=['Recall','Fbeta2','AUC'])\n",
    "    return score_df"
   ]
  },
  {
   "cell_type": "code",
   "execution_count": 10,
   "metadata": {
    "execution": {
     "iopub.execute_input": "2021-11-07T13:47:48.065587Z",
     "iopub.status.busy": "2021-11-07T13:47:48.065333Z",
     "iopub.status.idle": "2021-11-07T13:49:42.630022Z",
     "shell.execute_reply": "2021-11-07T13:49:42.629198Z",
     "shell.execute_reply.started": "2021-11-07T13:47:48.065558Z"
    }
   },
   "outputs": [],
   "source": [
    "base_rf_clf = RandomForestClassifier(random_state=2021)\n",
    "results_base = cv_evaluate_model(base_rf_clf)\n",
    "display(results_base)"
   ]
  },
  {
   "cell_type": "markdown",
   "metadata": {},
   "source": [
    "# 3. Hyper parameter tuning with GridSearch"
   ]
  },
  {
   "cell_type": "markdown",
   "metadata": {},
   "source": [
    "## 3.1 Conducting Grid Search 1"
   ]
  },
  {
   "cell_type": "code",
   "execution_count": 11,
   "metadata": {
    "execution": {
     "iopub.execute_input": "2021-11-07T13:49:42.631540Z",
     "iopub.status.busy": "2021-11-07T13:49:42.631292Z",
     "iopub.status.idle": "2021-11-07T13:49:42.640382Z",
     "shell.execute_reply": "2021-11-07T13:49:42.639821Z",
     "shell.execute_reply.started": "2021-11-07T13:49:42.631511Z"
    }
   },
   "outputs": [],
   "source": [
    "# Creating parameter grid to search\n",
    "n_estimators = [100, 500, 900]\n",
    "\n",
    "max_depth = [5, 10, 15]\n",
    "\n",
    "min_samples_split = [3, 5, 8]\n",
    "\n",
    "min_samples_leaf = [1, 3, 5]\n",
    "\n",
    "params_grid = {\n",
    "                'classifier__n_estimators': n_estimators,\n",
    "                'classifier__min_samples_split': min_samples_split,\n",
    "                'classifier__min_samples_leaf': min_samples_leaf,\n",
    "                'classifier__max_depth': max_depth\n",
    "              }\n",
    "\n",
    "total_combi = 1\n",
    "for param, value in params_grid.items():\n",
    "    print(param, value)\n",
    "    total_combi *= len(value)\n",
    "\n",
    "print('-----------------')\n",
    "print('Total combinations:', total_combi)"
   ]
  },
  {
   "cell_type": "code",
   "execution_count": 12,
   "metadata": {
    "execution": {
     "iopub.execute_input": "2021-11-07T13:49:42.641781Z",
     "iopub.status.busy": "2021-11-07T13:49:42.641431Z",
     "iopub.status.idle": "2021-11-07T13:49:42.659322Z",
     "shell.execute_reply": "2021-11-07T13:49:42.658576Z",
     "shell.execute_reply.started": "2021-11-07T13:49:42.641752Z"
    }
   },
   "outputs": [],
   "source": [
    "# # conduct gridsearch 1\n",
    "# te_features = ['profession', 'city','state']\n",
    "# scale_features = ['income','age','experience']\n",
    "\n",
    "# preprocessor = ColumnTransformer(transformers=[('te_features', TargetEncoder(), te_features),\n",
    "#                                                 ('scale_features', MinMaxScaler(), scale_features)])\n",
    "\n",
    "# pipeline = Pipeline(steps = [['preprocessor', preprocessor ],\n",
    "#                              ['smote', SMOTE(random_state=2021)],\n",
    "#                              ['classifier', RandomForestClassifier(random_state=2021)]\n",
    "#                             ])\n",
    "\n",
    "# stratified_kfold = StratifiedKFold(shuffle=True, n_splits=3, random_state=2021)\n",
    "\n",
    "\n",
    "# rf_gridsearch = GridSearchCV(estimator = pipeline,\n",
    "#                            param_grid = params_grid,\n",
    "#                            scoring = 'recall',\n",
    "#                            cv = stratified_kfold,\n",
    "#                            refit = True,\n",
    "#                            n_jobs = -1)\n",
    "\n",
    "# rf_gridsearch.fit( x_train, y_train.values.ravel() )\n",
    "# best_parameters = rf_gridsearch.best_params_\n",
    "# print(best_parameters)"
   ]
  },
  {
   "cell_type": "markdown",
   "metadata": {},
   "source": [
    "{'classifier__max_depth': 15, 'classifier__min_samples_leaf': 3, 'classifier__min_samples_split': 3, 'classifier__n_estimators': 100}"
   ]
  },
  {
   "cell_type": "code",
   "execution_count": 13,
   "metadata": {
    "execution": {
     "iopub.execute_input": "2021-11-07T13:49:42.661069Z",
     "iopub.status.busy": "2021-11-07T13:49:42.660821Z",
     "iopub.status.idle": "2021-11-07T13:51:17.734397Z",
     "shell.execute_reply": "2021-11-07T13:51:17.733480Z",
     "shell.execute_reply.started": "2021-11-07T13:49:42.661039Z"
    }
   },
   "outputs": [],
   "source": [
    "# classifier trained on the latest hyper parameters\n",
    "rf_clf2 = RandomForestClassifier(max_depth=15, max_features='sqrt', min_samples_leaf=3,\n",
    "                                min_samples_split=3, n_estimators=100,\n",
    "                                random_state=2021)\n",
    "\n",
    "results_gs1 = cv_evaluate_model(rf_clf2)\n",
    "display(results_gs1)"
   ]
  },
  {
   "cell_type": "markdown",
   "metadata": {},
   "source": [
    "## 3.2 Second GridSearchCV\n",
    "This second parameter search space aims to narrow down the search space based on the results obtained in the first grid search.\n",
    "\n",
    "**Previous parameter search space:**\n",
    "- n_estimators = [100, 500, 900]\n",
    "- max_depth = [5, 10, 15]\n",
    "- min_samples_split = [3, 5, 8]\n",
    "- min_samples_leaf = [1, 3, 5]\n",
    "\n",
    "**Obtained results:**\n",
    "\n",
    "| Feature           | Value | New search space |\n",
    "|-------------------|:-----:|------------|\n",
    "| n_estimators      | 100   | [100, 150, 200, 250, 300] |\n",
    "| max_depth         | 15    | [13, 15, 17, 20] |\n",
    "| min_samples_split | 3     | [2, 3, 4] |\n",
    "| min_samples_leaf  | 3     | [2, 3, 4] |"
   ]
  },
  {
   "cell_type": "code",
   "execution_count": 15,
   "metadata": {
    "execution": {
     "iopub.execute_input": "2021-11-07T13:53:02.808554Z",
     "iopub.status.busy": "2021-11-07T13:53:02.808221Z",
     "iopub.status.idle": "2021-11-07T13:53:02.818115Z",
     "shell.execute_reply": "2021-11-07T13:53:02.817053Z",
     "shell.execute_reply.started": "2021-11-07T13:53:02.808513Z"
    }
   },
   "outputs": [],
   "source": [
    "# Creating parameter grid to search\n",
    "n_estimators = [100, 150, 200, 250]\n",
    "\n",
    "max_depth = [13, 15, 17, 20]\n",
    "\n",
    "min_samples_split = [2, 3, 4]\n",
    "\n",
    "min_samples_leaf = [2, 3, 4]\n",
    "\n",
    "params_grid = {\n",
    "                'classifier__n_estimators': n_estimators,\n",
    "                'classifier__min_samples_split': min_samples_split,\n",
    "                'classifier__min_samples_leaf': min_samples_leaf,\n",
    "                'classifier__max_depth': max_depth\n",
    "              }\n",
    "\n",
    "total_combi = 1\n",
    "for param, value in params_grid.items():\n",
    "    print(param, value)\n",
    "    total_combi *= len(value)\n",
    "\n",
    "print('-----------------')\n",
    "print('Total combinations:', total_combi)"
   ]
  },
  {
   "cell_type": "code",
   "execution_count": null,
   "metadata": {},
   "outputs": [],
   "source": [
    "# conduct gridsearch 2\n",
    "te_features = ['profession', 'city','state']\n",
    "scale_features = ['income','age','experience']\n",
    "\n",
    "preprocessor = ColumnTransformer(transformers=[('te_features', TargetEncoder(), te_features),\n",
    "                                                ('scale_features', MinMaxScaler(), scale_features)])\n",
    "\n",
    "pipeline = Pipeline(steps = [['preprocessor', preprocessor ],\n",
    "                             ['smote', SMOTE(random_state=2021)],\n",
    "                             ['classifier', RandomForestClassifier(random_state=2021)]\n",
    "                            ])\n",
    "\n",
    "stratified_kfold = StratifiedKFold(shuffle=True, n_splits=3, random_state=2021)\n",
    "\n",
    "\n",
    "rf_gridsearch = GridSearchCV(estimator = pipeline,\n",
    "                           param_grid = params_grid,\n",
    "                           scoring = 'recall',\n",
    "                           cv = stratified_kfold,\n",
    "                           refit = True,\n",
    "                           n_jobs = -1)\n",
    "\n",
    "rf_gridsearch.fit( x_train, y_train.values.ravel() )\n",
    "best_parameters = rf_gridsearch.best_params_\n",
    "print(best_parameters)"
   ]
  }
 ],
 "metadata": {
  "kernelspec": {
   "display_name": "Python 3",
   "language": "python",
   "name": "python3"
  },
  "language_info": {
   "codemirror_mode": {
    "name": "ipython",
    "version": 3
   },
   "file_extension": ".py",
   "mimetype": "text/x-python",
   "name": "python",
   "nbconvert_exporter": "python",
   "pygments_lexer": "ipython3",
   "version": "3.7.3"
  }
 },
 "nbformat": 4,
 "nbformat_minor": 4
}
