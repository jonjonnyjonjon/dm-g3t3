{
 "cells": [
  {
   "cell_type": "markdown",
   "id": "11852bee",
   "metadata": {},
   "source": [
    "# Grid Search and Cross-validation: RandomForest\n",
    "---"
   ]
  },
  {
   "cell_type": "markdown",
   "id": "086db3fc",
   "metadata": {},
   "source": [
    "# 1. Setting up the notebook"
   ]
  },
  {
   "cell_type": "code",
   "execution_count": 1,
   "id": "8f5b1420",
   "metadata": {
    "_cell_guid": "b1076dfc-b9ad-4769-8c92-a6c4dae69d19",
    "_uuid": "8f2839f25d086af736a60e9eeb907d3b93b6e0e5",
    "execution": {
     "iopub.execute_input": "2021-11-13T15:02:17.451991Z",
     "iopub.status.busy": "2021-11-13T15:02:17.450501Z",
     "iopub.status.idle": "2021-11-13T15:02:17.468618Z",
     "shell.execute_reply": "2021-11-13T15:02:17.467912Z"
    },
    "papermill": {
     "duration": 0.03251,
     "end_time": "2021-11-13T15:02:17.468780",
     "exception": false,
     "start_time": "2021-11-13T15:02:17.436270",
     "status": "completed"
    },
    "tags": []
   },
   "outputs": [],
   "source": [
    "import pandas as pd\n",
    "import numpy as np\n",
    "import seaborn as sns\n",
    "import matplotlib.pyplot as plt\n",
    "%matplotlib inline\n",
    "\n",
    "from category_encoders import TargetEncoder\n",
    "\n",
    "from imblearn.over_sampling import SMOTE\n",
    "from sklearn.preprocessing import MinMaxScaler\n",
    "\n",
    "from sklearn.ensemble import RandomForestClassifier\n",
    "from sklearn.metrics import make_scorer, accuracy_score, recall_score, precision_score, fbeta_score, roc_auc_score\n",
    "\n",
    "from imblearn.pipeline import Pipeline\n",
    "from sklearn.model_selection import StratifiedKFold, GridSearchCV, cross_validate\n",
    "from sklearn.compose import ColumnTransformer"
   ]
  },
  {
   "cell_type": "code",
   "execution_count": 2,
   "id": "629e6151",
   "metadata": {
    "execution": {
     "iopub.execute_input": "2021-11-13T15:02:18.732994Z",
     "iopub.status.busy": "2021-11-13T15:02:18.732434Z",
     "iopub.status.idle": "2021-11-13T15:02:19.874435Z",
     "shell.execute_reply": "2021-11-13T15:02:19.873943Z"
    },
    "papermill": {
     "duration": 1.16006,
     "end_time": "2021-11-13T15:02:19.874574",
     "exception": false,
     "start_time": "2021-11-13T15:02:18.714514",
     "status": "completed"
    },
    "tags": []
   },
   "outputs": [],
   "source": [
    "df_train = pd.read_csv(\"../dataset/train.csv\")\n",
    "df_test = pd.read_csv(\"../dataset/test.csv\")\n",
    "\n",
    "y_train = df_train[[\"risk_flag\"]]\n",
    "x_train = df_train.drop(\"risk_flag\", axis=1)"
   ]
  },
  {
   "cell_type": "code",
   "execution_count": 3,
   "id": "a583f54d",
   "metadata": {
    "execution": {
     "iopub.execute_input": "2021-11-13T15:02:19.902920Z",
     "iopub.status.busy": "2021-11-13T15:02:19.901793Z",
     "iopub.status.idle": "2021-11-13T15:02:19.903986Z",
     "shell.execute_reply": "2021-11-13T15:02:19.904408Z"
    },
    "papermill": {
     "duration": 0.021944,
     "end_time": "2021-11-13T15:02:19.904537",
     "exception": false,
     "start_time": "2021-11-13T15:02:19.882593",
     "status": "completed"
    },
    "tags": []
   },
   "outputs": [],
   "source": [
    "def cv_evaluate_model(rf_clf):\n",
    "    te_features = ['profession', 'city','state']\n",
    "    scale_features = ['income','age','experience']\n",
    "\n",
    "    preprocessor = ColumnTransformer(transformers=[('te_features', TargetEncoder(), te_features),\n",
    "                                                    ('scale_features', MinMaxScaler(), scale_features)])\n",
    "\n",
    "    pipeline = Pipeline(steps = [['preprocessor', preprocessor ],\n",
    "                                 ['smote', SMOTE(random_state=2021)],\n",
    "                                 ['classifier', rf_clf]\n",
    "                                ])\n",
    "    \n",
    "    stratified_kfold = StratifiedKFold(shuffle=True, n_splits=3, random_state=2021)\n",
    "\n",
    "    scoring = {\"accuracy\": \"accuracy\",\n",
    "               \"recall\": 'recall',\n",
    "               \"precision\": \"precision\",\n",
    "               \"fbeta_2\": make_scorer(fbeta_score, beta=2),\n",
    "               \"roc_auc\": make_scorer(roc_auc_score),\n",
    "              }\n",
    "\n",
    "    scores = cross_validate(pipeline, x_train, y_train.values.ravel(), cv=stratified_kfold,\n",
    "                           scoring = scoring)\n",
    "\n",
    "    accuracy = [ val for val in scores['test_accuracy'] ]\n",
    "    recall = [ val for val in scores['test_recall'] ]\n",
    "    precision = [ val for val in scores['test_precision'] ]\n",
    "    fbeta_2 = [ val for val in scores['test_fbeta_2'] ]\n",
    "    auc = [ val for val in scores['test_roc_auc'] ]\n",
    "    \n",
    "    accuracy.append( sum(accuracy) / len(accuracy) )\n",
    "    recall.append( sum(recall) / len(recall) )\n",
    "    precision.append( sum(precision) / len(precision) )\n",
    "    fbeta_2.append( sum(fbeta_2) / len(fbeta_2) )\n",
    "    auc.append( sum(auc) / len(auc) )\n",
    "\n",
    "    score_df = pd.DataFrame(data=[accuracy, recall, precision, fbeta_2, auc], columns=['Fold 1','Fold 2','Fold 3', 'Average'],\n",
    "                            index=['Accuracy', 'Recall', 'Precision', 'Fbeta2', 'AUC'])\n",
    "    return score_df"
   ]
  },
  {
   "cell_type": "markdown",
   "id": "bdfe62c5",
   "metadata": {},
   "source": [
    "# 2. Grid Search"
   ]
  },
  {
   "cell_type": "markdown",
   "id": "a0830573",
   "metadata": {},
   "source": [
    "## 2.1 Grid Search 1"
   ]
  },
  {
   "cell_type": "code",
   "execution_count": 5,
   "id": "bc216c96",
   "metadata": {
    "execution": {
     "iopub.execute_input": "2021-11-13T15:02:19.923479Z",
     "iopub.status.busy": "2021-11-13T15:02:19.922801Z",
     "iopub.status.idle": "2021-11-13T15:02:19.925500Z",
     "shell.execute_reply": "2021-11-13T15:02:19.925010Z"
    },
    "papermill": {
     "duration": 0.013612,
     "end_time": "2021-11-13T15:02:19.925608",
     "exception": false,
     "start_time": "2021-11-13T15:02:19.911996",
     "status": "completed"
    },
    "tags": []
   },
   "outputs": [],
   "source": [
    "n_estimators = [100, 500, 900]\n",
    "max_depth = [5, 10, 15]\n",
    "min_samples_split = [3, 5, 8]\n",
    "min_samples_leaf = [1, 3, 5]\n",
    "\n",
    "params_grid = {\n",
    "                'classifier__n_estimators': n_estimators,\n",
    "                'classifier__min_samples_split': min_samples_split,\n",
    "                'classifier__min_samples_leaf': min_samples_leaf,\n",
    "                'classifier__max_depth': max_depth\n",
    "              }\n",
    "\n",
    "total_combi = 1\n",
    "for param, value in params_grid.items():\n",
    "    print(param, value)\n",
    "    total_combi *= len(value)\n",
    "\n",
    "print('-----------------')\n",
    "print('Total combinations:', total_combi)"
   ]
  },
  {
   "cell_type": "code",
   "execution_count": 6,
   "id": "f2ad1fd4",
   "metadata": {
    "execution": {
     "iopub.execute_input": "2021-11-13T15:02:19.946133Z",
     "iopub.status.busy": "2021-11-13T15:02:19.944614Z",
     "iopub.status.idle": "2021-11-13T15:02:19.946893Z",
     "shell.execute_reply": "2021-11-13T15:02:19.947302Z"
    },
    "papermill": {
     "duration": 0.014171,
     "end_time": "2021-11-13T15:02:19.947473",
     "exception": false,
     "start_time": "2021-11-13T15:02:19.933302",
     "status": "completed"
    },
    "tags": []
   },
   "outputs": [],
   "source": [
    "te_features = ['profession', 'city','state']\n",
    "scale_features = ['income','age','experience']\n",
    "\n",
    "preprocessor = ColumnTransformer(transformers=[('te_features', TargetEncoder(), te_features),\n",
    "                                                ('scale_features', MinMaxScaler(), scale_features)])\n",
    "\n",
    "pipeline = Pipeline(steps = [['preprocessor', preprocessor ],\n",
    "                             ['smote', SMOTE(random_state=2021)],\n",
    "                             ['classifier', RandomForestClassifier(random_state=2021)]\n",
    "                            ])\n",
    "\n",
    "stratified_kfold = StratifiedKFold(shuffle=True, n_splits=3, random_state=2021)\n",
    "\n",
    "\n",
    "rf_gridsearch = GridSearchCV(estimator = pipeline,\n",
    "                           param_grid = params_grid,\n",
    "                           scoring = 'recall',\n",
    "                           cv = stratified_kfold,\n",
    "                           refit = True,\n",
    "                           n_jobs = -1)\n",
    "\n",
    "rf_gridsearch.fit( x_train, y_train.values.ravel() )\n",
    "best_parameters = rf_gridsearch.best_params_\n",
    "print(best_parameters)"
   ]
  },
  {
   "cell_type": "markdown",
   "id": "6570705b",
   "metadata": {},
   "source": [
    "`{'classifier__max_depth': 15, 'classifier__min_samples_leaf': 3, 'classifier__min_samples_split': 3, 'classifier__n_estimators': 100}`"
   ]
  },
  {
   "cell_type": "code",
   "execution_count": 4,
   "id": "32ebf6dd",
   "metadata": {
    "execution": {
     "iopub.execute_input": "2021-11-13T15:02:19.966180Z",
     "iopub.status.busy": "2021-11-13T15:02:19.965559Z",
     "iopub.status.idle": "2021-11-13T15:02:19.967717Z",
     "shell.execute_reply": "2021-11-13T15:02:19.968117Z"
    },
    "papermill": {
     "duration": 0.013025,
     "end_time": "2021-11-13T15:02:19.968230",
     "exception": false,
     "start_time": "2021-11-13T15:02:19.955205",
     "status": "completed"
    },
    "tags": []
   },
   "outputs": [
    {
     "name": "stderr",
     "output_type": "stream",
     "text": [
      "/Users/jonw/miniforge3/envs/ml_env/lib/python3.8/site-packages/category_encoders/utils.py:21: FutureWarning: is_categorical is deprecated and will be removed in a future version.  Use is_categorical_dtype instead\n",
      "  elif pd.api.types.is_categorical(cols):\n",
      "/Users/jonw/miniforge3/envs/ml_env/lib/python3.8/site-packages/category_encoders/utils.py:21: FutureWarning: is_categorical is deprecated and will be removed in a future version.  Use is_categorical_dtype instead\n",
      "  elif pd.api.types.is_categorical(cols):\n",
      "/Users/jonw/miniforge3/envs/ml_env/lib/python3.8/site-packages/category_encoders/utils.py:21: FutureWarning: is_categorical is deprecated and will be removed in a future version.  Use is_categorical_dtype instead\n",
      "  elif pd.api.types.is_categorical(cols):\n"
     ]
    },
    {
     "data": {
      "text/html": [
       "<div>\n",
       "<style scoped>\n",
       "    .dataframe tbody tr th:only-of-type {\n",
       "        vertical-align: middle;\n",
       "    }\n",
       "\n",
       "    .dataframe tbody tr th {\n",
       "        vertical-align: top;\n",
       "    }\n",
       "\n",
       "    .dataframe thead th {\n",
       "        text-align: right;\n",
       "    }\n",
       "</style>\n",
       "<table border=\"1\" class=\"dataframe\">\n",
       "  <thead>\n",
       "    <tr style=\"text-align: right;\">\n",
       "      <th></th>\n",
       "      <th>Fold 1</th>\n",
       "      <th>Fold 2</th>\n",
       "      <th>Fold 3</th>\n",
       "      <th>Average</th>\n",
       "    </tr>\n",
       "  </thead>\n",
       "  <tbody>\n",
       "    <tr>\n",
       "      <th>Accuracy</th>\n",
       "      <td>0.872738</td>\n",
       "      <td>0.880372</td>\n",
       "      <td>0.875655</td>\n",
       "      <td>0.876255</td>\n",
       "    </tr>\n",
       "    <tr>\n",
       "      <th>Recall</th>\n",
       "      <td>0.791410</td>\n",
       "      <td>0.788773</td>\n",
       "      <td>0.784055</td>\n",
       "      <td>0.788079</td>\n",
       "    </tr>\n",
       "    <tr>\n",
       "      <th>Precision</th>\n",
       "      <td>0.489266</td>\n",
       "      <td>0.508858</td>\n",
       "      <td>0.496552</td>\n",
       "      <td>0.498226</td>\n",
       "    </tr>\n",
       "    <tr>\n",
       "      <th>Fbeta2</th>\n",
       "      <td>0.704409</td>\n",
       "      <td>0.710596</td>\n",
       "      <td>0.702685</td>\n",
       "      <td>0.705896</td>\n",
       "    </tr>\n",
       "    <tr>\n",
       "      <th>AUC</th>\n",
       "      <td>0.837777</td>\n",
       "      <td>0.840996</td>\n",
       "      <td>0.836279</td>\n",
       "      <td>0.838351</td>\n",
       "    </tr>\n",
       "  </tbody>\n",
       "</table>\n",
       "</div>"
      ],
      "text/plain": [
       "             Fold 1    Fold 2    Fold 3   Average\n",
       "Accuracy   0.872738  0.880372  0.875655  0.876255\n",
       "Recall     0.791410  0.788773  0.784055  0.788079\n",
       "Precision  0.489266  0.508858  0.496552  0.498226\n",
       "Fbeta2     0.704409  0.710596  0.702685  0.705896\n",
       "AUC        0.837777  0.840996  0.836279  0.838351"
      ]
     },
     "metadata": {},
     "output_type": "display_data"
    }
   ],
   "source": [
    "rf_clf = RandomForestClassifier(max_depth=15, max_features='sqrt', min_samples_leaf=3,\n",
    "                                min_samples_split=3, n_estimators=100,\n",
    "                                random_state=2021)\n",
    "\n",
    "results_gs1 = cv_evaluate_model(rf_clf)\n",
    "display(results_gs1)"
   ]
  },
  {
   "cell_type": "markdown",
   "id": "30cf868a",
   "metadata": {},
   "source": [
    "## 2.2 Grid Search 2\n",
    "This second parameter search space aims to narrow down the search space based on the results obtained in the first grid search.\n",
    "\n",
    "**Previous parameter search space:**\n",
    "- n_estimators = [100, 500, 900]\n",
    "- max_depth = [5, 10, 15]\n",
    "- min_samples_split = [3, 5, 8]\n",
    "- min_samples_leaf = [1, 3, 5]\n",
    "\n",
    "**Obtained results:**\n",
    "\n",
    "| Feature           | Value | New search space |\n",
    "|-------------------|:-----:|------------|\n",
    "| n_estimators      | 100   | [100, 150, 200, 250, 300] |\n",
    "| max_depth         | 15    | [13, 15, 17, 20] |\n",
    "| min_samples_split | 3     | [2, 3, 4] |\n",
    "| min_samples_leaf  | 3     | [2, 3, 4] |"
   ]
  },
  {
   "cell_type": "code",
   "execution_count": 8,
   "id": "06c08b8a",
   "metadata": {
    "execution": {
     "iopub.execute_input": "2021-11-13T15:02:19.991941Z",
     "iopub.status.busy": "2021-11-13T15:02:19.990410Z",
     "iopub.status.idle": "2021-11-13T15:02:19.997188Z",
     "shell.execute_reply": "2021-11-13T15:02:19.995812Z"
    },
    "papermill": {
     "duration": 0.021396,
     "end_time": "2021-11-13T15:02:19.997492",
     "exception": false,
     "start_time": "2021-11-13T15:02:19.976096",
     "status": "completed"
    },
    "tags": []
   },
   "outputs": [
    {
     "name": "stdout",
     "output_type": "stream",
     "text": [
      "classifier__n_estimators [100, 150, 200, 250]\n",
      "classifier__min_samples_split [2, 3, 4]\n",
      "classifier__min_samples_leaf [2, 3, 4]\n",
      "classifier__max_depth [13, 15, 17, 20]\n",
      "-----------------\n",
      "Total combinations: 144\n"
     ]
    }
   ],
   "source": [
    "n_estimators = [100, 150, 200, 250]\n",
    "max_depth = [13, 15, 17, 20]\n",
    "min_samples_split = [2, 3, 4]\n",
    "min_samples_leaf = [2, 3, 4]\n",
    "\n",
    "params_grid = {\n",
    "                'classifier__n_estimators': n_estimators,\n",
    "                'classifier__min_samples_split': min_samples_split,\n",
    "                'classifier__min_samples_leaf': min_samples_leaf,\n",
    "                'classifier__max_depth': max_depth\n",
    "              }\n",
    "\n",
    "total_combi = 1\n",
    "for param, value in params_grid.items():\n",
    "    print(param, value)\n",
    "    total_combi *= len(value)\n",
    "\n",
    "print('-----------------')\n",
    "print('Total combinations:', total_combi)"
   ]
  },
  {
   "cell_type": "code",
   "execution_count": 9,
   "id": "448d5a89",
   "metadata": {
    "execution": {
     "iopub.execute_input": "2021-11-13T15:02:20.035087Z",
     "iopub.status.busy": "2021-11-13T15:02:20.034287Z",
     "iopub.status.idle": "2021-11-13T19:05:01.568974Z",
     "shell.execute_reply": "2021-11-13T19:05:01.569768Z"
    },
    "papermill": {
     "duration": 14561.55649,
     "end_time": "2021-11-13T19:05:01.570008",
     "exception": false,
     "start_time": "2021-11-13T15:02:20.013518",
     "status": "completed"
    },
    "tags": []
   },
   "outputs": [
    {
     "name": "stdout",
     "output_type": "stream",
     "text": [
      "{'classifier__max_depth': 15, 'classifier__min_samples_leaf': 3, 'classifier__min_samples_split': 2, 'classifier__n_estimators': 100}\n"
     ]
    }
   ],
   "source": [
    "te_features = ['profession', 'city','state']\n",
    "scale_features = ['income','age','experience']\n",
    "\n",
    "preprocessor = ColumnTransformer(transformers=[('te_features', TargetEncoder(), te_features),\n",
    "                                                ('scale_features', MinMaxScaler(), scale_features)])\n",
    "\n",
    "pipeline = Pipeline(steps = [['preprocessor', preprocessor ],\n",
    "                             ['smote', SMOTE(random_state=2021)],\n",
    "                             ['classifier', RandomForestClassifier(random_state=2021)]\n",
    "                            ])\n",
    "\n",
    "stratified_kfold = StratifiedKFold(shuffle=True, n_splits=3, random_state=2021)\n",
    "\n",
    "\n",
    "rf_gridsearch = GridSearchCV(estimator = pipeline,\n",
    "                           param_grid = params_grid,\n",
    "                           scoring = 'recall',\n",
    "                           cv = stratified_kfold,\n",
    "                           refit = True,\n",
    "                           n_jobs = -1)\n",
    "\n",
    "rf_gridsearch.fit( x_train, y_train.values.ravel() )\n",
    "best_parameters = rf_gridsearch.best_params_\n",
    "print(best_parameters)"
   ]
  },
  {
   "cell_type": "code",
   "execution_count": 10,
   "id": "2c5de1b5",
   "metadata": {
    "execution": {
     "iopub.execute_input": "2021-11-13T19:05:01.596839Z",
     "iopub.status.busy": "2021-11-13T19:05:01.595854Z",
     "iopub.status.idle": "2021-11-13T19:06:16.503017Z",
     "shell.execute_reply": "2021-11-13T19:06:16.503554Z"
    },
    "papermill": {
     "duration": 74.923065,
     "end_time": "2021-11-13T19:06:16.503722",
     "exception": false,
     "start_time": "2021-11-13T19:05:01.580657",
     "status": "completed"
    },
    "tags": []
   },
   "outputs": [
    {
     "data": {
      "text/html": [
       "<div>\n",
       "<style scoped>\n",
       "    .dataframe tbody tr th:only-of-type {\n",
       "        vertical-align: middle;\n",
       "    }\n",
       "\n",
       "    .dataframe tbody tr th {\n",
       "        vertical-align: top;\n",
       "    }\n",
       "\n",
       "    .dataframe thead th {\n",
       "        text-align: right;\n",
       "    }\n",
       "</style>\n",
       "<table border=\"1\" class=\"dataframe\">\n",
       "  <thead>\n",
       "    <tr style=\"text-align: right;\">\n",
       "      <th></th>\n",
       "      <th>Fold 1</th>\n",
       "      <th>Fold 2</th>\n",
       "      <th>Fold 3</th>\n",
       "      <th>Average</th>\n",
       "    </tr>\n",
       "  </thead>\n",
       "  <tbody>\n",
       "    <tr>\n",
       "      <th>Accuracy</th>\n",
       "      <td>0.872738</td>\n",
       "      <td>0.880372</td>\n",
       "      <td>0.875655</td>\n",
       "      <td>0.876255</td>\n",
       "    </tr>\n",
       "    <tr>\n",
       "      <th>Recall</th>\n",
       "      <td>0.791410</td>\n",
       "      <td>0.788773</td>\n",
       "      <td>0.784055</td>\n",
       "      <td>0.788079</td>\n",
       "    </tr>\n",
       "    <tr>\n",
       "      <th>Precision</th>\n",
       "      <td>0.489266</td>\n",
       "      <td>0.508858</td>\n",
       "      <td>0.496552</td>\n",
       "      <td>0.498226</td>\n",
       "    </tr>\n",
       "    <tr>\n",
       "      <th>Fbeta2</th>\n",
       "      <td>0.704409</td>\n",
       "      <td>0.710596</td>\n",
       "      <td>0.702685</td>\n",
       "      <td>0.705896</td>\n",
       "    </tr>\n",
       "    <tr>\n",
       "      <th>AUC</th>\n",
       "      <td>0.837777</td>\n",
       "      <td>0.840996</td>\n",
       "      <td>0.836279</td>\n",
       "      <td>0.838351</td>\n",
       "    </tr>\n",
       "  </tbody>\n",
       "</table>\n",
       "</div>"
      ],
      "text/plain": [
       "             Fold 1    Fold 2    Fold 3   Average\n",
       "Accuracy   0.872738  0.880372  0.875655  0.876255\n",
       "Recall     0.791410  0.788773  0.784055  0.788079\n",
       "Precision  0.489266  0.508858  0.496552  0.498226\n",
       "Fbeta2     0.704409  0.710596  0.702685  0.705896\n",
       "AUC        0.837777  0.840996  0.836279  0.838351"
      ]
     },
     "metadata": {},
     "output_type": "display_data"
    }
   ],
   "source": [
    "rf_clf2 = RandomForestClassifier(max_depth=15, max_features='sqrt', min_samples_leaf=3,\n",
    "                                 min_samples_split=2, n_estimators=100, random_state=2021)\n",
    "\n",
    "results_gs2 = cv_evaluate_model(rf_clf2)\n",
    "display(results_gs2)"
   ]
  }
 ],
 "metadata": {
  "kernelspec": {
   "display_name": "Python 3 (ipykernel)",
   "language": "python",
   "name": "python3"
  },
  "language_info": {
   "codemirror_mode": {
    "name": "ipython",
    "version": 3
   },
   "file_extension": ".py",
   "mimetype": "text/x-python",
   "name": "python",
   "nbconvert_exporter": "python",
   "pygments_lexer": "ipython3",
   "version": "3.8.10"
  },
  "papermill": {
   "default_parameters": {},
   "duration": 14646.934769,
   "end_time": "2021-11-13T19:06:17.251688",
   "environment_variables": {},
   "exception": null,
   "input_path": "__notebook__.ipynb",
   "output_path": "__notebook__.ipynb",
   "parameters": {},
   "start_time": "2021-11-13T15:02:10.316919",
   "version": "2.3.3"
  }
 },
 "nbformat": 4,
 "nbformat_minor": 5
}
