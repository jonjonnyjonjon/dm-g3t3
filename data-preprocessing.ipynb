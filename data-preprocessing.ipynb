{
 "cells": [
  {
   "cell_type": "markdown",
   "id": "6f19d53e",
   "metadata": {},
   "source": [
    "# IS424: Data Mining & Biz Analytics\n",
    "## Team: G3T3\n",
    "### Project: Predicting Loan Default based on Customer Profile\n",
    "### Data Preprocessing\n",
    "---"
   ]
  },
  {
   "cell_type": "markdown",
   "id": "bcce29da",
   "metadata": {},
   "source": [
    "# 1. Setting up the notebook\n",
    "---"
   ]
  },
  {
   "cell_type": "markdown",
   "id": "ef798d0e",
   "metadata": {},
   "source": [
    "### Import libraries"
   ]
  },
  {
   "cell_type": "code",
   "execution_count": 1,
   "id": "3863dce5",
   "metadata": {},
   "outputs": [],
   "source": [
    "import pandas as pd\n",
    "import numpy as np\n",
    "import matplotlib.pyplot as plt\n",
    "%matplotlib inline\n",
    "\n",
    "from sklearn.preprocessing import LabelEncoder\n",
    "from sklearn.preprocessing import OneHotEncoder\n",
    "from category_encoders import TargetEncoder\n",
    "from sklearn.preprocessing import MinMaxScaler\n",
    "\n",
    "from sklearn.feature_selection import chi2, SelectKBest\n",
    "from sklearn.model_selection import train_test_split\n",
    "\n",
    "from sklearn.ensemble import RandomForestClassifier\n",
    "from sklearn.linear_model import Lasso\n",
    "from xgboost import XGBClassifier\n",
    "\n",
    "from sklearn.metrics import confusion_matrix, precision_score, recall_score, f1_score, fbeta_score, accuracy_score, roc_auc_score"
   ]
  },
  {
   "cell_type": "markdown",
   "id": "e67bcb6d",
   "metadata": {},
   "source": [
    "### Import dataset and tidy columns"
   ]
  },
  {
   "cell_type": "code",
   "execution_count": 2,
   "id": "f3e9c29e",
   "metadata": {},
   "outputs": [],
   "source": [
    "df = pd.read_csv(\"./dataset/loanprediction.csv\")\n",
    "df.drop(\"Id\", axis=1, inplace=True)"
   ]
  },
  {
   "cell_type": "code",
   "execution_count": 3,
   "id": "652141b6",
   "metadata": {},
   "outputs": [],
   "source": [
    "# standardise column naming\n",
    "df.columns = [\"income\", \"age\", \"experience\", \"marital_status\", \"house_ownership\", \"car_ownership\", \"profession\", \"city\", \"state\", \"current_job_years\", \"current_house_years\", \"risk_flag\"]"
   ]
  },
  {
   "cell_type": "code",
   "execution_count": 4,
   "id": "080056e7",
   "metadata": {},
   "outputs": [],
   "source": [
    "# retrieve numerical and categorical columns\n",
    "numerical = list(df.describe().columns)[:-1]\n",
    "categorical = [i for i in df.columns if i not in numerical and i != \"risk_flag\"]"
   ]
  },
  {
   "cell_type": "markdown",
   "id": "9e289b4c",
   "metadata": {},
   "source": [
    "### Splitting the data into train and test splits"
   ]
  },
  {
   "cell_type": "code",
   "execution_count": 5,
   "id": "b076b49d",
   "metadata": {},
   "outputs": [],
   "source": [
    "y = df[\"risk_flag\"]\n",
    "x = df.drop(\"risk_flag\", axis=1)"
   ]
  },
  {
   "cell_type": "code",
   "execution_count": 6,
   "id": "cf3a7168",
   "metadata": {},
   "outputs": [],
   "source": [
    "x_train, x_test, y_train, y_test = train_test_split(x, y, test_size = 0.2, stratify = y, random_state = 2021)"
   ]
  },
  {
   "cell_type": "markdown",
   "id": "6970651c",
   "metadata": {},
   "source": [
    "# 2. Feature Engineering\n",
    "---"
   ]
  },
  {
   "cell_type": "markdown",
   "id": "94172a60",
   "metadata": {},
   "source": [
    "## 2.1 Label and One Hot Encoding"
   ]
  },
  {
   "cell_type": "code",
   "execution_count": 8,
   "id": "ab9b505f",
   "metadata": {},
   "outputs": [
    {
     "name": "stdout",
     "output_type": "stream",
     "text": [
      "single     180928\n",
      "married     20672\n",
      "Name: marital_status, dtype: int64\n"
     ]
    }
   ],
   "source": [
    "print( x_train['marital_status'].value_counts() )\n",
    "# print( x_train['car_ownership'].value_counts() )"
   ]
  },
  {
   "cell_type": "code",
   "execution_count": null,
   "id": "1697db8b",
   "metadata": {},
   "outputs": [],
   "source": [
    "def feature_engineering(df_x):\n",
    "    \"\"\"\n",
    "        Encoding categorical columns\n",
    "    \"\"\"\n",
    "    x = df_x.copy()\n",
    "    \n",
    "    # Label/Binary Encoding — categorical columns with binary categories\n",
    "    label_enc = LabelEncoder()\n",
    "    x[\"marital_status\"] = label_enc.fit_transform(x[\"marital_status\"])\n",
    "    x[\"car_ownership\"] = label_enc.fit_transform(x[\"car_ownership\"])\n",
    "    \n",
    "    # One Hot Encoding — house_ownership column\n",
    "    onehot_encoder = OneHotEncoder(handle_unknown='ignore', sparse=False)\n",
    "    \n",
    "    house_ownership_values = onehot_encoder.fit_transform( x[['house_ownership']] )\n",
    "    house_ownership_labels = np.array([\"norent_noown\", \"owned\", \"rented\"]).ravel()\n",
    "    house_ownership_df = pd.DataFrame(house_ownership_values, columns=house_ownership_labels)\n",
    "\n",
    "    x.reset_index(drop=True, inplace=True)\n",
    "    house_ownership_df.reset_index(drop=True, inplace=True)\n",
    "    x = pd.concat([x, house_ownership_df], axis=1)\n",
    "    \n",
    "    x.drop(\"house_ownership\", axis=1, inplace=True)\n",
    "\n",
    "    return x"
   ]
  },
  {
   "cell_type": "code",
   "execution_count": null,
   "id": "7728da88",
   "metadata": {},
   "outputs": [],
   "source": [
    "x_train = feature_engineering(x_train)\n",
    "x_test = feature_engineering(x_test)"
   ]
  },
  {
   "cell_type": "code",
   "execution_count": null,
   "id": "9e037190",
   "metadata": {},
   "outputs": [],
   "source": [
    "print( x_train['marital_status'].value_counts() )\n",
    "print( x_train['car_ownership'].value_counts() )"
   ]
  },
  {
   "cell_type": "markdown",
   "id": "db5532fd",
   "metadata": {},
   "source": [
    "# 3. Feature Selection\n",
    "---"
   ]
  },
  {
   "cell_type": "markdown",
   "id": "79e9df59",
   "metadata": {},
   "source": [
    "To reduce the dimensional space of the dataset, we are carrying out several feature selection techniques with the goal of identify features to keep and drop\n",
    "\n",
    "1. Filter Methods\n",
    "    - Chi-square\n",
    "    - ANOVA\n",
    "2. Embedded Methods\n",
    "    - Random Forest\n",
    "    - XGBoost\n",
    "    - Lasso Regression  "
   ]
  },
  {
   "cell_type": "code",
   "execution_count": null,
   "id": "a7dd5c1d",
   "metadata": {},
   "outputs": [],
   "source": [
    "def retrieve_feature_importance(importance, names):\n",
    "    \"\"\"\n",
    "        Helper function to display the feature importance\n",
    "    \"\"\"\n",
    "    feature_importance = np.array(importance)\n",
    "    feature_names = np.array(names)\n",
    "\n",
    "    data = {'feature_name':feature_names,'feature_importance':feature_importance}\n",
    "    feature_importance_df = pd.DataFrame(data)\n",
    "\n",
    "    feature_importance_df.sort_values(by=['feature_importance'], ascending=False, inplace=True)\n",
    "    return feature_importance_df.reset_index(drop=True)"
   ]
  },
  {
   "cell_type": "markdown",
   "id": "1de7d715",
   "metadata": {},
   "source": [
    "## 3.1 Filter Methods\n",
    "---\n",
    "### Chi-square\n",
    "\n",
    "- H0: 2 variables are independent (feature and target)\n",
    "- H1: 2 variables are not independent\n",
    "- 5% significance level, using p-value\n",
    "- Reject H0 if p-value < 0.05\n",
    "\n",
    "#### Conclusion: Drop none"
   ]
  },
  {
   "cell_type": "code",
   "execution_count": null,
   "id": "fcec80c9",
   "metadata": {},
   "outputs": [],
   "source": [
    "numerical = [\"income\", \"age\", \"experience\", \"current_job_years\", \"current_house_years\"]\n",
    "categorical = [\"risk_flag\", \"marital_status\", \"house_ownership\", \"car_ownership\", \"profession\", \"city\", \"state\"]\n",
    "\n",
    "df_cat = df.copy()[categorical]\n",
    "\n",
    "label_enc = LabelEncoder()\n",
    "for cat in categorical:\n",
    "    df_cat[cat] = label_enc.fit_transform(df_cat[cat])\n",
    "    \n",
    "y = df_cat[\"risk_flag\"]\n",
    "x = df_cat.drop(\"risk_flag\", axis=1)\n",
    "\n",
    "chi_scores = chi2(x, y)\n",
    "\n",
    "# show results — dataframe\n",
    "results_df = retrieve_feature_importance(chi_scores[1], x.columns)\n",
    "results_df.rename(columns={\"feature_importance\": \"p-value\"}, inplace=True)\n",
    "display(results_df)\n",
    "\n",
    "# show results — graph\n",
    "p_values = pd.Series(chi_scores[1], index = x.columns)\n",
    "p_values.sort_values(ascending = False , inplace = True)\n",
    "p_values.plot.bar()"
   ]
  },
  {
   "cell_type": "markdown",
   "id": "cc164d83",
   "metadata": {},
   "source": [
    "### ANOVA\n",
    "\n",
    "- H0: The numerical column cannot clearly discriminate between the 2 classes\n",
    "- H1: The numerical column can clearly discriminate between the 2 classes\n",
    "- 5% significance level, using F-Score\n",
    "- F-value at 0.05 significance = 3.179\n",
    "- Reject H0 if f-score > 3.179\n",
    "\n",
    "#### Conclusion: Drop `income`"
   ]
  },
  {
   "cell_type": "code",
   "execution_count": null,
   "id": "fcb2798f",
   "metadata": {},
   "outputs": [],
   "source": [
    "x = df.copy()[numerical]\n",
    "fscore = SelectKBest(k=\"all\")\n",
    "fscore.fit(x, y)\n",
    "x_fs = fscore.transform(x)\n",
    "\n",
    "results_df = retrieve_feature_importance(fscore.scores_, x.columns)\n",
    "results_df.rename(columns={\"feature_importance\": \"f-score\"}, inplace=True)\n",
    "display(results_df)\n",
    "\n",
    "plt.bar(numerical, fscore.scores_)\n",
    "plt.xticks(rotation=90)\n",
    "\n",
    "plt.show()"
   ]
  },
  {
   "cell_type": "markdown",
   "id": "4ab8d0d6",
   "metadata": {},
   "source": [
    "## 3.2 Embedded Methods\n",
    "---"
   ]
  },
  {
   "cell_type": "markdown",
   "id": "7aae4491",
   "metadata": {},
   "source": [
    "Note: Encoding is required for profession, city and state for the purpose of Feature Selection. However, the actual encoding will only be done during GridSearch Cross-Validation"
   ]
  },
  {
   "cell_type": "code",
   "execution_count": null,
   "id": "bf7a8aa3",
   "metadata": {},
   "outputs": [],
   "source": [
    "x_train_embedded = target_encoding(x_train, y_train)"
   ]
  },
  {
   "cell_type": "markdown",
   "id": "e2d72da1",
   "metadata": {},
   "source": [
    "### 3.2.1 Random Forest Classifier"
   ]
  },
  {
   "cell_type": "code",
   "execution_count": null,
   "id": "68d14bf5",
   "metadata": {},
   "outputs": [],
   "source": [
    "rf_clf = RandomForestClassifier(n_estimators=100, random_state=2021)\n",
    "rf_clf.fit(x_train_embedded, y_train.values.ravel() )"
   ]
  },
  {
   "cell_type": "code",
   "execution_count": null,
   "id": "5fd6169b",
   "metadata": {},
   "outputs": [],
   "source": [
    "feat_impt_df = retrieve_feature_importance(rf_clf.feature_importances_, x_train_embedded.columns)\n",
    "feat_impt_df"
   ]
  },
  {
   "cell_type": "markdown",
   "id": "9abc9cb5",
   "metadata": {},
   "source": [
    "### 3.2.2 XGBoost"
   ]
  },
  {
   "cell_type": "code",
   "execution_count": null,
   "id": "a50b603b",
   "metadata": {},
   "outputs": [],
   "source": [
    "xgb = XGBClassifier(use_label_encoder=False,\n",
    "                    random_state=2021)\n",
    "                    \n",
    "xgb.fit(x_train_embedded, y_train)"
   ]
  },
  {
   "cell_type": "code",
   "execution_count": null,
   "id": "ea5555df",
   "metadata": {},
   "outputs": [],
   "source": [
    "feat_impt_df = retrieve_feature_importance(xgb.feature_importances_, x_train_embedded.columns)\n",
    "feat_impt_df"
   ]
  },
  {
   "cell_type": "markdown",
   "id": "ceffaffd",
   "metadata": {},
   "source": [
    "### 3.3.3 Lasso Regression"
   ]
  },
  {
   "cell_type": "code",
   "execution_count": null,
   "id": "0a360b6d",
   "metadata": {},
   "outputs": [],
   "source": [
    "alpha_param = [1, 0.1, 0.01, 0.001, 0.0001]\n",
    "\n",
    "for alpha in alpha_param:\n",
    "    lasso = Lasso(alpha=alpha)\n",
    "    lasso.fit(x_train_embedded, y_train)\n",
    "\n",
    "    importance = np.abs( lasso.coef_ )\n",
    "\n",
    "    feat_impt_df = retrieve_feature_importance(importance, x_train_embedded.columns)\n",
    "    feat_impt_df.index.rename('alpha='+str(alpha), inplace=True) \n",
    "    print( feat_impt_df )\n",
    "    print()"
   ]
  },
  {
   "cell_type": "markdown",
   "id": "c3aa3e95",
   "metadata": {},
   "source": [
    "### Conclusion:\n",
    "Results from the Feature Selection process are consolidated into this Google Sheet: https://docs.google.com/spreadsheets/d/1QSPAkr9M8qJNOBBwmAk2dnTFTrOGiVrXPHorGIVx2KM/edit?usp=sharing"
   ]
  },
  {
   "cell_type": "code",
   "execution_count": null,
   "id": "776ce210",
   "metadata": {},
   "outputs": [],
   "source": [
    "x_train.drop(['current_house_years', 'current_job_years', 'norent_noown', 'owned'], axis=1, inplace=True)\n",
    "x_test.drop(['current_house_years', 'current_job_years', 'norent_noown', 'owned'], axis=1, inplace=True)"
   ]
  },
  {
   "cell_type": "markdown",
   "id": "82af105e",
   "metadata": {},
   "source": [
    "# 4. Exporting preprocessed Train Test sets to csv files\n",
    "---"
   ]
  },
  {
   "cell_type": "code",
   "execution_count": null,
   "id": "984d18c4",
   "metadata": {},
   "outputs": [],
   "source": [
    "x_train.reset_index(drop=True, inplace=True)\n",
    "y_train.reset_index(drop=True, inplace=True)\n",
    "train = pd.concat([x_train, y_train], axis=1)\n",
    "\n",
    "x_test.reset_index(drop=True, inplace=True)\n",
    "y_test.reset_index(drop=True, inplace=True)\n",
    "test = pd.concat([x_test, y_test], axis=1)\n",
    "\n",
    "try:\n",
    "    train.to_csv(\"./dataset/train.csv\", index=False)\n",
    "    test.to_csv(\"./dataset/test.csv\", index=False)\n",
    "    print('Succesfully exported')\n",
    "except:\n",
    "    print('Error')"
   ]
  }
 ],
 "metadata": {
  "kernelspec": {
   "display_name": "Python 3 (ipykernel)",
   "language": "python",
   "name": "python3"
  },
  "language_info": {
   "codemirror_mode": {
    "name": "ipython",
    "version": 3
   },
   "file_extension": ".py",
   "mimetype": "text/x-python",
   "name": "python",
   "nbconvert_exporter": "python",
   "pygments_lexer": "ipython3",
   "version": "3.8.10"
  }
 },
 "nbformat": 4,
 "nbformat_minor": 5
}
