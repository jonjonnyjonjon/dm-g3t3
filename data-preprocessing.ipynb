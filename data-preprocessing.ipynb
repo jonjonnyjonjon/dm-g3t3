{
 "cells": [
  {
   "cell_type": "markdown",
   "id": "6f19d53e",
   "metadata": {},
   "source": [
    "# IS424: Data Mining & Biz Analytics\n",
    "## Team: G3T3\n",
    "### Project: Predicting Loan Default based on Customer Profile\n",
    "### Data Preprocessing\n",
    "---"
   ]
  },
  {
   "cell_type": "markdown",
   "id": "bcce29da",
   "metadata": {},
   "source": [
    "# 1. Setting up the notebook\n",
    "---"
   ]
  },
  {
   "cell_type": "markdown",
   "id": "ef798d0e",
   "metadata": {},
   "source": [
    "### Import libraries"
   ]
  },
  {
   "cell_type": "code",
   "execution_count": 1,
   "id": "3863dce5",
   "metadata": {},
   "outputs": [],
   "source": [
    "import pandas as pd\n",
    "import numpy as np\n",
    "import matplotlib.pyplot as plt\n",
    "%matplotlib inline\n",
    "\n",
    "from sklearn.preprocessing import LabelEncoder\n",
    "from sklearn.preprocessing import OneHotEncoder\n",
    "from category_encoders import TargetEncoder\n",
    "from sklearn.preprocessing import MinMaxScaler\n",
    "\n",
    "from sklearn.feature_selection import chi2\n",
    "from sklearn.model_selection import train_test_split\n",
    "\n",
    "from sklearn.ensemble import RandomForestClassifier\n",
    "from sklearn.linear_model import Lasso\n",
    "from xgboost import XGBClassifier\n",
    "\n",
    "from sklearn.metrics import confusion_matrix, precision_score, recall_score, f1_score, fbeta_score, accuracy_score, roc_auc_score"
   ]
  },
  {
   "cell_type": "markdown",
   "id": "e67bcb6d",
   "metadata": {},
   "source": [
    "### Import dataset and tidy columns"
   ]
  },
  {
   "cell_type": "code",
   "execution_count": 2,
   "id": "f3e9c29e",
   "metadata": {},
   "outputs": [],
   "source": [
    "df = pd.read_csv(\"./dataset/loanprediction.csv\")\n",
    "df.drop(\"Id\", axis=1, inplace=True)"
   ]
  },
  {
   "cell_type": "code",
   "execution_count": 3,
   "id": "652141b6",
   "metadata": {},
   "outputs": [],
   "source": [
    "# standardise column naming\n",
    "df.columns = [\"income\", \"age\", \"experience\", \"marital_status\", \"house_ownership\", \"car_ownership\", \"profession\", \"city\", \"state\", \"current_job_years\", \"current_house_years\", \"risk_flag\"]"
   ]
  },
  {
   "cell_type": "code",
   "execution_count": 4,
   "id": "080056e7",
   "metadata": {},
   "outputs": [],
   "source": [
    "# retrieve numerical and categorical columns\n",
    "numerical = list(df.describe().columns)[:-1]\n",
    "categorical = [i for i in df.columns if i not in numerical and i != \"risk_flag\"]"
   ]
  },
  {
   "cell_type": "code",
   "execution_count": 5,
   "id": "eb41c1c6",
   "metadata": {},
   "outputs": [
    {
     "data": {
      "text/plain": [
       "['income', 'age', 'experience', 'current_job_years', 'current_house_years']"
      ]
     },
     "execution_count": 5,
     "metadata": {},
     "output_type": "execute_result"
    }
   ],
   "source": [
    "numerical"
   ]
  },
  {
   "cell_type": "markdown",
   "id": "9e289b4c",
   "metadata": {},
   "source": [
    "### Splitting the data into train and test splits"
   ]
  },
  {
   "cell_type": "code",
   "execution_count": 6,
   "id": "b076b49d",
   "metadata": {},
   "outputs": [],
   "source": [
    "x = df.drop(\"risk_flag\", axis=1)\n",
    "y = df[\"risk_flag\"]"
   ]
  },
  {
   "cell_type": "code",
   "execution_count": 7,
   "id": "cf3a7168",
   "metadata": {},
   "outputs": [],
   "source": [
    "from sklearn.model_selection import train_test_split\n",
    "x_train, x_test, y_train, y_test = train_test_split(x, y, test_size = 0.2, stratify = y, random_state = 2021)"
   ]
  },
  {
   "cell_type": "markdown",
   "id": "6970651c",
   "metadata": {},
   "source": [
    "# 2. Feature Engineering\n",
    "---"
   ]
  },
  {
   "cell_type": "markdown",
   "id": "94172a60",
   "metadata": {},
   "source": [
    "## 2.1 Label and One Hot Encoding"
   ]
  },
  {
   "cell_type": "code",
   "execution_count": 8,
   "id": "1697db8b",
   "metadata": {},
   "outputs": [],
   "source": [
    "def feature_engineering(df_x, df_y):\n",
    "    \"\"\"\n",
    "        Encoding categorical columns\n",
    "    \"\"\"\n",
    "    x = df_x.copy()\n",
    "    \n",
    "    # Label/Binary Encoding — categorical columns with binary categories\n",
    "    label_enc = LabelEncoder()\n",
    "    x[\"marital_status\"] = label_enc.fit_transform(x[\"marital_status\"])\n",
    "    x[\"car_ownership\"] = label_enc.fit_transform(x[\"car_ownership\"])\n",
    "    \n",
    "    \n",
    "    # One Hot Encoding — house_ownership column\n",
    "    onehot_encoder = OneHotEncoder(handle_unknown='ignore', sparse=False)\n",
    "    \n",
    "    house_ownership_values = onehot_encoder.fit_transform( x[['house_ownership']] )\n",
    "    house_ownership_labels = np.array([\"norent_noown\", \"owned\", \"rented\"]).ravel()\n",
    "    house_ownership_df = pd.DataFrame(house_ownership_values, columns=house_ownership_labels)\n",
    "\n",
    "    x.reset_index(drop=True, inplace=True)\n",
    "    house_ownership_df.reset_index(drop=True, inplace=True)\n",
    "    x = pd.concat([x, house_ownership_df], axis=1)\n",
    "    \n",
    "    x.drop(\"house_ownership\", axis=1, inplace=True)\n",
    "\n",
    "    return x\n",
    "\n",
    "x_train = feature_engineering(x_train, y_train)\n",
    "x_test = feature_engineering(x_test, y_test)"
   ]
  },
  {
   "cell_type": "markdown",
   "id": "132d154b",
   "metadata": {},
   "source": [
    "## 2.2 Target Encoding\n",
    "Target Encoding is carried on categorical columns with high cardinality: `profession`, `city`, `state` to prevent a blow up in dimensionality due to encoding techniques like One Hot Encoding.\n",
    "\n",
    "\n",
    "Note: Feature engineering using Target Encoding will be carried out at the Grid Search Cross-Validation step to prevent data leakage. This function will be imported into the respective notebooks."
   ]
  },
  {
   "cell_type": "code",
   "execution_count": 9,
   "id": "3487113e",
   "metadata": {},
   "outputs": [],
   "source": [
    "def target_encoding(df_x, df_y):\n",
    "    x = df_x.copy()\n",
    "    \n",
    "    # Target Encoding — categorical columns with high cardinality: profession, city, state\n",
    "    profession_target_enc = TargetEncoder()\n",
    "    x[\"profession_encoded\"] = profession_target_enc.fit_transform(x[\"profession\"], df_y)\n",
    "    \n",
    "    city_target_enc = TargetEncoder()\n",
    "    x[\"city_encoded\"] = city_target_enc.fit_transform(x[\"city\"], df_y)\n",
    "    \n",
    "    state_target_enc = TargetEncoder()\n",
    "    x[\"state_encoded\"] = state_target_enc.fit_transform(x[\"state\"], df_y)\n",
    "    \n",
    "    x.drop(\"profession\", axis=1, inplace=True)\n",
    "    x.drop(\"city\", axis=1, inplace=True)\n",
    "    x.drop(\"state\", axis=1, inplace=True)\n",
    "    return x"
   ]
  },
  {
   "cell_type": "markdown",
   "id": "db5532fd",
   "metadata": {},
   "source": [
    "# 3. Feature Selection\n",
    "---"
   ]
  },
  {
   "cell_type": "markdown",
   "id": "79e9df59",
   "metadata": {},
   "source": [
    "To reduce the dimensional space of the dataset, we are carrying out several feature selection techniques with the goal of identify features to keep and drop\n",
    "\n",
    "1. Filter Methods\n",
    "    - Chi-square\n",
    "    - ANOVA\n",
    "2. Embedded Methods\n",
    "    - Random Forest\n",
    "    - XGBoost\n",
    "    - Lasso Regression  "
   ]
  },
  {
   "cell_type": "code",
   "execution_count": 10,
   "id": "a7dd5c1d",
   "metadata": {},
   "outputs": [],
   "source": [
    "def retrieve_feature_importance(importance, names):\n",
    "    \"\"\"\n",
    "        Helper function to display the feature importance\n",
    "    \"\"\"\n",
    "    feature_importance = np.array(importance)\n",
    "    feature_names = np.array(names)\n",
    "\n",
    "    data = {'feature_name':feature_names,'feature_importance':feature_importance}\n",
    "    feature_importance_df = pd.DataFrame(data)\n",
    "\n",
    "    feature_importance_df.sort_values(by=['feature_importance'], ascending=False, inplace=True)\n",
    "    return feature_importance_df.reset_index(drop=True)"
   ]
  },
  {
   "cell_type": "markdown",
   "id": "1de7d715",
   "metadata": {},
   "source": [
    "## 3.1 Filter Methods\n",
    "---\n",
    "### Chi-square"
   ]
  },
  {
   "cell_type": "code",
   "execution_count": 11,
   "id": "fcec80c9",
   "metadata": {},
   "outputs": [
    {
     "data": {
      "text/html": [
       "<div>\n",
       "<style scoped>\n",
       "    .dataframe tbody tr th:only-of-type {\n",
       "        vertical-align: middle;\n",
       "    }\n",
       "\n",
       "    .dataframe tbody tr th {\n",
       "        vertical-align: top;\n",
       "    }\n",
       "\n",
       "    .dataframe thead th {\n",
       "        text-align: right;\n",
       "    }\n",
       "</style>\n",
       "<table border=\"1\" class=\"dataframe\">\n",
       "  <thead>\n",
       "    <tr style=\"text-align: right;\">\n",
       "      <th></th>\n",
       "      <th>feature_name</th>\n",
       "      <th>feature_importance</th>\n",
       "    </tr>\n",
       "  </thead>\n",
       "  <tbody>\n",
       "    <tr>\n",
       "      <th>0</th>\n",
       "      <td>house_ownership</td>\n",
       "      <td>7.283203e-04</td>\n",
       "    </tr>\n",
       "    <tr>\n",
       "      <th>1</th>\n",
       "      <td>marital_status</td>\n",
       "      <td>7.167547e-04</td>\n",
       "    </tr>\n",
       "    <tr>\n",
       "      <th>2</th>\n",
       "      <td>state</td>\n",
       "      <td>1.661200e-05</td>\n",
       "    </tr>\n",
       "    <tr>\n",
       "      <th>3</th>\n",
       "      <td>profession</td>\n",
       "      <td>5.771417e-13</td>\n",
       "    </tr>\n",
       "    <tr>\n",
       "      <th>4</th>\n",
       "      <td>car_ownership</td>\n",
       "      <td>6.535069e-24</td>\n",
       "    </tr>\n",
       "    <tr>\n",
       "      <th>5</th>\n",
       "      <td>city</td>\n",
       "      <td>1.266794e-63</td>\n",
       "    </tr>\n",
       "  </tbody>\n",
       "</table>\n",
       "</div>"
      ],
      "text/plain": [
       "      feature_name  feature_importance\n",
       "0  house_ownership        7.283203e-04\n",
       "1   marital_status        7.167547e-04\n",
       "2            state        1.661200e-05\n",
       "3       profession        5.771417e-13\n",
       "4    car_ownership        6.535069e-24\n",
       "5             city        1.266794e-63"
      ]
     },
     "metadata": {},
     "output_type": "display_data"
    },
    {
     "data": {
      "text/plain": [
       "<AxesSubplot:>"
      ]
     },
     "execution_count": 11,
     "metadata": {},
     "output_type": "execute_result"
    },
    {
     "data": {
      "image/png": "[encoded data removed]",
      "text/plain": [
       "<Figure size 432x288 with 1 Axes>"
      ]
     },
     "metadata": {
      "needs_background": "light"
     },
     "output_type": "display_data"
    }
   ],
   "source": [
    "numerical = [\"income\", \"age\", \"experience\", \"current_job_years\", \"current_house_years\"]\n",
    "categorical = [\"risk_flag\", \"marital_status\", \"house_ownership\", \"car_ownership\", \"profession\", \"city\", \"state\"]\n",
    "\n",
    "df_cat = df.copy()[categorical]\n",
    "\n",
    "label_enc = LabelEncoder()\n",
    "for cat in categorical:\n",
    "    df_cat[cat] = label_enc.fit_transform(df_cat[cat])\n",
    "    \n",
    "y = df_cat[\"risk_flag\"]\n",
    "x = df_cat.drop(\"risk_flag\", axis=1)\n",
    "\n",
    "chi_scores = chi2(x, y)\n",
    "\n",
    "# show results — dataframe\n",
    "results_df = retrieve_feature_importance(chi_scores[1], x.columns)\n",
    "display(results_df)\n",
    "\n",
    "# show results — graph\n",
    "p_values = pd.Series(chi_scores[1], index = x.columns)\n",
    "p_values.sort_values(ascending = False , inplace = True)\n",
    "p_values.plot.bar()"
   ]
  },
  {
   "cell_type": "markdown",
   "id": "cc164d83",
   "metadata": {},
   "source": [
    "### ANOVA"
   ]
  },
  {
   "cell_type": "code",
   "execution_count": 12,
   "id": "fcb2798f",
   "metadata": {},
   "outputs": [],
   "source": [
    "# x = df.copy()[numerical]\n",
    "# fscore = SelectKBest(k=\"all\")\n",
    "# fscore.fit(x, y)\n",
    "# x_fs = fscore.transform(x)\n",
    "\n",
    "# results_df = retrieve_feature_importance(fscore.scores_, x.columns)\n",
    "# results_df"
   ]
  },
  {
   "cell_type": "markdown",
   "id": "4ab8d0d6",
   "metadata": {},
   "source": [
    "## 3.2 Embedded Methods\n",
    "---"
   ]
  },
  {
   "cell_type": "markdown",
   "id": "7aae4491",
   "metadata": {},
   "source": [
    "Note: Encoding is required for profession, city and state for the purpose of Feature Selection. However, the actual encoding will only be done during GridSearch Cross-Validation"
   ]
  },
  {
   "cell_type": "code",
   "execution_count": 13,
   "id": "bf7a8aa3",
   "metadata": {},
   "outputs": [
    {
     "name": "stderr",
     "output_type": "stream",
     "text": [
      "/Library/Frameworks/Python.framework/Versions/3.8/lib/python3.8/site-packages/category_encoders/utils.py:21: FutureWarning: is_categorical is deprecated and will be removed in a future version.  Use is_categorical_dtype instead\n",
      "  elif pd.api.types.is_categorical(cols):\n"
     ]
    }
   ],
   "source": [
    "x_train_embedded = target_encoding(x_train, y_train)"
   ]
  },
  {
   "cell_type": "markdown",
   "id": "e2d72da1",
   "metadata": {},
   "source": [
    "### 3.2.1 Random Forest Classifier"
   ]
  },
  {
   "cell_type": "code",
   "execution_count": 14,
   "id": "68d14bf5",
   "metadata": {},
   "outputs": [
    {
     "data": {
      "text/plain": [
       "RandomForestClassifier(random_state=2021)"
      ]
     },
     "execution_count": 14,
     "metadata": {},
     "output_type": "execute_result"
    }
   ],
   "source": [
    "rf_clf = RandomForestClassifier(n_estimators=100, random_state=2021)\n",
    "rf_clf.fit(x_train_embedded, y_train.values.ravel() )"
   ]
  },
  {
   "cell_type": "code",
   "execution_count": 15,
   "id": "5fd6169b",
   "metadata": {},
   "outputs": [
    {
     "data": {
      "text/html": [
       "<div>\n",
       "<style scoped>\n",
       "    .dataframe tbody tr th:only-of-type {\n",
       "        vertical-align: middle;\n",
       "    }\n",
       "\n",
       "    .dataframe tbody tr th {\n",
       "        vertical-align: top;\n",
       "    }\n",
       "\n",
       "    .dataframe thead th {\n",
       "        text-align: right;\n",
       "    }\n",
       "</style>\n",
       "<table border=\"1\" class=\"dataframe\">\n",
       "  <thead>\n",
       "    <tr style=\"text-align: right;\">\n",
       "      <th></th>\n",
       "      <th>feature_name</th>\n",
       "      <th>feature_importance</th>\n",
       "    </tr>\n",
       "  </thead>\n",
       "  <tbody>\n",
       "    <tr>\n",
       "      <th>0</th>\n",
       "      <td>income</td>\n",
       "      <td>0.185485</td>\n",
       "    </tr>\n",
       "    <tr>\n",
       "      <th>1</th>\n",
       "      <td>city_encoded</td>\n",
       "      <td>0.159253</td>\n",
       "    </tr>\n",
       "    <tr>\n",
       "      <th>2</th>\n",
       "      <td>profession_encoded</td>\n",
       "      <td>0.144572</td>\n",
       "    </tr>\n",
       "    <tr>\n",
       "      <th>3</th>\n",
       "      <td>age</td>\n",
       "      <td>0.141265</td>\n",
       "    </tr>\n",
       "    <tr>\n",
       "      <th>4</th>\n",
       "      <td>state_encoded</td>\n",
       "      <td>0.104522</td>\n",
       "    </tr>\n",
       "    <tr>\n",
       "      <th>5</th>\n",
       "      <td>experience</td>\n",
       "      <td>0.085605</td>\n",
       "    </tr>\n",
       "    <tr>\n",
       "      <th>6</th>\n",
       "      <td>current_job_years</td>\n",
       "      <td>0.076982</td>\n",
       "    </tr>\n",
       "    <tr>\n",
       "      <th>7</th>\n",
       "      <td>current_house_years</td>\n",
       "      <td>0.064581</td>\n",
       "    </tr>\n",
       "    <tr>\n",
       "      <th>8</th>\n",
       "      <td>car_ownership</td>\n",
       "      <td>0.015491</td>\n",
       "    </tr>\n",
       "    <tr>\n",
       "      <th>9</th>\n",
       "      <td>marital_status</td>\n",
       "      <td>0.010865</td>\n",
       "    </tr>\n",
       "    <tr>\n",
       "      <th>10</th>\n",
       "      <td>rented</td>\n",
       "      <td>0.004854</td>\n",
       "    </tr>\n",
       "    <tr>\n",
       "      <th>11</th>\n",
       "      <td>norent_noown</td>\n",
       "      <td>0.003319</td>\n",
       "    </tr>\n",
       "    <tr>\n",
       "      <th>12</th>\n",
       "      <td>owned</td>\n",
       "      <td>0.003206</td>\n",
       "    </tr>\n",
       "  </tbody>\n",
       "</table>\n",
       "</div>"
      ],
      "text/plain": [
       "           feature_name  feature_importance\n",
       "0                income            0.185485\n",
       "1          city_encoded            0.159253\n",
       "2    profession_encoded            0.144572\n",
       "3                   age            0.141265\n",
       "4         state_encoded            0.104522\n",
       "5            experience            0.085605\n",
       "6     current_job_years            0.076982\n",
       "7   current_house_years            0.064581\n",
       "8         car_ownership            0.015491\n",
       "9        marital_status            0.010865\n",
       "10               rented            0.004854\n",
       "11         norent_noown            0.003319\n",
       "12                owned            0.003206"
      ]
     },
     "execution_count": 15,
     "metadata": {},
     "output_type": "execute_result"
    }
   ],
   "source": [
    "feat_impt_df = retrieve_feature_importance(rf_clf.feature_importances_, x_train_embedded.columns)\n",
    "feat_impt_df"
   ]
  },
  {
   "cell_type": "markdown",
   "id": "9abc9cb5",
   "metadata": {},
   "source": [
    "### 3.2.2 XGBoost"
   ]
  },
  {
   "cell_type": "code",
   "execution_count": 16,
   "id": "a50b603b",
   "metadata": {},
   "outputs": [
    {
     "name": "stdout",
     "output_type": "stream",
     "text": [
      "[13:52:50] WARNING: /Users/travis/build/dmlc/xgboost/src/learner.cc:1095: Starting in XGBoost 1.3.0, the default evaluation metric used with the objective 'binary:logistic' was changed from 'error' to 'logloss'. Explicitly set eval_metric if you'd like to restore the old behavior.\n"
     ]
    },
    {
     "data": {
      "text/plain": [
       "XGBClassifier(base_score=0.5, booster='gbtree', colsample_bylevel=1,\n",
       "              colsample_bynode=1, colsample_bytree=1, gamma=0, gpu_id=-1,\n",
       "              importance_type='gain', interaction_constraints='',\n",
       "              learning_rate=0.300000012, max_delta_step=0, max_depth=6,\n",
       "              min_child_weight=1, missing=nan, monotone_constraints='()',\n",
       "              n_estimators=100, n_jobs=8, num_parallel_tree=1,\n",
       "              random_state=2021, reg_alpha=0, reg_lambda=1, scale_pos_weight=1,\n",
       "              subsample=1, tree_method='exact', use_label_encoder=False,\n",
       "              validate_parameters=1, verbosity=None)"
      ]
     },
     "execution_count": 16,
     "metadata": {},
     "output_type": "execute_result"
    }
   ],
   "source": [
    "xgb = XGBClassifier(use_label_encoder=False,\n",
    "                    random_state=2021)\n",
    "                    \n",
    "xgb.fit(x_train_embedded, y_train)"
   ]
  },
  {
   "cell_type": "code",
   "execution_count": 17,
   "id": "ea5555df",
   "metadata": {},
   "outputs": [
    {
     "data": {
      "text/html": [
       "<div>\n",
       "<style scoped>\n",
       "    .dataframe tbody tr th:only-of-type {\n",
       "        vertical-align: middle;\n",
       "    }\n",
       "\n",
       "    .dataframe tbody tr th {\n",
       "        vertical-align: top;\n",
       "    }\n",
       "\n",
       "    .dataframe thead th {\n",
       "        text-align: right;\n",
       "    }\n",
       "</style>\n",
       "<table border=\"1\" class=\"dataframe\">\n",
       "  <thead>\n",
       "    <tr style=\"text-align: right;\">\n",
       "      <th></th>\n",
       "      <th>feature_name</th>\n",
       "      <th>feature_importance</th>\n",
       "    </tr>\n",
       "  </thead>\n",
       "  <tbody>\n",
       "    <tr>\n",
       "      <th>0</th>\n",
       "      <td>income</td>\n",
       "      <td>0.097845</td>\n",
       "    </tr>\n",
       "    <tr>\n",
       "      <th>1</th>\n",
       "      <td>city_encoded</td>\n",
       "      <td>0.088775</td>\n",
       "    </tr>\n",
       "    <tr>\n",
       "      <th>2</th>\n",
       "      <td>rented</td>\n",
       "      <td>0.086748</td>\n",
       "    </tr>\n",
       "    <tr>\n",
       "      <th>3</th>\n",
       "      <td>car_ownership</td>\n",
       "      <td>0.083332</td>\n",
       "    </tr>\n",
       "    <tr>\n",
       "      <th>4</th>\n",
       "      <td>age</td>\n",
       "      <td>0.083198</td>\n",
       "    </tr>\n",
       "    <tr>\n",
       "      <th>5</th>\n",
       "      <td>state_encoded</td>\n",
       "      <td>0.083187</td>\n",
       "    </tr>\n",
       "    <tr>\n",
       "      <th>6</th>\n",
       "      <td>profession_encoded</td>\n",
       "      <td>0.081845</td>\n",
       "    </tr>\n",
       "    <tr>\n",
       "      <th>7</th>\n",
       "      <td>current_job_years</td>\n",
       "      <td>0.079102</td>\n",
       "    </tr>\n",
       "    <tr>\n",
       "      <th>8</th>\n",
       "      <td>experience</td>\n",
       "      <td>0.078977</td>\n",
       "    </tr>\n",
       "    <tr>\n",
       "      <th>9</th>\n",
       "      <td>current_house_years</td>\n",
       "      <td>0.074698</td>\n",
       "    </tr>\n",
       "    <tr>\n",
       "      <th>10</th>\n",
       "      <td>marital_status</td>\n",
       "      <td>0.064461</td>\n",
       "    </tr>\n",
       "    <tr>\n",
       "      <th>11</th>\n",
       "      <td>norent_noown</td>\n",
       "      <td>0.058938</td>\n",
       "    </tr>\n",
       "    <tr>\n",
       "      <th>12</th>\n",
       "      <td>owned</td>\n",
       "      <td>0.038894</td>\n",
       "    </tr>\n",
       "  </tbody>\n",
       "</table>\n",
       "</div>"
      ],
      "text/plain": [
       "           feature_name  feature_importance\n",
       "0                income            0.097845\n",
       "1          city_encoded            0.088775\n",
       "2                rented            0.086748\n",
       "3         car_ownership            0.083332\n",
       "4                   age            0.083198\n",
       "5         state_encoded            0.083187\n",
       "6    profession_encoded            0.081845\n",
       "7     current_job_years            0.079102\n",
       "8            experience            0.078977\n",
       "9   current_house_years            0.074698\n",
       "10       marital_status            0.064461\n",
       "11         norent_noown            0.058938\n",
       "12                owned            0.038894"
      ]
     },
     "execution_count": 17,
     "metadata": {},
     "output_type": "execute_result"
    }
   ],
   "source": [
    "feat_impt_df = retrieve_feature_importance(xgb.feature_importances_, x_train_embedded.columns)\n",
    "feat_impt_df"
   ]
  },
  {
   "cell_type": "markdown",
   "id": "ceffaffd",
   "metadata": {},
   "source": [
    "### 3.3.3 Lasso Regression"
   ]
  },
  {
   "cell_type": "code",
   "execution_count": 18,
   "id": "0a360b6d",
   "metadata": {},
   "outputs": [
    {
     "name": "stdout",
     "output_type": "stream",
     "text": [
      "                feature_name  feature_importance\n",
      "alpha=1                                         \n",
      "0                     income        2.780118e-10\n",
      "1                        age        0.000000e+00\n",
      "2                 experience        0.000000e+00\n",
      "3             marital_status        0.000000e+00\n",
      "4              car_ownership        0.000000e+00\n",
      "5          current_job_years        0.000000e+00\n",
      "6        current_house_years        0.000000e+00\n",
      "7               norent_noown        0.000000e+00\n",
      "8                      owned        0.000000e+00\n",
      "9                     rented        0.000000e+00\n",
      "10        profession_encoded        0.000000e+00\n",
      "11              city_encoded        0.000000e+00\n",
      "12             state_encoded        0.000000e+00\n",
      "\n",
      "                  feature_name  feature_importance\n",
      "alpha=0.1                                         \n",
      "0                          age        5.703995e-05\n",
      "1                       income        2.779366e-10\n",
      "2                   experience        0.000000e+00\n",
      "3               marital_status        0.000000e+00\n",
      "4                car_ownership        0.000000e+00\n",
      "5            current_job_years        0.000000e+00\n",
      "6          current_house_years        0.000000e+00\n",
      "7                 norent_noown        0.000000e+00\n",
      "8                        owned        0.000000e+00\n",
      "9                       rented        0.000000e+00\n",
      "10          profession_encoded        0.000000e+00\n",
      "11                city_encoded        0.000000e+00\n",
      "12               state_encoded        0.000000e+00\n",
      "\n",
      "                   feature_name  feature_importance\n",
      "alpha=0.01                                         \n",
      "0                    experience        1.655834e-03\n",
      "1                           age        3.678929e-04\n",
      "2                        income        2.594514e-10\n",
      "3                marital_status        0.000000e+00\n",
      "4                 car_ownership        0.000000e+00\n",
      "5             current_job_years        0.000000e+00\n",
      "6           current_house_years        0.000000e+00\n",
      "7                  norent_noown        0.000000e+00\n",
      "8                         owned        0.000000e+00\n",
      "9                        rented        0.000000e+00\n",
      "10           profession_encoded        0.000000e+00\n",
      "11                 city_encoded        0.000000e+00\n",
      "12                state_encoded        0.000000e+00\n",
      "\n",
      "                    feature_name  feature_importance\n",
      "alpha=0.001                                         \n",
      "0                         rented        1.961749e-02\n",
      "1                  car_ownership        1.137103e-02\n",
      "2                 marital_status        1.116647e-02\n",
      "3                     experience        2.161443e-03\n",
      "4              current_job_years        7.015111e-04\n",
      "5                            age        3.909729e-04\n",
      "6            current_house_years        1.313315e-04\n",
      "7                         income        2.805640e-10\n",
      "8                   norent_noown        0.000000e+00\n",
      "9                          owned        0.000000e+00\n",
      "10            profession_encoded        0.000000e+00\n",
      "11                  city_encoded        0.000000e+00\n",
      "12                 state_encoded        0.000000e+00\n",
      "\n",
      "                     feature_name  feature_importance\n",
      "alpha=0.0001                                         \n",
      "0                          rented        2.834742e-02\n",
      "1                  marital_status        2.123702e-02\n",
      "2                   car_ownership        1.564969e-02\n",
      "3                           owned        5.941071e-03\n",
      "4                      experience        2.235591e-03\n",
      "5               current_job_years        8.618301e-04\n",
      "6             current_house_years        5.383408e-04\n",
      "7                             age        3.892070e-04\n",
      "8                          income        2.928949e-10\n",
      "9                    norent_noown        0.000000e+00\n",
      "10             profession_encoded        0.000000e+00\n",
      "11                   city_encoded        0.000000e+00\n",
      "12                  state_encoded        0.000000e+00\n",
      "\n"
     ]
    }
   ],
   "source": [
    "alpha_param = [1, 0.1, 0.01, 0.001, 0.0001]\n",
    "\n",
    "for alpha in alpha_param:\n",
    "    lasso = Lasso(alpha=alpha)\n",
    "    lasso.fit(x_train_embedded, y_train)\n",
    "\n",
    "    importance = np.abs( lasso.coef_ )\n",
    "\n",
    "    feat_impt_df = retrieve_feature_importance(importance, x_train_embedded.columns)\n",
    "    feat_impt_df.index.rename('alpha='+str(alpha), inplace=True) \n",
    "    print( feat_impt_df )\n",
    "    print()"
   ]
  },
  {
   "cell_type": "markdown",
   "id": "c3aa3e95",
   "metadata": {},
   "source": [
    "### Conclusion:\n",
    "Results from the Feature Selection process are consolidated into this Google Sheet: <Insert Link Here>"
   ]
  },
  {
   "cell_type": "markdown",
   "id": "86eede2c",
   "metadata": {},
   "source": [
    "# 4. Feature Scaling\n",
    "---"
   ]
  },
  {
   "cell_type": "code",
   "execution_count": 19,
   "id": "fedf0b91",
   "metadata": {},
   "outputs": [],
   "source": [
    "def feature_scaling(df_x):\n",
    "    x = df_x.copy()\n",
    "    min_max_scaler = MinMaxScaler()\n",
    "    x[numerical] = min_max_scaler.fit_transform( x[numerical] )\n",
    "    return x\n",
    "\n",
    "x_train = feature_scaling(x_train)\n",
    "x_test = feature_scaling(x_test)"
   ]
  },
  {
   "cell_type": "markdown",
   "id": "82af105e",
   "metadata": {},
   "source": [
    "# 5. Exporting preprocessed Train Test sets to csv files\n",
    "---"
   ]
  },
  {
   "cell_type": "code",
   "execution_count": 20,
   "id": "984d18c4",
   "metadata": {},
   "outputs": [
    {
     "name": "stdout",
     "output_type": "stream",
     "text": [
      "Succesfully exported\n"
     ]
    }
   ],
   "source": [
    "x_train.reset_index(drop=True, inplace=True)\n",
    "y_train.reset_index(drop=True, inplace=True)\n",
    "train = pd.concat([x_train, y_train], axis=1)\n",
    "\n",
    "x_test.reset_index(drop=True, inplace=True)\n",
    "y_test.reset_index(drop=True, inplace=True)\n",
    "test = pd.concat([x_test, y_test], axis=1)\n",
    "\n",
    "try:\n",
    "    train.to_csv(\"./dataset/train.csv\", index=False)\n",
    "    test.to_csv(\"./dataset/test.csv\", index=False)\n",
    "    print('Succesfully exported')\n",
    "except:\n",
    "    print('Error')"
   ]
  }
 ],
 "metadata": {
  "kernelspec": {
   "display_name": "Python 3 (ipykernel)",
   "language": "python",
   "name": "python3"
  },
  "language_info": {
   "codemirror_mode": {
    "name": "ipython",
    "version": 3
   },
   "file_extension": ".py",
   "mimetype": "text/x-python",
   "name": "python",
   "nbconvert_exporter": "python",
   "pygments_lexer": "ipython3",
   "version": "3.8.10"
  }
 },
 "nbformat": 4,
 "nbformat_minor": 5
}
