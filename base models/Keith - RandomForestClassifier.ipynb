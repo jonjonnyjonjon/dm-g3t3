{
 "cells": [
  {
   "cell_type": "markdown",
   "id": "b6db9f7c",
   "metadata": {},
   "source": [
    "# IS424: Data Mining & Biz Analytics\n",
    "### Team: G3T3\n",
    "### Project: Predicting Loan Default based on Customer Profile\n",
    "### Model selection: <font color='#0041C2'>Random Forest</font>\n",
    "---"
   ]
  },
  {
   "cell_type": "markdown",
   "id": "782cc9b3",
   "metadata": {},
   "source": [
    "# 1. Setting up the notebook"
   ]
  },
  {
   "cell_type": "code",
   "execution_count": 1,
   "id": "d6c578f7",
   "metadata": {},
   "outputs": [],
   "source": [
    "import pandas as pd\n",
    "import numpy as np\n",
    "\n",
    "from imblearn.over_sampling import SMOTE\n",
    "from category_encoders import TargetEncoder\n",
    "from sklearn.preprocessing import MinMaxScaler\n",
    "\n",
    "from sklearn.ensemble import RandomForestClassifier\n",
    "from sklearn.metrics import recall_score, fbeta_score, roc_auc_score, make_scorer"
   ]
  },
  {
   "cell_type": "code",
   "execution_count": 2,
   "id": "b0db1970",
   "metadata": {},
   "outputs": [],
   "source": [
    "df_train = pd.read_csv(\"../dataset/train.csv\")\n",
    "\n",
    "y_train = df_train[[\"risk_flag\"]]\n",
    "x_train = df_train.drop(\"risk_flag\", axis=1)"
   ]
  },
  {
   "cell_type": "markdown",
   "id": "4726084b",
   "metadata": {},
   "source": [
    "# 2. Running base model"
   ]
  },
  {
   "cell_type": "code",
   "execution_count": 3,
   "id": "2bfb1eb5",
   "metadata": {},
   "outputs": [
    {
     "name": "stderr",
     "output_type": "stream",
     "text": [
      "/Users/jonw/miniforge3/envs/ml_env/lib/python3.8/site-packages/category_encoders/utils.py:21: FutureWarning: is_categorical is deprecated and will be removed in a future version.  Use is_categorical_dtype instead\n",
      "  elif pd.api.types.is_categorical(cols):\n",
      "/Users/jonw/miniforge3/envs/ml_env/lib/python3.8/site-packages/category_encoders/utils.py:21: FutureWarning: is_categorical is deprecated and will be removed in a future version.  Use is_categorical_dtype instead\n",
      "  elif pd.api.types.is_categorical(cols):\n",
      "/Users/jonw/miniforge3/envs/ml_env/lib/python3.8/site-packages/category_encoders/utils.py:21: FutureWarning: is_categorical is deprecated and will be removed in a future version.  Use is_categorical_dtype instead\n",
      "  elif pd.api.types.is_categorical(cols):\n"
     ]
    }
   ],
   "source": [
    "from imblearn.pipeline import Pipeline\n",
    "from sklearn.model_selection import StratifiedKFold, cross_validate\n",
    "from sklearn.compose import ColumnTransformer \n",
    "\n",
    "\n",
    "te_features = ['profession', 'city','state']\n",
    "scale_features = ['income','age','experience']\n",
    "\n",
    "preprocessor = ColumnTransformer(transformers=[('te_features', TargetEncoder(), te_features),\n",
    "                                               ('scale_features', MinMaxScaler(), scale_features)], remainder='passthrough')\n",
    "\n",
    "pipeline = Pipeline(steps = [['preprocessor', preprocessor ],\n",
    "                             ['smote', SMOTE(random_state=2021)],\n",
    "                             ['classifier', RandomForestClassifier(random_state=2021)]]\n",
    "                   )\n",
    "\n",
    "stratified_kfold = StratifiedKFold(shuffle=True, n_splits=3, random_state=2021)\n",
    "\n",
    "scoring = {\"recall\": 'recall',\n",
    "           \"fbeta_2\": make_scorer(fbeta_score, beta=2),\n",
    "           \"roc_auc\": make_scorer(roc_auc_score),\n",
    "          }\n",
    "\n",
    "scores = cross_validate(pipeline, x_train, y_train.values.ravel(), cv=stratified_kfold,\n",
    "                       scoring = scoring)\n"
   ]
  },
  {
   "cell_type": "code",
   "execution_count": 4,
   "id": "023fe484",
   "metadata": {},
   "outputs": [
    {
     "data": {
      "text/html": [
       "<div>\n",
       "<style scoped>\n",
       "    .dataframe tbody tr th:only-of-type {\n",
       "        vertical-align: middle;\n",
       "    }\n",
       "\n",
       "    .dataframe tbody tr th {\n",
       "        vertical-align: top;\n",
       "    }\n",
       "\n",
       "    .dataframe thead th {\n",
       "        text-align: right;\n",
       "    }\n",
       "</style>\n",
       "<table border=\"1\" class=\"dataframe\">\n",
       "  <thead>\n",
       "    <tr style=\"text-align: right;\">\n",
       "      <th></th>\n",
       "      <th>Fold 1</th>\n",
       "      <th>Fold 2</th>\n",
       "      <th>Fold 3</th>\n",
       "      <th>Average</th>\n",
       "    </tr>\n",
       "  </thead>\n",
       "  <tbody>\n",
       "    <tr>\n",
       "      <th>Recall</th>\n",
       "      <td>0.784634</td>\n",
       "      <td>0.784176</td>\n",
       "      <td>0.782724</td>\n",
       "      <td>0.783845</td>\n",
       "    </tr>\n",
       "    <tr>\n",
       "      <th>Fbeta2</th>\n",
       "      <td>0.716717</td>\n",
       "      <td>0.716607</td>\n",
       "      <td>0.716628</td>\n",
       "      <td>0.716651</td>\n",
       "    </tr>\n",
       "    <tr>\n",
       "      <th>AUC</th>\n",
       "      <td>0.843993</td>\n",
       "      <td>0.843890</td>\n",
       "      <td>0.843784</td>\n",
       "      <td>0.843889</td>\n",
       "    </tr>\n",
       "  </tbody>\n",
       "</table>\n",
       "</div>"
      ],
      "text/plain": [
       "          Fold 1    Fold 2    Fold 3   Average\n",
       "Recall  0.784634  0.784176  0.782724  0.783845\n",
       "Fbeta2  0.716717  0.716607  0.716628  0.716651\n",
       "AUC     0.843993  0.843890  0.843784  0.843889"
      ]
     },
     "metadata": {},
     "output_type": "display_data"
    }
   ],
   "source": [
    "recall = [ val for val in scores['test_recall'] ]\n",
    "fbeta_2 = [ val for val in scores['test_fbeta_2'] ]\n",
    "auc = [ val for val in scores['test_roc_auc'] ]\n",
    "recall.append( sum(recall) / len(recall) )\n",
    "fbeta_2.append( sum(fbeta_2) / len(fbeta_2) )\n",
    "auc.append( sum(auc) / len(auc) )\n",
    "\n",
    "score_df = pd.DataFrame(data=[recall, fbeta_2, auc], columns=['Fold 1','Fold 2','Fold 3', 'Average'],\n",
    "                        index=['Recall','Fbeta2','AUC'])\n",
    "display(score_df)"
   ]
  }
 ],
 "metadata": {
  "kernelspec": {
   "display_name": "Python 3 (ipykernel)",
   "language": "python",
   "name": "python3"
  },
  "language_info": {
   "codemirror_mode": {
    "name": "ipython",
    "version": 3
   },
   "file_extension": ".py",
   "mimetype": "text/x-python",
   "name": "python",
   "nbconvert_exporter": "python",
   "pygments_lexer": "ipython3",
   "version": "3.8.10"
  }
 },
 "nbformat": 4,
 "nbformat_minor": 5
}
