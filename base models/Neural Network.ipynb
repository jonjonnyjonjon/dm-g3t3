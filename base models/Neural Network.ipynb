{
 "cells": [
  {
   "cell_type": "markdown",
   "id": "b6db9f7c",
   "metadata": {},
   "source": [
    "# IS424: Data Mining & Biz Analytics\n",
    "### Team: G3T3\n",
    "### Project: Predicting Loan Default based on Customer Profile\n",
    "### Model selection: <font color='#0041C2'>Neural Network</font>\n",
    "---"
   ]
  },
  {
   "cell_type": "markdown",
   "id": "782cc9b3",
   "metadata": {},
   "source": [
    "# 1. Setting up the notebook"
   ]
  },
  {
   "cell_type": "code",
   "execution_count": 26,
   "id": "d6c578f7",
   "metadata": {},
   "outputs": [],
   "source": [
    "import pandas as pd\n",
    "import numpy as np\n",
    "\n",
    "from imblearn.over_sampling import SMOTE\n",
    "from category_encoders import TargetEncoder\n",
    "from sklearn.preprocessing import MinMaxScaler\n",
    "\n",
    "from sklearn.metrics import recall_score, fbeta_score, roc_auc_score, make_scorer\n",
    "from sklearn.model_selection import cross_val_score, StratifiedKFold\n",
    "\n",
    "import tensorflow as tf\n",
    "tf.autograph.set_verbosity(0)\n",
    "from tensorflow.keras.models import Sequential\n",
    "from tensorflow.keras.layers import Dense, Flatten\n",
    "from tensorflow.keras.utils import to_categorical\n",
    "from tensorflow.keras.metrics import Recall, AUC, Precision\n",
    "import tensorflow_addons as tfa\n",
    "\n",
    "tf.get_logger().setLevel(\"INFO\")"
   ]
  },
  {
   "cell_type": "code",
   "execution_count": 27,
   "id": "b0db1970",
   "metadata": {},
   "outputs": [],
   "source": [
    "df_train = pd.read_csv(\"../dataset/train.csv\")\n",
    "\n",
    "y_train = df_train[[\"risk_flag\"]]\n",
    "x_train = df_train.drop(\"risk_flag\", axis=1)"
   ]
  },
  {
   "cell_type": "code",
   "execution_count": 28,
   "id": "29cb832b",
   "metadata": {},
   "outputs": [
    {
     "name": "stderr",
     "output_type": "stream",
     "text": [
      "/Users/jonw/miniforge3/envs/ml_env/lib/python3.8/site-packages/category_encoders/utils.py:21: FutureWarning: is_categorical is deprecated and will be removed in a future version.  Use is_categorical_dtype instead\n",
      "  elif pd.api.types.is_categorical(cols):\n"
     ]
    }
   ],
   "source": [
    "def target_encoding(df_x, df_y):\n",
    "    x = df_x.copy()\n",
    "    \n",
    "    # Target Encoding — categorical columns with high cardinality: profession, city, state\n",
    "    profession_target_enc = TargetEncoder()\n",
    "    x[\"profession_encoded\"] = profession_target_enc.fit_transform(x[\"profession\"], df_y)\n",
    "    \n",
    "    city_target_enc = TargetEncoder()\n",
    "    x[\"city_encoded\"] = city_target_enc.fit_transform(x[\"city\"], df_y)\n",
    "    \n",
    "    state_target_enc = TargetEncoder()\n",
    "    x[\"state_encoded\"] = state_target_enc.fit_transform(x[\"state\"], df_y)\n",
    "    \n",
    "    x.drop(\"profession\", axis=1, inplace=True)\n",
    "    x.drop(\"city\", axis=1, inplace=True)\n",
    "    x.drop(\"state\", axis=1, inplace=True)\n",
    "    return x\n",
    "\n",
    "scale_features = ['income','age','experience']\n",
    "x_train = target_encoding(x_train, y_train)\n",
    "scaler = MinMaxScaler()\n",
    "x_train[scale_features] = scaler.fit_transform(x_train[scale_features])"
   ]
  },
  {
   "cell_type": "markdown",
   "id": "4726084b",
   "metadata": {},
   "source": [
    "# 2. Running base model"
   ]
  },
  {
   "cell_type": "code",
   "execution_count": 29,
   "id": "c2ecbc95",
   "metadata": {},
   "outputs": [
    {
     "name": "stdout",
     "output_type": "stream",
     "text": [
      "WARNING:tensorflow:AutoGraph could not transform <function Model.make_train_function.<locals>.train_function at 0x175bc0b80> and will run it as-is.\n",
      "Please report this to the TensorFlow team. When filing the bug, set the verbosity to 10 (on Linux, `export AUTOGRAPH_VERBOSITY=10`) and attach the full output.\n",
      "Cause: unsupported operand type(s) for -: 'NoneType' and 'int'\n",
      "To silence this warning, decorate the function with @tf.autograph.experimental.do_not_convert\n",
      "WARNING:tensorflow:AutoGraph could not transform <function Model.make_test_function.<locals>.test_function at 0x175e914c0> and will run it as-is.\n",
      "Please report this to the TensorFlow team. When filing the bug, set the verbosity to 10 (on Linux, `export AUTOGRAPH_VERBOSITY=10`) and attach the full output.\n",
      "Cause: unsupported operand type(s) for -: 'NoneType' and 'int'\n",
      "To silence this warning, decorate the function with @tf.autograph.experimental.do_not_convert\n",
      "2100/2100 [==============================] - 1s 409us/step - loss: 0.3567 - accuracy: 0.8773 - recall_9: 0.8773 - fbeta_score: 0.4925 - auc_9: 0.9092\n",
      "WARNING:tensorflow:AutoGraph could not transform <function Model.make_train_function.<locals>.train_function at 0x17cd3f670> and will run it as-is.\n",
      "Please report this to the TensorFlow team. When filing the bug, set the verbosity to 10 (on Linux, `export AUTOGRAPH_VERBOSITY=10`) and attach the full output.\n",
      "Cause: unsupported operand type(s) for -: 'NoneType' and 'int'\n",
      "To silence this warning, decorate the function with @tf.autograph.experimental.do_not_convert\n",
      "WARNING:tensorflow:AutoGraph could not transform <function Model.make_test_function.<locals>.test_function at 0x17be95550> and will run it as-is.\n",
      "Please report this to the TensorFlow team. When filing the bug, set the verbosity to 10 (on Linux, `export AUTOGRAPH_VERBOSITY=10`) and attach the full output.\n",
      "Cause: unsupported operand type(s) for -: 'NoneType' and 'int'\n",
      "To silence this warning, decorate the function with @tf.autograph.experimental.do_not_convert\n",
      "2100/2100 [==============================] - 1s 427us/step - loss: 0.3580 - accuracy: 0.8770 - recall_10: 0.8770 - fbeta_score: 0.4864 - auc_10: 0.9083\n",
      "WARNING:tensorflow:AutoGraph could not transform <function Model.make_train_function.<locals>.train_function at 0x177134820> and will run it as-is.\n",
      "Please report this to the TensorFlow team. When filing the bug, set the verbosity to 10 (on Linux, `export AUTOGRAPH_VERBOSITY=10`) and attach the full output.\n",
      "Cause: unsupported operand type(s) for -: 'NoneType' and 'int'\n",
      "To silence this warning, decorate the function with @tf.autograph.experimental.do_not_convert\n",
      "WARNING:tensorflow:AutoGraph could not transform <function Model.make_test_function.<locals>.test_function at 0x179ce61f0> and will run it as-is.\n",
      "Please report this to the TensorFlow team. When filing the bug, set the verbosity to 10 (on Linux, `export AUTOGRAPH_VERBOSITY=10`) and attach the full output.\n",
      "Cause: unsupported operand type(s) for -: 'NoneType' and 'int'\n",
      "To silence this warning, decorate the function with @tf.autograph.experimental.do_not_convert\n",
      "2100/2100 [==============================] - 1s 428us/step - loss: 0.3585 - accuracy: 0.8769 - recall_11: 0.8769 - fbeta_score: 0.4899 - auc_11: 0.9082\n"
     ]
    }
   ],
   "source": [
    "@tf.autograph.experimental.do_not_convert\n",
    "def run_NN_model():\n",
    "    fold_num = 1\n",
    "    skf = StratifiedKFold(shuffle=True, n_splits=3, random_state=2021)\n",
    "    scores = []\n",
    "\n",
    "    for train, val in skf.split(x_train, y_train):\n",
    "        input_shape = (9,)\n",
    "\n",
    "        model = Sequential()\n",
    "        model.add(Dense(120, input_shape=input_shape, activation='relu'))\n",
    "        model.add(Dense(120, activation='relu'))\n",
    "        model.add(Dense(120, activation='relu'))\n",
    "        model.add(Dense(2, activation='softmax'))\n",
    "\n",
    "        model.compile(loss='binary_crossentropy', \n",
    "                      optimizer='adam', \n",
    "                      metrics=[\"accuracy\", Recall(), tfa.metrics.FBetaScore(num_classes=2, beta=2.0), AUC()])\n",
    "\n",
    "        x_t, y_t = x_train.iloc[train], y_train.iloc[train]\n",
    "        x_val, y_val = x_train.iloc[val], y_train.iloc[val]\n",
    "\n",
    "        y_t = to_categorical(y_t, 2)\n",
    "        y_val = to_categorical(y_val, 2)\n",
    "\n",
    "        model_fit = model.fit(x_t, y_t, epochs=5, batch_size=64, verbose=0)\n",
    "        result = model.evaluate(x_val, y_val, verbose=1)\n",
    "        scores.append(result)\n",
    "\n",
    "        fold_num += 1\n",
    "        \n",
    "run_NN_model()"
   ]
  },
  {
   "cell_type": "code",
   "execution_count": 30,
   "id": "023fe484",
   "metadata": {},
   "outputs": [
    {
     "data": {
      "text/html": [
       "<div>\n",
       "<style scoped>\n",
       "    .dataframe tbody tr th:only-of-type {\n",
       "        vertical-align: middle;\n",
       "    }\n",
       "\n",
       "    .dataframe tbody tr th {\n",
       "        vertical-align: top;\n",
       "    }\n",
       "\n",
       "    .dataframe thead th {\n",
       "        text-align: right;\n",
       "    }\n",
       "</style>\n",
       "<table border=\"1\" class=\"dataframe\">\n",
       "  <thead>\n",
       "    <tr style=\"text-align: right;\">\n",
       "      <th></th>\n",
       "      <th>Fold 1</th>\n",
       "      <th>Fold 2</th>\n",
       "      <th>Fold 3</th>\n",
       "      <th>Average</th>\n",
       "    </tr>\n",
       "  </thead>\n",
       "  <tbody>\n",
       "    <tr>\n",
       "      <th>Recall</th>\n",
       "      <td>0.876815</td>\n",
       "      <td>0.876979</td>\n",
       "      <td>0.876949</td>\n",
       "      <td>0.876915</td>\n",
       "    </tr>\n",
       "    <tr>\n",
       "      <th>Fbeta2</th>\n",
       "      <td>0.972474</td>\n",
       "      <td>0.972700</td>\n",
       "      <td>0.972311</td>\n",
       "      <td>0.972495</td>\n",
       "    </tr>\n",
       "    <tr>\n",
       "      <th>AUC</th>\n",
       "      <td>0.907424</td>\n",
       "      <td>0.909464</td>\n",
       "      <td>0.909590</td>\n",
       "      <td>0.908826</td>\n",
       "    </tr>\n",
       "  </tbody>\n",
       "</table>\n",
       "</div>"
      ],
      "text/plain": [
       "          Fold 1    Fold 2    Fold 3   Average\n",
       "Recall  0.876815  0.876979  0.876949  0.876915\n",
       "Fbeta2  0.972474  0.972700  0.972311  0.972495\n",
       "AUC     0.907424  0.909464  0.909590  0.908826"
      ]
     },
     "metadata": {},
     "output_type": "display_data"
    }
   ],
   "source": [
    "loss = [ val[0] for val in scores ]\n",
    "recall = [ val[2] for val in scores ]\n",
    "fbeta_2 = [ val[3][0] for val in scores ]\n",
    "auc = [ val[4] for val in scores ]\n",
    "recall.append( sum(recall) / len(recall) )\n",
    "fbeta_2.append( sum(fbeta_2) / len(fbeta_2) )\n",
    "auc.append( sum(auc) / len(auc) )\n",
    "\n",
    "score_df = pd.DataFrame(data=[recall, fbeta_2, auc], columns=['Fold 1','Fold 2','Fold 3', 'Average'],\n",
    "                        index=['Recall','Fbeta2','AUC'])\n",
    "display(score_df)"
   ]
  }
 ],
 "metadata": {
  "kernelspec": {
   "display_name": "Python 3 (ipykernel)",
   "language": "python",
   "name": "python3"
  },
  "language_info": {
   "codemirror_mode": {
    "name": "ipython",
    "version": 3
   },
   "file_extension": ".py",
   "mimetype": "text/x-python",
   "name": "python",
   "nbconvert_exporter": "python",
   "pygments_lexer": "ipython3",
   "version": "3.8.10"
  }
 },
 "nbformat": 4,
 "nbformat_minor": 5
}
