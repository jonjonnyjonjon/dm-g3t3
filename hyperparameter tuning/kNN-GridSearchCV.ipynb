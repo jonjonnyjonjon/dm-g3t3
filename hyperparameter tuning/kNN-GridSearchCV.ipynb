{
 "cells": [
  {
   "cell_type": "markdown",
   "id": "60b5aa96",
   "metadata": {},
   "source": [
    "# IS424: Data Mining & Biz Analytics\n",
    "### Team: G3T3\n",
    "### Project: Predicting Loan Default based on Customer Profile\n",
    "### GridSearch and CrossValidation: <font color='#0041C2'>k-Nearest Neighbours</font>\n",
    "---"
   ]
  },
  {
   "cell_type": "markdown",
   "id": "6a4dc32e",
   "metadata": {},
   "source": [
    "# 1. Setting up the notebook"
   ]
  },
  {
   "cell_type": "code",
   "execution_count": 1,
   "id": "784cb67e",
   "metadata": {},
   "outputs": [],
   "source": [
    "import pandas as pd\n",
    "import numpy as np\n",
    "import seaborn as sns\n",
    "import matplotlib.pyplot as plt\n",
    "%matplotlib inline\n",
    "\n",
    "from category_encoders import TargetEncoder\n",
    "\n",
    "from sklearn.model_selection import train_test_split\n",
    "from imblearn.over_sampling import SMOTE\n",
    "from sklearn.preprocessing import MinMaxScaler\n",
    "\n",
    "from sklearn.neighbors import KNeighborsClassifier\n",
    "from sklearn.metrics import make_scorer, precision_score, recall_score, f1_score, fbeta_score, accuracy_score, roc_auc_score"
   ]
  },
  {
   "cell_type": "code",
   "execution_count": 2,
   "id": "90fba7a7",
   "metadata": {},
   "outputs": [],
   "source": [
    "df_train = pd.read_csv(\"../dataset/train.csv\") # kaggle\n",
    "df_test = pd.read_csv(\"../dataset/test.csv\") # kaggle\n",
    "\n",
    "y_train = df_train[[\"risk_flag\"]]\n",
    "x_train = df_train.drop(\"risk_flag\", axis=1)\n",
    "\n",
    "y_test = df_test[[\"risk_flag\"]]\n",
    "x_test = df_test.drop(\"risk_flag\", axis=1)"
   ]
  },
  {
   "cell_type": "markdown",
   "id": "d612d78d",
   "metadata": {},
   "source": [
    "# 2. Performance of Base KNN"
   ]
  },
  {
   "cell_type": "code",
   "execution_count": 3,
   "id": "c2a39f50",
   "metadata": {},
   "outputs": [],
   "source": [
    "from imblearn.pipeline import Pipeline\n",
    "from sklearn.model_selection import StratifiedKFold, cross_validate\n",
    "from sklearn.compose import ColumnTransformer \n",
    "\n",
    "\n",
    "te_features = ['profession', 'city','state']\n",
    "scale_features = ['income','age','experience']\n",
    "\n",
    "preprocessor = ColumnTransformer(transformers=[('te_features', TargetEncoder(), te_features),\n",
    "                                               ('scale_features', MinMaxScaler(), scale_features)])\n",
    "\n",
    "pipeline = Pipeline(steps = [['preprocessor', preprocessor ],\n",
    "                             ['smote', SMOTE(random_state=2021)],\n",
    "                             ['classifier', KNeighborsClassifier()]]\n",
    "                   )\n",
    "\n",
    "stratified_kfold = StratifiedKFold(shuffle=True, n_splits=3, random_state=2021)\n",
    "\n",
    "scoring = {\"recall\": 'recall',\n",
    "           \"fbeta_2\": make_scorer(fbeta_score, beta=2),\n",
    "           \"roc_auc\": make_scorer(roc_auc_score),\n",
    "          }\n",
    "\n",
    "scores = cross_validate(pipeline, x_train, y_train.values.ravel(), cv=stratified_kfold,\n",
    "                       scoring = scoring)"
   ]
  },
  {
   "cell_type": "code",
   "execution_count": 4,
   "id": "048c0e69",
   "metadata": {},
   "outputs": [
    {
     "data": {
      "text/html": [
       "<div>\n",
       "<style scoped>\n",
       "    .dataframe tbody tr th:only-of-type {\n",
       "        vertical-align: middle;\n",
       "    }\n",
       "\n",
       "    .dataframe tbody tr th {\n",
       "        vertical-align: top;\n",
       "    }\n",
       "\n",
       "    .dataframe thead th {\n",
       "        text-align: right;\n",
       "    }\n",
       "</style>\n",
       "<table border=\"1\" class=\"dataframe\">\n",
       "  <thead>\n",
       "    <tr style=\"text-align: right;\">\n",
       "      <th></th>\n",
       "      <th>Fold 1</th>\n",
       "      <th>Fold 2</th>\n",
       "      <th>Fold 3</th>\n",
       "      <th>Average</th>\n",
       "    </tr>\n",
       "  </thead>\n",
       "  <tbody>\n",
       "    <tr>\n",
       "      <th>Recall</th>\n",
       "      <td>0.844283</td>\n",
       "      <td>0.839826</td>\n",
       "      <td>0.838374</td>\n",
       "      <td>0.840828</td>\n",
       "    </tr>\n",
       "    <tr>\n",
       "      <th>Fbeta2</th>\n",
       "      <td>0.729550</td>\n",
       "      <td>0.725013</td>\n",
       "      <td>0.725396</td>\n",
       "      <td>0.726653</td>\n",
       "    </tr>\n",
       "    <tr>\n",
       "      <th>AUC</th>\n",
       "      <td>0.856086</td>\n",
       "      <td>0.853152</td>\n",
       "      <td>0.853240</td>\n",
       "      <td>0.854159</td>\n",
       "    </tr>\n",
       "  </tbody>\n",
       "</table>\n",
       "</div>"
      ],
      "text/plain": [
       "          Fold 1    Fold 2    Fold 3   Average\n",
       "Recall  0.844283  0.839826  0.838374  0.840828\n",
       "Fbeta2  0.729550  0.725013  0.725396  0.726653\n",
       "AUC     0.856086  0.853152  0.853240  0.854159"
      ]
     },
     "metadata": {},
     "output_type": "display_data"
    }
   ],
   "source": [
    "recall = [ val for val in scores['test_recall'] ]\n",
    "fbeta_2 = [ val for val in scores['test_fbeta_2'] ]\n",
    "auc = [ val for val in scores['test_roc_auc'] ]\n",
    "recall.append( sum(recall) / len(recall) )\n",
    "fbeta_2.append( sum(fbeta_2) / len(fbeta_2) )\n",
    "auc.append( sum(auc) / len(auc) )\n",
    "\n",
    "score_df = pd.DataFrame(data=[recall, fbeta_2, auc], columns=['Fold 1','Fold 2','Fold 3', 'Average'],\n",
    "                        index=['Recall','Fbeta2','AUC'])\n",
    "display(score_df)"
   ]
  },
  {
   "cell_type": "markdown",
   "id": "a43b08c1",
   "metadata": {},
   "source": [
    "# 3. Hyperparameter Tuning with GridSearchCV"
   ]
  },
  {
   "cell_type": "markdown",
   "id": "fc7bf0c1",
   "metadata": {},
   "source": [
    "## 3.1 First GridSearchCV "
   ]
  },
  {
   "cell_type": "code",
   "execution_count": 5,
   "id": "13f0c904",
   "metadata": {},
   "outputs": [
    {
     "name": "stdout",
     "output_type": "stream",
     "text": [
      "knn__n_neighbors [1, 5, 9, 13, 17]\n",
      "knn__leaf_size [20, 25, 30, 35]\n",
      "knn__p (1, 2)\n",
      "knn__weights ('uniform', 'distance')\n",
      "knn__metric ('minkowski', 'chebyshev', 'euclidean')\n",
      "-----------------\n",
      "Total combinations: 240\n"
     ]
    }
   ],
   "source": [
    "# Creating parameter grid to search\n",
    "params_grid = {\n",
    "            'knn__n_neighbors': list(range(1,21,4)),\n",
    "            'knn__leaf_size': list(range(20,40,5)),\n",
    "            'knn__p': (1,2),\n",
    "            'knn__weights': ('uniform', 'distance'),\n",
    "            'knn__metric': ('minkowski', 'chebyshev', 'euclidean')\n",
    "            }\n",
    "\n",
    "total_combi = 1\n",
    "for param, value in params_grid.items():\n",
    "    print(param, value)\n",
    "    total_combi *= len(value)\n",
    "\n",
    "print('-----------------')\n",
    "print('Total combinations:', total_combi)"
   ]
  },
  {
   "cell_type": "code",
   "execution_count": 6,
   "id": "5f8e1591",
   "metadata": {},
   "outputs": [],
   "source": [
    "from sklearn.model_selection import GridSearchCV\n",
    "\n",
    "\n",
    "te_features = ['profession', 'city','state']\n",
    "scale_features = ['income','age','experience']\n",
    "\n",
    "preprocessor = ColumnTransformer(transformers=[('te_features', TargetEncoder(), te_features),\n",
    "                                               ('scale_features', MinMaxScaler(), scale_features)])\n",
    "\n",
    "pipeline = Pipeline(steps = [['preprocessor', preprocessor ],\n",
    "                             ['smote', SMOTE(random_state=2021)],\n",
    "                             ['knn', KNeighborsClassifier()]]\n",
    "                   )\n",
    "\n",
    "stratified_kfold = StratifiedKFold(shuffle=True, n_splits=3, random_state=2021)\n",
    "\n",
    "scoring = {\"recall\": 'recall',\n",
    "           \"fbeta_2\": make_scorer(fbeta_score, beta=2),\n",
    "           \"roc_auc\": make_scorer(roc_auc_score),\n",
    "          }\n",
    "\n",
    "knn_gridsearch = GridSearchCV(estimator = pipeline,\n",
    "                           param_grid = params_grid,\n",
    "                           scoring = \"recall\",\n",
    "                           cv = stratified_kfold,\n",
    "                           refit = True,\n",
    "                           n_jobs = -1)"
   ]
  },
  {
   "cell_type": "code",
   "execution_count": 7,
   "id": "17801735",
   "metadata": {},
   "outputs": [
    {
     "name": "stdout",
     "output_type": "stream",
     "text": [
      "{'knn__leaf_size': 20, 'knn__metric': 'chebyshev', 'knn__n_neighbors': 9, 'knn__p': 1, 'knn__weights': 'uniform'}\n"
     ]
    }
   ],
   "source": [
    "knn_gridsearch.fit( x_train, y_train.values.ravel() )\n",
    "best_parameters = knn_gridsearch.best_params_\n",
    "print(best_parameters)"
   ]
  },
  {
   "cell_type": "code",
   "execution_count": 8,
   "id": "94c545da",
   "metadata": {},
   "outputs": [],
   "source": [
    "best_knn_grid = KNeighborsClassifier(leaf_size=20, metric='chebyshev', \n",
    "                                     n_neighbors=9, p=1, weights='uniform')\n",
    "\n",
    "pipeline = Pipeline(steps = [['preprocessor', preprocessor ],\n",
    "                             ['smote', SMOTE(random_state=2021)],\n",
    "                             ['classifier', best_knn_grid]]\n",
    "                   )"
   ]
  },
  {
   "cell_type": "code",
   "execution_count": 9,
   "id": "c96f2123",
   "metadata": {},
   "outputs": [],
   "source": [
    "scores = cross_validate(pipeline, x_train, y_train.values.ravel(), cv=stratified_kfold,\n",
    "                       scoring = scoring)"
   ]
  },
  {
   "cell_type": "code",
   "execution_count": 10,
   "id": "029eb40f",
   "metadata": {},
   "outputs": [
    {
     "data": {
      "text/html": [
       "<div>\n",
       "<style scoped>\n",
       "    .dataframe tbody tr th:only-of-type {\n",
       "        vertical-align: middle;\n",
       "    }\n",
       "\n",
       "    .dataframe tbody tr th {\n",
       "        vertical-align: top;\n",
       "    }\n",
       "\n",
       "    .dataframe thead th {\n",
       "        text-align: right;\n",
       "    }\n",
       "</style>\n",
       "<table border=\"1\" class=\"dataframe\">\n",
       "  <thead>\n",
       "    <tr style=\"text-align: right;\">\n",
       "      <th></th>\n",
       "      <th>Fold 1</th>\n",
       "      <th>Fold 2</th>\n",
       "      <th>Fold 3</th>\n",
       "      <th>Average</th>\n",
       "    </tr>\n",
       "  </thead>\n",
       "  <tbody>\n",
       "    <tr>\n",
       "      <th>Recall</th>\n",
       "      <td>0.857713</td>\n",
       "      <td>0.852891</td>\n",
       "      <td>0.857489</td>\n",
       "      <td>0.856031</td>\n",
       "    </tr>\n",
       "    <tr>\n",
       "      <th>Fbeta2</th>\n",
       "      <td>0.734429</td>\n",
       "      <td>0.730146</td>\n",
       "      <td>0.733626</td>\n",
       "      <td>0.732734</td>\n",
       "    </tr>\n",
       "    <tr>\n",
       "      <th>AUC</th>\n",
       "      <td>0.860027</td>\n",
       "      <td>0.857182</td>\n",
       "      <td>0.859548</td>\n",
       "      <td>0.858919</td>\n",
       "    </tr>\n",
       "  </tbody>\n",
       "</table>\n",
       "</div>"
      ],
      "text/plain": [
       "          Fold 1    Fold 2    Fold 3   Average\n",
       "Recall  0.857713  0.852891  0.857489  0.856031\n",
       "Fbeta2  0.734429  0.730146  0.733626  0.732734\n",
       "AUC     0.860027  0.857182  0.859548  0.858919"
      ]
     },
     "metadata": {},
     "output_type": "display_data"
    }
   ],
   "source": [
    "recall = [ val for val in scores['test_recall'] ]\n",
    "fbeta_2 = [ val for val in scores['test_fbeta_2'] ]\n",
    "auc = [ val for val in scores['test_roc_auc'] ]\n",
    "recall.append( sum(recall) / len(recall) )\n",
    "fbeta_2.append( sum(fbeta_2) / len(fbeta_2) )\n",
    "auc.append( sum(auc) / len(auc) )\n",
    "\n",
    "score_df = pd.DataFrame(data=[recall, fbeta_2, auc], columns=['Fold 1','Fold 2','Fold 3', 'Average'],\n",
    "                        index=['Recall','Fbeta2','AUC'])\n",
    "display(score_df)"
   ]
  },
  {
   "cell_type": "markdown",
   "id": "b50ddd94",
   "metadata": {},
   "source": [
    "## 3.2 Second GridSearchCV "
   ]
  },
  {
   "cell_type": "code",
   "execution_count": 14,
   "id": "e23d8cdf",
   "metadata": {
    "scrolled": true
   },
   "outputs": [
    {
     "name": "stdout",
     "output_type": "stream",
     "text": [
      "knn__n_neighbors [5, 7, 9, 11]\n",
      "knn__leaf_size [15, 16, 17, 18, 19, 20, 21]\n",
      "knn__p (1, 2)\n",
      "knn__weights ['uniform']\n",
      "knn__metric ['chebyshev']\n",
      "-----------------\n",
      "Total combinations: 56\n"
     ]
    }
   ],
   "source": [
    "# Creating parameter grid to search\n",
    "params_grid = {\n",
    "            'knn__n_neighbors': [5,7,9,11],\n",
    "            'knn__leaf_size': list(range(15,22,1)),\n",
    "            'knn__p': (1,2),\n",
    "            'knn__weights': ['uniform'],\n",
    "            'knn__metric': ['chebyshev']\n",
    "            }\n",
    "\n",
    "total_combi = 1\n",
    "for param, value in params_grid.items():\n",
    "    print(param, value)\n",
    "    total_combi *= len(value)\n",
    "\n",
    "print('-----------------')\n",
    "print('Total combinations:', total_combi)"
   ]
  },
  {
   "cell_type": "code",
   "execution_count": 15,
   "id": "c5804e51",
   "metadata": {},
   "outputs": [],
   "source": [
    "from sklearn.model_selection import GridSearchCV\n",
    "\n",
    "\n",
    "te_features = ['profession', 'city','state']\n",
    "scale_features = ['income','age','experience']\n",
    "\n",
    "preprocessor = ColumnTransformer(transformers=[('te_features', TargetEncoder(), te_features),\n",
    "                                               ('scale_features', MinMaxScaler(), scale_features)])\n",
    "\n",
    "pipeline = Pipeline(steps = [['preprocessor', preprocessor ],\n",
    "                             ['smote', SMOTE(random_state=2021)],\n",
    "                             ['knn', KNeighborsClassifier()]]\n",
    "                   )\n",
    "\n",
    "stratified_kfold = StratifiedKFold(shuffle=True, n_splits=3, random_state=2021)\n",
    "\n",
    "scoring = {\"recall\": 'recall',\n",
    "           \"fbeta_2\": make_scorer(fbeta_score, beta=2),\n",
    "           \"roc_auc\": make_scorer(roc_auc_score),\n",
    "          }\n",
    "\n",
    "knn_gridsearch = GridSearchCV(estimator = pipeline,\n",
    "                           param_grid = params_grid,\n",
    "                           scoring = \"recall\",\n",
    "                           cv = stratified_kfold,\n",
    "                           refit = True,\n",
    "                           n_jobs = -1)"
   ]
  },
  {
   "cell_type": "code",
   "execution_count": 18,
   "id": "ad7083de",
   "metadata": {},
   "outputs": [
    {
     "name": "stdout",
     "output_type": "stream",
     "text": [
      "{'knn__leaf_size': 15, 'knn__metric': 'chebyshev', 'knn__n_neighbors': 7, 'knn__p': 1, 'knn__weights': 'uniform'}\n"
     ]
    }
   ],
   "source": [
    "knn_gridsearch.fit( x_train, y_train.values.ravel() )\n",
    "best_parameters = knn_gridsearch.best_params_\n",
    "print(best_parameters)"
   ]
  },
  {
   "cell_type": "code",
   "execution_count": 19,
   "id": "307773d7",
   "metadata": {},
   "outputs": [],
   "source": [
    "best_knn_grid = KNeighborsClassifier(leaf_size=15, metric='chebyshev', \n",
    "                                     n_neighbors=7, p=1, weights='uniform')\n",
    "\n",
    "pipeline = Pipeline(steps = [['preprocessor', preprocessor ],\n",
    "                             ['smote', SMOTE(random_state=2021)],\n",
    "                             ['classifier', best_knn_grid]]\n",
    "                   )"
   ]
  },
  {
   "cell_type": "code",
   "execution_count": 20,
   "id": "c981336b",
   "metadata": {},
   "outputs": [],
   "source": [
    "scores = cross_validate(pipeline, x_train, y_train.values.ravel(), cv=stratified_kfold,\n",
    "                       scoring = scoring)"
   ]
  },
  {
   "cell_type": "code",
   "execution_count": 21,
   "id": "4596005a",
   "metadata": {},
   "outputs": [
    {
     "data": {
      "text/html": [
       "<div>\n",
       "<style scoped>\n",
       "    .dataframe tbody tr th:only-of-type {\n",
       "        vertical-align: middle;\n",
       "    }\n",
       "\n",
       "    .dataframe tbody tr th {\n",
       "        vertical-align: top;\n",
       "    }\n",
       "\n",
       "    .dataframe thead th {\n",
       "        text-align: right;\n",
       "    }\n",
       "</style>\n",
       "<table border=\"1\" class=\"dataframe\">\n",
       "  <thead>\n",
       "    <tr style=\"text-align: right;\">\n",
       "      <th></th>\n",
       "      <th>Fold 1</th>\n",
       "      <th>Fold 2</th>\n",
       "      <th>Fold 3</th>\n",
       "      <th>Average</th>\n",
       "    </tr>\n",
       "  </thead>\n",
       "  <tbody>\n",
       "    <tr>\n",
       "      <th>Recall</th>\n",
       "      <td>0.859528</td>\n",
       "      <td>0.857851</td>\n",
       "      <td>0.854706</td>\n",
       "      <td>0.857362</td>\n",
       "    </tr>\n",
       "    <tr>\n",
       "      <th>Fbeta2</th>\n",
       "      <td>0.734658</td>\n",
       "      <td>0.732360</td>\n",
       "      <td>0.731806</td>\n",
       "      <td>0.732941</td>\n",
       "    </tr>\n",
       "    <tr>\n",
       "      <th>AUC</th>\n",
       "      <td>0.860323</td>\n",
       "      <td>0.858873</td>\n",
       "      <td>0.858276</td>\n",
       "      <td>0.859157</td>\n",
       "    </tr>\n",
       "  </tbody>\n",
       "</table>\n",
       "</div>"
      ],
      "text/plain": [
       "          Fold 1    Fold 2    Fold 3   Average\n",
       "Recall  0.859528  0.857851  0.854706  0.857362\n",
       "Fbeta2  0.734658  0.732360  0.731806  0.732941\n",
       "AUC     0.860323  0.858873  0.858276  0.859157"
      ]
     },
     "metadata": {},
     "output_type": "display_data"
    }
   ],
   "source": [
    "recall = [ val for val in scores['test_recall'] ]\n",
    "fbeta_2 = [ val for val in scores['test_fbeta_2'] ]\n",
    "auc = [ val for val in scores['test_roc_auc'] ]\n",
    "recall.append( sum(recall) / len(recall) )\n",
    "fbeta_2.append( sum(fbeta_2) / len(fbeta_2) )\n",
    "auc.append( sum(auc) / len(auc) )\n",
    "\n",
    "score_df = pd.DataFrame(data=[recall, fbeta_2, auc], columns=['Fold 1','Fold 2','Fold 3', 'Average'],\n",
    "                        index=['Recall','Fbeta2','AUC'])\n",
    "display(score_df)"
   ]
  },
  {
   "cell_type": "markdown",
   "id": "0029e3d5",
   "metadata": {},
   "source": [
    "## 3.3 Third GridSearchCV "
   ]
  },
  {
   "cell_type": "code",
   "execution_count": 28,
   "id": "522a5f85",
   "metadata": {
    "scrolled": true
   },
   "outputs": [
    {
     "name": "stdout",
     "output_type": "stream",
     "text": [
      "knn__n_neighbors [5, 7, 9, 11]\n",
      "knn__leaf_size [1, 2, 3, 4, 5, 6, 7, 8, 9, 10, 11, 12, 13, 14]\n",
      "knn__p [1]\n",
      "knn__weights ['uniform']\n",
      "knn__metric ['chebyshev']\n",
      "-----------------\n",
      "Total combinations: 56\n"
     ]
    }
   ],
   "source": [
    "# Creating parameter grid to search\n",
    "params_grid = {\n",
    "            'knn__n_neighbors': [5,7,9,11],\n",
    "            'knn__leaf_size': list(range(1,15,1)),\n",
    "            'knn__p': [1],\n",
    "            'knn__weights': ['uniform'],\n",
    "            'knn__metric': ['chebyshev']\n",
    "            }\n",
    "\n",
    "total_combi = 1\n",
    "for param, value in params_grid.items():\n",
    "    print(param, value)\n",
    "    total_combi *= len(value)\n",
    "\n",
    "print('-----------------')\n",
    "print('Total combinations:', total_combi)"
   ]
  },
  {
   "cell_type": "code",
   "execution_count": 29,
   "id": "1e05f27a",
   "metadata": {},
   "outputs": [],
   "source": [
    "from sklearn.model_selection import GridSearchCV\n",
    "\n",
    "\n",
    "te_features = ['profession', 'city','state']\n",
    "scale_features = ['income','age','experience']\n",
    "\n",
    "preprocessor = ColumnTransformer(transformers=[('te_features', TargetEncoder(), te_features),\n",
    "                                               ('scale_features', MinMaxScaler(), scale_features)])\n",
    "\n",
    "pipeline = Pipeline(steps = [['preprocessor', preprocessor ],\n",
    "                             ['smote', SMOTE(random_state=2021)],\n",
    "                             ['knn', KNeighborsClassifier()]]\n",
    "                   )\n",
    "\n",
    "stratified_kfold = StratifiedKFold(shuffle=True, n_splits=3, random_state=2021)\n",
    "\n",
    "scoring = {\"recall\": 'recall',\n",
    "           \"fbeta_2\": make_scorer(fbeta_score, beta=2),\n",
    "           \"roc_auc\": make_scorer(roc_auc_score),\n",
    "          }\n",
    "\n",
    "knn_gridsearch = GridSearchCV(estimator = pipeline,\n",
    "                           param_grid = params_grid,\n",
    "                           scoring = \"recall\",\n",
    "                           cv = stratified_kfold,\n",
    "                           refit = True,\n",
    "                           n_jobs = -1)"
   ]
  },
  {
   "cell_type": "code",
   "execution_count": 30,
   "id": "5d50940c",
   "metadata": {},
   "outputs": [
    {
     "name": "stdout",
     "output_type": "stream",
     "text": [
      "{'knn__leaf_size': 8, 'knn__metric': 'chebyshev', 'knn__n_neighbors': 7, 'knn__p': 1, 'knn__weights': 'uniform'}\n"
     ]
    }
   ],
   "source": [
    "knn_gridsearch.fit( x_train, y_train.values.ravel() )\n",
    "best_parameters = knn_gridsearch.best_params_\n",
    "print(best_parameters)"
   ]
  },
  {
   "cell_type": "code",
   "execution_count": 32,
   "id": "4bfe03f4",
   "metadata": {},
   "outputs": [],
   "source": [
    "best_knn_grid = KNeighborsClassifier(leaf_size=8, metric='chebyshev', \n",
    "                                     n_neighbors=7, p=1, weights='uniform')\n",
    "\n",
    "pipeline = Pipeline(steps = [['preprocessor', preprocessor ],\n",
    "                             ['smote', SMOTE(random_state=2021)],\n",
    "                             ['classifier', best_knn_grid]]\n",
    "                   )"
   ]
  },
  {
   "cell_type": "code",
   "execution_count": 33,
   "id": "3cfcc4a2",
   "metadata": {},
   "outputs": [],
   "source": [
    "scores = cross_validate(pipeline, x_train, y_train.values.ravel(), cv=stratified_kfold,\n",
    "                       scoring = scoring)"
   ]
  },
  {
   "cell_type": "code",
   "execution_count": 34,
   "id": "bf8ca1c7",
   "metadata": {},
   "outputs": [
    {
     "data": {
      "text/html": [
       "<div>\n",
       "<style scoped>\n",
       "    .dataframe tbody tr th:only-of-type {\n",
       "        vertical-align: middle;\n",
       "    }\n",
       "\n",
       "    .dataframe tbody tr th {\n",
       "        vertical-align: top;\n",
       "    }\n",
       "\n",
       "    .dataframe thead th {\n",
       "        text-align: right;\n",
       "    }\n",
       "</style>\n",
       "<table border=\"1\" class=\"dataframe\">\n",
       "  <thead>\n",
       "    <tr style=\"text-align: right;\">\n",
       "      <th></th>\n",
       "      <th>Fold 1</th>\n",
       "      <th>Fold 2</th>\n",
       "      <th>Fold 3</th>\n",
       "      <th>Average</th>\n",
       "    </tr>\n",
       "  </thead>\n",
       "  <tbody>\n",
       "    <tr>\n",
       "      <th>Recall</th>\n",
       "      <td>0.859407</td>\n",
       "      <td>0.855674</td>\n",
       "      <td>0.859545</td>\n",
       "      <td>0.858209</td>\n",
       "    </tr>\n",
       "    <tr>\n",
       "      <th>Fbeta2</th>\n",
       "      <td>0.734175</td>\n",
       "      <td>0.731120</td>\n",
       "      <td>0.734959</td>\n",
       "      <td>0.733418</td>\n",
       "    </tr>\n",
       "    <tr>\n",
       "      <th>AUC</th>\n",
       "      <td>0.860042</td>\n",
       "      <td>0.857979</td>\n",
       "      <td>0.860483</td>\n",
       "      <td>0.859501</td>\n",
       "    </tr>\n",
       "  </tbody>\n",
       "</table>\n",
       "</div>"
      ],
      "text/plain": [
       "          Fold 1    Fold 2    Fold 3   Average\n",
       "Recall  0.859407  0.855674  0.859545  0.858209\n",
       "Fbeta2  0.734175  0.731120  0.734959  0.733418\n",
       "AUC     0.860042  0.857979  0.860483  0.859501"
      ]
     },
     "metadata": {},
     "output_type": "display_data"
    }
   ],
   "source": [
    "recall = [ val for val in scores['test_recall'] ]\n",
    "fbeta_2 = [ val for val in scores['test_fbeta_2'] ]\n",
    "auc = [ val for val in scores['test_roc_auc'] ]\n",
    "recall.append( sum(recall) / len(recall) )\n",
    "fbeta_2.append( sum(fbeta_2) / len(fbeta_2) )\n",
    "auc.append( sum(auc) / len(auc) )\n",
    "\n",
    "score_df = pd.DataFrame(data=[recall, fbeta_2, auc], columns=['Fold 1','Fold 2','Fold 3', 'Average'],\n",
    "                        index=['Recall','Fbeta2','AUC'])\n",
    "display(score_df)"
   ]
  },
  {
   "cell_type": "markdown",
   "id": "3e3723da",
   "metadata": {},
   "source": [
    "# 4. Evaluate on Test Data"
   ]
  },
  {
   "cell_type": "code",
   "execution_count": 35,
   "id": "5efe9203",
   "metadata": {},
   "outputs": [],
   "source": [
    "best_knn_grid = KNeighborsClassifier(leaf_size=8, metric='chebyshev', \n",
    "                                     n_neighbors=7, p=1, weights='uniform')"
   ]
  },
  {
   "cell_type": "code",
   "execution_count": 36,
   "id": "b46cc713",
   "metadata": {},
   "outputs": [
    {
     "name": "stdout",
     "output_type": "stream",
     "text": [
      "-----------------------PERFORMANCE EVALUATION--------------------  \n",
      "Recall: 0.8675592837554444 \n",
      "Fbeta2: 0.732917223145902 \n",
      "AUC Score: 0.8600822142177146 \n"
     ]
    }
   ],
   "source": [
    "te_features = ['profession', 'city','state']\n",
    "scale_features = ['income','age','experience']\n",
    "\n",
    "preprocessor = ColumnTransformer(transformers=[('te_features', TargetEncoder(), te_features),\n",
    "                                                ('scale_features', MinMaxScaler(), scale_features)])\n",
    "\n",
    "pipeline = Pipeline(steps = [['preprocessor', preprocessor ],\n",
    "                             ['smote', SMOTE(random_state=2021)],\n",
    "                             ['classifier', best_knn_grid]\n",
    "                            ])\n",
    "\n",
    "pipeline.fit(x_train, y_train.values.ravel() )\n",
    "\n",
    "y_pred = pipeline.predict(x_test)\n",
    "\n",
    "print(\"-----------------------PERFORMANCE EVALUATION--------------------  \")\n",
    "print(f\"Recall: {recall_score(y_test, y_pred)} \")\n",
    "print(f\"Fbeta2: {fbeta_score(y_test, y_pred, beta=2)} \")\n",
    "print(f\"AUC Score: {roc_auc_score(y_test, y_pred)} \")"
   ]
  }
 ],
 "metadata": {
  "kernelspec": {
   "display_name": "Python 3 (ipykernel)",
   "language": "python",
   "name": "python3"
  },
  "language_info": {
   "codemirror_mode": {
    "name": "ipython",
    "version": 3
   },
   "file_extension": ".py",
   "mimetype": "text/x-python",
   "name": "python",
   "nbconvert_exporter": "python",
   "pygments_lexer": "ipython3",
   "version": "3.8.10"
  }
 },
 "nbformat": 4,
 "nbformat_minor": 5
}
