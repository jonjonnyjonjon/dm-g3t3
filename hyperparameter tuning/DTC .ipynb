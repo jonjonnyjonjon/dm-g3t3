{
 "cells": [
  {
   "cell_type": "markdown",
   "metadata": {},
   "source": [
    "# IS424: Data Mining & Biz Analytics\n",
    "## Team: G3T3\n",
    "### Project: Predicting Loan Default based on Customer Profile\n",
    "### Grid Search and Cross-validation: DecisionTreeClassifier\n",
    "---"
   ]
  },
  {
   "cell_type": "markdown",
   "metadata": {},
   "source": [
    "# 1. Setting up the notebook"
   ]
  },
  {
   "cell_type": "code",
   "execution_count": 2,
   "metadata": {
    "execution": {
     "iopub.execute_input": "2021-11-07T13:47:47.664274Z",
     "iopub.status.busy": "2021-11-07T13:47:47.663565Z",
     "iopub.status.idle": "2021-11-07T13:47:47.674602Z",
     "shell.execute_reply": "2021-11-07T13:47:47.673406Z",
     "shell.execute_reply.started": "2021-11-07T13:47:47.664234Z"
    }
   },
   "outputs": [],
   "source": [
    "import pandas as pd\n",
    "import numpy as np\n",
    "import seaborn as sns\n",
    "import matplotlib.pyplot as plt\n",
    "%matplotlib inline\n",
    "\n",
    "from category_encoders import TargetEncoder\n",
    "\n",
    "from sklearn.model_selection import train_test_split\n",
    "from imblearn.over_sampling import SMOTE\n",
    "from sklearn.preprocessing import MinMaxScaler\n",
    "\n",
    "from sklearn.tree import DecisionTreeClassifier\n",
    "from sklearn.metrics import make_scorer, precision_score, recall_score, f1_score, fbeta_score, accuracy_score, roc_auc_score"
   ]
  },
  {
   "cell_type": "code",
   "execution_count": 3,
   "metadata": {
    "execution": {
     "iopub.execute_input": "2021-11-07T13:47:47.677426Z",
     "iopub.status.busy": "2021-11-07T13:47:47.676938Z",
     "iopub.status.idle": "2021-11-07T13:47:48.032750Z",
     "shell.execute_reply": "2021-11-07T13:47:48.031726Z",
     "shell.execute_reply.started": "2021-11-07T13:47:47.677379Z"
    }
   },
   "outputs": [],
   "source": [
    "df_train = pd.read_csv(\"../dataset/train.csv\") # local\n",
    "df_test = pd.read_csv(\"../dataset/test.csv\") # local\n",
    "\n",
    "# df_train = pd.read_csv(\"../input/is424loanpredictionpreprocessed/train.csv\") # kaggle\n",
    "# df_test = pd.read_csv(\"../input/is424loanpredictionpreprocessed/test.csv\") # kaggle\n",
    "\n",
    "y_train = df_train[[\"risk_flag\"]]\n",
    "x_train = df_train.drop(\"risk_flag\", axis=1)\n",
    "\n",
    "y_test = df_test[[\"risk_flag\"]]\n",
    "x_test = df_test.drop(\"risk_flag\", axis=1)"
   ]
  },
  {
   "cell_type": "code",
   "execution_count": 4,
   "metadata": {
    "execution": {
     "iopub.execute_input": "2021-11-07T13:47:48.034119Z",
     "iopub.status.busy": "2021-11-07T13:47:48.033896Z",
     "iopub.status.idle": "2021-11-07T13:47:48.048990Z",
     "shell.execute_reply": "2021-11-07T13:47:48.048050Z",
     "shell.execute_reply.started": "2021-11-07T13:47:48.034092Z"
    }
   },
   "outputs": [
    {
     "data": {
      "text/html": [
       "<div>\n",
       "<style scoped>\n",
       "    .dataframe tbody tr th:only-of-type {\n",
       "        vertical-align: middle;\n",
       "    }\n",
       "\n",
       "    .dataframe tbody tr th {\n",
       "        vertical-align: top;\n",
       "    }\n",
       "\n",
       "    .dataframe thead th {\n",
       "        text-align: right;\n",
       "    }\n",
       "</style>\n",
       "<table border=\"1\" class=\"dataframe\">\n",
       "  <thead>\n",
       "    <tr style=\"text-align: right;\">\n",
       "      <th></th>\n",
       "      <th>income</th>\n",
       "      <th>age</th>\n",
       "      <th>experience</th>\n",
       "      <th>marital_status</th>\n",
       "      <th>car_ownership</th>\n",
       "      <th>profession</th>\n",
       "      <th>city</th>\n",
       "      <th>state</th>\n",
       "      <th>rented</th>\n",
       "    </tr>\n",
       "  </thead>\n",
       "  <tbody>\n",
       "    <tr>\n",
       "      <th>0</th>\n",
       "      <td>3278154</td>\n",
       "      <td>56</td>\n",
       "      <td>20</td>\n",
       "      <td>1</td>\n",
       "      <td>0</td>\n",
       "      <td>Technology_specialist</td>\n",
       "      <td>Gorakhpur</td>\n",
       "      <td>Uttar_Pradesh</td>\n",
       "      <td>1.0</td>\n",
       "    </tr>\n",
       "    <tr>\n",
       "      <th>1</th>\n",
       "      <td>1315700</td>\n",
       "      <td>53</td>\n",
       "      <td>4</td>\n",
       "      <td>1</td>\n",
       "      <td>0</td>\n",
       "      <td>Civil_engineer</td>\n",
       "      <td>Thoothukudi</td>\n",
       "      <td>Tamil_Nadu</td>\n",
       "      <td>1.0</td>\n",
       "    </tr>\n",
       "    <tr>\n",
       "      <th>2</th>\n",
       "      <td>5021070</td>\n",
       "      <td>47</td>\n",
       "      <td>20</td>\n",
       "      <td>1</td>\n",
       "      <td>0</td>\n",
       "      <td>Magistrate</td>\n",
       "      <td>Khammam</td>\n",
       "      <td>Telangana</td>\n",
       "      <td>1.0</td>\n",
       "    </tr>\n",
       "    <tr>\n",
       "      <th>3</th>\n",
       "      <td>2824175</td>\n",
       "      <td>54</td>\n",
       "      <td>0</td>\n",
       "      <td>1</td>\n",
       "      <td>0</td>\n",
       "      <td>Chef</td>\n",
       "      <td>Serampore</td>\n",
       "      <td>West_Bengal</td>\n",
       "      <td>1.0</td>\n",
       "    </tr>\n",
       "    <tr>\n",
       "      <th>4</th>\n",
       "      <td>8790456</td>\n",
       "      <td>41</td>\n",
       "      <td>2</td>\n",
       "      <td>1</td>\n",
       "      <td>0</td>\n",
       "      <td>Designer</td>\n",
       "      <td>Tiruppur</td>\n",
       "      <td>Tamil_Nadu</td>\n",
       "      <td>1.0</td>\n",
       "    </tr>\n",
       "  </tbody>\n",
       "</table>\n",
       "</div>"
      ],
      "text/plain": [
       "    income  age  experience  marital_status  car_ownership  \\\n",
       "0  3278154   56          20               1              0   \n",
       "1  1315700   53           4               1              0   \n",
       "2  5021070   47          20               1              0   \n",
       "3  2824175   54           0               1              0   \n",
       "4  8790456   41           2               1              0   \n",
       "\n",
       "              profession         city          state  rented  \n",
       "0  Technology_specialist    Gorakhpur  Uttar_Pradesh     1.0  \n",
       "1         Civil_engineer  Thoothukudi     Tamil_Nadu     1.0  \n",
       "2             Magistrate      Khammam      Telangana     1.0  \n",
       "3                   Chef    Serampore    West_Bengal     1.0  \n",
       "4               Designer     Tiruppur     Tamil_Nadu     1.0  "
      ]
     },
     "execution_count": 4,
     "metadata": {},
     "output_type": "execute_result"
    }
   ],
   "source": [
    "x_train.head()"
   ]
  },
  {
   "cell_type": "markdown",
   "metadata": {},
   "source": [
    "# 2. Performance of Base Random Forest Classifier"
   ]
  },
  {
   "cell_type": "code",
   "execution_count": 5,
   "metadata": {
    "execution": {
     "iopub.execute_input": "2021-11-07T13:47:48.051178Z",
     "iopub.status.busy": "2021-11-07T13:47:48.050803Z",
     "iopub.status.idle": "2021-11-07T13:47:48.063444Z",
     "shell.execute_reply": "2021-11-07T13:47:48.062308Z",
     "shell.execute_reply.started": "2021-11-07T13:47:48.051144Z"
    }
   },
   "outputs": [],
   "source": [
    "from imblearn.pipeline import Pipeline\n",
    "from sklearn.model_selection import StratifiedKFold, GridSearchCV, cross_validate\n",
    "from sklearn.compose import ColumnTransformer\n",
    "\n",
    "def cv_evaluate_model(rf_clf):\n",
    "    smote_sampler = SMOTE(random_state=2021)\n",
    "    te_features = ['profession', 'city','state']\n",
    "    scale_features = ['income','age','experience']\n",
    "\n",
    "    preprocessor = ColumnTransformer(transformers=[('te_features', TargetEncoder(), te_features),\n",
    "                                                    ('scale_features', MinMaxScaler(), scale_features)])\n",
    "\n",
    "    pipeline = Pipeline(steps = [['preprocessor', preprocessor ],\n",
    "                                 ['smote', SMOTE(random_state=2021)],\n",
    "                                 ['classifier', rf_clf]\n",
    "                                ])\n",
    "    \n",
    "    stratified_kfold = StratifiedKFold(shuffle=True, n_splits=3, random_state=2021)\n",
    "\n",
    "    scoring = {\"recall\": 'recall',\n",
    "               \"fbeta_2\": make_scorer(fbeta_score, beta=2),\n",
    "               \"roc_auc\": make_scorer(roc_auc_score),\n",
    "              }\n",
    "\n",
    "    scores = cross_validate(pipeline, x_train, y_train.values.ravel(), cv=stratified_kfold,\n",
    "                           scoring = scoring)\n",
    "\n",
    "    recall = [ val for val in scores['test_recall'] ]\n",
    "    fbeta_2 = [ val for val in scores['test_fbeta_2'] ]\n",
    "    auc = [ val for val in scores['test_roc_auc'] ]\n",
    "    recall.append( sum(recall) / len(recall) )\n",
    "    fbeta_2.append( sum(fbeta_2) / len(fbeta_2) )\n",
    "    auc.append( sum(auc) / len(auc) )\n",
    "\n",
    "    score_df = pd.DataFrame(data=[recall, fbeta_2, auc], columns=['Fold 1','Fold 2','Fold 3', 'Average'],\n",
    "                            index=['Recall','Fbeta2','AUC'])\n",
    "    return score_df"
   ]
  },
  {
   "cell_type": "code",
   "execution_count": 6,
   "metadata": {
    "execution": {
     "iopub.execute_input": "2021-11-07T13:47:48.065587Z",
     "iopub.status.busy": "2021-11-07T13:47:48.065333Z",
     "iopub.status.idle": "2021-11-07T13:49:42.630022Z",
     "shell.execute_reply": "2021-11-07T13:49:42.629198Z",
     "shell.execute_reply.started": "2021-11-07T13:47:48.065558Z"
    }
   },
   "outputs": [
    {
     "data": {
      "text/html": [
       "<div>\n",
       "<style scoped>\n",
       "    .dataframe tbody tr th:only-of-type {\n",
       "        vertical-align: middle;\n",
       "    }\n",
       "\n",
       "    .dataframe tbody tr th {\n",
       "        vertical-align: top;\n",
       "    }\n",
       "\n",
       "    .dataframe thead th {\n",
       "        text-align: right;\n",
       "    }\n",
       "</style>\n",
       "<table border=\"1\" class=\"dataframe\">\n",
       "  <thead>\n",
       "    <tr style=\"text-align: right;\">\n",
       "      <th></th>\n",
       "      <th>Fold 1</th>\n",
       "      <th>Fold 2</th>\n",
       "      <th>Fold 3</th>\n",
       "      <th>Average</th>\n",
       "    </tr>\n",
       "  </thead>\n",
       "  <tbody>\n",
       "    <tr>\n",
       "      <th>Recall</th>\n",
       "      <td>0.842105</td>\n",
       "      <td>0.846359</td>\n",
       "      <td>0.838858</td>\n",
       "      <td>0.842441</td>\n",
       "    </tr>\n",
       "    <tr>\n",
       "      <th>Fbeta2</th>\n",
       "      <td>0.731677</td>\n",
       "      <td>0.734642</td>\n",
       "      <td>0.731034</td>\n",
       "      <td>0.732451</td>\n",
       "    </tr>\n",
       "    <tr>\n",
       "      <th>AUC</th>\n",
       "      <td>0.857067</td>\n",
       "      <td>0.859082</td>\n",
       "      <td>0.856409</td>\n",
       "      <td>0.857519</td>\n",
       "    </tr>\n",
       "  </tbody>\n",
       "</table>\n",
       "</div>"
      ],
      "text/plain": [
       "          Fold 1    Fold 2    Fold 3   Average\n",
       "Recall  0.842105  0.846359  0.838858  0.842441\n",
       "Fbeta2  0.731677  0.734642  0.731034  0.732451\n",
       "AUC     0.857067  0.859082  0.856409  0.857519"
      ]
     },
     "metadata": {},
     "output_type": "display_data"
    }
   ],
   "source": [
    "base_rf_clf = DecisionTreeClassifier(random_state=2021)\n",
    "results_base = cv_evaluate_model(base_rf_clf)\n",
    "display(results_base)"
   ]
  },
  {
   "cell_type": "markdown",
   "metadata": {},
   "source": [
    "# 3. Hyper parameter tuning with GridSearch"
   ]
  },
  {
   "cell_type": "markdown",
   "metadata": {},
   "source": [
    "## 3.1 Conducting Grid Search 1"
   ]
  },
  {
   "cell_type": "code",
   "execution_count": 9,
   "metadata": {
    "execution": {
     "iopub.execute_input": "2021-11-07T13:49:42.631540Z",
     "iopub.status.busy": "2021-11-07T13:49:42.631292Z",
     "iopub.status.idle": "2021-11-07T13:49:42.640382Z",
     "shell.execute_reply": "2021-11-07T13:49:42.639821Z",
     "shell.execute_reply.started": "2021-11-07T13:49:42.631511Z"
    }
   },
   "outputs": [
    {
     "name": "stdout",
     "output_type": "stream",
     "text": [
      "classifier__max_depth [None, 2, 8, 32]\n",
      "classifier__min_samples_split [2, 10, 20, 30, 40]\n",
      "classifier__min_samples_leaf [1, 10, 20]\n",
      "classifier__max_features [None, 2, 4, 6]\n",
      "-----------------\n",
      "Total combinations: 240\n"
     ]
    }
   ],
   "source": [
    "# Creating parameter grid to search\n",
    "max_depth = [None, 2, 8, 32]\n",
    "\n",
    "min_samples_split = [2, 10, 20, 30, 40]\n",
    "\n",
    "min_samples_leaf = [1, 10, 20]\n",
    "\n",
    "max_features = [None, 2, 4, 6]\n",
    "\n",
    "params_grid = {\n",
    "                'classifier__max_depth': max_depth,\n",
    "                'classifier__min_samples_split': min_samples_split,\n",
    "                'classifier__min_samples_leaf': min_samples_leaf,\n",
    "                'classifier__max_features': max_features\n",
    "              }\n",
    "\n",
    "total_combi = 1\n",
    "for param, value in params_grid.items():\n",
    "    print(param, value)\n",
    "    total_combi *= len(value)\n",
    "\n",
    "print('-----------------')\n",
    "print('Total combinations:', total_combi)"
   ]
  },
  {
   "cell_type": "code",
   "execution_count": 10,
   "metadata": {
    "execution": {
     "iopub.execute_input": "2021-11-07T13:49:42.641781Z",
     "iopub.status.busy": "2021-11-07T13:49:42.641431Z",
     "iopub.status.idle": "2021-11-07T13:49:42.659322Z",
     "shell.execute_reply": "2021-11-07T13:49:42.658576Z",
     "shell.execute_reply.started": "2021-11-07T13:49:42.641752Z"
    }
   },
   "outputs": [
    {
     "name": "stdout",
     "output_type": "stream",
     "text": [
      "{'classifier__max_depth': None, 'classifier__max_features': 4, 'classifier__min_samples_leaf': 10, 'classifier__min_samples_split': 30}\n"
     ]
    }
   ],
   "source": [
    "# conduct gridsearch 1\n",
    "te_features = ['profession', 'city','state']\n",
    "scale_features = ['income','age','experience']\n",
    "\n",
    "preprocessor = ColumnTransformer(transformers=[('te_features', TargetEncoder(), te_features),\n",
    "                                                ('scale_features', MinMaxScaler(), scale_features)])\n",
    "\n",
    "pipeline = Pipeline(steps = [['preprocessor', preprocessor ],\n",
    "                             ['smote', SMOTE(random_state=2021)],\n",
    "                             ['classifier', DecisionTreeClassifier(random_state=2021)]\n",
    "                            ])\n",
    "\n",
    "stratified_kfold = StratifiedKFold(shuffle=True, n_splits=3, random_state=2021)\n",
    "\n",
    "\n",
    "rf_gridsearch = GridSearchCV(estimator = pipeline,\n",
    "                           param_grid = params_grid,\n",
    "                           scoring = 'recall',\n",
    "                           cv = stratified_kfold,\n",
    "                           refit = True,\n",
    "                           n_jobs = -1)\n",
    "\n",
    "rf_gridsearch.fit( x_train, y_train.values.ravel() )\n",
    "best_parameters = rf_gridsearch.best_params_\n",
    "print(best_parameters)"
   ]
  },
  {
   "cell_type": "code",
   "execution_count": 7,
   "metadata": {
    "execution": {
     "iopub.execute_input": "2021-11-07T13:49:42.661069Z",
     "iopub.status.busy": "2021-11-07T13:49:42.660821Z",
     "iopub.status.idle": "2021-11-07T13:51:17.734397Z",
     "shell.execute_reply": "2021-11-07T13:51:17.733480Z",
     "shell.execute_reply.started": "2021-11-07T13:49:42.661039Z"
    }
   },
   "outputs": [
    {
     "data": {
      "text/html": [
       "<div>\n",
       "<style scoped>\n",
       "    .dataframe tbody tr th:only-of-type {\n",
       "        vertical-align: middle;\n",
       "    }\n",
       "\n",
       "    .dataframe tbody tr th {\n",
       "        vertical-align: top;\n",
       "    }\n",
       "\n",
       "    .dataframe thead th {\n",
       "        text-align: right;\n",
       "    }\n",
       "</style>\n",
       "<table border=\"1\" class=\"dataframe\">\n",
       "  <thead>\n",
       "    <tr style=\"text-align: right;\">\n",
       "      <th></th>\n",
       "      <th>Fold 1</th>\n",
       "      <th>Fold 2</th>\n",
       "      <th>Fold 3</th>\n",
       "      <th>Average</th>\n",
       "    </tr>\n",
       "  </thead>\n",
       "  <tbody>\n",
       "    <tr>\n",
       "      <th>Recall</th>\n",
       "      <td>0.851059</td>\n",
       "      <td>0.848778</td>\n",
       "      <td>0.844907</td>\n",
       "      <td>0.848248</td>\n",
       "    </tr>\n",
       "    <tr>\n",
       "      <th>Fbeta2</th>\n",
       "      <td>0.732983</td>\n",
       "      <td>0.733891</td>\n",
       "      <td>0.731815</td>\n",
       "      <td>0.732896</td>\n",
       "    </tr>\n",
       "    <tr>\n",
       "      <th>AUC</th>\n",
       "      <td>0.858608</td>\n",
       "      <td>0.858892</td>\n",
       "      <td>0.857389</td>\n",
       "      <td>0.858296</td>\n",
       "    </tr>\n",
       "  </tbody>\n",
       "</table>\n",
       "</div>"
      ],
      "text/plain": [
       "          Fold 1    Fold 2    Fold 3   Average\n",
       "Recall  0.851059  0.848778  0.844907  0.848248\n",
       "Fbeta2  0.732983  0.733891  0.731815  0.732896\n",
       "AUC     0.858608  0.858892  0.857389  0.858296"
      ]
     },
     "metadata": {},
     "output_type": "display_data"
    }
   ],
   "source": [
    "# classifier trained on the latest hyper parameters\n",
    "rf_clf2 = DecisionTreeClassifier(max_depth = None, max_features =4, min_samples_leaf=10, min_samples_split = 30, random_state=2021)\n",
    "\n",
    "results_gs1 = cv_evaluate_model(rf_clf2)\n",
    "display(results_gs1)"
   ]
  },
  {
   "cell_type": "markdown",
   "metadata": {},
   "source": [
    "## 3.2 Second GridSearchCV\n",
    "This second parameter search space aims to narrow down the search space based on the results obtained in the first grid search.\n",
    "\n",
    "**Previous parameter search space:**\n",
    "- classifier__max_depth [None, 2, 8, 32]\n",
    "- classifier__min_samples_split [2, 10, 20, 30, 40]\n",
    "- classifier__min_samples_leaf [1, 10, 20]\n",
    "- classifier__max_features [None, 2, 4, 6]\n",
    "\n",
    "**Obtained results:**\n",
    "\n",
    "| Feature           | Value | New search space |\n",
    "|-------------------|:-----:|------------|\n",
    "|classifier__max_depth|None| [None, 64]\n",
    "|classifier__min_samples_split| 30 |range(21,40)\n",
    "|classifier__min_samples_leaf| 10 | range(8,12)\n",
    "|classifier__max_features| 4 | [3,4,5]"
   ]
  },
  {
   "cell_type": "code",
   "execution_count": 16,
   "metadata": {
    "execution": {
     "iopub.execute_input": "2021-11-07T13:53:02.808554Z",
     "iopub.status.busy": "2021-11-07T13:53:02.808221Z",
     "iopub.status.idle": "2021-11-07T13:53:02.818115Z",
     "shell.execute_reply": "2021-11-07T13:53:02.817053Z",
     "shell.execute_reply.started": "2021-11-07T13:53:02.808513Z"
    }
   },
   "outputs": [
    {
     "name": "stdout",
     "output_type": "stream",
     "text": [
      "classifier__max_depth [None, 64]\n",
      "classifier__min_samples_split range(21, 40, 2)\n",
      "classifier__min_samples_leaf range(8, 12)\n",
      "classifier__max_features [3, 4, 5]\n",
      "-----------------\n",
      "Total combinations: 240\n"
     ]
    }
   ],
   "source": [
    "# Creating parameter grid to search\n",
    "\n",
    "max_depth = [None, 64]\n",
    "\n",
    "min_samples_split = range(21,40 ,2)\n",
    "\n",
    "min_samples_leaf = range(8,12)\n",
    "\n",
    "max_features = [3, 4, 5]\n",
    "\n",
    "params_grid = {\n",
    "                'classifier__max_depth': max_depth,\n",
    "                'classifier__min_samples_split': min_samples_split,\n",
    "                'classifier__min_samples_leaf': min_samples_leaf,\n",
    "                'classifier__max_features': max_features\n",
    "              }\n",
    "\n",
    "total_combi = 1\n",
    "for param, value in params_grid.items():\n",
    "    print(param, value)\n",
    "    total_combi *= len(value)\n",
    "\n",
    "print('-----------------')\n",
    "print('Total combinations:', total_combi)"
   ]
  },
  {
   "cell_type": "code",
   "execution_count": 17,
   "metadata": {},
   "outputs": [
    {
     "name": "stdout",
     "output_type": "stream",
     "text": [
      "{'classifier__max_depth': None, 'classifier__max_features': 3, 'classifier__min_samples_leaf': 9, 'classifier__min_samples_split': 25}\n"
     ]
    }
   ],
   "source": [
    "# conduct gridsearch 2\n",
    "te_features = ['profession', 'city','state']\n",
    "scale_features = ['income','age','experience']\n",
    "\n",
    "preprocessor = ColumnTransformer(transformers=[('te_features', TargetEncoder(), te_features),\n",
    "                                                ('scale_features', MinMaxScaler(), scale_features)])\n",
    "\n",
    "pipeline = Pipeline(steps = [['preprocessor', preprocessor ],\n",
    "                             ['smote', SMOTE(random_state=2021)],\n",
    "                             ['classifier', DecisionTreeClassifier(random_state=2021)]\n",
    "                            ])\n",
    "\n",
    "stratified_kfold = StratifiedKFold(shuffle=True, n_splits=3, random_state=2021)\n",
    "\n",
    "\n",
    "rf_gridsearch = GridSearchCV(estimator = pipeline,\n",
    "                           param_grid = params_grid,\n",
    "                           scoring = 'recall',\n",
    "                           cv = stratified_kfold,\n",
    "                           refit = True,\n",
    "                           n_jobs = -1)\n",
    "\n",
    "rf_gridsearch.fit( x_train, y_train.values.ravel() )\n",
    "best_parameters = rf_gridsearch.best_params_\n",
    "print(best_parameters)"
   ]
  },
  {
   "cell_type": "code",
   "execution_count": 8,
   "metadata": {},
   "outputs": [
    {
     "data": {
      "text/html": [
       "<div>\n",
       "<style scoped>\n",
       "    .dataframe tbody tr th:only-of-type {\n",
       "        vertical-align: middle;\n",
       "    }\n",
       "\n",
       "    .dataframe tbody tr th {\n",
       "        vertical-align: top;\n",
       "    }\n",
       "\n",
       "    .dataframe thead th {\n",
       "        text-align: right;\n",
       "    }\n",
       "</style>\n",
       "<table border=\"1\" class=\"dataframe\">\n",
       "  <thead>\n",
       "    <tr style=\"text-align: right;\">\n",
       "      <th></th>\n",
       "      <th>Fold 1</th>\n",
       "      <th>Fold 2</th>\n",
       "      <th>Fold 3</th>\n",
       "      <th>Average</th>\n",
       "    </tr>\n",
       "  </thead>\n",
       "  <tbody>\n",
       "    <tr>\n",
       "      <th>Recall</th>\n",
       "      <td>0.851422</td>\n",
       "      <td>0.850472</td>\n",
       "      <td>0.853012</td>\n",
       "      <td>0.851635</td>\n",
       "    </tr>\n",
       "    <tr>\n",
       "      <th>Fbeta2</th>\n",
       "      <td>0.734045</td>\n",
       "      <td>0.733897</td>\n",
       "      <td>0.732328</td>\n",
       "      <td>0.733423</td>\n",
       "    </tr>\n",
       "    <tr>\n",
       "      <th>AUC</th>\n",
       "      <td>0.859231</td>\n",
       "      <td>0.859052</td>\n",
       "      <td>0.858413</td>\n",
       "      <td>0.858899</td>\n",
       "    </tr>\n",
       "  </tbody>\n",
       "</table>\n",
       "</div>"
      ],
      "text/plain": [
       "          Fold 1    Fold 2    Fold 3   Average\n",
       "Recall  0.851422  0.850472  0.853012  0.851635\n",
       "Fbeta2  0.734045  0.733897  0.732328  0.733423\n",
       "AUC     0.859231  0.859052  0.858413  0.858899"
      ]
     },
     "metadata": {},
     "output_type": "display_data"
    }
   ],
   "source": [
    "# classifier trained on the latest hyper parameters\n",
    "rf_clf2 = DecisionTreeClassifier(max_depth = None, max_features =3, min_samples_leaf=9, min_samples_split = 25, random_state=2021)\n",
    "\n",
    "results_gs1 = cv_evaluate_model(rf_clf2)\n",
    "display(results_gs1)"
   ]
  },
  {
   "cell_type": "code",
   "execution_count": null,
   "metadata": {},
   "outputs": [],
   "source": []
  }
 ],
 "metadata": {
  "kernelspec": {
   "display_name": "Python 3",
   "language": "python",
   "name": "python3"
  },
  "language_info": {
   "codemirror_mode": {
    "name": "ipython",
    "version": 3
   },
   "file_extension": ".py",
   "mimetype": "text/x-python",
   "name": "python",
   "nbconvert_exporter": "python",
   "pygments_lexer": "ipython3",
   "version": "3.7.3"
  }
 },
 "nbformat": 4,
 "nbformat_minor": 4
}
