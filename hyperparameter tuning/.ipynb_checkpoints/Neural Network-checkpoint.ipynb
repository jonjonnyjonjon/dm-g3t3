{
 "cells": [
  {
   "cell_type": "markdown",
   "id": "1151dbd7",
   "metadata": {},
   "source": [
    "# IS424: Data Mining & Biz Analytics\n",
    "### Team: G3T3\n",
    "### Project: Predicting Loan Default based on Customer Profile\n",
    "### Model selection: <font color='#0041C2'>Neural Network</font>\n",
    "---"
   ]
  },
  {
   "cell_type": "markdown",
   "id": "2ee8d555",
   "metadata": {},
   "source": [
    "# 1. Setting up the notebook"
   ]
  },
  {
   "cell_type": "code",
   "execution_count": 2,
   "id": "aa4bc0a5",
   "metadata": {
    "execution": {
     "iopub.execute_input": "2021-11-07T06:16:28.141516Z",
     "iopub.status.busy": "2021-11-07T06:16:28.139228Z",
     "iopub.status.idle": "2021-11-07T06:16:34.461717Z",
     "shell.execute_reply": "2021-11-07T06:16:34.460747Z",
     "shell.execute_reply.started": "2021-11-07T02:36:57.440611Z"
    },
    "papermill": {
     "duration": 6.332587,
     "end_time": "2021-11-07T06:16:34.461860",
     "exception": false,
     "start_time": "2021-11-07T06:16:28.129273",
     "status": "completed"
    },
    "tags": []
   },
   "outputs": [],
   "source": [
    "import pandas as pd\n",
    "import numpy as np\n",
    "\n",
    "from sklearn.preprocessing import LabelEncoder\n",
    "from sklearn.preprocessing import OneHotEncoder\n",
    "from category_encoders import TargetEncoder\n",
    "from sklearn.preprocessing import MinMaxScaler\n",
    "from imblearn.over_sampling import SMOTE\n",
    "\n",
    "from sklearn.metrics import recall_score, fbeta_score, roc_auc_score, make_scorer\n",
    "from sklearn.model_selection import train_test_split, cross_val_score, StratifiedKFold, GridSearchCV\n",
    "\n",
    "import tensorflow as tf\n",
    "tf.autograph.set_verbosity(0)\n",
    "from tensorflow.keras.models import Sequential\n",
    "from tensorflow.keras.layers import Dense\n",
    "from tensorflow.keras.utils import to_categorical\n",
    "from tensorflow.keras.metrics import Recall, AUC, Precision\n",
    "from tensorflow.keras.callbacks import EarlyStopping\n",
    "from tensorflow.keras.optimizers import Adam\n",
    "import tensorflow_addons as tfa\n",
    "\n",
    "tf.get_logger().setLevel(\"INFO\")"
   ]
  },
  {
   "cell_type": "code",
   "execution_count": null,
   "id": "2a6c8822",
   "metadata": {},
   "outputs": [],
   "source": [
    "df_train = pd.read_csv(\"../dataset/train.csv\")\n",
    "\n",
    "y_train = df_train[[\"risk_flag\"]]\n",
    "x_train = df_train.drop(\"risk_flag\", axis=1)"
   ]
  },
  {
   "cell_type": "code",
   "execution_count": 3,
   "id": "6a83c051",
   "metadata": {
    "execution": {
     "iopub.execute_input": "2021-11-07T06:16:34.489324Z",
     "iopub.status.busy": "2021-11-07T06:16:34.488709Z",
     "iopub.status.idle": "2021-11-07T06:16:36.061325Z",
     "shell.execute_reply": "2021-11-07T06:16:36.060840Z",
     "shell.execute_reply.started": "2021-11-07T01:48:53.548078Z"
    },
    "papermill": {
     "duration": 1.593816,
     "end_time": "2021-11-07T06:16:36.061473",
     "exception": false,
     "start_time": "2021-11-07T06:16:34.467657",
     "status": "completed"
    },
    "tags": []
   },
   "outputs": [
    {
     "name": "stderr",
     "output_type": "stream",
     "text": [
      "/opt/conda/lib/python3.7/site-packages/category_encoders/utils.py:21: FutureWarning: is_categorical is deprecated and will be removed in a future version.  Use is_categorical_dtype instead\n",
      "  elif pd.api.types.is_categorical(cols):\n"
     ]
    }
   ],
   "source": [
    "def target_encoding(df_x, df_y):\n",
    "    x = df_x.copy()\n",
    "    \n",
    "    # Target Encoding — categorical columns with high cardinality: profession, city, state\n",
    "    profession_target_enc = TargetEncoder()\n",
    "    x[\"profession_encoded\"] = profession_target_enc.fit_transform(x[\"profession\"], df_y)\n",
    "    \n",
    "    city_target_enc = TargetEncoder()\n",
    "    x[\"city_encoded\"] = city_target_enc.fit_transform(x[\"city\"], df_y)\n",
    "    \n",
    "    state_target_enc = TargetEncoder()\n",
    "    x[\"state_encoded\"] = state_target_enc.fit_transform(x[\"state\"], df_y)\n",
    "    \n",
    "    x.drop(\"profession\", axis=1, inplace=True)\n",
    "    x.drop(\"city\", axis=1, inplace=True)\n",
    "    x.drop(\"state\", axis=1, inplace=True)\n",
    "    return x\n",
    "\n",
    "scale_features = ['income','age','experience']\n",
    "x_train = target_encoding(x_train, y_train)\n",
    "\n",
    "scaler = MinMaxScaler()\n",
    "x_train[scale_features] = scaler.fit_transform(x_train[scale_features])"
   ]
  },
  {
   "cell_type": "markdown",
   "id": "1af0fee1",
   "metadata": {},
   "source": [
    "# 2. Running base model"
   ]
  },
  {
   "cell_type": "code",
   "execution_count": 4,
   "id": "0239da4a",
   "metadata": {
    "execution": {
     "iopub.execute_input": "2021-11-07T06:16:36.087853Z",
     "iopub.status.busy": "2021-11-07T06:16:36.086919Z",
     "iopub.status.idle": "2021-11-07T06:28:37.143029Z",
     "shell.execute_reply": "2021-11-07T06:28:37.145813Z",
     "shell.execute_reply.started": "2021-11-07T01:48:54.903198Z"
    },
    "papermill": {
     "duration": 721.078455,
     "end_time": "2021-11-07T06:28:37.146264",
     "exception": false,
     "start_time": "2021-11-07T06:16:36.067809",
     "status": "completed"
    },
    "tags": []
   },
   "outputs": [
    {
     "name": "stderr",
     "output_type": "stream",
     "text": [
      "2021-11-07 06:16:36.190499: I tensorflow/stream_executor/cuda/cuda_gpu_executor.cc:937] successful NUMA node read from SysFS had negative value (-1), but there must be at least one NUMA node, so returning NUMA node zero\n",
      "2021-11-07 06:16:36.292594: I tensorflow/stream_executor/cuda/cuda_gpu_executor.cc:937] successful NUMA node read from SysFS had negative value (-1), but there must be at least one NUMA node, so returning NUMA node zero\n",
      "2021-11-07 06:16:36.293295: I tensorflow/stream_executor/cuda/cuda_gpu_executor.cc:937] successful NUMA node read from SysFS had negative value (-1), but there must be at least one NUMA node, so returning NUMA node zero\n",
      "2021-11-07 06:16:36.295085: I tensorflow/core/platform/cpu_feature_guard.cc:142] This TensorFlow binary is optimized with oneAPI Deep Neural Network Library (oneDNN) to use the following CPU instructions in performance-critical operations:  AVX2 AVX512F FMA\n",
      "To enable them in other operations, rebuild TensorFlow with the appropriate compiler flags.\n",
      "2021-11-07 06:16:36.296116: I tensorflow/stream_executor/cuda/cuda_gpu_executor.cc:937] successful NUMA node read from SysFS had negative value (-1), but there must be at least one NUMA node, so returning NUMA node zero\n",
      "2021-11-07 06:16:36.296774: I tensorflow/stream_executor/cuda/cuda_gpu_executor.cc:937] successful NUMA node read from SysFS had negative value (-1), but there must be at least one NUMA node, so returning NUMA node zero\n",
      "2021-11-07 06:16:36.297380: I tensorflow/stream_executor/cuda/cuda_gpu_executor.cc:937] successful NUMA node read from SysFS had negative value (-1), but there must be at least one NUMA node, so returning NUMA node zero\n",
      "2021-11-07 06:16:38.082100: I tensorflow/stream_executor/cuda/cuda_gpu_executor.cc:937] successful NUMA node read from SysFS had negative value (-1), but there must be at least one NUMA node, so returning NUMA node zero\n",
      "2021-11-07 06:16:38.082910: I tensorflow/stream_executor/cuda/cuda_gpu_executor.cc:937] successful NUMA node read from SysFS had negative value (-1), but there must be at least one NUMA node, so returning NUMA node zero\n",
      "2021-11-07 06:16:38.083664: I tensorflow/stream_executor/cuda/cuda_gpu_executor.cc:937] successful NUMA node read from SysFS had negative value (-1), but there must be at least one NUMA node, so returning NUMA node zero\n",
      "2021-11-07 06:16:38.084330: I tensorflow/core/common_runtime/gpu/gpu_device.cc:1510] Created device /job:localhost/replica:0/task:0/device:GPU:0 with 15403 MB memory:  -> device: 0, name: Tesla P100-PCIE-16GB, pci bus id: 0000:00:04.0, compute capability: 6.0\n",
      "2021-11-07 06:16:38.552511: I tensorflow/compiler/mlir/mlir_graph_optimization_pass.cc:185] None of the MLIR Optimization Passes are enabled (registered 2)\n"
     ]
    }
   ],
   "source": [
    "# https://towardsdatascience.com/simple-guide-to-hyperparameter-tuning-in-neural-networks-3fe03dad8594\n",
    "# https://medium.com/octavian-ai/which-optimizer-and-learning-rate-should-i-use-for-deep-learning-5acb418f9b2\n",
    "skf = StratifiedKFold(shuffle=True, n_splits=3, random_state=2021)\n",
    "\n",
    "def create_run_model(lr, bs, x_train, y_train, x_val, y_val):\n",
    "    model = Sequential()\n",
    "    model.add(Dense(120, input_shape=(9,), activation=\"relu\"))\n",
    "    model.add(Dense(120, activation=\"relu\"))\n",
    "    model.add(Dense(120, activation=\"relu\"))\n",
    "    model.add(Dense(2, activation=\"softmax\"))\n",
    "\n",
    "    model.compile(loss='binary_crossentropy', \n",
    "                  optimizer=Adam(learning_rate=lr), \n",
    "                  metrics=[\"accuracy\", Recall(), tfa.metrics.FBetaScore(num_classes=2, beta=2.0), AUC()])\n",
    "\n",
    "    y_train = to_categorical(y_train, 2)\n",
    "    y_val = to_categorical(y_val, 2)\n",
    "    \n",
    "    es = EarlyStopping(monitor=\"loss\", patience=5, min_delta=0.001)\n",
    "    model_fit = model.fit(x_train, y_train, epochs=5, batch_size=bs, verbose=0, callbacks=[es])\n",
    "    result = model.evaluate(x_val, y_val, verbose=0)\n",
    "    \n",
    "    return result\n",
    "\n",
    "# https://stats.stackexchange.com/questions/164876/what-is-the-trade-off-between-batch-size-and-number-of-iterations-to-train-a-neu\n",
    "# https://towardsdatascience.com/optimizers-for-training-neural-network-59450d71caf6\n",
    "# https://machinelearningmastery.com/choose-an-activation-function-for-deep-learning/\n",
    "# https://towardsdatascience.com/simple-guide-to-hyperparameter-tuning-in-neural-networks-3fe03dad8594\n",
    "\n",
    "learning_rates = [0.01, 0.001]\n",
    "batch_sizes = [32, 64, 128]\n",
    "scores = []\n",
    "variations = []\n",
    "\n",
    "for train, val in skf.split(x_train, y_train):\n",
    "    fold_scores = []\n",
    "    for lr in learning_rates:\n",
    "        for bs in batch_sizes:\n",
    "            result = create_run_model(lr, bs, x_train.iloc[train], y_train.iloc[train], x_train.iloc[val], y_train.iloc[val])\n",
    "            fold_scores.append(result)\n",
    "            variation = \"adam(\" + str(lr) + \") bs=\" + str(bs)\n",
    "            if variation not in variations:\n",
    "                variations.append(variation)\n",
    "    scores.append(fold_scores)\n",
    "    \n",
    "# fold 1 - adam(0.01) 32 | adam(0.01) 64 | adam(0.01) 128 | adam(0.001) 32 | adam(0.001) 64 | adam(0.001) 128\n",
    "# fold 2 - adam(0.01) 32 | adam(0.01) 64 | adam(0.01) 128 | adam(0.001) 32 | adam(0.001) 64 | adam(0.001) 128\n",
    "# fold 3 - adam(0.01) 32 | adam(0.01) 64 | adam(0.01) 128 | adam(0.001) 32 | adam(0.001) 64 | adam(0.001) 128"
   ]
  },
  {
   "cell_type": "code",
   "execution_count": 5,
   "id": "1d3e9aa6",
   "metadata": {
    "execution": {
     "iopub.execute_input": "2021-11-07T06:28:37.183735Z",
     "iopub.status.busy": "2021-11-07T06:28:37.182933Z",
     "iopub.status.idle": "2021-11-07T06:28:37.187949Z",
     "shell.execute_reply": "2021-11-07T06:28:37.189752Z"
    },
    "papermill": {
     "duration": 0.029844,
     "end_time": "2021-11-07T06:28:37.189918",
     "exception": false,
     "start_time": "2021-11-07T06:28:37.160074",
     "status": "completed"
    },
    "tags": []
   },
   "outputs": [
    {
     "name": "stdout",
     "output_type": "stream",
     "text": [
      "[[[0.37159276008605957, 0.8770089149475098, 0.8770089149475098, array([0.97271734, 0.        ], dtype=float32), 0.8861415982246399], [0.37099289894104004, 0.8770089149475098, 0.8770089149475098, array([0.97271734, 0.        ], dtype=float32), 0.8870834112167358], [0.37097540497779846, 0.8770089149475098, 0.8770089149475098, array([0.97271734, 0.        ], dtype=float32), 0.8881771564483643], [0.3688647449016571, 0.8770089149475098, 0.8770089149475098, array([0.97271734, 0.        ], dtype=float32), 0.893013060092926], [0.3712023198604584, 0.8770089149475098, 0.8770089149475098, array([0.97271734, 0.        ], dtype=float32), 0.8920329809188843], [0.36946383118629456, 0.8770089149475098, 0.8770089149475098, array([0.97271734, 0.        ], dtype=float32), 0.8914708495140076]], [[0.37115901708602905, 0.8769940733909607, 0.8769940733909607, array([0.9727137, 0.       ], dtype=float32), 0.8887231349945068], [0.3718905448913574, 0.8769940733909607, 0.8769940733909607, array([0.9727137, 0.       ], dtype=float32), 0.885814368724823], [0.3707762658596039, 0.8769940733909607, 0.8769940733909607, array([0.9727137, 0.       ], dtype=float32), 0.8898800015449524], [0.36968132853507996, 0.8769940733909607, 0.8769940733909607, array([0.9727137, 0.       ], dtype=float32), 0.891528844833374], [0.3688812851905823, 0.8769940733909607, 0.8769940733909607, array([0.9727137, 0.       ], dtype=float32), 0.8928496241569519], [0.3702091574668884, 0.8769940733909607, 0.8769940733909607, array([0.9727137, 0.       ], dtype=float32), 0.8924585580825806]], [[0.3717290163040161, 0.8769940733909607, 0.8769940733909607, array([0.9727137, 0.       ], dtype=float32), 0.8847652077674866], [0.37187254428863525, 0.8769940733909607, 0.8769940733909607, array([0.9727137, 0.       ], dtype=float32), 0.885812520980835], [0.37229710817337036, 0.8769940733909607, 0.8769940733909607, array([0.9727137, 0.       ], dtype=float32), 0.8883557319641113], [0.3755826950073242, 0.8769791722297668, 0.8769791722297668, array([0.9727004, 0.       ], dtype=float32), 0.890747606754303], [0.3693825304508209, 0.8769940733909607, 0.8769940733909607, array([0.9727137, 0.       ], dtype=float32), 0.8924460411071777], [0.3707539439201355, 0.8769940733909607, 0.8769940733909607, array([0.9727137, 0.       ], dtype=float32), 0.8922131061553955]]]\n"
     ]
    }
   ],
   "source": [
    "print(scores)"
   ]
  },
  {
   "cell_type": "code",
   "execution_count": 6,
   "id": "1d52dce0",
   "metadata": {
    "execution": {
     "iopub.execute_input": "2021-11-07T06:28:37.226996Z",
     "iopub.status.busy": "2021-11-07T06:28:37.219972Z",
     "iopub.status.idle": "2021-11-07T06:28:37.296325Z",
     "shell.execute_reply": "2021-11-07T06:28:37.296827Z"
    },
    "papermill": {
     "duration": 0.091134,
     "end_time": "2021-11-07T06:28:37.296970",
     "exception": false,
     "start_time": "2021-11-07T06:28:37.205836",
     "status": "completed"
    },
    "tags": []
   },
   "outputs": [
    {
     "name": "stdout",
     "output_type": "stream",
     "text": [
      "{'Fold 1': [0.8770089149475098, 0.8770089149475098, 0.8770089149475098, 0.8770089149475098, 0.8770089149475098, 0.8770089149475098], 'Fold 2': [0.8769940733909607, 0.8769940733909607, 0.8769940733909607, 0.8769940733909607, 0.8769940733909607, 0.8769940733909607], 'Fold 3': [0.8769940733909607, 0.8769940733909607, 0.8769940733909607, 0.8769791722297668, 0.8769940733909607, 0.8769940733909607]}\n",
      "['adam(0.01) bs=32', 'adam(0.01) bs=64', 'adam(0.01) bs=128', 'adam(0.001) bs=32', 'adam(0.001) bs=64', 'adam(0.001) bs=128']\n",
      "\n",
      "===RECALL===\n"
     ]
    },
    {
     "data": {
      "text/html": [
       "<div>\n",
       "<style scoped>\n",
       "    .dataframe tbody tr th:only-of-type {\n",
       "        vertical-align: middle;\n",
       "    }\n",
       "\n",
       "    .dataframe tbody tr th {\n",
       "        vertical-align: top;\n",
       "    }\n",
       "\n",
       "    .dataframe thead th {\n",
       "        text-align: right;\n",
       "    }\n",
       "</style>\n",
       "<table border=\"1\" class=\"dataframe\">\n",
       "  <thead>\n",
       "    <tr style=\"text-align: right;\">\n",
       "      <th></th>\n",
       "      <th>Fold 1</th>\n",
       "      <th>Fold 2</th>\n",
       "      <th>Fold 3</th>\n",
       "      <th>Average</th>\n",
       "    </tr>\n",
       "  </thead>\n",
       "  <tbody>\n",
       "    <tr>\n",
       "      <th>adam(0.01) bs=32</th>\n",
       "      <td>0.877009</td>\n",
       "      <td>0.876994</td>\n",
       "      <td>0.876994</td>\n",
       "      <td>0.876999</td>\n",
       "    </tr>\n",
       "    <tr>\n",
       "      <th>adam(0.01) bs=64</th>\n",
       "      <td>0.877009</td>\n",
       "      <td>0.876994</td>\n",
       "      <td>0.876994</td>\n",
       "      <td>0.876999</td>\n",
       "    </tr>\n",
       "    <tr>\n",
       "      <th>adam(0.01) bs=128</th>\n",
       "      <td>0.877009</td>\n",
       "      <td>0.876994</td>\n",
       "      <td>0.876994</td>\n",
       "      <td>0.876999</td>\n",
       "    </tr>\n",
       "    <tr>\n",
       "      <th>adam(0.001) bs=32</th>\n",
       "      <td>0.877009</td>\n",
       "      <td>0.876994</td>\n",
       "      <td>0.876979</td>\n",
       "      <td>0.876994</td>\n",
       "    </tr>\n",
       "    <tr>\n",
       "      <th>adam(0.001) bs=64</th>\n",
       "      <td>0.877009</td>\n",
       "      <td>0.876994</td>\n",
       "      <td>0.876994</td>\n",
       "      <td>0.876999</td>\n",
       "    </tr>\n",
       "    <tr>\n",
       "      <th>adam(0.001) bs=128</th>\n",
       "      <td>0.877009</td>\n",
       "      <td>0.876994</td>\n",
       "      <td>0.876994</td>\n",
       "      <td>0.876999</td>\n",
       "    </tr>\n",
       "  </tbody>\n",
       "</table>\n",
       "</div>"
      ],
      "text/plain": [
       "                      Fold 1    Fold 2    Fold 3   Average\n",
       "adam(0.01) bs=32    0.877009  0.876994  0.876994  0.876999\n",
       "adam(0.01) bs=64    0.877009  0.876994  0.876994  0.876999\n",
       "adam(0.01) bs=128   0.877009  0.876994  0.876994  0.876999\n",
       "adam(0.001) bs=32   0.877009  0.876994  0.876979  0.876994\n",
       "adam(0.001) bs=64   0.877009  0.876994  0.876994  0.876999\n",
       "adam(0.001) bs=128  0.877009  0.876994  0.876994  0.876999"
      ]
     },
     "metadata": {},
     "output_type": "display_data"
    },
    {
     "name": "stdout",
     "output_type": "stream",
     "text": [
      "===FBETA===\n"
     ]
    },
    {
     "data": {
      "text/html": [
       "<div>\n",
       "<style scoped>\n",
       "    .dataframe tbody tr th:only-of-type {\n",
       "        vertical-align: middle;\n",
       "    }\n",
       "\n",
       "    .dataframe tbody tr th {\n",
       "        vertical-align: top;\n",
       "    }\n",
       "\n",
       "    .dataframe thead th {\n",
       "        text-align: right;\n",
       "    }\n",
       "</style>\n",
       "<table border=\"1\" class=\"dataframe\">\n",
       "  <thead>\n",
       "    <tr style=\"text-align: right;\">\n",
       "      <th></th>\n",
       "      <th>Fold 1</th>\n",
       "      <th>Fold 2</th>\n",
       "      <th>Fold 3</th>\n",
       "      <th>Average</th>\n",
       "    </tr>\n",
       "  </thead>\n",
       "  <tbody>\n",
       "    <tr>\n",
       "      <th>adam(0.01) bs=32</th>\n",
       "      <td>0.972717</td>\n",
       "      <td>0.972714</td>\n",
       "      <td>0.972714</td>\n",
       "      <td>0.972715</td>\n",
       "    </tr>\n",
       "    <tr>\n",
       "      <th>adam(0.01) bs=64</th>\n",
       "      <td>0.972717</td>\n",
       "      <td>0.972714</td>\n",
       "      <td>0.972714</td>\n",
       "      <td>0.972715</td>\n",
       "    </tr>\n",
       "    <tr>\n",
       "      <th>adam(0.01) bs=128</th>\n",
       "      <td>0.972717</td>\n",
       "      <td>0.972714</td>\n",
       "      <td>0.972714</td>\n",
       "      <td>0.972715</td>\n",
       "    </tr>\n",
       "    <tr>\n",
       "      <th>adam(0.001) bs=32</th>\n",
       "      <td>0.972717</td>\n",
       "      <td>0.972714</td>\n",
       "      <td>0.972700</td>\n",
       "      <td>0.972710</td>\n",
       "    </tr>\n",
       "    <tr>\n",
       "      <th>adam(0.001) bs=64</th>\n",
       "      <td>0.972717</td>\n",
       "      <td>0.972714</td>\n",
       "      <td>0.972714</td>\n",
       "      <td>0.972715</td>\n",
       "    </tr>\n",
       "    <tr>\n",
       "      <th>adam(0.001) bs=128</th>\n",
       "      <td>0.972717</td>\n",
       "      <td>0.972714</td>\n",
       "      <td>0.972714</td>\n",
       "      <td>0.972715</td>\n",
       "    </tr>\n",
       "  </tbody>\n",
       "</table>\n",
       "</div>"
      ],
      "text/plain": [
       "                      Fold 1    Fold 2    Fold 3   Average\n",
       "adam(0.01) bs=32    0.972717  0.972714  0.972714  0.972715\n",
       "adam(0.01) bs=64    0.972717  0.972714  0.972714  0.972715\n",
       "adam(0.01) bs=128   0.972717  0.972714  0.972714  0.972715\n",
       "adam(0.001) bs=32   0.972717  0.972714  0.972700  0.972710\n",
       "adam(0.001) bs=64   0.972717  0.972714  0.972714  0.972715\n",
       "adam(0.001) bs=128  0.972717  0.972714  0.972714  0.972715"
      ]
     },
     "metadata": {},
     "output_type": "display_data"
    },
    {
     "name": "stdout",
     "output_type": "stream",
     "text": [
      "===AUC===\n"
     ]
    },
    {
     "data": {
      "text/html": [
       "<div>\n",
       "<style scoped>\n",
       "    .dataframe tbody tr th:only-of-type {\n",
       "        vertical-align: middle;\n",
       "    }\n",
       "\n",
       "    .dataframe tbody tr th {\n",
       "        vertical-align: top;\n",
       "    }\n",
       "\n",
       "    .dataframe thead th {\n",
       "        text-align: right;\n",
       "    }\n",
       "</style>\n",
       "<table border=\"1\" class=\"dataframe\">\n",
       "  <thead>\n",
       "    <tr style=\"text-align: right;\">\n",
       "      <th></th>\n",
       "      <th>Fold 1</th>\n",
       "      <th>Fold 2</th>\n",
       "      <th>Fold 3</th>\n",
       "      <th>Average</th>\n",
       "    </tr>\n",
       "  </thead>\n",
       "  <tbody>\n",
       "    <tr>\n",
       "      <th>adam(0.01) bs=32</th>\n",
       "      <td>0.886142</td>\n",
       "      <td>0.888723</td>\n",
       "      <td>0.884765</td>\n",
       "      <td>0.886543</td>\n",
       "    </tr>\n",
       "    <tr>\n",
       "      <th>adam(0.01) bs=64</th>\n",
       "      <td>0.887083</td>\n",
       "      <td>0.885814</td>\n",
       "      <td>0.885813</td>\n",
       "      <td>0.886237</td>\n",
       "    </tr>\n",
       "    <tr>\n",
       "      <th>adam(0.01) bs=128</th>\n",
       "      <td>0.888177</td>\n",
       "      <td>0.889880</td>\n",
       "      <td>0.888356</td>\n",
       "      <td>0.888804</td>\n",
       "    </tr>\n",
       "    <tr>\n",
       "      <th>adam(0.001) bs=32</th>\n",
       "      <td>0.893013</td>\n",
       "      <td>0.891529</td>\n",
       "      <td>0.890748</td>\n",
       "      <td>0.891763</td>\n",
       "    </tr>\n",
       "    <tr>\n",
       "      <th>adam(0.001) bs=64</th>\n",
       "      <td>0.892033</td>\n",
       "      <td>0.892850</td>\n",
       "      <td>0.892446</td>\n",
       "      <td>0.892443</td>\n",
       "    </tr>\n",
       "    <tr>\n",
       "      <th>adam(0.001) bs=128</th>\n",
       "      <td>0.891471</td>\n",
       "      <td>0.892459</td>\n",
       "      <td>0.892213</td>\n",
       "      <td>0.892048</td>\n",
       "    </tr>\n",
       "  </tbody>\n",
       "</table>\n",
       "</div>"
      ],
      "text/plain": [
       "                      Fold 1    Fold 2    Fold 3   Average\n",
       "adam(0.01) bs=32    0.886142  0.888723  0.884765  0.886543\n",
       "adam(0.01) bs=64    0.887083  0.885814  0.885813  0.886237\n",
       "adam(0.01) bs=128   0.888177  0.889880  0.888356  0.888804\n",
       "adam(0.001) bs=32   0.893013  0.891529  0.890748  0.891763\n",
       "adam(0.001) bs=64   0.892033  0.892850  0.892446  0.892443\n",
       "adam(0.001) bs=128  0.891471  0.892459  0.892213  0.892048"
      ]
     },
     "metadata": {},
     "output_type": "display_data"
    }
   ],
   "source": [
    "loss = {}\n",
    "recall = {}\n",
    "fbeta_2 = {}\n",
    "auc = {}\n",
    "\n",
    "fold_no = 1\n",
    "\n",
    "for fold in scores:\n",
    "    temp_l = []\n",
    "    temp_r = []\n",
    "    temp_f = []\n",
    "    temp_a = []\n",
    "    \n",
    "    for variation in fold:\n",
    "        temp_l.append(variation[0])\n",
    "        temp_r.append(variation[2])\n",
    "        temp_f.append(variation[3][0])\n",
    "        temp_a.append(variation[4])\n",
    "\n",
    "    loss[\"Fold \" + str(fold_no)] = temp_l\n",
    "    recall[\"Fold \" + str(fold_no)] = temp_r\n",
    "    fbeta_2[\"Fold \" + str(fold_no)] = temp_f\n",
    "    auc[\"Fold \" + str(fold_no)] = temp_a\n",
    "    \n",
    "    fold_no += 1\n",
    "\n",
    "print(recall)\n",
    "print(variations)    \n",
    "loss[\"Average\"] = []\n",
    "recall[\"Average\"] = []\n",
    "fbeta_2[\"Average\"] = []\n",
    "auc[\"Average\"] = []\n",
    "\n",
    "for i in range(len(variations)):\n",
    "    loss[\"Average\"].append((loss[\"Fold 1\"][i] + loss[\"Fold 2\"][i] + loss[\"Fold 3\"][i]) / 3)\n",
    "    recall[\"Average\"].append((recall[\"Fold 1\"][i] + recall[\"Fold 2\"][i] + recall[\"Fold 3\"][i]) / 3)\n",
    "    fbeta_2[\"Average\"].append((fbeta_2[\"Fold 1\"][i] + fbeta_2[\"Fold 2\"][i] + fbeta_2[\"Fold 3\"][i]) / 3)\n",
    "    auc[\"Average\"].append((auc[\"Fold 1\"][i] + auc[\"Fold 2\"][i] + auc[\"Fold 3\"][i]) / 3)\n",
    "    \n",
    "print()\n",
    "print(\"===RECALL===\")\n",
    "score_df = pd.DataFrame(data=recall, index=variations)\n",
    "display(score_df)\n",
    "\n",
    "print(\"===FBETA===\")\n",
    "score_df = pd.DataFrame(data=fbeta_2, index=variations)\n",
    "display(score_df)\n",
    "\n",
    "print(\"===AUC===\")\n",
    "score_df = pd.DataFrame(data=auc, index=variations)\n",
    "display(score_df)"
   ]
  }
 ],
 "metadata": {
  "kernelspec": {
   "display_name": "Python 3 (ipykernel)",
   "language": "python",
   "name": "python3"
  },
  "language_info": {
   "codemirror_mode": {
    "name": "ipython",
    "version": 3
   },
   "file_extension": ".py",
   "mimetype": "text/x-python",
   "name": "python",
   "nbconvert_exporter": "python",
   "pygments_lexer": "ipython3",
   "version": "3.8.10"
  },
  "papermill": {
   "default_parameters": {},
   "duration": 739.596146,
   "end_time": "2021-11-07T06:28:40.100875",
   "environment_variables": {},
   "exception": null,
   "input_path": "__notebook__.ipynb",
   "output_path": "__notebook__.ipynb",
   "parameters": {},
   "start_time": "2021-11-07T06:16:20.504729",
   "version": "2.3.3"
  }
 },
 "nbformat": 4,
 "nbformat_minor": 5
}
