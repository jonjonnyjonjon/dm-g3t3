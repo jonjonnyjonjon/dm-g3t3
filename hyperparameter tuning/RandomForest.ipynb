{
 "cells": [
  {
   "cell_type": "markdown",
   "metadata": {},
   "source": [
    "# IS424: Data Mining & Biz Analytics\n",
    "## Team: G3T3\n",
    "### Project: Predicting Loan Default based on Customer Profile\n",
    "### Grid Search and Cross-validation: RandomForest\n",
    "---"
   ]
  },
  {
   "cell_type": "markdown",
   "metadata": {},
   "source": [
    "# 1. Setting up the notebook"
   ]
  },
  {
   "cell_type": "code",
   "execution_count": 6,
   "metadata": {
    "execution": {
     "iopub.execute_input": "2021-11-07T13:47:47.664274Z",
     "iopub.status.busy": "2021-11-07T13:47:47.663565Z",
     "iopub.status.idle": "2021-11-07T13:47:47.674602Z",
     "shell.execute_reply": "2021-11-07T13:47:47.673406Z",
     "shell.execute_reply.started": "2021-11-07T13:47:47.664234Z"
    }
   },
   "outputs": [],
   "source": [
    "import pandas as pd\n",
    "import numpy as np\n",
    "import seaborn as sns\n",
    "import matplotlib.pyplot as plt\n",
    "%matplotlib inline\n",
    "\n",
    "from category_encoders import TargetEncoder\n",
    "\n",
    "from sklearn.model_selection import train_test_split\n",
    "from imblearn.over_sampling import SMOTE\n",
    "from sklearn.preprocessing import MinMaxScaler\n",
    "\n",
    "from sklearn.ensemble import RandomForestClassifier\n",
    "from sklearn.metrics import make_scorer, precision_score, recall_score, f1_score, fbeta_score, accuracy_score, roc_auc_score"
   ]
  },
  {
   "cell_type": "code",
   "execution_count": 2,
   "metadata": {},
   "outputs": [],
   "source": [
    "df_train = pd.read_csv(\"../dataset/train.csv\")\n",
    "df_test = pd.read_csv(\"../dataset/test.csv\")\n",
    "\n",
    "y_train = df_train[[\"risk_flag\"]]\n",
    "x_train = df_train.drop(\"risk_flag\", axis=1)\n",
    "\n",
    "y_test = df_test[[\"risk_flag\"]]\n",
    "x_test = df_test.drop(\"risk_flag\", axis=1)"
   ]
  },
  {
   "cell_type": "code",
   "execution_count": 3,
   "metadata": {
    "execution": {
     "iopub.execute_input": "2021-11-08T01:00:43.498379Z",
     "iopub.status.busy": "2021-11-08T01:00:43.498142Z",
     "iopub.status.idle": "2021-11-08T01:00:43.519256Z",
     "shell.execute_reply": "2021-11-08T01:00:43.518446Z",
     "shell.execute_reply.started": "2021-11-08T01:00:43.498348Z"
    }
   },
   "outputs": [
    {
     "data": {
      "text/html": [
       "<div>\n",
       "<style scoped>\n",
       "    .dataframe tbody tr th:only-of-type {\n",
       "        vertical-align: middle;\n",
       "    }\n",
       "\n",
       "    .dataframe tbody tr th {\n",
       "        vertical-align: top;\n",
       "    }\n",
       "\n",
       "    .dataframe thead th {\n",
       "        text-align: right;\n",
       "    }\n",
       "</style>\n",
       "<table border=\"1\" class=\"dataframe\">\n",
       "  <thead>\n",
       "    <tr style=\"text-align: right;\">\n",
       "      <th></th>\n",
       "      <th>income</th>\n",
       "      <th>age</th>\n",
       "      <th>experience</th>\n",
       "      <th>marital_status</th>\n",
       "      <th>car_ownership</th>\n",
       "      <th>profession</th>\n",
       "      <th>city</th>\n",
       "      <th>state</th>\n",
       "      <th>rented</th>\n",
       "    </tr>\n",
       "  </thead>\n",
       "  <tbody>\n",
       "    <tr>\n",
       "      <th>0</th>\n",
       "      <td>3278154</td>\n",
       "      <td>56</td>\n",
       "      <td>20</td>\n",
       "      <td>1</td>\n",
       "      <td>0</td>\n",
       "      <td>Technology_specialist</td>\n",
       "      <td>Gorakhpur</td>\n",
       "      <td>Uttar_Pradesh</td>\n",
       "      <td>1.0</td>\n",
       "    </tr>\n",
       "    <tr>\n",
       "      <th>1</th>\n",
       "      <td>1315700</td>\n",
       "      <td>53</td>\n",
       "      <td>4</td>\n",
       "      <td>1</td>\n",
       "      <td>0</td>\n",
       "      <td>Civil_engineer</td>\n",
       "      <td>Thoothukudi</td>\n",
       "      <td>Tamil_Nadu</td>\n",
       "      <td>1.0</td>\n",
       "    </tr>\n",
       "    <tr>\n",
       "      <th>2</th>\n",
       "      <td>5021070</td>\n",
       "      <td>47</td>\n",
       "      <td>20</td>\n",
       "      <td>1</td>\n",
       "      <td>0</td>\n",
       "      <td>Magistrate</td>\n",
       "      <td>Khammam</td>\n",
       "      <td>Telangana</td>\n",
       "      <td>1.0</td>\n",
       "    </tr>\n",
       "    <tr>\n",
       "      <th>3</th>\n",
       "      <td>2824175</td>\n",
       "      <td>54</td>\n",
       "      <td>0</td>\n",
       "      <td>1</td>\n",
       "      <td>0</td>\n",
       "      <td>Chef</td>\n",
       "      <td>Serampore</td>\n",
       "      <td>West_Bengal</td>\n",
       "      <td>1.0</td>\n",
       "    </tr>\n",
       "    <tr>\n",
       "      <th>4</th>\n",
       "      <td>8790456</td>\n",
       "      <td>41</td>\n",
       "      <td>2</td>\n",
       "      <td>1</td>\n",
       "      <td>0</td>\n",
       "      <td>Designer</td>\n",
       "      <td>Tiruppur</td>\n",
       "      <td>Tamil_Nadu</td>\n",
       "      <td>1.0</td>\n",
       "    </tr>\n",
       "  </tbody>\n",
       "</table>\n",
       "</div>"
      ],
      "text/plain": [
       "    income  age  experience  marital_status  car_ownership  \\\n",
       "0  3278154   56          20               1              0   \n",
       "1  1315700   53           4               1              0   \n",
       "2  5021070   47          20               1              0   \n",
       "3  2824175   54           0               1              0   \n",
       "4  8790456   41           2               1              0   \n",
       "\n",
       "              profession         city          state  rented  \n",
       "0  Technology_specialist    Gorakhpur  Uttar_Pradesh     1.0  \n",
       "1         Civil_engineer  Thoothukudi     Tamil_Nadu     1.0  \n",
       "2             Magistrate      Khammam      Telangana     1.0  \n",
       "3                   Chef    Serampore    West_Bengal     1.0  \n",
       "4               Designer     Tiruppur     Tamil_Nadu     1.0  "
      ]
     },
     "execution_count": 3,
     "metadata": {},
     "output_type": "execute_result"
    }
   ],
   "source": [
    "x_train.head()"
   ]
  },
  {
   "cell_type": "markdown",
   "metadata": {},
   "source": [
    "# 2. Performance of Base Random Forest Classifier"
   ]
  },
  {
   "cell_type": "code",
   "execution_count": 4,
   "metadata": {
    "execution": {
     "iopub.execute_input": "2021-11-08T01:00:43.521051Z",
     "iopub.status.busy": "2021-11-08T01:00:43.520778Z",
     "iopub.status.idle": "2021-11-08T01:00:43.536080Z",
     "shell.execute_reply": "2021-11-08T01:00:43.535296Z",
     "shell.execute_reply.started": "2021-11-08T01:00:43.521012Z"
    }
   },
   "outputs": [],
   "source": [
    "from imblearn.pipeline import Pipeline\n",
    "from sklearn.model_selection import StratifiedKFold, GridSearchCV, cross_validate\n",
    "from sklearn.compose import ColumnTransformer\n",
    "\n",
    "def cv_evaluate_model(rf_clf):\n",
    "    te_features = ['profession', 'city','state']\n",
    "    scale_features = ['income','age','experience']\n",
    "\n",
    "    preprocessor = ColumnTransformer(transformers=[('te_features', TargetEncoder(), te_features),\n",
    "                                                    ('scale_features', MinMaxScaler(), scale_features)])\n",
    "\n",
    "    pipeline = Pipeline(steps = [['preprocessor', preprocessor ],\n",
    "                                 ['smote', SMOTE(random_state=2021)],\n",
    "                                 ['classifier', rf_clf]\n",
    "                                ])\n",
    "    \n",
    "    stratified_kfold = StratifiedKFold(shuffle=True, n_splits=3, random_state=2021)\n",
    "\n",
    "    scoring = {\"recall\": 'recall',\n",
    "               \"fbeta_2\": make_scorer(fbeta_score, beta=2),\n",
    "               \"roc_auc\": make_scorer(roc_auc_score),\n",
    "              }\n",
    "\n",
    "    scores = cross_validate(pipeline, x_train, y_train.values.ravel(), cv=stratified_kfold,\n",
    "                           scoring = scoring)\n",
    "\n",
    "    recall = [ val for val in scores['test_recall'] ]\n",
    "    fbeta_2 = [ val for val in scores['test_fbeta_2'] ]\n",
    "    auc = [ val for val in scores['test_roc_auc'] ]\n",
    "    recall.append( sum(recall) / len(recall) )\n",
    "    fbeta_2.append( sum(fbeta_2) / len(fbeta_2) )\n",
    "    auc.append( sum(auc) / len(auc) )\n",
    "\n",
    "    score_df = pd.DataFrame(data=[recall, fbeta_2, auc], columns=['Fold 1','Fold 2','Fold 3', 'Average'],\n",
    "                            index=['Recall','Fbeta2','AUC'])\n",
    "    return score_df"
   ]
  },
  {
   "cell_type": "code",
   "execution_count": 5,
   "metadata": {
    "execution": {
     "iopub.execute_input": "2021-11-08T01:00:43.539362Z",
     "iopub.status.busy": "2021-11-08T01:00:43.539030Z",
     "iopub.status.idle": "2021-11-08T01:02:13.287938Z",
     "shell.execute_reply": "2021-11-08T01:02:13.287253Z",
     "shell.execute_reply.started": "2021-11-08T01:00:43.539323Z"
    }
   },
   "outputs": [
    {
     "name": "stderr",
     "output_type": "stream",
     "text": [
      "/Library/Frameworks/Python.framework/Versions/3.8/lib/python3.8/site-packages/category_encoders/utils.py:21: FutureWarning: is_categorical is deprecated and will be removed in a future version.  Use is_categorical_dtype instead\n",
      "  elif pd.api.types.is_categorical(cols):\n",
      "/Library/Frameworks/Python.framework/Versions/3.8/lib/python3.8/site-packages/category_encoders/utils.py:21: FutureWarning: is_categorical is deprecated and will be removed in a future version.  Use is_categorical_dtype instead\n",
      "  elif pd.api.types.is_categorical(cols):\n",
      "/Library/Frameworks/Python.framework/Versions/3.8/lib/python3.8/site-packages/category_encoders/utils.py:21: FutureWarning: is_categorical is deprecated and will be removed in a future version.  Use is_categorical_dtype instead\n",
      "  elif pd.api.types.is_categorical(cols):\n"
     ]
    },
    {
     "data": {
      "text/html": [
       "<div>\n",
       "<style scoped>\n",
       "    .dataframe tbody tr th:only-of-type {\n",
       "        vertical-align: middle;\n",
       "    }\n",
       "\n",
       "    .dataframe tbody tr th {\n",
       "        vertical-align: top;\n",
       "    }\n",
       "\n",
       "    .dataframe thead th {\n",
       "        text-align: right;\n",
       "    }\n",
       "</style>\n",
       "<table border=\"1\" class=\"dataframe\">\n",
       "  <thead>\n",
       "    <tr style=\"text-align: right;\">\n",
       "      <th></th>\n",
       "      <th>Fold 1</th>\n",
       "      <th>Fold 2</th>\n",
       "      <th>Fold 3</th>\n",
       "      <th>Average</th>\n",
       "    </tr>\n",
       "  </thead>\n",
       "  <tbody>\n",
       "    <tr>\n",
       "      <th>Recall</th>\n",
       "      <td>0.787054</td>\n",
       "      <td>0.785870</td>\n",
       "      <td>0.781273</td>\n",
       "      <td>0.784732</td>\n",
       "    </tr>\n",
       "    <tr>\n",
       "      <th>Fbeta2</th>\n",
       "      <td>0.718181</td>\n",
       "      <td>0.717600</td>\n",
       "      <td>0.715457</td>\n",
       "      <td>0.717079</td>\n",
       "    </tr>\n",
       "    <tr>\n",
       "      <th>AUC</th>\n",
       "      <td>0.844973</td>\n",
       "      <td>0.844559</td>\n",
       "      <td>0.843041</td>\n",
       "      <td>0.844191</td>\n",
       "    </tr>\n",
       "  </tbody>\n",
       "</table>\n",
       "</div>"
      ],
      "text/plain": [
       "          Fold 1    Fold 2    Fold 3   Average\n",
       "Recall  0.787054  0.785870  0.781273  0.784732\n",
       "Fbeta2  0.718181  0.717600  0.715457  0.717079\n",
       "AUC     0.844973  0.844559  0.843041  0.844191"
      ]
     },
     "metadata": {},
     "output_type": "display_data"
    }
   ],
   "source": [
    "base_rf_clf = RandomForestClassifier(random_state=2021)\n",
    "results_base = cv_evaluate_model(base_rf_clf)\n",
    "display(results_base)"
   ]
  },
  {
   "cell_type": "markdown",
   "metadata": {},
   "source": [
    "# 3. Hyper parameter tuning with GridSearch"
   ]
  },
  {
   "cell_type": "markdown",
   "metadata": {},
   "source": [
    "## 3.1 Conducting Grid Search 1"
   ]
  },
  {
   "cell_type": "code",
   "execution_count": 6,
   "metadata": {
    "execution": {
     "iopub.execute_input": "2021-11-08T01:02:13.289505Z",
     "iopub.status.busy": "2021-11-08T01:02:13.289229Z",
     "iopub.status.idle": "2021-11-08T01:02:13.299372Z",
     "shell.execute_reply": "2021-11-08T01:02:13.298631Z",
     "shell.execute_reply.started": "2021-11-08T01:02:13.289469Z"
    }
   },
   "outputs": [
    {
     "name": "stdout",
     "output_type": "stream",
     "text": [
      "classifier__n_estimators [100, 500, 900]\n",
      "classifier__min_samples_split [3, 5, 8]\n",
      "classifier__min_samples_leaf [1, 3, 5]\n",
      "classifier__max_depth [5, 10, 15]\n",
      "-----------------\n",
      "Total combinations: 81\n"
     ]
    }
   ],
   "source": [
    "# Creating parameter grid to search\n",
    "n_estimators = [100, 500, 900]\n",
    "\n",
    "max_depth = [5, 10, 15]\n",
    "\n",
    "min_samples_split = [3, 5, 8]\n",
    "\n",
    "min_samples_leaf = [1, 3, 5]\n",
    "\n",
    "params_grid = {\n",
    "                'classifier__n_estimators': n_estimators,\n",
    "                'classifier__min_samples_split': min_samples_split,\n",
    "                'classifier__min_samples_leaf': min_samples_leaf,\n",
    "                'classifier__max_depth': max_depth\n",
    "              }\n",
    "\n",
    "total_combi = 1\n",
    "for param, value in params_grid.items():\n",
    "    print(param, value)\n",
    "    total_combi *= len(value)\n",
    "\n",
    "print('-----------------')\n",
    "print('Total combinations:', total_combi)"
   ]
  },
  {
   "cell_type": "code",
   "execution_count": 7,
   "metadata": {
    "execution": {
     "iopub.execute_input": "2021-11-08T01:02:13.301306Z",
     "iopub.status.busy": "2021-11-08T01:02:13.300641Z",
     "iopub.status.idle": "2021-11-08T01:02:13.313712Z",
     "shell.execute_reply": "2021-11-08T01:02:13.313035Z",
     "shell.execute_reply.started": "2021-11-08T01:02:13.301269Z"
    }
   },
   "outputs": [],
   "source": [
    "# # conduct gridsearch 1\n",
    "# te_features = ['profession', 'city','state']\n",
    "# scale_features = ['income','age','experience']\n",
    "\n",
    "# preprocessor = ColumnTransformer(transformers=[('te_features', TargetEncoder(), te_features),\n",
    "#                                                 ('scale_features', MinMaxScaler(), scale_features)])\n",
    "\n",
    "# pipeline = Pipeline(steps = [['preprocessor', preprocessor ],\n",
    "#                              ['smote', SMOTE(random_state=2021)],\n",
    "#                              ['classifier', RandomForestClassifier(random_state=2021)]\n",
    "#                             ])\n",
    "\n",
    "# stratified_kfold = StratifiedKFold(shuffle=True, n_splits=3, random_state=2021)\n",
    "\n",
    "\n",
    "# rf_gridsearch = GridSearchCV(estimator = pipeline,\n",
    "#                            param_grid = params_grid,\n",
    "#                            scoring = 'recall',\n",
    "#                            cv = stratified_kfold,\n",
    "#                            refit = True,\n",
    "#                            n_jobs = -1)\n",
    "\n",
    "# rf_gridsearch.fit( x_train, y_train.values.ravel() )\n",
    "# best_parameters = rf_gridsearch.best_params_\n",
    "# print(best_parameters)"
   ]
  },
  {
   "cell_type": "markdown",
   "metadata": {},
   "source": [
    "{'classifier__max_depth': 15, 'classifier__min_samples_leaf': 3, 'classifier__min_samples_split': 3, 'classifier__n_estimators': 100}"
   ]
  },
  {
   "cell_type": "code",
   "execution_count": 8,
   "metadata": {
    "execution": {
     "iopub.execute_input": "2021-11-08T01:02:13.317510Z",
     "iopub.status.busy": "2021-11-08T01:02:13.316741Z",
     "iopub.status.idle": "2021-11-08T01:03:27.750959Z",
     "shell.execute_reply": "2021-11-08T01:03:27.750284Z",
     "shell.execute_reply.started": "2021-11-08T01:02:13.317470Z"
    }
   },
   "outputs": [
    {
     "name": "stderr",
     "output_type": "stream",
     "text": [
      "/Library/Frameworks/Python.framework/Versions/3.8/lib/python3.8/site-packages/category_encoders/utils.py:21: FutureWarning: is_categorical is deprecated and will be removed in a future version.  Use is_categorical_dtype instead\n",
      "  elif pd.api.types.is_categorical(cols):\n",
      "/Library/Frameworks/Python.framework/Versions/3.8/lib/python3.8/site-packages/category_encoders/utils.py:21: FutureWarning: is_categorical is deprecated and will be removed in a future version.  Use is_categorical_dtype instead\n",
      "  elif pd.api.types.is_categorical(cols):\n",
      "/Library/Frameworks/Python.framework/Versions/3.8/lib/python3.8/site-packages/category_encoders/utils.py:21: FutureWarning: is_categorical is deprecated and will be removed in a future version.  Use is_categorical_dtype instead\n",
      "  elif pd.api.types.is_categorical(cols):\n"
     ]
    },
    {
     "data": {
      "text/html": [
       "<div>\n",
       "<style scoped>\n",
       "    .dataframe tbody tr th:only-of-type {\n",
       "        vertical-align: middle;\n",
       "    }\n",
       "\n",
       "    .dataframe tbody tr th {\n",
       "        vertical-align: top;\n",
       "    }\n",
       "\n",
       "    .dataframe thead th {\n",
       "        text-align: right;\n",
       "    }\n",
       "</style>\n",
       "<table border=\"1\" class=\"dataframe\">\n",
       "  <thead>\n",
       "    <tr style=\"text-align: right;\">\n",
       "      <th></th>\n",
       "      <th>Fold 1</th>\n",
       "      <th>Fold 2</th>\n",
       "      <th>Fold 3</th>\n",
       "      <th>Average</th>\n",
       "    </tr>\n",
       "  </thead>\n",
       "  <tbody>\n",
       "    <tr>\n",
       "      <th>Recall</th>\n",
       "      <td>0.791410</td>\n",
       "      <td>0.788773</td>\n",
       "      <td>0.784055</td>\n",
       "      <td>0.788079</td>\n",
       "    </tr>\n",
       "    <tr>\n",
       "      <th>Fbeta2</th>\n",
       "      <td>0.704409</td>\n",
       "      <td>0.710596</td>\n",
       "      <td>0.702685</td>\n",
       "      <td>0.705896</td>\n",
       "    </tr>\n",
       "    <tr>\n",
       "      <th>AUC</th>\n",
       "      <td>0.837777</td>\n",
       "      <td>0.840996</td>\n",
       "      <td>0.836279</td>\n",
       "      <td>0.838351</td>\n",
       "    </tr>\n",
       "  </tbody>\n",
       "</table>\n",
       "</div>"
      ],
      "text/plain": [
       "          Fold 1    Fold 2    Fold 3   Average\n",
       "Recall  0.791410  0.788773  0.784055  0.788079\n",
       "Fbeta2  0.704409  0.710596  0.702685  0.705896\n",
       "AUC     0.837777  0.840996  0.836279  0.838351"
      ]
     },
     "metadata": {},
     "output_type": "display_data"
    }
   ],
   "source": [
    "# classifier trained on the latest hyper parameters\n",
    "rf_clf = RandomForestClassifier(max_depth=15, max_features='sqrt', min_samples_leaf=3,\n",
    "                                min_samples_split=3, n_estimators=100,\n",
    "                                random_state=2021)\n",
    "\n",
    "results_gs1 = cv_evaluate_model(rf_clf)\n",
    "display(results_gs1)"
   ]
  },
  {
   "cell_type": "markdown",
   "metadata": {},
   "source": [
    "## 3.2 Second GridSearchCV\n",
    "This second parameter search space aims to narrow down the search space based on the results obtained in the first grid search.\n",
    "\n",
    "**Previous parameter search space:**\n",
    "- n_estimators = [100, 500, 900]\n",
    "- max_depth = [5, 10, 15]\n",
    "- min_samples_split = [3, 5, 8]\n",
    "- min_samples_leaf = [1, 3, 5]\n",
    "\n",
    "**Obtained results:**\n",
    "\n",
    "| Feature           | Value | New search space |\n",
    "|-------------------|:-----:|------------|\n",
    "| n_estimators      | 100   | [100, 150, 200, 250, 300] |\n",
    "| max_depth         | 15    | [13, 15, 17, 20] |\n",
    "| min_samples_split | 3     | [2, 3, 4] |\n",
    "| min_samples_leaf  | 3     | [2, 3, 4] |"
   ]
  },
  {
   "cell_type": "code",
   "execution_count": 9,
   "metadata": {
    "execution": {
     "iopub.execute_input": "2021-11-08T01:03:27.752357Z",
     "iopub.status.busy": "2021-11-08T01:03:27.752118Z",
     "iopub.status.idle": "2021-11-08T01:03:27.762602Z",
     "shell.execute_reply": "2021-11-08T01:03:27.761730Z",
     "shell.execute_reply.started": "2021-11-08T01:03:27.752322Z"
    }
   },
   "outputs": [
    {
     "name": "stdout",
     "output_type": "stream",
     "text": [
      "classifier__n_estimators [100, 150, 200, 250]\n",
      "classifier__min_samples_split [2, 3, 4]\n",
      "classifier__min_samples_leaf [2, 3, 4]\n",
      "classifier__max_depth [13, 15, 17, 20]\n",
      "-----------------\n",
      "Total combinations: 144\n"
     ]
    }
   ],
   "source": [
    "# Creating parameter grid to search\n",
    "n_estimators = [100, 150, 200, 250]\n",
    "\n",
    "max_depth = [13, 15, 17, 20]\n",
    "\n",
    "min_samples_split = [2, 3, 4]\n",
    "\n",
    "min_samples_leaf = [2, 3, 4]\n",
    "\n",
    "params_grid = {\n",
    "                'classifier__n_estimators': n_estimators,\n",
    "                'classifier__min_samples_split': min_samples_split,\n",
    "                'classifier__min_samples_leaf': min_samples_leaf,\n",
    "                'classifier__max_depth': max_depth\n",
    "              }\n",
    "\n",
    "total_combi = 1\n",
    "for param, value in params_grid.items():\n",
    "    print(param, value)\n",
    "    total_combi *= len(value)\n",
    "\n",
    "print('-----------------')\n",
    "print('Total combinations:', total_combi)"
   ]
  },
  {
   "cell_type": "code",
   "execution_count": 10,
   "metadata": {
    "execution": {
     "iopub.execute_input": "2021-11-08T01:03:27.764805Z",
     "iopub.status.busy": "2021-11-08T01:03:27.764459Z",
     "iopub.status.idle": "2021-11-08T01:03:27.776019Z",
     "shell.execute_reply": "2021-11-08T01:03:27.775189Z",
     "shell.execute_reply.started": "2021-11-08T01:03:27.764765Z"
    }
   },
   "outputs": [],
   "source": [
    "# # conduct gridsearch 2\n",
    "# te_features = ['profession', 'city','state']\n",
    "# scale_features = ['income','age','experience']\n",
    "\n",
    "# preprocessor = ColumnTransformer(transformers=[('te_features', TargetEncoder(), te_features),\n",
    "#                                                 ('scale_features', MinMaxScaler(), scale_features)])\n",
    "\n",
    "# pipeline = Pipeline(steps = [['preprocessor', preprocessor ],\n",
    "#                              ['smote', SMOTE(random_state=2021)],\n",
    "#                              ['classifier', RandomForestClassifier(random_state=2021)]\n",
    "#                             ])\n",
    "\n",
    "# stratified_kfold = StratifiedKFold(shuffle=True, n_splits=3, random_state=2021)\n",
    "\n",
    "\n",
    "# rf_gridsearch = GridSearchCV(estimator = pipeline,\n",
    "#                            param_grid = params_grid,\n",
    "#                            scoring = 'recall',\n",
    "#                            cv = stratified_kfold,\n",
    "#                            refit = True,\n",
    "#                            n_jobs = -1)\n",
    "\n",
    "# rf_gridsearch.fit( x_train, y_train.values.ravel() )\n",
    "# best_parameters = rf_gridsearch.best_params_\n",
    "# print(best_parameters)"
   ]
  },
  {
   "cell_type": "markdown",
   "metadata": {},
   "source": [
    "{'classifier__max_depth': 15, 'classifier__min_samples_leaf': 3, 'classifier__min_samples_split': 2, 'classifier__n_estimators': 100}"
   ]
  },
  {
   "cell_type": "code",
   "execution_count": 11,
   "metadata": {
    "execution": {
     "iopub.execute_input": "2021-11-08T01:03:27.778375Z",
     "iopub.status.busy": "2021-11-08T01:03:27.777778Z",
     "iopub.status.idle": "2021-11-08T01:04:40.580159Z",
     "shell.execute_reply": "2021-11-08T01:04:40.579365Z",
     "shell.execute_reply.started": "2021-11-08T01:03:27.778333Z"
    }
   },
   "outputs": [
    {
     "name": "stderr",
     "output_type": "stream",
     "text": [
      "/Library/Frameworks/Python.framework/Versions/3.8/lib/python3.8/site-packages/category_encoders/utils.py:21: FutureWarning: is_categorical is deprecated and will be removed in a future version.  Use is_categorical_dtype instead\n",
      "  elif pd.api.types.is_categorical(cols):\n",
      "/Library/Frameworks/Python.framework/Versions/3.8/lib/python3.8/site-packages/category_encoders/utils.py:21: FutureWarning: is_categorical is deprecated and will be removed in a future version.  Use is_categorical_dtype instead\n",
      "  elif pd.api.types.is_categorical(cols):\n",
      "/Library/Frameworks/Python.framework/Versions/3.8/lib/python3.8/site-packages/category_encoders/utils.py:21: FutureWarning: is_categorical is deprecated and will be removed in a future version.  Use is_categorical_dtype instead\n",
      "  elif pd.api.types.is_categorical(cols):\n"
     ]
    },
    {
     "data": {
      "text/html": [
       "<div>\n",
       "<style scoped>\n",
       "    .dataframe tbody tr th:only-of-type {\n",
       "        vertical-align: middle;\n",
       "    }\n",
       "\n",
       "    .dataframe tbody tr th {\n",
       "        vertical-align: top;\n",
       "    }\n",
       "\n",
       "    .dataframe thead th {\n",
       "        text-align: right;\n",
       "    }\n",
       "</style>\n",
       "<table border=\"1\" class=\"dataframe\">\n",
       "  <thead>\n",
       "    <tr style=\"text-align: right;\">\n",
       "      <th></th>\n",
       "      <th>Fold 1</th>\n",
       "      <th>Fold 2</th>\n",
       "      <th>Fold 3</th>\n",
       "      <th>Average</th>\n",
       "    </tr>\n",
       "  </thead>\n",
       "  <tbody>\n",
       "    <tr>\n",
       "      <th>Recall</th>\n",
       "      <td>0.791410</td>\n",
       "      <td>0.788773</td>\n",
       "      <td>0.784055</td>\n",
       "      <td>0.788079</td>\n",
       "    </tr>\n",
       "    <tr>\n",
       "      <th>Fbeta2</th>\n",
       "      <td>0.704409</td>\n",
       "      <td>0.710596</td>\n",
       "      <td>0.702685</td>\n",
       "      <td>0.705896</td>\n",
       "    </tr>\n",
       "    <tr>\n",
       "      <th>AUC</th>\n",
       "      <td>0.837777</td>\n",
       "      <td>0.840996</td>\n",
       "      <td>0.836279</td>\n",
       "      <td>0.838351</td>\n",
       "    </tr>\n",
       "  </tbody>\n",
       "</table>\n",
       "</div>"
      ],
      "text/plain": [
       "          Fold 1    Fold 2    Fold 3   Average\n",
       "Recall  0.791410  0.788773  0.784055  0.788079\n",
       "Fbeta2  0.704409  0.710596  0.702685  0.705896\n",
       "AUC     0.837777  0.840996  0.836279  0.838351"
      ]
     },
     "metadata": {},
     "output_type": "display_data"
    }
   ],
   "source": [
    "# classifier trained on the latest hyper parameters\n",
    "rf_clf2 = RandomForestClassifier(max_depth=15, max_features='sqrt', min_samples_leaf=3,\n",
    "                                min_samples_split=2, n_estimators=100,\n",
    "                                random_state=2021)\n",
    "\n",
    "results_gs2 = cv_evaluate_model(rf_clf2)\n",
    "display(results_gs2)"
   ]
  },
  {
   "cell_type": "markdown",
   "metadata": {},
   "source": [
    "## 3.2 Second GridSearchCV\n",
    "This second parameter search space aims to narrow down the search space based on the results obtained in the first grid search.\n",
    "\n",
    "**Previous parameter search space:**\n",
    "- n_estimators = [100, 500, 900]\n",
    "- max_depth = [5, 10, 15]\n",
    "- min_samples_split = [3, 5, 8]\n",
    "- min_samples_leaf = [1, 3, 5]\n",
    "\n",
    "- n_estimators = [100, 150, 200, 250]\n",
    "- max_depth = [13, 15, 17, 20]\n",
    "- min_samples_split = [2, 3, 4]\n",
    "- min_samples_leaf = [2, 3, 4]\n",
    "\n",
    "**Obtained results:**\n",
    "\n",
    "{'classifier__max_depth': 15, 'classifier__min_samples_leaf': 3, 'classifier__min_samples_split': 2, 'classifier__n_estimators': 100}\n",
    "\n",
    "| Feature           | GridSearch1 | GridSearch2 |      New search space     |\n",
    "|-------------------|:-----------:|:-----------:|:-------------------------:|\n",
    "| n_estimators      |100          |100          | [75, 90, 100, 110, 125, 135, 145] |\n",
    "| max_depth         |15           |15           |         Leave as 15       |\n",
    "| min_samples_split |3            |2            |         Leave as 2        |\n",
    "| min_samples_leaf  |3            |3            |         Leave as 3        |"
   ]
  },
  {
   "cell_type": "code",
   "execution_count": 12,
   "metadata": {
    "execution": {
     "iopub.execute_input": "2021-11-08T01:04:40.582072Z",
     "iopub.status.busy": "2021-11-08T01:04:40.581809Z",
     "iopub.status.idle": "2021-11-08T01:04:40.589092Z",
     "shell.execute_reply": "2021-11-08T01:04:40.588327Z",
     "shell.execute_reply.started": "2021-11-08T01:04:40.582035Z"
    }
   },
   "outputs": [
    {
     "name": "stdout",
     "output_type": "stream",
     "text": [
      "classifier__n_estimators [50, 75, 90, 100, 110, 125, 135, 145]\n",
      "-----------------\n",
      "Total combinations: 8\n"
     ]
    }
   ],
   "source": [
    "# Creating parameter grid to search\n",
    "n_estimators = [50, 75, 90, 100, 110, 125, 135, 145]\n",
    "\n",
    "params_grid = {\n",
    "                'classifier__n_estimators': n_estimators,\n",
    "              }\n",
    "\n",
    "total_combi = 1\n",
    "for param, value in params_grid.items():\n",
    "    print(param, value)\n",
    "    total_combi *= len(value)\n",
    "\n",
    "print('-----------------')\n",
    "print('Total combinations:', total_combi)"
   ]
  },
  {
   "cell_type": "code",
   "execution_count": 13,
   "metadata": {
    "execution": {
     "iopub.execute_input": "2021-11-08T01:04:40.591038Z",
     "iopub.status.busy": "2021-11-08T01:04:40.590267Z",
     "iopub.status.idle": "2021-11-08T01:13:36.126811Z",
     "shell.execute_reply": "2021-11-08T01:13:36.125081Z",
     "shell.execute_reply.started": "2021-11-08T01:04:40.590993Z"
    }
   },
   "outputs": [],
   "source": [
    "# # conduct gridsearch 3\n",
    "# te_features = ['profession', 'city','state']\n",
    "# scale_features = ['income','age','experience']\n",
    "\n",
    "# preprocessor = ColumnTransformer(transformers=[('te_features', TargetEncoder(), te_features),\n",
    "#                                                 ('scale_features', MinMaxScaler(), scale_features)])\n",
    "\n",
    "# pipeline = Pipeline(steps = [['preprocessor', preprocessor ],\n",
    "#                              ['smote', SMOTE(random_state=2021)],\n",
    "#                              ['classifier', RandomForestClassifier(max_features='sqrt', max_depth=15, min_samples_split=2, min_samples_leaf=3, random_state=2021) ]\n",
    "#                             ])\n",
    "\n",
    "# stratified_kfold = StratifiedKFold(shuffle=True, n_splits=3, random_state=2021)\n",
    "\n",
    "\n",
    "# rf_gridsearch = GridSearchCV(estimator = pipeline,\n",
    "#                            param_grid = params_grid,\n",
    "#                            scoring = 'recall',\n",
    "#                            cv = stratified_kfold,\n",
    "#                            refit = True,\n",
    "#                            n_jobs = -1)\n",
    "\n",
    "# rf_gridsearch.fit( x_train, y_train.values.ravel() )\n",
    "# best_parameters = rf_gridsearch.best_params_\n",
    "# print(best_parameters)"
   ]
  },
  {
   "cell_type": "code",
   "execution_count": 18,
   "metadata": {
    "execution": {
     "iopub.execute_input": "2021-11-08T01:20:59.414357Z",
     "iopub.status.busy": "2021-11-08T01:20:59.414087Z",
     "iopub.status.idle": "2021-11-08T01:22:12.024902Z",
     "shell.execute_reply": "2021-11-08T01:22:12.024238Z",
     "shell.execute_reply.started": "2021-11-08T01:20:59.414326Z"
    }
   },
   "outputs": [
    {
     "name": "stderr",
     "output_type": "stream",
     "text": [
      "/Library/Frameworks/Python.framework/Versions/3.8/lib/python3.8/site-packages/category_encoders/utils.py:21: FutureWarning: is_categorical is deprecated and will be removed in a future version.  Use is_categorical_dtype instead\n",
      "  elif pd.api.types.is_categorical(cols):\n",
      "/Library/Frameworks/Python.framework/Versions/3.8/lib/python3.8/site-packages/category_encoders/utils.py:21: FutureWarning: is_categorical is deprecated and will be removed in a future version.  Use is_categorical_dtype instead\n",
      "  elif pd.api.types.is_categorical(cols):\n",
      "/Library/Frameworks/Python.framework/Versions/3.8/lib/python3.8/site-packages/category_encoders/utils.py:21: FutureWarning: is_categorical is deprecated and will be removed in a future version.  Use is_categorical_dtype instead\n",
      "  elif pd.api.types.is_categorical(cols):\n"
     ]
    },
    {
     "data": {
      "text/html": [
       "<div>\n",
       "<style scoped>\n",
       "    .dataframe tbody tr th:only-of-type {\n",
       "        vertical-align: middle;\n",
       "    }\n",
       "\n",
       "    .dataframe tbody tr th {\n",
       "        vertical-align: top;\n",
       "    }\n",
       "\n",
       "    .dataframe thead th {\n",
       "        text-align: right;\n",
       "    }\n",
       "</style>\n",
       "<table border=\"1\" class=\"dataframe\">\n",
       "  <thead>\n",
       "    <tr style=\"text-align: right;\">\n",
       "      <th></th>\n",
       "      <th>Fold 1</th>\n",
       "      <th>Fold 2</th>\n",
       "      <th>Fold 3</th>\n",
       "      <th>Average</th>\n",
       "    </tr>\n",
       "  </thead>\n",
       "  <tbody>\n",
       "    <tr>\n",
       "      <th>Recall</th>\n",
       "      <td>0.782698</td>\n",
       "      <td>0.785870</td>\n",
       "      <td>0.782845</td>\n",
       "      <td>0.783804</td>\n",
       "    </tr>\n",
       "    <tr>\n",
       "      <th>Fbeta2</th>\n",
       "      <td>0.697121</td>\n",
       "      <td>0.708613</td>\n",
       "      <td>0.701889</td>\n",
       "      <td>0.702541</td>\n",
       "    </tr>\n",
       "    <tr>\n",
       "      <th>AUC</th>\n",
       "      <td>0.833073</td>\n",
       "      <td>0.839689</td>\n",
       "      <td>0.835750</td>\n",
       "      <td>0.836171</td>\n",
       "    </tr>\n",
       "  </tbody>\n",
       "</table>\n",
       "</div>"
      ],
      "text/plain": [
       "          Fold 1    Fold 2    Fold 3   Average\n",
       "Recall  0.782698  0.785870  0.782845  0.783804\n",
       "Fbeta2  0.697121  0.708613  0.701889  0.702541\n",
       "AUC     0.833073  0.839689  0.835750  0.836171"
      ]
     },
     "metadata": {},
     "output_type": "display_data"
    }
   ],
   "source": [
    "# classifier trained on the latest hyper parameters\n",
    "rf_clf3 = RandomForestClassifier(max_depth=15, max_features='sqrt', min_samples_leaf=2,\n",
    "                                min_samples_split=2, n_estimators=110,\n",
    "                                random_state=2021)\n",
    "\n",
    "results_gs3 = cv_evaluate_model(rf_clf3)\n",
    "display(results_gs3)"
   ]
  },
  {
   "cell_type": "markdown",
   "metadata": {},
   "source": [
    "# 4. Evaluation on Test"
   ]
  },
  {
   "cell_type": "code",
   "execution_count": 35,
   "metadata": {
    "execution": {
     "iopub.execute_input": "2021-11-08T01:23:56.784067Z",
     "iopub.status.busy": "2021-11-08T01:23:56.783753Z",
     "iopub.status.idle": "2021-11-08T01:25:13.265609Z",
     "shell.execute_reply": "2021-11-08T01:25:13.264670Z",
     "shell.execute_reply.started": "2021-11-08T01:23:56.784023Z"
    }
   },
   "outputs": [
    {
     "name": "stderr",
     "output_type": "stream",
     "text": [
      "/Library/Frameworks/Python.framework/Versions/3.8/lib/python3.8/site-packages/category_encoders/utils.py:21: FutureWarning: is_categorical is deprecated and will be removed in a future version.  Use is_categorical_dtype instead\n",
      "  elif pd.api.types.is_categorical(cols):\n"
     ]
    },
    {
     "name": "stdout",
     "output_type": "stream",
     "text": [
      "-----------------------PERFORMANCE EVALUATION--------------------  \n",
      "Recall: 0.7878690111308275 \n",
      "Fbeta2: 0.7067403698665817 \n",
      "AUC Score: 0.838811318307207 \n"
     ]
    }
   ],
   "source": [
    "te_features = ['profession', 'city','state']\n",
    "scale_features = ['income','age','experience']\n",
    "\n",
    "preprocessor = ColumnTransformer(transformers=[('te_features', TargetEncoder(), te_features),\n",
    "                                                ('scale_features', MinMaxScaler(), scale_features)])\n",
    "\n",
    "pipeline = Pipeline(steps = [['preprocessor', preprocessor ],\n",
    "                             ['smote', SMOTE(random_state=2021)],\n",
    "                             ['classifier', RandomForestClassifier(n_estimators=110, max_features='sqrt', max_depth=15, min_samples_split=2, min_samples_leaf=2, random_state=2021) ]\n",
    "                            ])\n",
    "\n",
    "pipeline.fit(x_train, y_train.values.ravel() )\n",
    "\n",
    "y_pred = pipeline.predict(x_test)\n",
    "\n",
    "print(\"-----------------------PERFORMANCE EVALUATION--------------------  \")\n",
    "print(f\"Recall: {recall_score(y_test, y_pred)} \")\n",
    "print(f\"Fbeta2: {fbeta_score(y_test, y_pred, beta=2)} \")\n",
    "print(f\"AUC Score: {roc_auc_score(y_test, y_pred)} \")"
   ]
  },
  {
   "cell_type": "code",
   "execution_count": 38,
   "metadata": {
    "execution": {
     "iopub.execute_input": "2021-11-08T01:27:55.003231Z",
     "iopub.status.busy": "2021-11-08T01:27:55.002981Z",
     "iopub.status.idle": "2021-11-08T01:27:55.309203Z",
     "shell.execute_reply": "2021-11-08T01:27:55.308546Z",
     "shell.execute_reply.started": "2021-11-08T01:27:55.003202Z"
    }
   },
   "outputs": [
    {
     "data": {
      "image/png": "[encoded data removed]",
      "text/plain": [
       "<Figure size 432x288 with 2 Axes>"
      ]
     },
     "metadata": {
      "needs_background": "light"
     },
     "output_type": "display_data"
    }
   ],
   "source": [
    "from sklearn.metrics import confusion_matrix, ConfusionMatrixDisplay\n",
    "cm = confusion_matrix(y_test, y_pred)\n",
    "labels = ['Existing Customer', 'Attrited Customer']\n",
    "\n",
    "diagram = ConfusionMatrixDisplay(confusion_matrix=cm, display_labels=labels)\n",
    "diagram.plot(cmap=plt.cm.Blues)\n",
    "plt.show()"
   ]
  }
 ],
 "metadata": {
  "kernelspec": {
   "display_name": "Python 3 (ipykernel)",
   "language": "python",
   "name": "python3"
  },
  "language_info": {
   "codemirror_mode": {
    "name": "ipython",
    "version": 3
   },
   "file_extension": ".py",
   "mimetype": "text/x-python",
   "name": "python",
   "nbconvert_exporter": "python",
   "pygments_lexer": "ipython3",
   "version": "3.8.10"
  }
 },
 "nbformat": 4,
 "nbformat_minor": 4
}
