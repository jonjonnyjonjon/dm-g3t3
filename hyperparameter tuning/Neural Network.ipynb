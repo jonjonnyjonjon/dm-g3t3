{
 "cells": [
  {
   "cell_type": "markdown",
   "id": "b6db9f7c",
   "metadata": {},
   "source": [
    "# IS424: Data Mining & Biz Analytics\n",
    "### Team: G3T3\n",
    "### Project: Predicting Loan Default based on Customer Profile\n",
    "### Model selection: <font color='#0041C2'>Neural Network</font>\n",
    "---"
   ]
  },
  {
   "cell_type": "markdown",
   "id": "782cc9b3",
   "metadata": {},
   "source": [
    "# 1. Setting up the notebook"
   ]
  },
  {
   "cell_type": "code",
   "execution_count": 1,
   "id": "d6c578f7",
   "metadata": {},
   "outputs": [
    {
     "name": "stderr",
     "output_type": "stream",
     "text": [
      "/Users/jonw/miniforge3/envs/ml_env/lib/python3.8/site-packages/tensorflow_addons/utils/ensure_tf_install.py:54: UserWarning: Tensorflow Addons supports using Python ops for all Tensorflow versions above or equal to 2.2.0 and strictly below 2.4.0 (nightly versions are not supported). \n",
      " The versions of TensorFlow you are currently using is 2.4.0-rc0 and is not supported. \n",
      "Some things might work, some things might not.\n",
      "If you were to encounter a bug, do not file an issue.\n",
      "If you want to make sure you're using a tested and supported configuration, either change the TensorFlow version or the TensorFlow Addons's version. \n",
      "You can find the compatibility matrix in TensorFlow Addon's readme:\n",
      "https://github.com/tensorflow/addons\n",
      "  warnings.warn(\n"
     ]
    }
   ],
   "source": [
    "import pandas as pd\n",
    "import numpy as np\n",
    "\n",
    "from imblearn.over_sampling import SMOTE\n",
    "from category_encoders import TargetEncoder\n",
    "from sklearn.preprocessing import MinMaxScaler\n",
    "\n",
    "from sklearn.metrics import recall_score, fbeta_score, roc_auc_score, make_scorer\n",
    "from sklearn.model_selection import cross_val_score, StratifiedKFold, GridSearchCV\n",
    "\n",
    "import tensorflow as tf\n",
    "tf.autograph.set_verbosity(0)\n",
    "from tensorflow.keras.models import Sequential\n",
    "from tensorflow.keras.layers import Dense\n",
    "from tensorflow.keras.utils import to_categorical\n",
    "from tensorflow.keras.metrics import Recall, AUC, Precision\n",
    "from tensorflow.keras.callbacks import EarlyStopping\n",
    "from tensorflow.keras.optimizers import Adam\n",
    "import tensorflow_addons as tfa\n",
    "\n",
    "tf.get_logger().setLevel(\"INFO\")"
   ]
  },
  {
   "cell_type": "code",
   "execution_count": 2,
   "id": "b0db1970",
   "metadata": {},
   "outputs": [],
   "source": [
    "df_train = pd.read_csv(\"../dataset/train.csv\")\n",
    "\n",
    "y_train = df_train[[\"risk_flag\"]]\n",
    "x_train = df_train.drop(\"risk_flag\", axis=1)"
   ]
  },
  {
   "cell_type": "code",
   "execution_count": 3,
   "id": "29cb832b",
   "metadata": {},
   "outputs": [
    {
     "name": "stderr",
     "output_type": "stream",
     "text": [
      "/Users/jonw/miniforge3/envs/ml_env/lib/python3.8/site-packages/category_encoders/utils.py:21: FutureWarning: is_categorical is deprecated and will be removed in a future version.  Use is_categorical_dtype instead\n",
      "  elif pd.api.types.is_categorical(cols):\n"
     ]
    }
   ],
   "source": [
    "def target_encoding(df_x, df_y):\n",
    "    x = df_x.copy()\n",
    "    \n",
    "    # Target Encoding — categorical columns with high cardinality: profession, city, state\n",
    "    profession_target_enc = TargetEncoder()\n",
    "    x[\"profession_encoded\"] = profession_target_enc.fit_transform(x[\"profession\"], df_y)\n",
    "    \n",
    "    city_target_enc = TargetEncoder()\n",
    "    x[\"city_encoded\"] = city_target_enc.fit_transform(x[\"city\"], df_y)\n",
    "    \n",
    "    state_target_enc = TargetEncoder()\n",
    "    x[\"state_encoded\"] = state_target_enc.fit_transform(x[\"state\"], df_y)\n",
    "    \n",
    "    x.drop(\"profession\", axis=1, inplace=True)\n",
    "    x.drop(\"city\", axis=1, inplace=True)\n",
    "    x.drop(\"state\", axis=1, inplace=True)\n",
    "    return x\n",
    "\n",
    "scale_features = ['income','age','experience']\n",
    "x_train = target_encoding(x_train, y_train)\n",
    "\n",
    "scaler = MinMaxScaler()\n",
    "x_train[scale_features] = scaler.fit_transform(x_train[scale_features])"
   ]
  },
  {
   "cell_type": "markdown",
   "id": "4726084b",
   "metadata": {},
   "source": [
    "# 2. Running base model"
   ]
  },
  {
   "cell_type": "code",
   "execution_count": 4,
   "id": "c2ecbc95",
   "metadata": {
    "scrolled": false
   },
   "outputs": [
    {
     "name": "stdout",
     "output_type": "stream",
     "text": [
      "WARNING:tensorflow:AutoGraph could not transform <function Model.make_train_function.<locals>.train_function at 0x287510280> and will run it as-is.\n",
      "Please report this to the TensorFlow team. When filing the bug, set the verbosity to 10 (on Linux, `export AUTOGRAPH_VERBOSITY=10`) and attach the full output.\n",
      "Cause: unsupported operand type(s) for -: 'NoneType' and 'int'\n",
      "To silence this warning, decorate the function with @tf.autograph.experimental.do_not_convert\n"
     ]
    },
    {
     "name": "stderr",
     "output_type": "stream",
     "text": [
      "2021-11-07 12:58:02.904911: I tensorflow/compiler/mlir/mlir_graph_optimization_pass.cc:116] None of the MLIR optimization passes are enabled (registered 2)\n",
      "2021-11-07 12:58:02.905043: W tensorflow/core/platform/profile_utils/cpu_utils.cc:126] Failed to get CPU frequency: 0 Hz\n"
     ]
    },
    {
     "name": "stdout",
     "output_type": "stream",
     "text": [
      "WARNING:tensorflow:AutoGraph could not transform <function Model.make_test_function.<locals>.test_function at 0x2837ae790> and will run it as-is.\n",
      "Please report this to the TensorFlow team. When filing the bug, set the verbosity to 10 (on Linux, `export AUTOGRAPH_VERBOSITY=10`) and attach the full output.\n",
      "Cause: unsupported operand type(s) for -: 'NoneType' and 'int'\n",
      "To silence this warning, decorate the function with @tf.autograph.experimental.do_not_convert\n",
      "WARNING:tensorflow:AutoGraph could not transform <function Model.make_train_function.<locals>.train_function at 0x28b0f63a0> and will run it as-is.\n",
      "Please report this to the TensorFlow team. When filing the bug, set the verbosity to 10 (on Linux, `export AUTOGRAPH_VERBOSITY=10`) and attach the full output.\n",
      "Cause: unsupported operand type(s) for -: 'NoneType' and 'int'\n",
      "To silence this warning, decorate the function with @tf.autograph.experimental.do_not_convert\n",
      "WARNING:tensorflow:AutoGraph could not transform <function Model.make_test_function.<locals>.test_function at 0x28c0c71f0> and will run it as-is.\n",
      "Please report this to the TensorFlow team. When filing the bug, set the verbosity to 10 (on Linux, `export AUTOGRAPH_VERBOSITY=10`) and attach the full output.\n",
      "Cause: unsupported operand type(s) for -: 'NoneType' and 'int'\n",
      "To silence this warning, decorate the function with @tf.autograph.experimental.do_not_convert\n",
      "WARNING:tensorflow:AutoGraph could not transform <function Model.make_train_function.<locals>.train_function at 0x28b06c670> and will run it as-is.\n",
      "Please report this to the TensorFlow team. When filing the bug, set the verbosity to 10 (on Linux, `export AUTOGRAPH_VERBOSITY=10`) and attach the full output.\n",
      "Cause: unsupported operand type(s) for -: 'NoneType' and 'int'\n",
      "To silence this warning, decorate the function with @tf.autograph.experimental.do_not_convert\n",
      "WARNING:tensorflow:AutoGraph could not transform <function Model.make_test_function.<locals>.test_function at 0x28c5f9e50> and will run it as-is.\n",
      "Please report this to the TensorFlow team. When filing the bug, set the verbosity to 10 (on Linux, `export AUTOGRAPH_VERBOSITY=10`) and attach the full output.\n",
      "Cause: unsupported operand type(s) for -: 'NoneType' and 'int'\n",
      "To silence this warning, decorate the function with @tf.autograph.experimental.do_not_convert\n",
      "WARNING:tensorflow:AutoGraph could not transform <function Model.make_train_function.<locals>.train_function at 0x28dbd9160> and will run it as-is.\n",
      "Please report this to the TensorFlow team. When filing the bug, set the verbosity to 10 (on Linux, `export AUTOGRAPH_VERBOSITY=10`) and attach the full output.\n",
      "Cause: unsupported operand type(s) for -: 'NoneType' and 'int'\n",
      "To silence this warning, decorate the function with @tf.autograph.experimental.do_not_convert\n",
      "WARNING:tensorflow:AutoGraph could not transform <function Model.make_test_function.<locals>.test_function at 0x28defc940> and will run it as-is.\n",
      "Please report this to the TensorFlow team. When filing the bug, set the verbosity to 10 (on Linux, `export AUTOGRAPH_VERBOSITY=10`) and attach the full output.\n",
      "Cause: unsupported operand type(s) for -: 'NoneType' and 'int'\n",
      "To silence this warning, decorate the function with @tf.autograph.experimental.do_not_convert\n",
      "WARNING:tensorflow:AutoGraph could not transform <function Model.make_train_function.<locals>.train_function at 0x28f3ea040> and will run it as-is.\n",
      "Please report this to the TensorFlow team. When filing the bug, set the verbosity to 10 (on Linux, `export AUTOGRAPH_VERBOSITY=10`) and attach the full output.\n",
      "Cause: unsupported operand type(s) for -: 'NoneType' and 'int'\n",
      "To silence this warning, decorate the function with @tf.autograph.experimental.do_not_convert\n",
      "WARNING:tensorflow:AutoGraph could not transform <function Model.make_test_function.<locals>.test_function at 0x2874ad310> and will run it as-is.\n",
      "Please report this to the TensorFlow team. When filing the bug, set the verbosity to 10 (on Linux, `export AUTOGRAPH_VERBOSITY=10`) and attach the full output.\n",
      "Cause: unsupported operand type(s) for -: 'NoneType' and 'int'\n",
      "To silence this warning, decorate the function with @tf.autograph.experimental.do_not_convert\n",
      "WARNING:tensorflow:AutoGraph could not transform <function Model.make_train_function.<locals>.train_function at 0x28c5e8ee0> and will run it as-is.\n",
      "Please report this to the TensorFlow team. When filing the bug, set the verbosity to 10 (on Linux, `export AUTOGRAPH_VERBOSITY=10`) and attach the full output.\n",
      "Cause: unsupported operand type(s) for -: 'NoneType' and 'int'\n",
      "To silence this warning, decorate the function with @tf.autograph.experimental.do_not_convert\n",
      "WARNING:tensorflow:AutoGraph could not transform <function Model.make_test_function.<locals>.test_function at 0x28c5e88b0> and will run it as-is.\n",
      "Please report this to the TensorFlow team. When filing the bug, set the verbosity to 10 (on Linux, `export AUTOGRAPH_VERBOSITY=10`) and attach the full output.\n",
      "Cause: unsupported operand type(s) for -: 'NoneType' and 'int'\n",
      "To silence this warning, decorate the function with @tf.autograph.experimental.do_not_convert\n"
     ]
    }
   ],
   "source": [
    "# https://towardsdatascience.com/simple-guide-to-hyperparameter-tuning-in-neural-networks-3fe03dad8594\n",
    "# https://medium.com/octavian-ai/which-optimizer-and-learning-rate-should-i-use-for-deep-learning-5acb418f9b2\n",
    "skf = StratifiedKFold(shuffle=True, n_splits=3, random_state=2021)\n",
    "\n",
    "def create_run_model(lr, bs, x_train, y_train, x_val, y_val):\n",
    "    model = Sequential()\n",
    "    model.add(Dense(120, input_shape=(9,), activation=\"relu\"))\n",
    "    model.add(Dense(120, activation=\"relu\"))\n",
    "    model.add(Dense(120, activation=\"relu\"))\n",
    "    model.add(Dense(2, activation=\"softmax\"))\n",
    "\n",
    "    model.compile(loss='binary_crossentropy', \n",
    "                  optimizer=Adam(lr=lr), \n",
    "                  metrics=[\"accuracy\", Recall(), tfa.metrics.FBetaScore(num_classes=2, beta=2.0), AUC()])\n",
    "\n",
    "    y_train = to_categorical(y_train, 2)\n",
    "    y_val = to_categorical(y_val, 2)\n",
    "    \n",
    "    es = EarlyStopping(monitor=\"loss\", patience=5, min_delta=0.001)\n",
    "    model_fit = model.fit(x_train, y_train, epochs=5, batch_size=bs, verbose=0, callbacks=[es])\n",
    "    result = model.evaluate(x_val, y_val, verbose=0)\n",
    "    \n",
    "    return result\n",
    "\n",
    "# https://stats.stackexchange.com/questions/164876/what-is-the-trade-off-between-batch-size-and-number-of-iterations-to-train-a-neu\n",
    "# https://towardsdatascience.com/optimizers-for-training-neural-network-59450d71caf6\n",
    "# https://machinelearningmastery.com/choose-an-activation-function-for-deep-learning/\n",
    "# https://towardsdatascience.com/simple-guide-to-hyperparameter-tuning-in-neural-networks-3fe03dad8594\n",
    "\n",
    "learning_rates = [0.01, 0.001]\n",
    "batch_sizes = [32, 64, 128]\n",
    "scores = []\n",
    "variations = []\n",
    "\n",
    "for train, val in skf.split(x_train, y_train):\n",
    "    fold_scores = []\n",
    "    for lr in learning_rates:\n",
    "        for bs in batch_sizes:\n",
    "            result = create_run_model(lr, bs, x_train.iloc[train], y_train.iloc[train], x_train.iloc[val], y_train.iloc[val])\n",
    "            fold_scores.append(result)\n",
    "            variation = \"adam(\" + str(lr) + \") bs=\" + str(bs)\n",
    "            if variation not in variations:\n",
    "                variations.append(variation)\n",
    "    scores.append(fold_scores)\n",
    "    \n",
    "# fold 1 - adam(0.01) 32 | adam(0.01) 64 | adam(0.01) 128 | adam(0.001) 32 | adam(0.001) 64 | adam(0.001) 128\n",
    "# fold 2 - adam(0.01) 32 | adam(0.01) 64 | adam(0.01) 128 | adam(0.001) 32 | adam(0.001) 64 | adam(0.001) 128\n",
    "# fold 3 - adam(0.01) 32 | adam(0.01) 64 | adam(0.01) 128 | adam(0.001) 32 | adam(0.001) 64 | adam(0.001) 128"
   ]
  },
  {
   "cell_type": "code",
   "execution_count": 5,
   "id": "0ba1f793",
   "metadata": {},
   "outputs": [
    {
     "name": "stdout",
     "output_type": "stream",
     "text": [
      "[[[0.36189305782318115, 0.8769940733909607, 0.8769940733909607, array([0.9726336, 0.0010582], dtype=float32), 0.9054951071739197], [0.361697793006897, 0.8769196271896362, 0.8769196271896362, array([0.97210294, 0.00798867], dtype=float32), 0.9068682193756104]], [[0.3625982403755188, 0.8769940733909607, 0.8769940733909607, array([0.9727137, 0.       ], dtype=float32), 0.9053547382354736], [0.35540539026260376, 0.8773214221000671, 0.8773214221000671, array([0.9726734 , 0.00498369], dtype=float32), 0.9094765186309814]], [[0.3625231683254242, 0.8769940733909607, 0.8769940733909607, array([0.9727137, 0.       ], dtype=float32), 0.9052985906600952], [0.3568407893180847, 0.8770387172698975, 0.8770387172698975, array([0.9725015 , 0.00377518], dtype=float32), 0.9087041020393372]]]\n"
     ]
    }
   ],
   "source": [
    "print(scores)"
   ]
  },
  {
   "cell_type": "code",
   "execution_count": 6,
   "id": "023fe484",
   "metadata": {},
   "outputs": [
    {
     "name": "stdout",
     "output_type": "stream",
     "text": [
      "{'Fold 1': [0.8769940733909607, 0.8769196271896362], 'Fold 2': [0.8769940733909607, 0.8773214221000671], 'Fold 3': [0.8769940733909607, 0.8770387172698975]}\n",
      "['adam(0.01) bs=64', 'adam(0.001) bs=64']\n",
      "\n",
      "===RECALL===\n"
     ]
    },
    {
     "data": {
      "text/html": [
       "<div>\n",
       "<style scoped>\n",
       "    .dataframe tbody tr th:only-of-type {\n",
       "        vertical-align: middle;\n",
       "    }\n",
       "\n",
       "    .dataframe tbody tr th {\n",
       "        vertical-align: top;\n",
       "    }\n",
       "\n",
       "    .dataframe thead th {\n",
       "        text-align: right;\n",
       "    }\n",
       "</style>\n",
       "<table border=\"1\" class=\"dataframe\">\n",
       "  <thead>\n",
       "    <tr style=\"text-align: right;\">\n",
       "      <th></th>\n",
       "      <th>Fold 1</th>\n",
       "      <th>Fold 2</th>\n",
       "      <th>Fold 3</th>\n",
       "      <th>Average</th>\n",
       "    </tr>\n",
       "  </thead>\n",
       "  <tbody>\n",
       "    <tr>\n",
       "      <th>adam(0.01) bs=64</th>\n",
       "      <td>0.876994</td>\n",
       "      <td>0.876994</td>\n",
       "      <td>0.876994</td>\n",
       "      <td>0.876994</td>\n",
       "    </tr>\n",
       "    <tr>\n",
       "      <th>adam(0.001) bs=64</th>\n",
       "      <td>0.876920</td>\n",
       "      <td>0.877321</td>\n",
       "      <td>0.877039</td>\n",
       "      <td>0.877093</td>\n",
       "    </tr>\n",
       "  </tbody>\n",
       "</table>\n",
       "</div>"
      ],
      "text/plain": [
       "                     Fold 1    Fold 2    Fold 3   Average\n",
       "adam(0.01) bs=64   0.876994  0.876994  0.876994  0.876994\n",
       "adam(0.001) bs=64  0.876920  0.877321  0.877039  0.877093"
      ]
     },
     "metadata": {},
     "output_type": "display_data"
    },
    {
     "name": "stdout",
     "output_type": "stream",
     "text": [
      "===FBETA===\n"
     ]
    },
    {
     "data": {
      "text/html": [
       "<div>\n",
       "<style scoped>\n",
       "    .dataframe tbody tr th:only-of-type {\n",
       "        vertical-align: middle;\n",
       "    }\n",
       "\n",
       "    .dataframe tbody tr th {\n",
       "        vertical-align: top;\n",
       "    }\n",
       "\n",
       "    .dataframe thead th {\n",
       "        text-align: right;\n",
       "    }\n",
       "</style>\n",
       "<table border=\"1\" class=\"dataframe\">\n",
       "  <thead>\n",
       "    <tr style=\"text-align: right;\">\n",
       "      <th></th>\n",
       "      <th>Fold 1</th>\n",
       "      <th>Fold 2</th>\n",
       "      <th>Fold 3</th>\n",
       "      <th>Average</th>\n",
       "    </tr>\n",
       "  </thead>\n",
       "  <tbody>\n",
       "    <tr>\n",
       "      <th>adam(0.01) bs=64</th>\n",
       "      <td>0.972634</td>\n",
       "      <td>0.972714</td>\n",
       "      <td>0.972714</td>\n",
       "      <td>0.972687</td>\n",
       "    </tr>\n",
       "    <tr>\n",
       "      <th>adam(0.001) bs=64</th>\n",
       "      <td>0.972103</td>\n",
       "      <td>0.972673</td>\n",
       "      <td>0.972502</td>\n",
       "      <td>0.972426</td>\n",
       "    </tr>\n",
       "  </tbody>\n",
       "</table>\n",
       "</div>"
      ],
      "text/plain": [
       "                     Fold 1    Fold 2    Fold 3   Average\n",
       "adam(0.01) bs=64   0.972634  0.972714  0.972714  0.972687\n",
       "adam(0.001) bs=64  0.972103  0.972673  0.972502  0.972426"
      ]
     },
     "metadata": {},
     "output_type": "display_data"
    },
    {
     "name": "stdout",
     "output_type": "stream",
     "text": [
      "===AUC===\n"
     ]
    },
    {
     "data": {
      "text/html": [
       "<div>\n",
       "<style scoped>\n",
       "    .dataframe tbody tr th:only-of-type {\n",
       "        vertical-align: middle;\n",
       "    }\n",
       "\n",
       "    .dataframe tbody tr th {\n",
       "        vertical-align: top;\n",
       "    }\n",
       "\n",
       "    .dataframe thead th {\n",
       "        text-align: right;\n",
       "    }\n",
       "</style>\n",
       "<table border=\"1\" class=\"dataframe\">\n",
       "  <thead>\n",
       "    <tr style=\"text-align: right;\">\n",
       "      <th></th>\n",
       "      <th>Fold 1</th>\n",
       "      <th>Fold 2</th>\n",
       "      <th>Fold 3</th>\n",
       "      <th>Average</th>\n",
       "    </tr>\n",
       "  </thead>\n",
       "  <tbody>\n",
       "    <tr>\n",
       "      <th>adam(0.01) bs=64</th>\n",
       "      <td>0.905495</td>\n",
       "      <td>0.905355</td>\n",
       "      <td>0.905299</td>\n",
       "      <td>0.905383</td>\n",
       "    </tr>\n",
       "    <tr>\n",
       "      <th>adam(0.001) bs=64</th>\n",
       "      <td>0.906868</td>\n",
       "      <td>0.909477</td>\n",
       "      <td>0.908704</td>\n",
       "      <td>0.908350</td>\n",
       "    </tr>\n",
       "  </tbody>\n",
       "</table>\n",
       "</div>"
      ],
      "text/plain": [
       "                     Fold 1    Fold 2    Fold 3   Average\n",
       "adam(0.01) bs=64   0.905495  0.905355  0.905299  0.905383\n",
       "adam(0.001) bs=64  0.906868  0.909477  0.908704  0.908350"
      ]
     },
     "metadata": {},
     "output_type": "display_data"
    }
   ],
   "source": [
    "loss = {}\n",
    "recall = {}\n",
    "fbeta_2 = {}\n",
    "auc = {}\n",
    "\n",
    "fold_no = 1\n",
    "\n",
    "for fold in scores:\n",
    "    temp_l = []\n",
    "    temp_r = []\n",
    "    temp_f = []\n",
    "    temp_a = []\n",
    "    \n",
    "    for variation in fold:\n",
    "        temp_l.append(variation[0])\n",
    "        temp_r.append(variation[2])\n",
    "        temp_f.append(variation[3][0])\n",
    "        temp_a.append(variation[4])\n",
    "\n",
    "    loss[\"Fold \" + str(fold_no)] = temp_l\n",
    "    recall[\"Fold \" + str(fold_no)] = temp_r\n",
    "    fbeta_2[\"Fold \" + str(fold_no)] = temp_f\n",
    "    auc[\"Fold \" + str(fold_no)] = temp_a\n",
    "    \n",
    "    fold_no += 1\n",
    "\n",
    "print(recall)\n",
    "print(variations)    \n",
    "loss[\"Average\"] = []\n",
    "recall[\"Average\"] = []\n",
    "fbeta_2[\"Average\"] = []\n",
    "auc[\"Average\"] = []\n",
    "\n",
    "for i in range(len(variations)):\n",
    "    loss[\"Average\"].append((loss[\"Fold 1\"][i] + loss[\"Fold 2\"][i] + loss[\"Fold 3\"][i]) / 3)\n",
    "    recall[\"Average\"].append((recall[\"Fold 1\"][i] + recall[\"Fold 2\"][i] + recall[\"Fold 3\"][i]) / 3)\n",
    "    fbeta_2[\"Average\"].append((fbeta_2[\"Fold 1\"][i] + fbeta_2[\"Fold 2\"][i] + fbeta_2[\"Fold 3\"][i]) / 3)\n",
    "    auc[\"Average\"].append((auc[\"Fold 1\"][i] + auc[\"Fold 2\"][i] + auc[\"Fold 3\"][i]) / 3)\n",
    "    \n",
    "print()\n",
    "print(\"===RECALL===\")\n",
    "score_df = pd.DataFrame(data=recall, index=variations)\n",
    "display(score_df)\n",
    "\n",
    "print(\"===FBETA===\")\n",
    "score_df = pd.DataFrame(data=fbeta_2, index=variations)\n",
    "display(score_df)\n",
    "\n",
    "print(\"===AUC===\")\n",
    "score_df = pd.DataFrame(data=auc, index=variations)\n",
    "display(score_df)"
   ]
  }
 ],
 "metadata": {
  "kernelspec": {
   "display_name": "Python 3 (ipykernel)",
   "language": "python",
   "name": "python3"
  },
  "language_info": {
   "codemirror_mode": {
    "name": "ipython",
    "version": 3
   },
   "file_extension": ".py",
   "mimetype": "text/x-python",
   "name": "python",
   "nbconvert_exporter": "python",
   "pygments_lexer": "ipython3",
   "version": "3.8.10"
  }
 },
 "nbformat": 4,
 "nbformat_minor": 5
}
