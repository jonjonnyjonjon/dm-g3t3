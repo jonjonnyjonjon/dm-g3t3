{
 "cells": [
  {
   "cell_type": "markdown",
   "id": "6f19d53e",
   "metadata": {},
   "source": [
    "# IS424: Data Mining & Biz Analytics\n",
    "## Team: G3T3\n",
    "### Project: Predicting Loan Default based on Customer Profile\n",
    "### Data Preprocessing\n",
    "---"
   ]
  },
  {
   "cell_type": "markdown",
   "id": "bcce29da",
   "metadata": {},
   "source": [
    "# 1. Setting up the notebook\n",
    "---"
   ]
  },
  {
   "cell_type": "markdown",
   "id": "ef798d0e",
   "metadata": {},
   "source": [
    "### Import libraries"
   ]
  },
  {
   "cell_type": "code",
   "execution_count": 1,
   "id": "3863dce5",
   "metadata": {},
   "outputs": [],
   "source": [
    "import pandas as pd\n",
    "import numpy as np\n",
    "import matplotlib.pyplot as plt\n",
    "%matplotlib inline\n",
    "\n",
    "from sklearn.preprocessing import LabelEncoder\n",
    "from sklearn.preprocessing import OneHotEncoder\n",
    "from category_encoders import TargetEncoder\n",
    "from sklearn.preprocessing import MinMaxScaler\n",
    "\n",
    "from sklearn.feature_selection import chi2, SelectKBest\n",
    "from sklearn.model_selection import train_test_split\n",
    "\n",
    "from sklearn.ensemble import RandomForestClassifier\n",
    "from sklearn.linear_model import Lasso\n",
    "from xgboost import XGBClassifier\n",
    "\n",
    "from sklearn.metrics import confusion_matrix, precision_score, recall_score, f1_score, fbeta_score, accuracy_score, roc_auc_score"
   ]
  },
  {
   "cell_type": "markdown",
   "id": "e67bcb6d",
   "metadata": {},
   "source": [
    "### Import dataset and tidy columns"
   ]
  },
  {
   "cell_type": "code",
   "execution_count": 2,
   "id": "f3e9c29e",
   "metadata": {},
   "outputs": [],
   "source": [
    "df = pd.read_csv(\"./dataset/loanprediction.csv\")\n",
    "df.drop(\"Id\", axis=1, inplace=True)"
   ]
  },
  {
   "cell_type": "code",
   "execution_count": 3,
   "id": "652141b6",
   "metadata": {},
   "outputs": [],
   "source": [
    "# standardise column naming\n",
    "df.columns = [\"income\", \"age\", \"experience\", \"marital_status\", \"house_ownership\", \"car_ownership\", \"profession\", \"city\", \"state\", \"current_job_years\", \"current_house_years\", \"risk_flag\"]"
   ]
  },
  {
   "cell_type": "code",
   "execution_count": 4,
   "id": "080056e7",
   "metadata": {},
   "outputs": [],
   "source": [
    "# retrieve numerical and categorical columns\n",
    "numerical = list(df.describe().columns)[:-1]\n",
    "categorical = [i for i in df.columns if i not in numerical and i != \"risk_flag\"]"
   ]
  },
  {
   "cell_type": "markdown",
   "id": "9e289b4c",
   "metadata": {},
   "source": [
    "### Splitting the data into train and test splits"
   ]
  },
  {
   "cell_type": "code",
   "execution_count": 5,
   "id": "b076b49d",
   "metadata": {},
   "outputs": [],
   "source": [
    "y = df[\"risk_flag\"]\n",
    "x = df.drop(\"risk_flag\", axis=1)"
   ]
  },
  {
   "cell_type": "code",
   "execution_count": 6,
   "id": "cf3a7168",
   "metadata": {},
   "outputs": [],
   "source": [
    "x_train, x_test, y_train, y_test = train_test_split(x, y, test_size = 0.2, stratify = y, random_state = 2021)"
   ]
  },
  {
   "cell_type": "markdown",
   "id": "6970651c",
   "metadata": {},
   "source": [
    "# 2. Feature Engineering\n",
    "---"
   ]
  },
  {
   "cell_type": "markdown",
   "id": "94172a60",
   "metadata": {},
   "source": [
    "## 2.1 Label and One Hot Encoding"
   ]
  },
  {
   "cell_type": "code",
   "execution_count": 7,
   "id": "1697db8b",
   "metadata": {},
   "outputs": [],
   "source": [
    "def feature_engineering(df_x):\n",
    "    \"\"\"\n",
    "        Encoding categorical columns\n",
    "    \"\"\"\n",
    "    x = df_x.copy()\n",
    "    \n",
    "    # Label/Binary Encoding — categorical columns with binary categories\n",
    "    label_enc = LabelEncoder()\n",
    "    x[\"marital_status\"] = label_enc.fit_transform(x[\"marital_status\"])\n",
    "    x[\"car_ownership\"] = label_enc.fit_transform(x[\"car_ownership\"])\n",
    "    \n",
    "    # One Hot Encoding — house_ownership column\n",
    "    onehot_encoder = OneHotEncoder(handle_unknown='ignore', sparse=False)\n",
    "    \n",
    "    house_ownership_values = onehot_encoder.fit_transform( x[['house_ownership']] )\n",
    "    house_ownership_labels = np.array([\"norent_noown\", \"owned\", \"rented\"]).ravel()\n",
    "    house_ownership_df = pd.DataFrame(house_ownership_values, columns=house_ownership_labels)\n",
    "\n",
    "    x.reset_index(drop=True, inplace=True)\n",
    "    house_ownership_df.reset_index(drop=True, inplace=True)\n",
    "    x = pd.concat([x, house_ownership_df], axis=1)\n",
    "    \n",
    "    x.drop(\"house_ownership\", axis=1, inplace=True)\n",
    "\n",
    "    return x"
   ]
  },
  {
   "cell_type": "code",
   "execution_count": 8,
   "id": "7728da88",
   "metadata": {},
   "outputs": [],
   "source": [
    "x_train = feature_engineering(x_train)\n",
    "x_test = feature_engineering(x_test)"
   ]
  },
  {
   "cell_type": "markdown",
   "id": "132d154b",
   "metadata": {},
   "source": [
    "## 2.2 Target Encoding\n",
    "Target Encoding is carried on categorical columns with high cardinality: `profession`, `city`, `state` to prevent a blow up in dimensionality due to encoding techniques like One Hot Encoding.\n",
    "\n",
    "\n",
    "Note: Feature engineering using Target Encoding will be carried out at the Grid Search Cross-Validation step to prevent data leakage. This function will be imported into the respective notebooks."
   ]
  },
  {
   "cell_type": "code",
   "execution_count": 9,
   "id": "3487113e",
   "metadata": {},
   "outputs": [],
   "source": [
    "def target_encoding(df_x, df_y):\n",
    "    x = df_x.copy()\n",
    "    \n",
    "    # Target Encoding — categorical columns with high cardinality: profession, city, state\n",
    "    profession_target_enc = TargetEncoder()\n",
    "    x[\"profession_encoded\"] = profession_target_enc.fit_transform(x[\"profession\"], df_y)\n",
    "    \n",
    "    city_target_enc = TargetEncoder()\n",
    "    x[\"city_encoded\"] = city_target_enc.fit_transform(x[\"city\"], df_y)\n",
    "    \n",
    "    state_target_enc = TargetEncoder()\n",
    "    x[\"state_encoded\"] = state_target_enc.fit_transform(x[\"state\"], df_y)\n",
    "    \n",
    "    x.drop(\"profession\", axis=1, inplace=True)\n",
    "    x.drop(\"city\", axis=1, inplace=True)\n",
    "    x.drop(\"state\", axis=1, inplace=True)\n",
    "    \n",
    "    return x"
   ]
  },
  {
   "cell_type": "markdown",
   "id": "db5532fd",
   "metadata": {},
   "source": [
    "# 3. Feature Selection\n",
    "---"
   ]
  },
  {
   "cell_type": "markdown",
   "id": "79e9df59",
   "metadata": {},
   "source": [
    "To reduce the dimensional space of the dataset, we are carrying out several feature selection techniques with the goal of identify features to keep and drop\n",
    "\n",
    "1. Filter Methods\n",
    "    - Chi-square\n",
    "    - ANOVA\n",
    "2. Embedded Methods\n",
    "    - Random Forest\n",
    "    - XGBoost\n",
    "    - Lasso Regression  "
   ]
  },
  {
   "cell_type": "code",
   "execution_count": 10,
   "id": "a7dd5c1d",
   "metadata": {},
   "outputs": [],
   "source": [
    "def retrieve_feature_importance(importance, names):\n",
    "    \"\"\"\n",
    "        Helper function to display the feature importance\n",
    "    \"\"\"\n",
    "    feature_importance = np.array(importance)\n",
    "    feature_names = np.array(names)\n",
    "\n",
    "    data = {'feature_name':feature_names,'feature_importance':feature_importance}\n",
    "    feature_importance_df = pd.DataFrame(data)\n",
    "\n",
    "    feature_importance_df.sort_values(by=['feature_importance'], ascending=False, inplace=True)\n",
    "    return feature_importance_df.reset_index(drop=True)"
   ]
  },
  {
   "cell_type": "markdown",
   "id": "1de7d715",
   "metadata": {},
   "source": [
    "## 3.1 Filter Methods\n",
    "---\n",
    "### Chi-square"
   ]
  },
  {
   "cell_type": "code",
   "execution_count": 22,
   "id": "fcec80c9",
   "metadata": {},
   "outputs": [
    {
     "data": {
      "text/html": [
       "<div>\n",
       "<style scoped>\n",
       "    .dataframe tbody tr th:only-of-type {\n",
       "        vertical-align: middle;\n",
       "    }\n",
       "\n",
       "    .dataframe tbody tr th {\n",
       "        vertical-align: top;\n",
       "    }\n",
       "\n",
       "    .dataframe thead th {\n",
       "        text-align: right;\n",
       "    }\n",
       "</style>\n",
       "<table border=\"1\" class=\"dataframe\">\n",
       "  <thead>\n",
       "    <tr style=\"text-align: right;\">\n",
       "      <th></th>\n",
       "      <th>feature_name</th>\n",
       "      <th>chi-square score</th>\n",
       "    </tr>\n",
       "  </thead>\n",
       "  <tbody>\n",
       "    <tr>\n",
       "      <th>0</th>\n",
       "      <td>city</td>\n",
       "      <td>283.546791</td>\n",
       "    </tr>\n",
       "    <tr>\n",
       "      <th>1</th>\n",
       "      <td>car_ownership</td>\n",
       "      <td>101.677125</td>\n",
       "    </tr>\n",
       "    <tr>\n",
       "      <th>2</th>\n",
       "      <td>profession</td>\n",
       "      <td>51.923209</td>\n",
       "    </tr>\n",
       "    <tr>\n",
       "      <th>3</th>\n",
       "      <td>state</td>\n",
       "      <td>18.542933</td>\n",
       "    </tr>\n",
       "    <tr>\n",
       "      <th>4</th>\n",
       "      <td>marital_status</td>\n",
       "      <td>11.445289</td>\n",
       "    </tr>\n",
       "    <tr>\n",
       "      <th>5</th>\n",
       "      <td>house_ownership</td>\n",
       "      <td>11.415547</td>\n",
       "    </tr>\n",
       "  </tbody>\n",
       "</table>\n",
       "</div>"
      ],
      "text/plain": [
       "      feature_name  chi-square score\n",
       "0             city        283.546791\n",
       "1    car_ownership        101.677125\n",
       "2       profession         51.923209\n",
       "3            state         18.542933\n",
       "4   marital_status         11.445289\n",
       "5  house_ownership         11.415547"
      ]
     },
     "metadata": {},
     "output_type": "display_data"
    }
   ],
   "source": [
    "df_cat = df.copy()[categorical]\n",
    "\n",
    "label_enc = LabelEncoder()\n",
    "for cat in categorical:\n",
    "    df_cat[cat] = label_enc.fit_transform(df_cat[cat])\n",
    "    \n",
    "y = df[\"risk_flag\"]\n",
    "x = df_cat\n",
    "\n",
    "chi_scores = chi2(x, y)\n",
    "\n",
    "test = SelectKBest(score_func=chi2, k=\"all\")\n",
    "test.fit(x, y)\n",
    "\n",
    "results_df = retrieve_feature_importance(test.scores_, x.columns)\n",
    "results_df.rename(columns={\"feature_importance\": \"chi-square score\"}, inplace=True)\n",
    "display(results_df)"
   ]
  },
  {
   "cell_type": "markdown",
   "id": "cc164d83",
   "metadata": {},
   "source": [
    "### ANOVA"
   ]
  },
  {
   "cell_type": "code",
   "execution_count": 12,
   "id": "fcb2798f",
   "metadata": {},
   "outputs": [
    {
     "data": {
      "text/html": [
       "<div>\n",
       "<style scoped>\n",
       "    .dataframe tbody tr th:only-of-type {\n",
       "        vertical-align: middle;\n",
       "    }\n",
       "\n",
       "    .dataframe tbody tr th {\n",
       "        vertical-align: top;\n",
       "    }\n",
       "\n",
       "    .dataframe thead th {\n",
       "        text-align: right;\n",
       "    }\n",
       "</style>\n",
       "<table border=\"1\" class=\"dataframe\">\n",
       "  <thead>\n",
       "    <tr style=\"text-align: right;\">\n",
       "      <th></th>\n",
       "      <th>feature_name</th>\n",
       "      <th>f-score</th>\n",
       "    </tr>\n",
       "  </thead>\n",
       "  <tbody>\n",
       "    <tr>\n",
       "      <th>0</th>\n",
       "      <td>experience</td>\n",
       "      <td>300.692307</td>\n",
       "    </tr>\n",
       "    <tr>\n",
       "      <th>1</th>\n",
       "      <td>age</td>\n",
       "      <td>119.918507</td>\n",
       "    </tr>\n",
       "    <tr>\n",
       "      <th>2</th>\n",
       "      <td>current_job_years</td>\n",
       "      <td>72.348526</td>\n",
       "    </tr>\n",
       "    <tr>\n",
       "      <th>3</th>\n",
       "      <td>current_house_years</td>\n",
       "      <td>4.823851</td>\n",
       "    </tr>\n",
       "    <tr>\n",
       "      <th>4</th>\n",
       "      <td>income</td>\n",
       "      <td>2.407945</td>\n",
       "    </tr>\n",
       "  </tbody>\n",
       "</table>\n",
       "</div>"
      ],
      "text/plain": [
       "          feature_name     f-score\n",
       "0           experience  300.692307\n",
       "1                  age  119.918507\n",
       "2    current_job_years   72.348526\n",
       "3  current_house_years    4.823851\n",
       "4               income    2.407945"
      ]
     },
     "metadata": {},
     "output_type": "display_data"
    }
   ],
   "source": [
    "x = df.copy()[numerical]\n",
    "fscore = SelectKBest(k=\"all\")\n",
    "fscore.fit(x, y)\n",
    "\n",
    "results_df = retrieve_feature_importance(fscore.scores_, x.columns)\n",
    "results_df.rename(columns={\"feature_importance\": \"f-score\"}, inplace=True)\n",
    "display(results_df)"
   ]
  },
  {
   "cell_type": "markdown",
   "id": "4ab8d0d6",
   "metadata": {},
   "source": [
    "## 3.2 Embedded Methods\n",
    "---"
   ]
  },
  {
   "cell_type": "markdown",
   "id": "7aae4491",
   "metadata": {},
   "source": [
    "Note: Encoding is required for profession, city and state for the purpose of Feature Selection. However, the actual encoding will only be done during GridSearch Cross-Validation"
   ]
  },
  {
   "cell_type": "code",
   "execution_count": 13,
   "id": "bf7a8aa3",
   "metadata": {},
   "outputs": [
    {
     "name": "stderr",
     "output_type": "stream",
     "text": [
      "/Users/jonw/miniforge3/envs/ml_env/lib/python3.8/site-packages/category_encoders/utils.py:21: FutureWarning: is_categorical is deprecated and will be removed in a future version.  Use is_categorical_dtype instead\n",
      "  elif pd.api.types.is_categorical(cols):\n"
     ]
    }
   ],
   "source": [
    "x_train_embedded = target_encoding(x_train, y_train)"
   ]
  },
  {
   "cell_type": "markdown",
   "id": "e2d72da1",
   "metadata": {},
   "source": [
    "### 3.2.1 Random Forest Classifier"
   ]
  },
  {
   "cell_type": "code",
   "execution_count": 14,
   "id": "68d14bf5",
   "metadata": {},
   "outputs": [
    {
     "data": {
      "text/html": [
       "<div>\n",
       "<style scoped>\n",
       "    .dataframe tbody tr th:only-of-type {\n",
       "        vertical-align: middle;\n",
       "    }\n",
       "\n",
       "    .dataframe tbody tr th {\n",
       "        vertical-align: top;\n",
       "    }\n",
       "\n",
       "    .dataframe thead th {\n",
       "        text-align: right;\n",
       "    }\n",
       "</style>\n",
       "<table border=\"1\" class=\"dataframe\">\n",
       "  <thead>\n",
       "    <tr style=\"text-align: right;\">\n",
       "      <th></th>\n",
       "      <th>feature_name</th>\n",
       "      <th>feature_importance</th>\n",
       "    </tr>\n",
       "  </thead>\n",
       "  <tbody>\n",
       "    <tr>\n",
       "      <th>0</th>\n",
       "      <td>income</td>\n",
       "      <td>0.185485</td>\n",
       "    </tr>\n",
       "    <tr>\n",
       "      <th>1</th>\n",
       "      <td>city_encoded</td>\n",
       "      <td>0.159253</td>\n",
       "    </tr>\n",
       "    <tr>\n",
       "      <th>2</th>\n",
       "      <td>profession_encoded</td>\n",
       "      <td>0.144572</td>\n",
       "    </tr>\n",
       "    <tr>\n",
       "      <th>3</th>\n",
       "      <td>age</td>\n",
       "      <td>0.141265</td>\n",
       "    </tr>\n",
       "    <tr>\n",
       "      <th>4</th>\n",
       "      <td>state_encoded</td>\n",
       "      <td>0.104522</td>\n",
       "    </tr>\n",
       "    <tr>\n",
       "      <th>5</th>\n",
       "      <td>experience</td>\n",
       "      <td>0.085605</td>\n",
       "    </tr>\n",
       "    <tr>\n",
       "      <th>6</th>\n",
       "      <td>current_job_years</td>\n",
       "      <td>0.076982</td>\n",
       "    </tr>\n",
       "    <tr>\n",
       "      <th>7</th>\n",
       "      <td>current_house_years</td>\n",
       "      <td>0.064581</td>\n",
       "    </tr>\n",
       "    <tr>\n",
       "      <th>8</th>\n",
       "      <td>car_ownership</td>\n",
       "      <td>0.015491</td>\n",
       "    </tr>\n",
       "    <tr>\n",
       "      <th>9</th>\n",
       "      <td>marital_status</td>\n",
       "      <td>0.010865</td>\n",
       "    </tr>\n",
       "    <tr>\n",
       "      <th>10</th>\n",
       "      <td>rented</td>\n",
       "      <td>0.004854</td>\n",
       "    </tr>\n",
       "    <tr>\n",
       "      <th>11</th>\n",
       "      <td>norent_noown</td>\n",
       "      <td>0.003319</td>\n",
       "    </tr>\n",
       "    <tr>\n",
       "      <th>12</th>\n",
       "      <td>owned</td>\n",
       "      <td>0.003206</td>\n",
       "    </tr>\n",
       "  </tbody>\n",
       "</table>\n",
       "</div>"
      ],
      "text/plain": [
       "           feature_name  feature_importance\n",
       "0                income            0.185485\n",
       "1          city_encoded            0.159253\n",
       "2    profession_encoded            0.144572\n",
       "3                   age            0.141265\n",
       "4         state_encoded            0.104522\n",
       "5            experience            0.085605\n",
       "6     current_job_years            0.076982\n",
       "7   current_house_years            0.064581\n",
       "8         car_ownership            0.015491\n",
       "9        marital_status            0.010865\n",
       "10               rented            0.004854\n",
       "11         norent_noown            0.003319\n",
       "12                owned            0.003206"
      ]
     },
     "execution_count": 14,
     "metadata": {},
     "output_type": "execute_result"
    }
   ],
   "source": [
    "rf_clf = RandomForestClassifier(n_estimators=100, random_state=2021)\n",
    "rf_clf.fit(x_train_embedded, y_train.values.ravel() )\n",
    "\n",
    "feat_impt_df = retrieve_feature_importance(rf_clf.feature_importances_, x_train_embedded.columns)\n",
    "feat_impt_df"
   ]
  },
  {
   "cell_type": "markdown",
   "id": "9abc9cb5",
   "metadata": {},
   "source": [
    "### 3.2.2 XGBoost"
   ]
  },
  {
   "cell_type": "code",
   "execution_count": 15,
   "id": "a50b603b",
   "metadata": {},
   "outputs": [
    {
     "data": {
      "text/html": [
       "<div>\n",
       "<style scoped>\n",
       "    .dataframe tbody tr th:only-of-type {\n",
       "        vertical-align: middle;\n",
       "    }\n",
       "\n",
       "    .dataframe tbody tr th {\n",
       "        vertical-align: top;\n",
       "    }\n",
       "\n",
       "    .dataframe thead th {\n",
       "        text-align: right;\n",
       "    }\n",
       "</style>\n",
       "<table border=\"1\" class=\"dataframe\">\n",
       "  <thead>\n",
       "    <tr style=\"text-align: right;\">\n",
       "      <th></th>\n",
       "      <th>feature_name</th>\n",
       "      <th>feature_importance</th>\n",
       "    </tr>\n",
       "  </thead>\n",
       "  <tbody>\n",
       "    <tr>\n",
       "      <th>0</th>\n",
       "      <td>income</td>\n",
       "      <td>0.097845</td>\n",
       "    </tr>\n",
       "    <tr>\n",
       "      <th>1</th>\n",
       "      <td>city_encoded</td>\n",
       "      <td>0.088775</td>\n",
       "    </tr>\n",
       "    <tr>\n",
       "      <th>2</th>\n",
       "      <td>rented</td>\n",
       "      <td>0.086748</td>\n",
       "    </tr>\n",
       "    <tr>\n",
       "      <th>3</th>\n",
       "      <td>car_ownership</td>\n",
       "      <td>0.083332</td>\n",
       "    </tr>\n",
       "    <tr>\n",
       "      <th>4</th>\n",
       "      <td>age</td>\n",
       "      <td>0.083198</td>\n",
       "    </tr>\n",
       "    <tr>\n",
       "      <th>5</th>\n",
       "      <td>state_encoded</td>\n",
       "      <td>0.083187</td>\n",
       "    </tr>\n",
       "    <tr>\n",
       "      <th>6</th>\n",
       "      <td>profession_encoded</td>\n",
       "      <td>0.081845</td>\n",
       "    </tr>\n",
       "    <tr>\n",
       "      <th>7</th>\n",
       "      <td>current_job_years</td>\n",
       "      <td>0.079102</td>\n",
       "    </tr>\n",
       "    <tr>\n",
       "      <th>8</th>\n",
       "      <td>experience</td>\n",
       "      <td>0.078977</td>\n",
       "    </tr>\n",
       "    <tr>\n",
       "      <th>9</th>\n",
       "      <td>current_house_years</td>\n",
       "      <td>0.074698</td>\n",
       "    </tr>\n",
       "    <tr>\n",
       "      <th>10</th>\n",
       "      <td>marital_status</td>\n",
       "      <td>0.064461</td>\n",
       "    </tr>\n",
       "    <tr>\n",
       "      <th>11</th>\n",
       "      <td>norent_noown</td>\n",
       "      <td>0.058938</td>\n",
       "    </tr>\n",
       "    <tr>\n",
       "      <th>12</th>\n",
       "      <td>owned</td>\n",
       "      <td>0.038894</td>\n",
       "    </tr>\n",
       "  </tbody>\n",
       "</table>\n",
       "</div>"
      ],
      "text/plain": [
       "           feature_name  feature_importance\n",
       "0                income            0.097845\n",
       "1          city_encoded            0.088775\n",
       "2                rented            0.086748\n",
       "3         car_ownership            0.083332\n",
       "4                   age            0.083198\n",
       "5         state_encoded            0.083187\n",
       "6    profession_encoded            0.081845\n",
       "7     current_job_years            0.079102\n",
       "8            experience            0.078977\n",
       "9   current_house_years            0.074698\n",
       "10       marital_status            0.064461\n",
       "11         norent_noown            0.058938\n",
       "12                owned            0.038894"
      ]
     },
     "metadata": {},
     "output_type": "display_data"
    }
   ],
   "source": [
    "xgb = XGBClassifier(eval_metric=\"logloss\",\n",
    "                    use_label_encoder=False,\n",
    "                    random_state=2021)\n",
    "                    \n",
    "xgb.fit(x_train_embedded, y_train)\n",
    "\n",
    "feat_impt_df = retrieve_feature_importance(xgb.feature_importances_, x_train_embedded.columns)\n",
    "display(feat_impt_df)"
   ]
  },
  {
   "cell_type": "markdown",
   "id": "c3aa3e95",
   "metadata": {},
   "source": [
    "### Conclusion:\n",
    "Results from the Feature Selection process are consolidated into this Google Sheet: https://docs.google.com/spreadsheets/d/1QSPAkr9M8qJNOBBwmAk2dnTFTrOGiVrXPHorGIVx2KM/edit?usp=sharing"
   ]
  },
  {
   "cell_type": "code",
   "execution_count": 16,
   "id": "776ce210",
   "metadata": {},
   "outputs": [],
   "source": [
    "x_train.drop(['current_house_years', 'current_job_years', 'norent_noown', 'owned'], axis=1, inplace=True)\n",
    "x_test.drop(['current_house_years', 'current_job_years', 'norent_noown', 'owned'], axis=1, inplace=True)"
   ]
  },
  {
   "cell_type": "markdown",
   "id": "82af105e",
   "metadata": {},
   "source": [
    "# 4. Exporting preprocessed Train Test sets to csv files\n",
    "---"
   ]
  },
  {
   "cell_type": "code",
   "execution_count": 17,
   "id": "984d18c4",
   "metadata": {},
   "outputs": [
    {
     "name": "stdout",
     "output_type": "stream",
     "text": [
      "Succesfully exported\n"
     ]
    }
   ],
   "source": [
    "x_train.reset_index(drop=True, inplace=True)\n",
    "y_train.reset_index(drop=True, inplace=True)\n",
    "train = pd.concat([x_train, y_train], axis=1)\n",
    "\n",
    "x_test.reset_index(drop=True, inplace=True)\n",
    "y_test.reset_index(drop=True, inplace=True)\n",
    "test = pd.concat([x_test, y_test], axis=1)\n",
    "\n",
    "try:\n",
    "    train.to_csv(\"./dataset/train.csv\", index=False)\n",
    "    test.to_csv(\"./dataset/test.csv\", index=False)\n",
    "    print('Succesfully exported')\n",
    "except:\n",
    "    print('Error')"
   ]
  }
 ],
 "metadata": {
  "kernelspec": {
   "display_name": "Python 3 (ipykernel)",
   "language": "python",
   "name": "python3"
  },
  "language_info": {
   "codemirror_mode": {
    "name": "ipython",
    "version": 3
   },
   "file_extension": ".py",
   "mimetype": "text/x-python",
   "name": "python",
   "nbconvert_exporter": "python",
   "pygments_lexer": "ipython3",
   "version": "3.8.10"
  }
 },
 "nbformat": 4,
 "nbformat_minor": 5
}
